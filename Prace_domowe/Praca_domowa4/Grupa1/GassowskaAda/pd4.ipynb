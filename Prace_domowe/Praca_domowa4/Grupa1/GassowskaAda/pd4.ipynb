{
 "cells": [
  {
   "cell_type": "markdown",
   "metadata": {},
   "source": [
    "# Praca domowa 4  - Ada Gąssowska"
   ]
  },
  {
   "cell_type": "code",
   "execution_count": 7,
   "metadata": {},
   "outputs": [
    {
     "name": "stdout",
     "output_type": "stream",
     "text": [
      "Requirement already satisfied: category_encoders in c:\\users\\ada\\anaconda3\\lib\\site-packages (2.1.0)\n",
      "Requirement already satisfied: scipy>=0.19.0 in c:\\users\\ada\\anaconda3\\lib\\site-packages (from category_encoders) (1.3.1)\n",
      "Requirement already satisfied: numpy>=1.11.3 in c:\\users\\ada\\anaconda3\\lib\\site-packages (from category_encoders) (1.16.5)\n",
      "Requirement already satisfied: pandas>=0.21.1 in c:\\users\\ada\\anaconda3\\lib\\site-packages (from category_encoders) (0.25.1)\n",
      "Requirement already satisfied: patsy>=0.4.1 in c:\\users\\ada\\anaconda3\\lib\\site-packages (from category_encoders) (0.5.1)\n",
      "Requirement already satisfied: scikit-learn>=0.20.0 in c:\\users\\ada\\anaconda3\\lib\\site-packages (from category_encoders) (0.22.2.post1)\n",
      "Requirement already satisfied: statsmodels>=0.6.1 in c:\\users\\ada\\anaconda3\\lib\\site-packages (from category_encoders) (0.10.1)\n",
      "Requirement already satisfied: pytz>=2017.2 in c:\\users\\ada\\anaconda3\\lib\\site-packages (from pandas>=0.21.1->category_encoders) (2019.3)\n",
      "Requirement already satisfied: python-dateutil>=2.6.1 in c:\\users\\ada\\anaconda3\\lib\\site-packages (from pandas>=0.21.1->category_encoders) (2.8.0)\n",
      "Requirement already satisfied: six in c:\\users\\ada\\anaconda3\\lib\\site-packages (from patsy>=0.4.1->category_encoders) (1.12.0)\n",
      "Requirement already satisfied: joblib>=0.11 in c:\\users\\ada\\anaconda3\\lib\\site-packages (from scikit-learn>=0.20.0->category_encoders) (0.13.2)\n"
     ]
    }
   ],
   "source": [
    "import pandas as pd\n",
    "import numpy as np\n",
    "import sklearn\n",
    "from sklearn.model_selection import train_test_split\n",
    "from sklearn.svm import SVR\n",
    "! pip install category_encoders\n",
    "import category_encoders\n",
    "from sklearn.metrics import mean_squared_error\n",
    "from sklearn import preprocessing\n",
    "from sklearn import datasets\n",
    "import warnings \n",
    "import seaborn as sns\n",
    "warnings.filterwarnings('ignore')\n",
    "import matplotlib.pyplot as plt\n",
    "import random\n",
    "from scipy import stats\n",
    "from sklearn.model_selection import RandomizedSearchCV\n",
    "random.seed(123)"
   ]
  },
  {
   "cell_type": "markdown",
   "metadata": {},
   "source": [
    "## Zbiór 1  - apartments "
   ]
  },
  {
   "cell_type": "code",
   "execution_count": 8,
   "metadata": {},
   "outputs": [],
   "source": [
    "data1 = pd.read_csv('C:/Users/Ada/Desktop/apartments.csv')"
   ]
  },
  {
   "cell_type": "code",
   "execution_count": 9,
   "metadata": {},
   "outputs": [
    {
     "data": {
      "text/html": [
       "<div>\n",
       "<style scoped>\n",
       "    .dataframe tbody tr th:only-of-type {\n",
       "        vertical-align: middle;\n",
       "    }\n",
       "\n",
       "    .dataframe tbody tr th {\n",
       "        vertical-align: top;\n",
       "    }\n",
       "\n",
       "    .dataframe thead th {\n",
       "        text-align: right;\n",
       "    }\n",
       "</style>\n",
       "<table border=\"1\" class=\"dataframe\">\n",
       "  <thead>\n",
       "    <tr style=\"text-align: right;\">\n",
       "      <th></th>\n",
       "      <th>m2.price</th>\n",
       "      <th>construction.year</th>\n",
       "      <th>surface</th>\n",
       "      <th>floor</th>\n",
       "      <th>no.rooms</th>\n",
       "      <th>district</th>\n",
       "    </tr>\n",
       "  </thead>\n",
       "  <tbody>\n",
       "    <tr>\n",
       "      <td>0</td>\n",
       "      <td>5897</td>\n",
       "      <td>1953</td>\n",
       "      <td>25</td>\n",
       "      <td>3</td>\n",
       "      <td>1</td>\n",
       "      <td>Srodmiescie</td>\n",
       "    </tr>\n",
       "    <tr>\n",
       "      <td>1</td>\n",
       "      <td>1818</td>\n",
       "      <td>1992</td>\n",
       "      <td>143</td>\n",
       "      <td>9</td>\n",
       "      <td>5</td>\n",
       "      <td>Bielany</td>\n",
       "    </tr>\n",
       "    <tr>\n",
       "      <td>2</td>\n",
       "      <td>3643</td>\n",
       "      <td>1937</td>\n",
       "      <td>56</td>\n",
       "      <td>1</td>\n",
       "      <td>2</td>\n",
       "      <td>Praga</td>\n",
       "    </tr>\n",
       "    <tr>\n",
       "      <td>3</td>\n",
       "      <td>3517</td>\n",
       "      <td>1995</td>\n",
       "      <td>93</td>\n",
       "      <td>7</td>\n",
       "      <td>3</td>\n",
       "      <td>Ochota</td>\n",
       "    </tr>\n",
       "    <tr>\n",
       "      <td>4</td>\n",
       "      <td>3013</td>\n",
       "      <td>1992</td>\n",
       "      <td>144</td>\n",
       "      <td>6</td>\n",
       "      <td>5</td>\n",
       "      <td>Mokotow</td>\n",
       "    </tr>\n",
       "  </tbody>\n",
       "</table>\n",
       "</div>"
      ],
      "text/plain": [
       "   m2.price  construction.year  surface  floor  no.rooms     district\n",
       "0      5897               1953       25      3         1  Srodmiescie\n",
       "1      1818               1992      143      9         5      Bielany\n",
       "2      3643               1937       56      1         2        Praga\n",
       "3      3517               1995       93      7         3       Ochota\n",
       "4      3013               1992      144      6         5      Mokotow"
      ]
     },
     "execution_count": 9,
     "metadata": {},
     "output_type": "execute_result"
    }
   ],
   "source": [
    "data1.head()"
   ]
  },
  {
   "cell_type": "code",
   "execution_count": 10,
   "metadata": {},
   "outputs": [
    {
     "name": "stdout",
     "output_type": "stream",
     "text": [
      "<class 'pandas.core.frame.DataFrame'>\n",
      "RangeIndex: 1000 entries, 0 to 999\n",
      "Data columns (total 6 columns):\n",
      "m2.price             1000 non-null int64\n",
      "construction.year    1000 non-null int64\n",
      "surface              1000 non-null int64\n",
      "floor                1000 non-null int64\n",
      "no.rooms             1000 non-null int64\n",
      "district             1000 non-null object\n",
      "dtypes: int64(5), object(1)\n",
      "memory usage: 47.0+ KB\n"
     ]
    }
   ],
   "source": [
    "data1.info()"
   ]
  },
  {
   "cell_type": "markdown",
   "metadata": {},
   "source": [
    "### Podział na zbiór treningowy i testowy"
   ]
  },
  {
   "cell_type": "code",
   "execution_count": 10,
   "metadata": {},
   "outputs": [],
   "source": [
    "X1 = data1.drop(['m2.price'], axis=1)\n",
    "y1 = data1['m2.price']"
   ]
  },
  {
   "cell_type": "code",
   "execution_count": 11,
   "metadata": {},
   "outputs": [],
   "source": [
    "X_train1,X_test1,y_train1,y_test1=train_test_split(X1,y1,test_size=0.2)"
   ]
  },
  {
   "cell_type": "markdown",
   "metadata": {},
   "source": [
    "### Kodowanie zmiennej district"
   ]
  },
  {
   "cell_type": "code",
   "execution_count": 12,
   "metadata": {},
   "outputs": [],
   "source": [
    "te = category_encoders.target_encoder.TargetEncoder(X_train1['district'])"
   ]
  },
  {
   "cell_type": "code",
   "execution_count": 13,
   "metadata": {},
   "outputs": [],
   "source": [
    "te.fit(X_train1['district'], y_train1)\n",
    "X_train1.district = te.transform(X_train1['district'])\n",
    "X_test1.district = te.transform(X_test1['district'])"
   ]
  },
  {
   "cell_type": "code",
   "execution_count": 14,
   "metadata": {},
   "outputs": [
    {
     "data": {
      "text/plain": [
       "True"
      ]
     },
     "execution_count": 14,
     "metadata": {},
     "output_type": "execute_result"
    }
   ],
   "source": [
    "len(np.unique(X_test1.district))==len(np.unique(X_train1.district)) #każda kategoria jest w zbiorze testowym"
   ]
  },
  {
   "cell_type": "markdown",
   "metadata": {},
   "source": [
    "### Średnia wartość kolumny odpowiedzi "
   ]
  },
  {
   "cell_type": "code",
   "execution_count": 68,
   "metadata": {},
   "outputs": [
    {
     "data": {
      "text/plain": [
       "3487.019"
      ]
     },
     "execution_count": 68,
     "metadata": {},
     "output_type": "execute_result"
    }
   ],
   "source": [
    "np.mean(y1)"
   ]
  },
  {
   "cell_type": "markdown",
   "metadata": {},
   "source": [
    "## Dopasowanie modelu SVR "
   ]
  },
  {
   "cell_type": "code",
   "execution_count": 15,
   "metadata": {},
   "outputs": [
    {
     "data": {
      "text/plain": [
       "0.026363049099514924"
      ]
     },
     "execution_count": 15,
     "metadata": {},
     "output_type": "execute_result"
    }
   ],
   "source": [
    "model1 = SVR()\n",
    "model1.fit(X_train1,y_train1)\n",
    "model1.score(X_test1, y_test1)"
   ]
  },
  {
   "cell_type": "code",
   "execution_count": 16,
   "metadata": {},
   "outputs": [
    {
     "name": "stdout",
     "output_type": "stream",
     "text": [
      "RMSE dla pierwszego zbioru 938.7419170447455\n"
     ]
    }
   ],
   "source": [
    "predictions1 = model1.predict(X_test1)\n",
    "rmse1 = mean_squared_error(y_test1, predictions1, squared=False)\n",
    "print(\"RMSE dla pierwszego zbioru\", rmse1)"
   ]
  },
  {
   "cell_type": "markdown",
   "metadata": {},
   "source": [
    "Wyniki wydają się być bardzo słabe, możliwe jednak ,że na tym zbiorze nie da się ich poprawić. Zobaczymy czy uzyskamy chociaż trochę lepsze poprzez skalowanie i strojenie hiperparametrów.\n",
    "\n"
   ]
  },
  {
   "cell_type": "markdown",
   "metadata": {},
   "source": [
    "## SVR na przeskalowanych danych"
   ]
  },
  {
   "cell_type": "code",
   "execution_count": 17,
   "metadata": {},
   "outputs": [],
   "source": [
    "scaler = preprocessing.MinMaxScaler()\n",
    "X_train1_scaled =scaler.fit_transform(X_train1)\n",
    "X_test1_scaled = scaler.transform(X_test1)"
   ]
  },
  {
   "cell_type": "code",
   "execution_count": 18,
   "metadata": {},
   "outputs": [
    {
     "name": "stdout",
     "output_type": "stream",
     "text": [
      "R^2 dla pierwszego zbioru po przeskalowaniu danych 0.07006493983152806\n"
     ]
    }
   ],
   "source": [
    "model1=SVR()\n",
    "model1.fit(X_train1_scaled, y_train1)\n",
    "print('R^2 dla pierwszego zbioru po przeskalowaniu danych', model1.score(X_test1_scaled, y_test1))\n"
   ]
  },
  {
   "cell_type": "code",
   "execution_count": 19,
   "metadata": {},
   "outputs": [
    {
     "name": "stdout",
     "output_type": "stream",
     "text": [
      "RMSE dla pierwszego zbioru po skalowaniu 917.4322394720621\n"
     ]
    }
   ],
   "source": [
    "predictions1_scaled = model1.predict(X_test1_scaled)\n",
    "rmse1_scaled = mean_squared_error(y_test1, predictions1_scaled, squared=False)\n",
    "print(\"RMSE dla pierwszego zbioru po skalowaniu\", rmse1_scaled)"
   ]
  },
  {
   "cell_type": "markdown",
   "metadata": {},
   "source": [
    "Widać, że w artykule słusznie zwrócili uwagę na skalowanie danych - $R^2$ się zwiększył a błąd RMSE - zmniejszył."
   ]
  },
  {
   "cell_type": "markdown",
   "metadata": {},
   "source": [
    "## Strojenie hiperparametrów"
   ]
  },
  {
   "cell_type": "markdown",
   "metadata": {},
   "source": [
    "Pędziemy stroić parametry: kernel, C, gamma i degree.\n"
   ]
  },
  {
   "cell_type": "markdown",
   "metadata": {},
   "source": [
    "\n",
    "### Nieprzeskalowane"
   ]
  },
  {
   "cell_type": "code",
   "execution_count": 21,
   "metadata": {},
   "outputs": [
    {
     "name": "stdout",
     "output_type": "stream",
     "text": [
      "Fitting 3 folds for each of 1 candidates, totalling 3 fits\n"
     ]
    },
    {
     "name": "stderr",
     "output_type": "stream",
     "text": [
      "[Parallel(n_jobs=-1)]: Using backend LokyBackend with 12 concurrent workers.\n",
      "[Parallel(n_jobs=-1)]: Done   3 out of   3 | elapsed:   14.3s finished\n"
     ]
    },
    {
     "data": {
      "text/plain": [
       "{'C': 7.034196400061756,\n",
       " 'degree': 15,\n",
       " 'gamma': 0.2536449946517929,\n",
       " 'kernel': 'rbf'}"
      ]
     },
     "execution_count": 21,
     "metadata": {},
     "output_type": "execute_result"
    }
   ],
   "source": [
    "param_list1= {\"kernel\":['linear', 'rbf', 'sigmoid', 'poly'],\n",
    "            \"C\": stats.uniform(2, 10),\n",
    "            \"gamma\": stats.uniform(0.1, 1),\n",
    "            \"degree\": np.arange(1, 16)\n",
    "             }\n",
    "svr = SVR()\n",
    "random_search1 = RandomizedSearchCV(estimator=svr,\n",
    "                              param_distributions=param_list1, \n",
    "                              cv=3,\n",
    "                              n_iter=1,\n",
    "                              n_jobs=-1,\n",
    "                              verbose=2)\n",
    "random_search1.fit(X_train1, y_train1) \n",
    "random_search1.best_params_"
   ]
  },
  {
   "cell_type": "code",
   "execution_count": 25,
   "metadata": {},
   "outputs": [
    {
     "name": "stdout",
     "output_type": "stream",
     "text": [
      "RMSE 963.4861552316863\n"
     ]
    }
   ],
   "source": [
    "best_model1 = random_search1.best_estimator_\n",
    "best_model1.fit(X_train1, y_train1)\n",
    "\n",
    "best_model1_pred = best_model1.predict(X_test1)\n",
    "rmse1_bestmodel = mean_squared_error(y_test1,best_model1_pred, squared=False)\n",
    "print(\"RMSE\", rmse1_bestmodel)"
   ]
  },
  {
   "cell_type": "code",
   "execution_count": 26,
   "metadata": {},
   "outputs": [
    {
     "data": {
      "text/plain": [
       "-0.02564149584400321"
      ]
     },
     "execution_count": 26,
     "metadata": {},
     "output_type": "execute_result"
    }
   ],
   "source": [
    "best_model1.score(X_test1, y_test1)"
   ]
  },
  {
   "cell_type": "markdown",
   "metadata": {},
   "source": [
    "### Skalowane\n"
   ]
  },
  {
   "cell_type": "code",
   "execution_count": 27,
   "metadata": {},
   "outputs": [
    {
     "name": "stdout",
     "output_type": "stream",
     "text": [
      "Fitting 3 folds for each of 3 candidates, totalling 9 fits\n"
     ]
    },
    {
     "name": "stderr",
     "output_type": "stream",
     "text": [
      "[Parallel(n_jobs=-1)]: Using backend LokyBackend with 12 concurrent workers.\n",
      "[Parallel(n_jobs=-1)]: Done   6 out of   9 | elapsed:   12.1s remaining:    6.0s\n",
      "[Parallel(n_jobs=-1)]: Done   9 out of   9 | elapsed:   12.6s finished\n"
     ]
    },
    {
     "data": {
      "text/plain": [
       "{'C': 11.172892946928496,\n",
       " 'degree': 9,\n",
       " 'gamma': 0.8211053321774627,\n",
       " 'kernel': 'linear'}"
      ]
     },
     "execution_count": 27,
     "metadata": {},
     "output_type": "execute_result"
    }
   ],
   "source": [
    "svr = SVR()\n",
    "random_search1_scaled = RandomizedSearchCV(estimator=svr,\n",
    "                              param_distributions=param_list1,\n",
    "                              n_iter=3, \n",
    "                              cv=3,\n",
    "                              n_jobs=-1,\n",
    "                              verbose=2)\n",
    "random_search1_scaled.fit(X_train1_scaled, y_train1) \n",
    "random_search1_scaled.best_params_"
   ]
  },
  {
   "cell_type": "code",
   "execution_count": 28,
   "metadata": {},
   "outputs": [
    {
     "name": "stdout",
     "output_type": "stream",
     "text": [
      "RMSE 495.35610971484374\n"
     ]
    }
   ],
   "source": [
    "best_model1_scaled = random_search1_scaled.best_estimator_\n",
    "best_model1_scaled.fit(X_train1_scaled, y_train1)\n",
    "\n",
    "best_model1_pred_scaled = best_model1_scaled.predict(X_test1_scaled)\n",
    "rmse1_bestmodel_scaled = mean_squared_error(y_test1,best_model1_pred_scaled, squared=False)\n",
    "print(\"RMSE\", rmse1_bestmodel_scaled)"
   ]
  },
  {
   "cell_type": "code",
   "execution_count": 29,
   "metadata": {},
   "outputs": [
    {
     "data": {
      "text/plain": [
       "0.7288936597483632"
      ]
     },
     "execution_count": 29,
     "metadata": {},
     "output_type": "execute_result"
    }
   ],
   "source": [
    "best_model1_scaled.score(X_test1_scaled, y_test1)"
   ]
  },
  {
   "cell_type": "markdown",
   "metadata": {},
   "source": [
    "Różnica między najlepszym modelem dla danych nieprzeskalowanych a danych przeskalowanych jest ogromna. "
   ]
  },
  {
   "cell_type": "code",
   "execution_count": 30,
   "metadata": {},
   "outputs": [
    {
     "name": "stdout",
     "output_type": "stream",
     "text": [
      "Najlepszym modelem dla zbioru 1 okazał się model SVR(C=11.172892946928496, cache_size=200, coef0=0.0, degree=9, epsilon=0.1,\n",
      "    gamma=0.8211053321774627, kernel='linear', max_iter=-1, shrinking=True,\n",
      "    tol=0.001, verbose=False)\n"
     ]
    }
   ],
   "source": [
    "print(\"Najlepszym modelem dla zbioru 1 okazał się model\", best_model1_scaled)"
   ]
  },
  {
   "cell_type": "markdown",
   "metadata": {},
   "source": [
    "## Zbiór 2 - autoPrice"
   ]
  },
  {
   "cell_type": "code",
   "execution_count": 31,
   "metadata": {},
   "outputs": [],
   "source": [
    "data2 = pd.read_csv(\"C:/Users/Ada/Downloads/dataset_2193_autoPrice.csv\").drop(['symboling'], axis=1)"
   ]
  },
  {
   "cell_type": "code",
   "execution_count": 32,
   "metadata": {},
   "outputs": [],
   "source": [
    "data2 = data2.rename(columns={'class':'price'}) #zmiana nazwy class na price"
   ]
  },
  {
   "cell_type": "code",
   "execution_count": 33,
   "metadata": {},
   "outputs": [
    {
     "data": {
      "text/plain": [
       "array([[<matplotlib.axes._subplots.AxesSubplot object at 0x0000019047369948>,\n",
       "        <matplotlib.axes._subplots.AxesSubplot object at 0x0000019047647408>,\n",
       "        <matplotlib.axes._subplots.AxesSubplot object at 0x000001904767AAC8>,\n",
       "        <matplotlib.axes._subplots.AxesSubplot object at 0x00000190476B07C8>],\n",
       "       [<matplotlib.axes._subplots.AxesSubplot object at 0x00000190476E4548>,\n",
       "        <matplotlib.axes._subplots.AxesSubplot object at 0x0000019047714248>,\n",
       "        <matplotlib.axes._subplots.AxesSubplot object at 0x0000019047745B88>,\n",
       "        <matplotlib.axes._subplots.AxesSubplot object at 0x000001904777C908>],\n",
       "       [<matplotlib.axes._subplots.AxesSubplot object at 0x0000019047784788>,\n",
       "        <matplotlib.axes._subplots.AxesSubplot object at 0x00000190477BC908>,\n",
       "        <matplotlib.axes._subplots.AxesSubplot object at 0x0000019047821EC8>,\n",
       "        <matplotlib.axes._subplots.AxesSubplot object at 0x000001904785AF48>],\n",
       "       [<matplotlib.axes._subplots.AxesSubplot object at 0x0000019047897088>,\n",
       "        <matplotlib.axes._subplots.AxesSubplot object at 0x00000190478CD1C8>,\n",
       "        <matplotlib.axes._subplots.AxesSubplot object at 0x00000190479052C8>,\n",
       "        <matplotlib.axes._subplots.AxesSubplot object at 0x000001904793F3C8>]],\n",
       "      dtype=object)"
      ]
     },
     "execution_count": 33,
     "metadata": {},
     "output_type": "execute_result"
    },
    {
     "data": {
      "image/png": "[encoded data removed]",
      "text/plain": [
       "<Figure size 1080x1440 with 16 Axes>"
      ]
     },
     "metadata": {
      "needs_background": "light"
     },
     "output_type": "display_data"
    }
   ],
   "source": [
    "   fig = plt.figure(figsize = (15,20))\n",
    "   ax = fig.gca()\n",
    "   data2.hist(ax = ax)"
   ]
  },
  {
   "cell_type": "markdown",
   "metadata": {},
   "source": [
    "Dane jak widać są numeryczne, nie musimy więc robić encodingu zmiennych kategorycznych"
   ]
  },
  {
   "cell_type": "code",
   "execution_count": 34,
   "metadata": {},
   "outputs": [
    {
     "name": "stdout",
     "output_type": "stream",
     "text": [
      "<class 'pandas.core.frame.DataFrame'>\n",
      "RangeIndex: 159 entries, 0 to 158\n",
      "Data columns (total 15 columns):\n",
      "normalized-losses    159 non-null int64\n",
      "wheel-base           159 non-null float64\n",
      "length               159 non-null float64\n",
      "width                159 non-null float64\n",
      "height               159 non-null float64\n",
      "curb-weight          159 non-null int64\n",
      "engine-size          159 non-null int64\n",
      "bore                 159 non-null float64\n",
      "stroke               159 non-null float64\n",
      "compression-ratio    159 non-null float64\n",
      "horsepower           159 non-null int64\n",
      "peak-rpm             159 non-null int64\n",
      "city-mpg             159 non-null int64\n",
      "highway-mpg          159 non-null int64\n",
      "price                159 non-null int64\n",
      "dtypes: float64(7), int64(8)\n",
      "memory usage: 18.8 KB\n"
     ]
    }
   ],
   "source": [
    "data2.info()"
   ]
  },
  {
   "cell_type": "code",
   "execution_count": 35,
   "metadata": {},
   "outputs": [
    {
     "data": {
      "text/html": [
       "<div>\n",
       "<style scoped>\n",
       "    .dataframe tbody tr th:only-of-type {\n",
       "        vertical-align: middle;\n",
       "    }\n",
       "\n",
       "    .dataframe tbody tr th {\n",
       "        vertical-align: top;\n",
       "    }\n",
       "\n",
       "    .dataframe thead th {\n",
       "        text-align: right;\n",
       "    }\n",
       "</style>\n",
       "<table border=\"1\" class=\"dataframe\">\n",
       "  <thead>\n",
       "    <tr style=\"text-align: right;\">\n",
       "      <th></th>\n",
       "      <th>normalized-losses</th>\n",
       "      <th>wheel-base</th>\n",
       "      <th>length</th>\n",
       "      <th>width</th>\n",
       "      <th>height</th>\n",
       "      <th>curb-weight</th>\n",
       "      <th>engine-size</th>\n",
       "      <th>bore</th>\n",
       "      <th>stroke</th>\n",
       "      <th>compression-ratio</th>\n",
       "      <th>horsepower</th>\n",
       "      <th>peak-rpm</th>\n",
       "      <th>city-mpg</th>\n",
       "      <th>highway-mpg</th>\n",
       "      <th>price</th>\n",
       "    </tr>\n",
       "  </thead>\n",
       "  <tbody>\n",
       "    <tr>\n",
       "      <td>count</td>\n",
       "      <td>159.000000</td>\n",
       "      <td>159.000000</td>\n",
       "      <td>159.000000</td>\n",
       "      <td>159.000000</td>\n",
       "      <td>159.000000</td>\n",
       "      <td>159.000000</td>\n",
       "      <td>159.000000</td>\n",
       "      <td>159.000000</td>\n",
       "      <td>159.000000</td>\n",
       "      <td>159.000000</td>\n",
       "      <td>159.000000</td>\n",
       "      <td>159.000000</td>\n",
       "      <td>159.000000</td>\n",
       "      <td>159.000000</td>\n",
       "      <td>159.000000</td>\n",
       "    </tr>\n",
       "    <tr>\n",
       "      <td>mean</td>\n",
       "      <td>121.132075</td>\n",
       "      <td>98.264151</td>\n",
       "      <td>172.413836</td>\n",
       "      <td>65.607547</td>\n",
       "      <td>53.899371</td>\n",
       "      <td>2461.138365</td>\n",
       "      <td>119.226415</td>\n",
       "      <td>3.300126</td>\n",
       "      <td>3.236352</td>\n",
       "      <td>10.161132</td>\n",
       "      <td>95.836478</td>\n",
       "      <td>5113.836478</td>\n",
       "      <td>26.522013</td>\n",
       "      <td>32.081761</td>\n",
       "      <td>11445.729560</td>\n",
       "    </tr>\n",
       "    <tr>\n",
       "      <td>std</td>\n",
       "      <td>35.651285</td>\n",
       "      <td>5.167416</td>\n",
       "      <td>11.523177</td>\n",
       "      <td>1.947883</td>\n",
       "      <td>2.268761</td>\n",
       "      <td>481.941321</td>\n",
       "      <td>30.460791</td>\n",
       "      <td>0.267336</td>\n",
       "      <td>0.294888</td>\n",
       "      <td>3.889475</td>\n",
       "      <td>30.718583</td>\n",
       "      <td>465.754864</td>\n",
       "      <td>6.097142</td>\n",
       "      <td>6.459189</td>\n",
       "      <td>5877.856195</td>\n",
       "    </tr>\n",
       "    <tr>\n",
       "      <td>min</td>\n",
       "      <td>65.000000</td>\n",
       "      <td>86.600000</td>\n",
       "      <td>141.100000</td>\n",
       "      <td>60.300000</td>\n",
       "      <td>49.400000</td>\n",
       "      <td>1488.000000</td>\n",
       "      <td>61.000000</td>\n",
       "      <td>2.540000</td>\n",
       "      <td>2.070000</td>\n",
       "      <td>7.000000</td>\n",
       "      <td>48.000000</td>\n",
       "      <td>4150.000000</td>\n",
       "      <td>15.000000</td>\n",
       "      <td>18.000000</td>\n",
       "      <td>5118.000000</td>\n",
       "    </tr>\n",
       "    <tr>\n",
       "      <td>25%</td>\n",
       "      <td>94.000000</td>\n",
       "      <td>94.500000</td>\n",
       "      <td>165.650000</td>\n",
       "      <td>64.000000</td>\n",
       "      <td>52.250000</td>\n",
       "      <td>2065.500000</td>\n",
       "      <td>97.000000</td>\n",
       "      <td>3.050000</td>\n",
       "      <td>3.105000</td>\n",
       "      <td>8.700000</td>\n",
       "      <td>69.000000</td>\n",
       "      <td>4800.000000</td>\n",
       "      <td>23.000000</td>\n",
       "      <td>28.000000</td>\n",
       "      <td>7372.000000</td>\n",
       "    </tr>\n",
       "    <tr>\n",
       "      <td>50%</td>\n",
       "      <td>113.000000</td>\n",
       "      <td>96.900000</td>\n",
       "      <td>172.400000</td>\n",
       "      <td>65.400000</td>\n",
       "      <td>54.100000</td>\n",
       "      <td>2340.000000</td>\n",
       "      <td>110.000000</td>\n",
       "      <td>3.270000</td>\n",
       "      <td>3.270000</td>\n",
       "      <td>9.000000</td>\n",
       "      <td>88.000000</td>\n",
       "      <td>5200.000000</td>\n",
       "      <td>26.000000</td>\n",
       "      <td>32.000000</td>\n",
       "      <td>9233.000000</td>\n",
       "    </tr>\n",
       "    <tr>\n",
       "      <td>75%</td>\n",
       "      <td>148.000000</td>\n",
       "      <td>100.800000</td>\n",
       "      <td>177.800000</td>\n",
       "      <td>66.500000</td>\n",
       "      <td>55.500000</td>\n",
       "      <td>2809.500000</td>\n",
       "      <td>135.000000</td>\n",
       "      <td>3.560000</td>\n",
       "      <td>3.410000</td>\n",
       "      <td>9.400000</td>\n",
       "      <td>114.000000</td>\n",
       "      <td>5500.000000</td>\n",
       "      <td>31.000000</td>\n",
       "      <td>37.000000</td>\n",
       "      <td>14719.500000</td>\n",
       "    </tr>\n",
       "    <tr>\n",
       "      <td>max</td>\n",
       "      <td>256.000000</td>\n",
       "      <td>115.600000</td>\n",
       "      <td>202.600000</td>\n",
       "      <td>71.700000</td>\n",
       "      <td>59.800000</td>\n",
       "      <td>4066.000000</td>\n",
       "      <td>258.000000</td>\n",
       "      <td>3.940000</td>\n",
       "      <td>4.170000</td>\n",
       "      <td>23.000000</td>\n",
       "      <td>200.000000</td>\n",
       "      <td>6600.000000</td>\n",
       "      <td>49.000000</td>\n",
       "      <td>54.000000</td>\n",
       "      <td>35056.000000</td>\n",
       "    </tr>\n",
       "  </tbody>\n",
       "</table>\n",
       "</div>"
      ],
      "text/plain": [
       "       normalized-losses  wheel-base      length       width      height  \\\n",
       "count         159.000000  159.000000  159.000000  159.000000  159.000000   \n",
       "mean          121.132075   98.264151  172.413836   65.607547   53.899371   \n",
       "std            35.651285    5.167416   11.523177    1.947883    2.268761   \n",
       "min            65.000000   86.600000  141.100000   60.300000   49.400000   \n",
       "25%            94.000000   94.500000  165.650000   64.000000   52.250000   \n",
       "50%           113.000000   96.900000  172.400000   65.400000   54.100000   \n",
       "75%           148.000000  100.800000  177.800000   66.500000   55.500000   \n",
       "max           256.000000  115.600000  202.600000   71.700000   59.800000   \n",
       "\n",
       "       curb-weight  engine-size        bore      stroke  compression-ratio  \\\n",
       "count   159.000000   159.000000  159.000000  159.000000         159.000000   \n",
       "mean   2461.138365   119.226415    3.300126    3.236352          10.161132   \n",
       "std     481.941321    30.460791    0.267336    0.294888           3.889475   \n",
       "min    1488.000000    61.000000    2.540000    2.070000           7.000000   \n",
       "25%    2065.500000    97.000000    3.050000    3.105000           8.700000   \n",
       "50%    2340.000000   110.000000    3.270000    3.270000           9.000000   \n",
       "75%    2809.500000   135.000000    3.560000    3.410000           9.400000   \n",
       "max    4066.000000   258.000000    3.940000    4.170000          23.000000   \n",
       "\n",
       "       horsepower     peak-rpm    city-mpg  highway-mpg         price  \n",
       "count  159.000000   159.000000  159.000000   159.000000    159.000000  \n",
       "mean    95.836478  5113.836478   26.522013    32.081761  11445.729560  \n",
       "std     30.718583   465.754864    6.097142     6.459189   5877.856195  \n",
       "min     48.000000  4150.000000   15.000000    18.000000   5118.000000  \n",
       "25%     69.000000  4800.000000   23.000000    28.000000   7372.000000  \n",
       "50%     88.000000  5200.000000   26.000000    32.000000   9233.000000  \n",
       "75%    114.000000  5500.000000   31.000000    37.000000  14719.500000  \n",
       "max    200.000000  6600.000000   49.000000    54.000000  35056.000000  "
      ]
     },
     "execution_count": 35,
     "metadata": {},
     "output_type": "execute_result"
    }
   ],
   "source": [
    "data2.describe()"
   ]
  },
  {
   "cell_type": "code",
   "execution_count": 36,
   "metadata": {},
   "outputs": [],
   "source": [
    "X2 = data2.drop(['price'], axis=1)\n",
    "y2 = data2.price"
   ]
  },
  {
   "cell_type": "markdown",
   "metadata": {},
   "source": [
    "### Podział na zbiór treningowy i testowy"
   ]
  },
  {
   "cell_type": "code",
   "execution_count": 69,
   "metadata": {},
   "outputs": [],
   "source": [
    "X_train2,X_test2,y_train2,y_test2=train_test_split(X2,y2,test_size=0.2)"
   ]
  },
  {
   "cell_type": "markdown",
   "metadata": {},
   "source": [
    "### Średnia wartość kolumny odpowiedzi\n"
   ]
  },
  {
   "cell_type": "code",
   "execution_count": 70,
   "metadata": {},
   "outputs": [
    {
     "data": {
      "text/plain": [
       "11445.729559748428"
      ]
     },
     "execution_count": 70,
     "metadata": {},
     "output_type": "execute_result"
    }
   ],
   "source": [
    "np.mean(y2) "
   ]
  },
  {
   "cell_type": "markdown",
   "metadata": {},
   "source": [
    "Większa niż w zbiorze 1 - duża szansa że rmse będzie większe."
   ]
  },
  {
   "cell_type": "markdown",
   "metadata": {},
   "source": [
    "## Dopasowanie modelu SVR "
   ]
  },
  {
   "cell_type": "markdown",
   "metadata": {},
   "source": [
    "###  Zbiór 2"
   ]
  },
  {
   "cell_type": "code",
   "execution_count": 38,
   "metadata": {},
   "outputs": [],
   "source": [
    "model2 = SVR()"
   ]
  },
  {
   "cell_type": "code",
   "execution_count": 39,
   "metadata": {},
   "outputs": [
    {
     "data": {
      "text/plain": [
       "SVR(C=1.0, cache_size=200, coef0=0.0, degree=3, epsilon=0.1, gamma='scale',\n",
       "    kernel='rbf', max_iter=-1, shrinking=True, tol=0.001, verbose=False)"
      ]
     },
     "execution_count": 39,
     "metadata": {},
     "output_type": "execute_result"
    }
   ],
   "source": [
    "model2.fit(X_train2, y_train2)"
   ]
  },
  {
   "cell_type": "code",
   "execution_count": 40,
   "metadata": {},
   "outputs": [
    {
     "data": {
      "text/plain": [
       "-0.21731458544199886"
      ]
     },
     "execution_count": 40,
     "metadata": {},
     "output_type": "execute_result"
    }
   ],
   "source": [
    "model2.score(X_test2, y_test2)"
   ]
  },
  {
   "cell_type": "code",
   "execution_count": 41,
   "metadata": {},
   "outputs": [],
   "source": [
    "predictions2=model2.predict(X_test2)"
   ]
  },
  {
   "cell_type": "code",
   "execution_count": 43,
   "metadata": {},
   "outputs": [
    {
     "name": "stdout",
     "output_type": "stream",
     "text": [
      "RMSE dla drugiego zbioru 5436.257913329091\n"
     ]
    }
   ],
   "source": [
    "rmse2 = mean_squared_error(y_test2, predictions2, squared=False)\n",
    "print(\"RMSE dla drugiego zbioru\", rmse2)"
   ]
  },
  {
   "cell_type": "markdown",
   "metadata": {},
   "source": [
    "Wyniki są bardzo słabe (tragiczne?), zobaczymy czy uda nam się je polepszyć "
   ]
  },
  {
   "cell_type": "markdown",
   "metadata": {},
   "source": [
    "## Skalowanie danych"
   ]
  },
  {
   "cell_type": "code",
   "execution_count": 44,
   "metadata": {},
   "outputs": [],
   "source": [
    "X_train2_scaled = scaler.fit_transform(X_train2)\n",
    "X_test2_scaled = scaler.transform(X_test2)"
   ]
  },
  {
   "cell_type": "code",
   "execution_count": 45,
   "metadata": {},
   "outputs": [
    {
     "name": "stdout",
     "output_type": "stream",
     "text": [
      "R^2 dla drugiego zbioru po przeskalowaniu danych -0.2121502272536635\n"
     ]
    }
   ],
   "source": [
    "model2=SVR()\n",
    "model2.fit(X_train2_scaled, y_train2)\n",
    "print('R^2 dla drugiego zbioru po przeskalowaniu danych', model2.score(X_test2_scaled, y_test2))"
   ]
  },
  {
   "cell_type": "code",
   "execution_count": 46,
   "metadata": {},
   "outputs": [
    {
     "name": "stdout",
     "output_type": "stream",
     "text": [
      "RMSE dla pierwszego zbioru po skalowaniu 5424.7142158409215\n"
     ]
    }
   ],
   "source": [
    "predictions2_scaled = model2.predict(X_test2_scaled)\n",
    "rmse2_scaled = mean_squared_error(y_test2, predictions2_scaled, squared=False)\n",
    "print(\"RMSE dla pierwszego zbioru po skalowaniu\", rmse2_scaled)"
   ]
  },
  {
   "cell_type": "markdown",
   "metadata": {},
   "source": [
    "Wyniki praktycznie takie same, zobaczymy czy cokolwiek da strojenie parametrów (na poprzednim zbiorze zyskaliśmy bardzo dużo dzięki strojeniu). "
   ]
  },
  {
   "cell_type": "markdown",
   "metadata": {},
   "source": [
    "## Optymalizowanie hiperparametrów"
   ]
  },
  {
   "cell_type": "markdown",
   "metadata": {},
   "source": [
    "### nieprzeskalowane\n"
   ]
  },
  {
   "cell_type": "code",
   "execution_count": 47,
   "metadata": {},
   "outputs": [
    {
     "name": "stdout",
     "output_type": "stream",
     "text": [
      "Fitting 3 folds for each of 1 candidates, totalling 3 fits\n"
     ]
    },
    {
     "name": "stderr",
     "output_type": "stream",
     "text": [
      "[Parallel(n_jobs=-1)]: Using backend LokyBackend with 12 concurrent workers.\n",
      "[Parallel(n_jobs=-1)]: Done   3 out of   3 | elapsed:   12.0s finished\n"
     ]
    },
    {
     "data": {
      "text/plain": [
       "{'C': 5.201296114743215, 'gamma': 0.6493465939229863, 'kernel': 'sigmoid'}"
      ]
     },
     "execution_count": 47,
     "metadata": {},
     "output_type": "execute_result"
    }
   ],
   "source": [
    "param_list2= {\"kernel\":['linear', 'rbf', 'sigmoid', 'poly'],\n",
    "            \"C\": stats.uniform(2, 10),\n",
    "            \"gamma\": stats.uniform(0.1, 1)}\n",
    "svr = SVR()\n",
    "random_search2 = RandomizedSearchCV(estimator=svr,\n",
    "                              param_distributions=param_list2,\n",
    "                              n_iter=1, \n",
    "                              cv=3,\n",
    "                              n_jobs=-1,\n",
    "                              verbose=2)\n",
    "random_search2.fit(X_train2, y_train2) \n",
    "random_search2.best_params_"
   ]
  },
  {
   "cell_type": "code",
   "execution_count": 48,
   "metadata": {},
   "outputs": [
    {
     "name": "stdout",
     "output_type": "stream",
     "text": [
      "RMSE 5437.328319128798\n"
     ]
    }
   ],
   "source": [
    "best_model2 = random_search2.best_estimator_\n",
    "best_model2.fit(X_train2, y_train2)\n",
    "\n",
    "best_model2_pred = best_model2.predict(X_test2)\n",
    "rmse2_bestmodel = mean_squared_error(y_test2,best_model2_pred, squared=False)\n",
    "print(\"RMSE\", rmse2_bestmodel)"
   ]
  },
  {
   "cell_type": "code",
   "execution_count": 49,
   "metadata": {},
   "outputs": [
    {
     "data": {
      "text/plain": [
       "-0.21779401408437415"
      ]
     },
     "execution_count": 49,
     "metadata": {},
     "output_type": "execute_result"
    }
   ],
   "source": [
    "best_model2.score(X_test2, y_test2)"
   ]
  },
  {
   "cell_type": "markdown",
   "metadata": {},
   "source": [
    "### skalowane"
   ]
  },
  {
   "cell_type": "code",
   "execution_count": 58,
   "metadata": {},
   "outputs": [
    {
     "name": "stdout",
     "output_type": "stream",
     "text": [
      "Fitting 3 folds for each of 1 candidates, totalling 3 fits\n"
     ]
    },
    {
     "name": "stderr",
     "output_type": "stream",
     "text": [
      "[Parallel(n_jobs=-1)]: Using backend LokyBackend with 12 concurrent workers.\n",
      "[Parallel(n_jobs=-1)]: Done   3 out of   3 | elapsed:    0.4s finished\n"
     ]
    },
    {
     "data": {
      "text/plain": [
       "{'C': 9.582942402450467, 'gamma': 0.6626743678880624, 'kernel': 'poly'}"
      ]
     },
     "execution_count": 58,
     "metadata": {},
     "output_type": "execute_result"
    }
   ],
   "source": [
    "svr = SVR()\n",
    "random_search2_scaled = RandomizedSearchCV(estimator=svr,\n",
    "                              param_distributions=param_list2,\n",
    "                              n_iter=1, \n",
    "                              cv=3,\n",
    "                              n_jobs=-1,\n",
    "                              verbose=2)\n",
    "random_search2_scaled.fit(X_train2_scaled, y_train2) \n",
    "random_search2_scaled.best_params_"
   ]
  },
  {
   "cell_type": "code",
   "execution_count": 59,
   "metadata": {},
   "outputs": [
    {
     "name": "stdout",
     "output_type": "stream",
     "text": [
      "RMSE 3976.1037147623524\n"
     ]
    }
   ],
   "source": [
    "best_model2_scaled = random_search2_scaled.best_estimator_\n",
    "best_model2_scaled.fit(X_train2_scaled, y_train2)\n",
    "\n",
    "best_model2_pred_scaled = best_model2_scaled.predict(X_test2_scaled)\n",
    "rmse2_bestmodel_scaled = mean_squared_error(y_test2,best_model2_pred_scaled, squared=False)\n",
    "print(\"RMSE\", rmse2_bestmodel_scaled)"
   ]
  },
  {
   "cell_type": "code",
   "execution_count": 61,
   "metadata": {},
   "outputs": [
    {
     "data": {
      "text/plain": [
       "0.34879439731917605"
      ]
     },
     "execution_count": 61,
     "metadata": {},
     "output_type": "execute_result"
    }
   ],
   "source": [
    "best_model2_scaled.score(X_test2_scaled, y_test2)"
   ]
  },
  {
   "cell_type": "markdown",
   "metadata": {},
   "source": [
    "Jak widać uzyskaliśmy wynik dużo lepszy (wszystkie poprzednie wyniki były ujemne). Pokazuje tak jak dużo możemy osiągnąć skalowaniem i strojeniem parametrów. "
   ]
  },
  {
   "cell_type": "code",
   "execution_count": 71,
   "metadata": {},
   "outputs": [
    {
     "name": "stdout",
     "output_type": "stream",
     "text": [
      "Najlepszym modelem dla zbioru 2 okazał się model SVR(C=9.582942402450467, cache_size=200, coef0=0.0, degree=3, epsilon=0.1,\n",
      "    gamma=0.6626743678880624, kernel='poly', max_iter=-1, shrinking=True,\n",
      "    tol=0.001, verbose=False)\n"
     ]
    }
   ],
   "source": [
    "print(\"Najlepszym modelem dla zbioru 2 okazał się model\", best_model2_scaled)"
   ]
  }
 ],
 "metadata": {
  "kernelspec": {
   "display_name": "Python 3",
   "language": "python",
   "name": "python3"
  },
  "language_info": {
   "codemirror_mode": {
    "name": "ipython",
    "version": 3
   },
   "file_extension": ".py",
   "mimetype": "text/x-python",
   "name": "python",
   "nbconvert_exporter": "python",
   "pygments_lexer": "ipython3",
   "version": "3.7.4"
  }
 },
 "nbformat": 4,
 "nbformat_minor": 2
}
