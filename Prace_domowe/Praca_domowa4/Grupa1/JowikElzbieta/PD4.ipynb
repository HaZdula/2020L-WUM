{
 "cells": [
  {
   "cell_type": "code",
   "execution_count": 1,
   "metadata": {},
   "outputs": [],
   "source": [
    "# Pakiety\n",
    "import pandas as pd \n",
    "import numpy as np\n",
    "import matplotlib.pyplot as plt\n",
    "from sklearn import svm\n",
    "from sklearn import metrics\n",
    "from sklearn.model_selection import train_test_split\n",
    "from sklearn.preprocessing import StandardScaler\n",
    "from sklearn.model_selection import RandomizedSearchCV\n",
    "import random\n",
    "import warnings \n",
    "warnings.filterwarnings('ignore')\n",
    "# Ustawienie ziarna w celu gwarancji reprodukowalności wyników\n",
    "np.random.seed(123) \n",
    "\n",
    "# Link do wybranego zbioru: https://www.openml.org/d/1448"
   ]
  },
  {
   "cell_type": "code",
   "execution_count": 2,
   "metadata": {},
   "outputs": [],
   "source": [
    "# Wczytanie danych\n",
    "apartments = pd.read_csv('apartments.csv')\n",
    "knugget_chase = pd.read_csv('KnuggetChase3.csv')\n",
    "knugget_chase.rename(columns={'def':'target'}, inplace=True)"
   ]
  },
  {
   "cell_type": "markdown",
   "metadata": {},
   "source": [
    "## 1. Zbiór Apartments"
   ]
  },
  {
   "cell_type": "code",
   "execution_count": 3,
   "metadata": {},
   "outputs": [
    {
     "name": "stdout",
     "output_type": "stream",
     "text": [
      "\u001b[1mApartments dataset:\u001b[0m\n",
      "<class 'pandas.core.frame.DataFrame'>\n",
      "RangeIndex: 1000 entries, 0 to 999\n",
      "Data columns (total 6 columns):\n",
      "m2.price             1000 non-null int64\n",
      "construction.year    1000 non-null int64\n",
      "surface              1000 non-null int64\n",
      "floor                1000 non-null int64\n",
      "no.rooms             1000 non-null int64\n",
      "district             1000 non-null object\n",
      "dtypes: int64(5), object(1)\n",
      "memory usage: 47.0+ KB\n"
     ]
    }
   ],
   "source": [
    "print('\\033[1m' + 'Apartments dataset:' + '\\033[0m')\n",
    "apartments.info()"
   ]
  },
  {
   "cell_type": "markdown",
   "metadata": {},
   "source": [
    "Dane nie zawierają braków i nie wymagają czyszczenia."
   ]
  },
  {
   "cell_type": "code",
   "execution_count": 4,
   "metadata": {},
   "outputs": [
    {
     "name": "stdout",
     "output_type": "stream",
     "text": [
      "\u001b[1mApartments dataset:\u001b[0m\n"
     ]
    },
    {
     "data": {
      "text/plain": [
       "Mokotow        107\n",
       "Wola           106\n",
       "Ursus          105\n",
       "Ursynow        103\n",
       "Srodmiescie    100\n",
       "Bemowo          98\n",
       "Zoliborz        97\n",
       "Ochota          96\n",
       "Bielany         96\n",
       "Praga           92\n",
       "Name: district, dtype: int64"
      ]
     },
     "execution_count": 4,
     "metadata": {},
     "output_type": "execute_result"
    }
   ],
   "source": [
    "# Sprawdzenie liczności i balansu klas predykcyjnych w poszczególnych zbiorach\n",
    "print('\\033[1m' + 'Apartments dataset:' + '\\033[0m')\n",
    "apartments.district.value_counts()"
   ]
  },
  {
   "cell_type": "markdown",
   "metadata": {},
   "source": [
    "Zatem klasyfikacja ma charakter wieloklasowy, zmienna celu jest zbalansowana.\n",
    "\n",
    "Dla klasyfikacji wieloklasowej SVM wdraża strategię OVO (one-vs-one), polegającą  na  konstruowaniu  klasyfikatorów  dla  wszystkich mozliwych  par  klas."
   ]
  },
  {
   "cell_type": "markdown",
   "metadata": {},
   "source": [
    "### Podział na zbiory treningowy i testowy  \n",
    "\n",
    "* 80% obserwacji należy do zbioru treningowego, pozostałe do testowego.  \n",
    "* Odseparowujemy zmienną celu od zmiennych objaśniających."
   ]
  },
  {
   "cell_type": "code",
   "execution_count": 5,
   "metadata": {},
   "outputs": [],
   "source": [
    "X_train, X_test, y_train, y_test = train_test_split(apartments.drop('district', axis=1), apartments['district'])"
   ]
  },
  {
   "cell_type": "markdown",
   "metadata": {},
   "source": [
    "### 1.1. Dopasowanie SVM"
   ]
  },
  {
   "cell_type": "code",
   "execution_count": 6,
   "metadata": {},
   "outputs": [
    {
     "data": {
      "text/plain": [
       "SVC(C=1.0, break_ties=False, cache_size=200, class_weight=None, coef0=0.0,\n",
       "    decision_function_shape='ovr', degree=3, gamma='scale', kernel='rbf',\n",
       "    max_iter=-1, probability=False, random_state=None, shrinking=True,\n",
       "    tol=0.001, verbose=False)"
      ]
     },
     "execution_count": 6,
     "metadata": {},
     "output_type": "execute_result"
    }
   ],
   "source": [
    "clf = svm.SVC()\n",
    "clf.fit(X_train, y_train)"
   ]
  },
  {
   "cell_type": "code",
   "execution_count": 7,
   "metadata": {},
   "outputs": [],
   "source": [
    "y_pred = clf.predict(X_test)"
   ]
  },
  {
   "cell_type": "markdown",
   "metadata": {},
   "source": [
    "### Rezultaty"
   ]
  },
  {
   "cell_type": "code",
   "execution_count": 8,
   "metadata": {
    "scrolled": true
   },
   "outputs": [
    {
     "name": "stdout",
     "output_type": "stream",
     "text": [
      "              precision    recall  f1-score   support\n",
      "\n",
      "      Bemowo      0.000     0.000     0.000        21\n",
      "     Bielany      0.000     0.000     0.000        29\n",
      "     Mokotow      0.187     0.467     0.267        30\n",
      "      Ochota      0.000     0.000     0.000        25\n",
      "       Praga      0.000     0.000     0.000        24\n",
      " Srodmiescie      0.528     0.950     0.679        20\n",
      "       Ursus      0.133     0.320     0.188        25\n",
      "     Ursynow      0.000     0.000     0.000        23\n",
      "        Wola      0.141     0.310     0.194        29\n",
      "    Zoliborz      0.000     0.000     0.000        24\n",
      "\n",
      "    accuracy                          0.200       250\n",
      "   macro avg      0.099     0.205     0.133       250\n",
      "weighted avg      0.094     0.200     0.128       250\n",
      "\n"
     ]
    }
   ],
   "source": [
    "print(metrics.classification_report(y_test, y_pred, digits=3))"
   ]
  },
  {
   "cell_type": "code",
   "execution_count": 9,
   "metadata": {},
   "outputs": [
    {
     "data": {
      "text/plain": [
       "array(['Mokotow', 'Srodmiescie', 'Ursus', 'Ursynow', 'Wola'], dtype=object)"
      ]
     },
     "execution_count": 9,
     "metadata": {},
     "output_type": "execute_result"
    }
   ],
   "source": [
    "np.unique(y_pred)"
   ]
  },
  {
   "cell_type": "markdown",
   "metadata": {},
   "source": [
    "Przeciętne wyniki, z 10 wszystkich możliwych klas zmiennej odpowiedzi, w predykcji uwzględnionych zostało tylko 5. "
   ]
  },
  {
   "cell_type": "markdown",
   "metadata": {},
   "source": [
    "### 1.2. Skalowanie"
   ]
  },
  {
   "cell_type": "code",
   "execution_count": 10,
   "metadata": {},
   "outputs": [],
   "source": [
    "# Kolumny z danymi numerycznymi\n",
    "num = apartments.select_dtypes(include=['float64', 'int']).columns\n",
    "# Skalowanie danych numerycznych\n",
    "scaler = StandardScaler()\n",
    "apartments[num] = scaler.fit_transform(apartments[num])"
   ]
  },
  {
   "cell_type": "code",
   "execution_count": 11,
   "metadata": {},
   "outputs": [],
   "source": [
    "# Podział na zbiory testowy i walidacyjny\n",
    "X_scaled_train, X_scaled_test, y_train, y_test = train_test_split(apartments.drop('district', axis=1), apartments['district'])"
   ]
  },
  {
   "cell_type": "code",
   "execution_count": 12,
   "metadata": {},
   "outputs": [
    {
     "data": {
      "text/plain": [
       "SVC(C=1.0, break_ties=False, cache_size=200, class_weight=None, coef0=0.0,\n",
       "    decision_function_shape='ovr', degree=3, gamma='scale', kernel='rbf',\n",
       "    max_iter=-1, probability=False, random_state=None, shrinking=True,\n",
       "    tol=0.001, verbose=False)"
      ]
     },
     "execution_count": 12,
     "metadata": {},
     "output_type": "execute_result"
    }
   ],
   "source": [
    "clf_scaled = svm.SVC()\n",
    "clf_scaled.fit(X_scaled_train, y_train)"
   ]
  },
  {
   "cell_type": "code",
   "execution_count": 13,
   "metadata": {},
   "outputs": [],
   "source": [
    "y_scaled_pred = clf_scaled.predict(X_scaled_test)"
   ]
  },
  {
   "cell_type": "markdown",
   "metadata": {},
   "source": [
    "### Rezultaty"
   ]
  },
  {
   "cell_type": "code",
   "execution_count": 14,
   "metadata": {},
   "outputs": [
    {
     "name": "stdout",
     "output_type": "stream",
     "text": [
      "              precision    recall  f1-score   support\n",
      "\n",
      "      Bemowo      0.227     0.185     0.204        27\n",
      "     Bielany      0.174     0.143     0.157        28\n",
      "     Mokotow      0.300     0.375     0.333        24\n",
      "      Ochota      0.400     0.214     0.279        28\n",
      "       Praga      0.000     0.000     0.000        23\n",
      " Srodmiescie      1.000     1.000     1.000        24\n",
      "       Ursus      0.229     0.333     0.271        24\n",
      "     Ursynow      0.158     0.231     0.187        26\n",
      "        Wola      0.121     0.154     0.136        26\n",
      "    Zoliborz      0.321     0.450     0.375        20\n",
      "\n",
      "    accuracy                          0.300       250\n",
      "   macro avg      0.293     0.309     0.294       250\n",
      "weighted avg      0.290     0.300     0.289       250\n",
      "\n"
     ]
    }
   ],
   "source": [
    "print(metrics.classification_report(y_test, y_scaled_pred, digits=3))"
   ]
  },
  {
   "cell_type": "code",
   "execution_count": 15,
   "metadata": {},
   "outputs": [
    {
     "data": {
      "text/plain": [
       "array(['Bemowo', 'Bielany', 'Mokotow', 'Ochota', 'Praga', 'Srodmiescie',\n",
       "       'Ursus', 'Ursynow', 'Wola', 'Zoliborz'], dtype=object)"
      ]
     },
     "execution_count": 15,
     "metadata": {},
     "output_type": "execute_result"
    }
   ],
   "source": [
    "np.unique(y_scaled_pred)"
   ]
  },
  {
   "cell_type": "markdown",
   "metadata": {},
   "source": [
    "Skalowanie zmiennych wywarło duży wpływ (zdecydowanie pozytywny) na jakość predykcji - poprawiło rezultaty względem rozważanych miar, wyeliminowało problem nieuwzględnienia w predykcji połowy klas zmiennej celu."
   ]
  },
  {
   "cell_type": "markdown",
   "metadata": {},
   "source": [
    "### 1.3. Optymalizacja hiperparametrów dla jądra gaussowskiego"
   ]
  },
  {
   "cell_type": "code",
   "execution_count": 16,
   "metadata": {},
   "outputs": [],
   "source": [
    "from scipy.stats import uniform as sp_uniform\n",
    "\n",
    "# Utworzenie siatki hiperparametrów\n",
    "C_range = sp_uniform(scale=10)\n",
    "gamma_range = sp_uniform(scale=1)\n",
    "degree_range = sp_uniform(scale = 20)\n",
    "\n",
    "params1 = {'kernel': ['rbf'],\n",
    "              'C':C_range, \n",
    "              'gamma': gamma_range,\n",
    "              'degree': degree_range\n",
    " }"
   ]
  },
  {
   "cell_type": "code",
   "execution_count": 17,
   "metadata": {},
   "outputs": [
    {
     "name": "stdout",
     "output_type": "stream",
     "text": [
      "Fitting 3 folds for each of 1 candidates, totalling 3 fits\n"
     ]
    },
    {
     "name": "stderr",
     "output_type": "stream",
     "text": [
      "[Parallel(n_jobs=-1)]: Using backend LokyBackend with 8 concurrent workers.\n",
      "[Parallel(n_jobs=-1)]: Done   3 out of   3 | elapsed:    1.0s finished\n"
     ]
    },
    {
     "data": {
      "text/plain": [
       "{'C': 1.3995143199050641,\n",
       " 'degree': 16.131066700773122,\n",
       " 'gamma': 0.9581798185048573,\n",
       " 'kernel': 'rbf'}"
      ]
     },
     "execution_count": 17,
     "metadata": {},
     "output_type": "execute_result"
    }
   ],
   "source": [
    "svm_clsf = svm.SVC()\n",
    "rnd_clsf = RandomizedSearchCV(estimator=svm_clsf,\n",
    "                              param_distributions=params1,\n",
    "                              n_iter=1, \n",
    "                              cv=3,\n",
    "                              n_jobs=-1,\n",
    "                              verbose=2)\n",
    "rnd_clsf.fit(X_scaled_train, y_train) \n",
    "rnd_clsf.best_params_"
   ]
  },
  {
   "cell_type": "code",
   "execution_count": 18,
   "metadata": {},
   "outputs": [],
   "source": [
    "best_clsf = rnd_clsf.best_estimator_\n",
    "best_clsf.fit(X_scaled_train, y_train)\n",
    "best_clsf_pred = best_clsf.predict(X_scaled_test)"
   ]
  },
  {
   "cell_type": "markdown",
   "metadata": {},
   "source": [
    "### Rezultaty"
   ]
  },
  {
   "cell_type": "code",
   "execution_count": 19,
   "metadata": {},
   "outputs": [
    {
     "name": "stdout",
     "output_type": "stream",
     "text": [
      "              precision    recall  f1-score   support\n",
      "\n",
      "      Bemowo      0.167     0.185     0.175        27\n",
      "     Bielany      0.200     0.214     0.207        28\n",
      "     Mokotow      0.200     0.208     0.204        24\n",
      "      Ochota      0.409     0.321     0.360        28\n",
      "       Praga      0.222     0.087     0.125        23\n",
      " Srodmiescie      1.000     0.958     0.979        24\n",
      "       Ursus      0.154     0.167     0.160        24\n",
      "     Ursynow      0.154     0.154     0.154        26\n",
      "        Wola      0.194     0.269     0.226        26\n",
      "    Zoliborz      0.304     0.350     0.326        20\n",
      "\n",
      "    accuracy                          0.288       250\n",
      "   macro avg      0.300     0.291     0.292       250\n",
      "weighted avg      0.297     0.288     0.288       250\n",
      "\n"
     ]
    }
   ],
   "source": [
    "print(metrics.classification_report(y_test, best_clsf_pred, digits=3))"
   ]
  },
  {
   "cell_type": "code",
   "execution_count": 20,
   "metadata": {},
   "outputs": [
    {
     "data": {
      "text/plain": [
       "array(['Bemowo', 'Bielany', 'Mokotow', 'Ochota', 'Praga', 'Srodmiescie',\n",
       "       'Ursus', 'Ursynow', 'Wola', 'Zoliborz'], dtype=object)"
      ]
     },
     "execution_count": 20,
     "metadata": {},
     "output_type": "execute_result"
    }
   ],
   "source": [
    "np.unique(best_clsf_pred)"
   ]
  },
  {
   "cell_type": "markdown",
   "metadata": {},
   "source": [
    "Uwaga!  \n",
    "Należy wziąć pod uwagę fakt, że powyższy estymator wykorzystuje dane przeskalowane (w przeciwnym razie porównanie między estymatorami byłoby niezasadne).    \n",
    "\n",
    "Wbrew intuicji, okazuje się, że w porównaniu z poprzednim estymatorem wyniki precision i recall są w ogólności gorsze, chociaż nie jest to jednoznaczna tendencja. "
   ]
  },
  {
   "cell_type": "markdown",
   "metadata": {},
   "source": [
    "### 1.4. Optymalizacja hiperparametrów z uwzględnieniem innych jąder"
   ]
  },
  {
   "cell_type": "code",
   "execution_count": 21,
   "metadata": {},
   "outputs": [
    {
     "name": "stderr",
     "output_type": "stream",
     "text": [
      "[Parallel(n_jobs=-1)]: Using backend LokyBackend with 8 concurrent workers.\n"
     ]
    },
    {
     "name": "stdout",
     "output_type": "stream",
     "text": [
      "Fitting 3 folds for each of 1 candidates, totalling 3 fits\n"
     ]
    },
    {
     "name": "stderr",
     "output_type": "stream",
     "text": [
      "[Parallel(n_jobs=-1)]: Done   3 out of   3 | elapsed:    0.6s finished\n"
     ]
    },
    {
     "data": {
      "text/plain": [
       "{'C': 0.8855097432789794,\n",
       " 'degree': 11.799699607422635,\n",
       " 'gamma': 0.1292164999154305,\n",
       " 'kernel': 'poly'}"
      ]
     },
     "execution_count": 21,
     "metadata": {},
     "output_type": "execute_result"
    }
   ],
   "source": [
    "params2 = {'kernel': ['linear', 'poly', 'rbf', 'sigmoid'],\n",
    "              'C':C_range, \n",
    "              'gamma': gamma_range,\n",
    "              'degree': degree_range\n",
    " }\n",
    "\n",
    "svm_clsf = svm.SVC()\n",
    "rnd_clsf = RandomizedSearchCV(estimator=svm_clsf,\n",
    "                              param_distributions=params2,\n",
    "                              n_iter=1, \n",
    "                              cv=3,\n",
    "                              n_jobs=-1,\n",
    "                              verbose=2)\n",
    "rnd_clsf.fit(X_scaled_train, y_train) \n",
    "rnd_clsf.best_params_"
   ]
  },
  {
   "cell_type": "code",
   "execution_count": 22,
   "metadata": {},
   "outputs": [],
   "source": [
    "best_clsf = rnd_clsf.best_estimator_\n",
    "best_clsf.fit(X_scaled_train, y_train)\n",
    "best_clsf_pred = best_clsf.predict(X_scaled_test)"
   ]
  },
  {
   "cell_type": "markdown",
   "metadata": {},
   "source": [
    "### Rezultaty"
   ]
  },
  {
   "cell_type": "code",
   "execution_count": 23,
   "metadata": {},
   "outputs": [
    {
     "name": "stdout",
     "output_type": "stream",
     "text": [
      "              precision    recall  f1-score   support\n",
      "\n",
      "      Bemowo      0.000     0.000     0.000        27\n",
      "     Bielany      0.500     0.036     0.067        28\n",
      "     Mokotow      0.250     0.250     0.250        24\n",
      "      Ochota      0.500     0.071     0.125        28\n",
      "       Praga      0.000     0.000     0.000        23\n",
      " Srodmiescie      1.000     0.375     0.545        24\n",
      "       Ursus      0.110     0.917     0.196        24\n",
      "     Ursynow      0.000     0.000     0.000        26\n",
      "        Wola      0.167     0.038     0.062        26\n",
      "    Zoliborz      0.000     0.000     0.000        20\n",
      "\n",
      "    accuracy                          0.164       250\n",
      "   macro avg      0.253     0.169     0.125       250\n",
      "weighted avg      0.260     0.164     0.123       250\n",
      "\n"
     ]
    }
   ],
   "source": [
    "print(metrics.classification_report(y_test, best_clsf_pred, digits=3))"
   ]
  },
  {
   "cell_type": "code",
   "execution_count": 24,
   "metadata": {},
   "outputs": [
    {
     "data": {
      "text/plain": [
       "array(['Bemowo', 'Bielany', 'Mokotow', 'Ochota', 'Praga', 'Srodmiescie',\n",
       "       'Ursus', 'Ursynow', 'Wola', 'Zoliborz'], dtype=object)"
      ]
     },
     "execution_count": 24,
     "metadata": {},
     "output_type": "execute_result"
    }
   ],
   "source": [
    "np.unique(best_clsf_pred)"
   ]
  },
  {
   "cell_type": "markdown",
   "metadata": {},
   "source": [
    "Rezultaty w ogólności gorsze niż w dwóch poprzednich przypadkach.   \n",
    "\n",
    "**Zatem najlepszy wynik, dla zbioru Apartments, uzyskaliśmy dla niestrojonego estymatora na danych skalowanych.**"
   ]
  },
  {
   "cell_type": "markdown",
   "metadata": {},
   "source": [
    "## 2. Zbiór Knugget Chase"
   ]
  },
  {
   "cell_type": "code",
   "execution_count": 25,
   "metadata": {},
   "outputs": [
    {
     "name": "stdout",
     "output_type": "stream",
     "text": [
      "\n",
      " \u001b[1mKnugget Chase dataset:\u001b[0m\n",
      "<class 'pandas.core.frame.DataFrame'>\n",
      "RangeIndex: 194 entries, 0 to 193\n",
      "Data columns (total 40 columns):\n",
      "a         194 non-null int64\n",
      "b         194 non-null int64\n",
      "c         194 non-null int64\n",
      "d         194 non-null int64\n",
      "e         194 non-null int64\n",
      "f         194 non-null int64\n",
      "g         194 non-null int64\n",
      "h         194 non-null float64\n",
      "i         194 non-null int64\n",
      "j         194 non-null float64\n",
      "k         194 non-null int64\n",
      "l         194 non-null float64\n",
      "m         194 non-null int64\n",
      "n         194 non-null int64\n",
      "o         194 non-null float64\n",
      "p         194 non-null int64\n",
      "r         194 non-null int64\n",
      "s         194 non-null int64\n",
      "t         194 non-null float64\n",
      "u         194 non-null float64\n",
      "v         194 non-null float64\n",
      "z         194 non-null float64\n",
      "aa        194 non-null float64\n",
      "ab        194 non-null int64\n",
      "ac        194 non-null float64\n",
      "ad        194 non-null float64\n",
      "ae        194 non-null float64\n",
      "af        194 non-null float64\n",
      "ag        194 non-null int64\n",
      "ah        194 non-null int64\n",
      "ai        194 non-null int64\n",
      "aj        194 non-null float64\n",
      "ak        194 non-null int64\n",
      "al        194 non-null int64\n",
      "am        194 non-null int64\n",
      "an        194 non-null int64\n",
      "ao        194 non-null int64\n",
      "ap        194 non-null float64\n",
      "ar        194 non-null int64\n",
      "target    194 non-null object\n",
      "dtypes: float64(15), int64(24), object(1)\n",
      "memory usage: 60.8+ KB\n"
     ]
    }
   ],
   "source": [
    "print('\\n \\033[1m' + 'Knugget Chase dataset:' + '\\033[0m')\n",
    "knugget_chase.info()"
   ]
  },
  {
   "cell_type": "markdown",
   "metadata": {},
   "source": [
    "Jak wynika z opisu jedyną zmienną nominalną w zbiorze jest zmienna celu, wszystkie pozostałe mają charakter numeryczny.  \n",
    "Dane nie zawierają braków i nie wymagają czyszczenia."
   ]
  },
  {
   "cell_type": "code",
   "execution_count": 26,
   "metadata": {},
   "outputs": [
    {
     "name": "stdout",
     "output_type": "stream",
     "text": [
      "\u001b[1mKnugget Chase dataset:\u001b[0m\n"
     ]
    },
    {
     "data": {
      "text/plain": [
       "N    158\n",
       "Y     36\n",
       "Name: target, dtype: int64"
      ]
     },
     "execution_count": 26,
     "metadata": {},
     "output_type": "execute_result"
    }
   ],
   "source": [
    "# Sprawdzenie liczności i balansu klas predykcyjnych w poszczególnych zbiorach\n",
    "print('\\033[1m' + 'Knugget Chase dataset:' + '\\033[0m')\n",
    "knugget_chase.target.value_counts()"
   ]
  },
  {
   "cell_type": "markdown",
   "metadata": {},
   "source": [
    "Zatem, klasyfikacja ma charakter binarny. Ponadto zmienna celu jest niezbalansowana. Należy to wziąć pod uwagę przy doborze miar względem, których oceniana będzie predykcja."
   ]
  },
  {
   "cell_type": "code",
   "execution_count": 27,
   "metadata": {},
   "outputs": [],
   "source": [
    "# Podział na zbiór treningowy i walidacyjny, analogiczniy jak w poprzednim przypadku.\n",
    "X_train, X_test, y_train, y_test = train_test_split(knugget_chase.drop('target', axis=1), knugget_chase['target'])"
   ]
  },
  {
   "cell_type": "markdown",
   "metadata": {},
   "source": [
    "### 2.1. Dopasowanie SVM"
   ]
  },
  {
   "cell_type": "code",
   "execution_count": 28,
   "metadata": {},
   "outputs": [
    {
     "data": {
      "text/plain": [
       "SVC(C=1.0, break_ties=False, cache_size=200, class_weight=None, coef0=0.0,\n",
       "    decision_function_shape='ovr', degree=3, gamma='scale', kernel='rbf',\n",
       "    max_iter=-1, probability=False, random_state=None, shrinking=True,\n",
       "    tol=0.001, verbose=False)"
      ]
     },
     "execution_count": 28,
     "metadata": {},
     "output_type": "execute_result"
    }
   ],
   "source": [
    "clf = svm.SVC()\n",
    "clf.fit(X_train, y_train)"
   ]
  },
  {
   "cell_type": "code",
   "execution_count": 29,
   "metadata": {},
   "outputs": [],
   "source": [
    "y_pred = clf.predict(X_test)"
   ]
  },
  {
   "cell_type": "markdown",
   "metadata": {},
   "source": [
    "### Rezultaty"
   ]
  },
  {
   "cell_type": "code",
   "execution_count": 30,
   "metadata": {},
   "outputs": [
    {
     "name": "stdout",
     "output_type": "stream",
     "text": [
      "              precision    recall  f1-score   support\n",
      "\n",
      "           N      0.673     1.000     0.805        33\n",
      "           Y      0.000     0.000     0.000        16\n",
      "\n",
      "    accuracy                          0.673        49\n",
      "   macro avg      0.337     0.500     0.402        49\n",
      "weighted avg      0.454     0.673     0.542        49\n",
      "\n"
     ]
    }
   ],
   "source": [
    "print(metrics.classification_report(y_test, y_pred, digits=3))"
   ]
  },
  {
   "cell_type": "markdown",
   "metadata": {},
   "source": [
    "Dane są niezbalandowane, dlatego do oceny jakości estymatora bardziej wartościowe od accuracy są miary precision i recall. Nie mniej jednak dla zachowania konsekwencji w obrębie raportu za każdym razem uwzględniam ją w sekcji z wynikami.  \n",
    "Dla powyższego estymatora zauważalna jest duża rozbieżność wyników. Precision znacznie odbiega od recall, które w efekcie, sztucznie zawyża F1."
   ]
  },
  {
   "cell_type": "markdown",
   "metadata": {},
   "source": [
    "### 2.2. Skalowanie"
   ]
  },
  {
   "cell_type": "code",
   "execution_count": 31,
   "metadata": {},
   "outputs": [],
   "source": [
    "# Kolumny z danymi numerycznymi\n",
    "num = knugget_chase.select_dtypes(include=['float64', 'int']).columns\n",
    "# Skalowanie danych numerycznych\n",
    "scaler = StandardScaler()\n",
    "knugget_chase[num] = scaler.fit_transform(knugget_chase[num])"
   ]
  },
  {
   "cell_type": "code",
   "execution_count": 32,
   "metadata": {},
   "outputs": [],
   "source": [
    "# Podział na zbiory testowy i walidacyjny\n",
    "X_scaled_train, X_scaled_test, y_train, y_test = train_test_split(knugget_chase.drop('target', axis=1), knugget_chase['target'])"
   ]
  },
  {
   "cell_type": "code",
   "execution_count": 33,
   "metadata": {},
   "outputs": [
    {
     "data": {
      "text/plain": [
       "SVC(C=1.0, break_ties=False, cache_size=200, class_weight=None, coef0=0.0,\n",
       "    decision_function_shape='ovr', degree=3, gamma='scale', kernel='rbf',\n",
       "    max_iter=-1, probability=False, random_state=None, shrinking=True,\n",
       "    tol=0.001, verbose=False)"
      ]
     },
     "execution_count": 33,
     "metadata": {},
     "output_type": "execute_result"
    }
   ],
   "source": [
    "clf_scaled = svm.SVC()\n",
    "clf_scaled.fit(X_scaled_train, y_train)"
   ]
  },
  {
   "cell_type": "code",
   "execution_count": 34,
   "metadata": {},
   "outputs": [],
   "source": [
    "y_scaled_pred = clf_scaled.predict(X_scaled_test)"
   ]
  },
  {
   "cell_type": "markdown",
   "metadata": {},
   "source": [
    "### Rezultaty"
   ]
  },
  {
   "cell_type": "code",
   "execution_count": 35,
   "metadata": {},
   "outputs": [
    {
     "name": "stdout",
     "output_type": "stream",
     "text": [
      "              precision    recall  f1-score   support\n",
      "\n",
      "           N      0.816     1.000     0.899        40\n",
      "           Y      0.000     0.000     0.000         9\n",
      "\n",
      "    accuracy                          0.816        49\n",
      "   macro avg      0.408     0.500     0.449        49\n",
      "weighted avg      0.666     0.816     0.734        49\n",
      "\n"
     ]
    }
   ],
   "source": [
    "print(metrics.classification_report(y_test, y_scaled_pred, digits=3))"
   ]
  },
  {
   "cell_type": "markdown",
   "metadata": {},
   "source": [
    "W wyniku skalowania zmiennych, wyniki ponownie uległy znacznej poprawie - doszło do znacznego podwyższenia precision przy zachowaniu rezultatu recall. "
   ]
  },
  {
   "cell_type": "markdown",
   "metadata": {},
   "source": [
    "### 2.3. Optymalizacja hiperparametrów dla jądra gaussowskiego"
   ]
  },
  {
   "cell_type": "code",
   "execution_count": 120,
   "metadata": {},
   "outputs": [
    {
     "name": "stdout",
     "output_type": "stream",
     "text": [
      "Fitting 3 folds for each of 1 candidates, totalling 3 fits\n"
     ]
    },
    {
     "name": "stderr",
     "output_type": "stream",
     "text": [
      "[Parallel(n_jobs=-1)]: Using backend LokyBackend with 8 concurrent workers.\n",
      "[Parallel(n_jobs=-1)]: Done   3 out of   3 | elapsed:    0.0s finished\n"
     ]
    },
    {
     "data": {
      "text/plain": [
       "{'C': 2.205710171010927,\n",
       " 'degree': 17.248117945818485,\n",
       " 'gamma': 0.91146646662787,\n",
       " 'kernel': 'rbf'}"
      ]
     },
     "execution_count": 120,
     "metadata": {},
     "output_type": "execute_result"
    }
   ],
   "source": [
    "svm_clsf = svm.SVC()\n",
    "rnd_clsf = RandomizedSearchCV(estimator=svm_clsf,\n",
    "                              param_distributions=params1,\n",
    "                              n_iter=1, \n",
    "                              cv=3,\n",
    "                              n_jobs=-1,\n",
    "                              verbose=2)\n",
    "rnd_clsf.fit(X_scaled_train, y_train)\n",
    "rnd_clsf.best_params_"
   ]
  },
  {
   "cell_type": "code",
   "execution_count": 121,
   "metadata": {},
   "outputs": [],
   "source": [
    "best_clsf = rnd_clsf.best_estimator_\n",
    "best_clsf.fit(X_scaled_train, y_train)\n",
    "best_clsf_pred = best_clsf.predict(X_scaled_test)"
   ]
  },
  {
   "cell_type": "markdown",
   "metadata": {},
   "source": [
    "### Rezultaty"
   ]
  },
  {
   "cell_type": "code",
   "execution_count": 122,
   "metadata": {},
   "outputs": [
    {
     "name": "stdout",
     "output_type": "stream",
     "text": [
      "              precision    recall  f1-score   support\n",
      "\n",
      "           N      0.816     1.000     0.899        40\n",
      "           Y      0.000     0.000     0.000         9\n",
      "\n",
      "    accuracy                          0.816        49\n",
      "   macro avg      0.408     0.500     0.449        49\n",
      "weighted avg      0.666     0.816     0.734        49\n",
      "\n"
     ]
    }
   ],
   "source": [
    "print(metrics.classification_report(y_test, best_clsf_pred, digits=3))"
   ]
  },
  {
   "cell_type": "markdown",
   "metadata": {},
   "source": [
    "Analogicznie jak w dla poprzedniego zbioru, estymator strojony korzysta z danych skalowanych.  \n",
    "W tym przypadku jednak, inaczej niż poprzednio strojenie nie zmieniło rezultatów.  \n",
    "Mając w świadomości losowość strojenia, wielokrotnie je powtórzyłam i powyższy wynik, jednakowy jak bez strojenia, jest najlepszym spośród uzyskanych."
   ]
  },
  {
   "cell_type": "markdown",
   "metadata": {},
   "source": [
    "### 2.4. Optymalizacja hiperparametrów z uwzględnieniem innych jąder"
   ]
  },
  {
   "cell_type": "code",
   "execution_count": 132,
   "metadata": {},
   "outputs": [
    {
     "name": "stdout",
     "output_type": "stream",
     "text": [
      "Fitting 3 folds for each of 1 candidates, totalling 3 fits\n"
     ]
    },
    {
     "name": "stderr",
     "output_type": "stream",
     "text": [
      "[Parallel(n_jobs=-1)]: Using backend LokyBackend with 8 concurrent workers.\n",
      "[Parallel(n_jobs=-1)]: Done   3 out of   3 | elapsed:    0.0s finished\n"
     ]
    },
    {
     "data": {
      "text/plain": [
       "{'C': 3.380000380848366,\n",
       " 'degree': 7.369063458939699,\n",
       " 'gamma': 0.7695895209567643,\n",
       " 'kernel': 'poly'}"
      ]
     },
     "execution_count": 132,
     "metadata": {},
     "output_type": "execute_result"
    }
   ],
   "source": [
    "svm_clsf = svm.SVC()\n",
    "rnd_clsf = RandomizedSearchCV(estimator=svm_clsf,\n",
    "                              param_distributions=params2,\n",
    "                              n_iter=1, \n",
    "                              cv=3,\n",
    "                              n_jobs=-1,\n",
    "                              verbose=2)\n",
    "rnd_clsf.fit(X_scaled_train, y_train) \n",
    "rnd_clsf.best_params_"
   ]
  },
  {
   "cell_type": "code",
   "execution_count": 133,
   "metadata": {},
   "outputs": [],
   "source": [
    "best_clsf = rnd_clsf.best_estimator_\n",
    "best_clsf.fit(X_scaled_train, y_train)\n",
    "best_clsf_pred = best_clsf.predict(X_scaled_test)"
   ]
  },
  {
   "cell_type": "markdown",
   "metadata": {},
   "source": [
    "### Rezultaty"
   ]
  },
  {
   "cell_type": "code",
   "execution_count": 134,
   "metadata": {},
   "outputs": [
    {
     "name": "stdout",
     "output_type": "stream",
     "text": [
      "              precision    recall  f1-score   support\n",
      "\n",
      "           N      0.860     0.925     0.892        40\n",
      "           Y      0.500     0.333     0.400         9\n",
      "\n",
      "    accuracy                          0.816        49\n",
      "   macro avg      0.680     0.629     0.646        49\n",
      "weighted avg      0.794     0.816     0.801        49\n",
      "\n"
     ]
    }
   ],
   "source": [
    "print(metrics.classification_report(y_test, best_clsf_pred, digits=3))"
   ]
  },
  {
   "cell_type": "markdown",
   "metadata": {},
   "source": [
    "Wyniki w ogólności gorsze niż uzyskane dla dwóch poprzednich estymatorów.  \n",
    "  \n",
    "**Najlepsze rezultaty, dla zbioru Knugget Chase, uzyskano dla dla niestrojonego estymatora oraz strojonego estymatora o jądrze gaussowskim wykorzystujących dane skalowane**.  "
   ]
  }
 ],
 "metadata": {
  "kernelspec": {
   "display_name": "Python 3",
   "language": "python",
   "name": "python3"
  },
  "language_info": {
   "codemirror_mode": {
    "name": "ipython",
    "version": 3
   },
   "file_extension": ".py",
   "mimetype": "text/x-python",
   "name": "python",
   "nbconvert_exporter": "python",
   "pygments_lexer": "ipython3",
   "version": "3.7.6"
  }
 },
 "nbformat": 4,
 "nbformat_minor": 4
}
