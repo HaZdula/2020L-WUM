{
  "nbformat": 4,
  "nbformat_minor": 0,
  "metadata": {
    "colab": {
      "name": "PracaDomowa4.ipynb",
      "provenance": [],
      "toc_visible": true
    },
    "kernelspec": {
      "name": "python3",
      "display_name": "Python 3"
    }
  },
  "cells": [
    {
      "cell_type": "markdown",
      "metadata": {
        "id": "K9sTVziSNWpj",
        "colab_type": "text"
      },
      "source": [
        "# Praca domowa 4\n",
        "\n",
        "Autor: Paulina Przybyłek\n",
        "\n",
        "## Wczytanie pakietów i opis pracy "
      ]
    },
    {
      "cell_type": "code",
      "metadata": {
        "id": "v9fDpItdLRQM",
        "colab_type": "code",
        "colab": {}
      },
      "source": [
        "import pandas as pd\n",
        "import numpy as np\n",
        "import seaborn as sns\n",
        "#!pip install category_encoders\n",
        "import category_encoders as ce\n",
        "#!pip install rdata\n",
        "import rdata\n",
        "import sklearn\n",
        "from sklearn.model_selection import GridSearchCV, RandomizedSearchCV, train_test_split, cross_val_score, KFold\n",
        "from sklearn import preprocessing\n",
        "from sklearn.metrics import balanced_accuracy_score, plot_precision_recall_curve, precision_score, recall_score, matthews_corrcoef\n",
        "from sklearn.svm import LinearSVC, SVC\n",
        "from sklearn.pipeline import Pipeline, make_pipeline\n",
        "import warnings\n",
        "warnings.filterwarnings('ignore')"
      ],
      "execution_count": 0,
      "outputs": []
    },
    {
      "cell_type": "markdown",
      "metadata": {
        "id": "79wv4zQgV-TW",
        "colab_type": "text"
      },
      "source": [
        "Zadanie polega na przetestowaniu algorytmu SVM na dwóch zbiorach danych:\n",
        "* apartments z R-owego pakietu DALEX\n",
        "* dowolnego wybranego zbioru - (informacja o tym jaki to zbiór)\n",
        "\n",
        "i sprawdzeniu jaki wpływ ma standaryzacja/skalowanie danych na na jakość tego algorytmu. Dodatkowo w celu polepszenia działania algorytmu wykonane ma zostać strojenie hiperparametrów.\n",
        "\n",
        "## Zbiór I - apartments (DALEX)"
      ]
    },
    {
      "cell_type": "markdown",
      "metadata": {
        "id": "n7QbpCdbZVmH",
        "colab_type": "text"
      },
      "source": [
        "### Wczytanie zbioru, krótka analiza i podział na zbiór treningowy i testowy\n",
        "\n",
        "Zbiór **apartments** został pobrany z repozytorium pakietu."
      ]
    },
    {
      "cell_type": "code",
      "metadata": {
        "id": "5Zh5D6n4V9sX",
        "colab_type": "code",
        "colab": {}
      },
      "source": [
        "parsed = rdata.parser.parse_file('apartments.rda')\n",
        "converted = rdata.conversion.convert(parsed)\n",
        "apartments = converted['apartments']"
      ],
      "execution_count": 0,
      "outputs": []
    },
    {
      "cell_type": "code",
      "metadata": {
        "id": "hNShz7wbQcA2",
        "colab_type": "code",
        "outputId": "a4ae06ad-d78f-4939-a4c7-a7dfde35e21b",
        "colab": {
          "base_uri": "https://localhost:8080/",
          "height": 202
        }
      },
      "source": [
        "apartments.head()"
      ],
      "execution_count": 4,
      "outputs": [
        {
          "output_type": "execute_result",
          "data": {
            "text/html": [
              "<div>\n",
              "<style scoped>\n",
              "    .dataframe tbody tr th:only-of-type {\n",
              "        vertical-align: middle;\n",
              "    }\n",
              "\n",
              "    .dataframe tbody tr th {\n",
              "        vertical-align: top;\n",
              "    }\n",
              "\n",
              "    .dataframe thead th {\n",
              "        text-align: right;\n",
              "    }\n",
              "</style>\n",
              "<table border=\"1\" class=\"dataframe\">\n",
              "  <thead>\n",
              "    <tr style=\"text-align: right;\">\n",
              "      <th></th>\n",
              "      <th>m2.price</th>\n",
              "      <th>construction.year</th>\n",
              "      <th>surface</th>\n",
              "      <th>floor</th>\n",
              "      <th>no.rooms</th>\n",
              "      <th>district</th>\n",
              "    </tr>\n",
              "  </thead>\n",
              "  <tbody>\n",
              "    <tr>\n",
              "      <th>0</th>\n",
              "      <td>5897.0</td>\n",
              "      <td>1953.0</td>\n",
              "      <td>25.0</td>\n",
              "      <td>3</td>\n",
              "      <td>1.0</td>\n",
              "      <td>Srodmiescie</td>\n",
              "    </tr>\n",
              "    <tr>\n",
              "      <th>1</th>\n",
              "      <td>1818.0</td>\n",
              "      <td>1992.0</td>\n",
              "      <td>143.0</td>\n",
              "      <td>9</td>\n",
              "      <td>5.0</td>\n",
              "      <td>Bielany</td>\n",
              "    </tr>\n",
              "    <tr>\n",
              "      <th>2</th>\n",
              "      <td>3643.0</td>\n",
              "      <td>1937.0</td>\n",
              "      <td>56.0</td>\n",
              "      <td>1</td>\n",
              "      <td>2.0</td>\n",
              "      <td>Praga</td>\n",
              "    </tr>\n",
              "    <tr>\n",
              "      <th>3</th>\n",
              "      <td>3517.0</td>\n",
              "      <td>1995.0</td>\n",
              "      <td>93.0</td>\n",
              "      <td>7</td>\n",
              "      <td>3.0</td>\n",
              "      <td>Ochota</td>\n",
              "    </tr>\n",
              "    <tr>\n",
              "      <th>4</th>\n",
              "      <td>3013.0</td>\n",
              "      <td>1992.0</td>\n",
              "      <td>144.0</td>\n",
              "      <td>6</td>\n",
              "      <td>5.0</td>\n",
              "      <td>Mokotow</td>\n",
              "    </tr>\n",
              "  </tbody>\n",
              "</table>\n",
              "</div>"
            ],
            "text/plain": [
              "   m2.price  construction.year  surface  floor  no.rooms     district\n",
              "0    5897.0             1953.0     25.0      3       1.0  Srodmiescie\n",
              "1    1818.0             1992.0    143.0      9       5.0      Bielany\n",
              "2    3643.0             1937.0     56.0      1       2.0        Praga\n",
              "3    3517.0             1995.0     93.0      7       3.0       Ochota\n",
              "4    3013.0             1992.0    144.0      6       5.0      Mokotow"
            ]
          },
          "metadata": {
            "tags": []
          },
          "execution_count": 4
        }
      ]
    },
    {
      "cell_type": "markdown",
      "metadata": {
        "id": "nHZiphNpZinZ",
        "colab_type": "text"
      },
      "source": [
        "Jak widać mamy sześć kolumn, 5 numerycznych i 1 kategoryczną, przyjrzyjmy się jeszcze szegółom zbioru."
      ]
    },
    {
      "cell_type": "code",
      "metadata": {
        "id": "irYQ7FDsZi_4",
        "colab_type": "code",
        "outputId": "e0d4e64e-ebac-4ce0-faae-e2d9d3358116",
        "colab": {
          "base_uri": "https://localhost:8080/",
          "height": 267
        }
      },
      "source": [
        "apartments.info()"
      ],
      "execution_count": 5,
      "outputs": [
        {
          "output_type": "stream",
          "text": [
            "<class 'pandas.core.frame.DataFrame'>\n",
            "RangeIndex: 1000 entries, 0 to 999\n",
            "Data columns (total 6 columns):\n",
            " #   Column             Non-Null Count  Dtype   \n",
            "---  ------             --------------  -----   \n",
            " 0   m2.price           1000 non-null   float64 \n",
            " 1   construction.year  1000 non-null   float64 \n",
            " 2   surface            1000 non-null   float64 \n",
            " 3   floor              1000 non-null   int64   \n",
            " 4   no.rooms           1000 non-null   float64 \n",
            " 5   district           1000 non-null   category\n",
            "dtypes: category(1), float64(4), int64(1)\n",
            "memory usage: 40.6 KB\n"
          ],
          "name": "stdout"
        }
      ]
    },
    {
      "cell_type": "markdown",
      "metadata": {
        "id": "ZOUvHyYzZyhS",
        "colab_type": "text"
      },
      "source": [
        "Nie mamy brakujących wartości, a district uznajemy za zmienną celu (problem klasyfikacji), jednak musimy ją zakodować zanim przejdziemy do modelowania. Nie będziemy dalej przeprowadzać EDA, gdyż zadanie tego nie wymaga, dlatego przejdziemy od razu do zakodowania targetu i podziału danych na testowy i treningowy zbiór."
      ]
    },
    {
      "cell_type": "code",
      "metadata": {
        "id": "qlI4jm1baM-v",
        "colab_type": "code",
        "colab": {}
      },
      "source": [
        "def dataPreparing(data, target):\n",
        "  \"\"\"\n",
        "  Funkcja koduje target i zwraca podzielony zbiór na treningowy i testowy z wydzieleniem targetu.\n",
        "  \"\"\"\n",
        "  # dzielimy zbiór na dwie części - z i bez kolumny targetu, target kodujemy z wykorzystaniem LabelEncoder\n",
        "  le = preprocessing.LabelEncoder()\n",
        "  y = np.array(data[target])\n",
        "  y = le.fit_transform(y)\n",
        "  X = data.drop([target],axis=1)\n",
        "  # podział na zbiór treningowy i testowy\n",
        "  return train_test_split(X, y, test_size=0.2, random_state=123)\n",
        "\n",
        "data_train, data_test, target_train, target_test = dataPreparing(apartments, 'district')"
      ],
      "execution_count": 0,
      "outputs": []
    },
    {
      "cell_type": "code",
      "metadata": {
        "id": "UHGblcEBX298",
        "colab_type": "code",
        "outputId": "fe1d2839-9d37-42bc-d7f3-b42a0f83678e",
        "colab": {
          "base_uri": "https://localhost:8080/",
          "height": 314
        }
      },
      "source": [
        "# zobaczmy czy zbiór jest zbalansowany\n",
        "def targetPlot(data, target):\n",
        "  pl = sns.countplot(x=target, data=data, palette='RdBu')\n",
        "  pl.set_ylabel('')\n",
        "  pl.set_title('Proporcje zmiennej celu')\n",
        "  return pl\n",
        "\n",
        "targetPlot(apartments, 'district')"
      ],
      "execution_count": 7,
      "outputs": [
        {
          "output_type": "execute_result",
          "data": {
            "text/plain": [
              "<matplotlib.axes._subplots.AxesSubplot at 0x7f7a321b86a0>"
            ]
          },
          "metadata": {
            "tags": []
          },
          "execution_count": 7
        },
        {
          "output_type": "display_data",
          "data": {
            "image/png": "[encoded data removed]",
            "text/plain": [
              "<Figure size 432x288 with 1 Axes>"
            ]
          },
          "metadata": {
            "tags": [],
            "needs_background": "light"
          }
        }
      ]
    },
    {
      "cell_type": "markdown",
      "metadata": {
        "id": "2qZ8_UF7YHEd",
        "colab_type": "text"
      },
      "source": [
        "Powyższy wykres został dodany, aby sprawdzić czy dane są zbalansowane czy też nie - jak widzimy są, dlatego możemy używać różnych miar nie martwiąc się o to czy dobrze działają na niezbalansowanych zbiorach."
      ]
    },
    {
      "cell_type": "markdown",
      "metadata": {
        "id": "ei-T4qh_ezFG",
        "colab_type": "text"
      },
      "source": [
        "Mamy kilka dzielnic warszawskich w zmiennej celu (dokładnie 10) i są one zakodowe od 0 do 9. Mając podzielony zbiór możemy teraz przejść do trenowania algorytmu.\n",
        "\n",
        "### Modelowanie\n",
        "\n",
        "Najpierw sprawdzimy jak sprawdza się algorytm przy defaultowych parametrach dla zbioru. Wybierzemy model SVC z pakietu sklearn.svm, który nie ma ustawionego skalowania i będziemy mogli zmieniać jądro. Potem zoptymalizujemy parametry modelu. Dodatkowo powtórzymy zabieg dla danych po skalowaniu. Wyniki porównamy przy wykorzystaniu zbalansowanego accuracy (które w tym przypadku będzie działać podobnie jak accuracy, gdyż zbiór jest zbalansowany)."
      ]
    },
    {
      "cell_type": "code",
      "metadata": {
        "id": "nXNzyuVEto2h",
        "colab_type": "code",
        "outputId": "6429ea62-7bb5-46c0-a53a-615c699f9273",
        "colab": {
          "base_uri": "https://localhost:8080/",
          "height": 248
        }
      },
      "source": [
        "# tworzymy funkcję pomocniczą badającą wpływ standaryzacji na wyniki\n",
        "def examineTransformingInfluence(model, name, score):\n",
        "    \"\"\"\n",
        "    Funkcja wykorzystuje kroswalidację oraz zwraca średni wynik oraz odchylenie standardowe dla zbioru treningowego bez \n",
        "    transformacji oraz dla zbioru po standaryzacji. Stosowaną miarę i algorytm do modelowania podajemy w argumentach funkcji.\n",
        "    \"\"\"\n",
        "    standarizer = preprocessing.StandardScaler()\n",
        "    standarizing_pipeline = make_pipeline(standarizer, model)\n",
        "    CVscores_no_transform = cross_val_score(model, data_train, target_train, cv = KFold(5), scoring=score)\n",
        "    CVscores_standarization = cross_val_score(standarizing_pipeline, data_train, target_train, cv = KFold(5), scoring=score)\n",
        "    print(name + \":\")\n",
        "    print('Średnia wyników bez transformacji: {0:.4f}, odchylenie standardowe: {1:.4f}'.format(CVscores_no_transform.mean(), CVscores_no_transform.std()))\n",
        "    print('Średnia wyników po standaryzacji: {0:.4f}, odchylenie standardowe: {1:.4f}'.format(CVscores_standarization.mean(), CVscores_standarization.std()))\n",
        "\n",
        "# sprawdzimy różne jądra\n",
        "svc_rbf = SVC(random_state = 0)\n",
        "svc_linear = SVC(kernel = 'linear', random_state = 0)\n",
        "svc_poly = SVC(kernel = 'poly', random_state = 0)\n",
        "svc_sigmoid = SVC(kernel = 'sigmoid', random_state = 0)\n",
        "\n",
        "# ustwiamy zbalansowane accuracy jako naszą miarę do podania funkcji\n",
        "balanced_accuracy = sklearn.metrics.make_scorer(balanced_accuracy_score)\n",
        "\n",
        "examineTransformingInfluence(svc_rbf, 'SVC with rbf kernel', balanced_accuracy)\n",
        "examineTransformingInfluence(svc_linear, 'SVC with linear kernel', balanced_accuracy)\n",
        "examineTransformingInfluence(svc_poly, 'SVC with poly kernel', balanced_accuracy)\n",
        "examineTransformingInfluence(svc_sigmoid, 'SVC with sigmoid kernel', balanced_accuracy)"
      ],
      "execution_count": 8,
      "outputs": [
        {
          "output_type": "stream",
          "text": [
            "SVC with rbf kernel:\n",
            "Średnia wyników bez transformacji: 0.2130, odchylenie standardowe: 0.0241\n",
            "Średnia wyników po standaryzacji: 0.3067, odchylenie standardowe: 0.0097\n",
            "SVC with linear kernel:\n",
            "Średnia wyników bez transformacji: 0.2915, odchylenie standardowe: 0.0159\n",
            "Średnia wyników po standaryzacji: 0.2953, odchylenie standardowe: 0.0176\n",
            "SVC with poly kernel:\n",
            "Średnia wyników bez transformacji: 0.2165, odchylenie standardowe: 0.0232\n",
            "Średnia wyników po standaryzacji: 0.2927, odchylenie standardowe: 0.0234\n",
            "SVC with sigmoid kernel:\n",
            "Średnia wyników bez transformacji: 0.0250, odchylenie standardowe: 0.0081\n",
            "Średnia wyników po standaryzacji: 0.2170, odchylenie standardowe: 0.0198\n"
          ],
          "name": "stdout"
        }
      ]
    },
    {
      "cell_type": "markdown",
      "metadata": {
        "id": "ylj5msjI8zgz",
        "colab_type": "text"
      },
      "source": [
        "Testowaliśmy różne jądra jakie posiada algorytm (najdłużej liczyło się dla jądra liniowego, jednak bez dokładnych testów to tylko moja obserwacja). W tym przypadku najlepsze wyniki zostały uzyskane dla rbf - Radialna funkcja bazowa (Radial basis function), jądro gaussowskie; natomiast największa różnica zmiany względem skalowania osiągnęło jądro sigmoidalne. Jednak można zauważyć, że wszystkie wyniki nie są najlepsze, a nawet pokusić się o stwierdzenie, że są bardzo słabe. Standaryzacja nieco polepsza jakość wyników, jednak nadal nie jest to dobre przewidywanie.\n",
        "\n",
        "Skoro trudno zaprzeczyć, że skalowanie nic nie daje to przetestujmy to raz jeszcze, ale tym razem na zbiorze testowym i z pominięciem kroswalidacji.\n"
      ]
    },
    {
      "cell_type": "code",
      "metadata": {
        "id": "qwYtID_-SB0J",
        "colab_type": "code",
        "colab": {}
      },
      "source": [
        "def metrics_mcc_balacc(target_pred):\n",
        "  \"\"\"\n",
        "  Funkcja oblicza MCC i zbalansowane accuracy dal wyników predykcji klas\n",
        "  \"\"\"\n",
        "  mcc = matthews_corrcoef(target_test, target_pred)\n",
        "  balacc = balanced_accuracy_score(target_test, target_pred)\n",
        "  return mcc, balacc"
      ],
      "execution_count": 0,
      "outputs": []
    },
    {
      "cell_type": "code",
      "metadata": {
        "id": "SAo5eQpKoYNH",
        "colab_type": "code",
        "colab": {}
      },
      "source": [
        " def dataModeling():\n",
        "   \"\"\"\n",
        "   Funkcja dopasowuje model dla danych bez transformacji i dla skalowanych, zwraca ramke z wynikami\n",
        "   \"\"\"\n",
        "   # sprawdzimy różne jądra jak poprzednio\n",
        "   svc_rbf = SVC(random_state = 0)\n",
        "   svc_linear = SVC(kernel = 'linear', random_state = 0)\n",
        "   svc_poly = SVC(kernel = 'poly', random_state = 0)\n",
        "   svc_sigmoid = SVC(kernel = 'sigmoid', random_state = 0)\n",
        "   models = [svc_rbf, svc_linear, svc_poly, svc_sigmoid]\n",
        "\n",
        "   # skalowanie danych\n",
        "   std_scaler = preprocessing.StandardScaler()\n",
        "   data_train_scaler = std_scaler.fit_transform(data_train) \n",
        "   data_test_scaler = std_scaler.transform(data_test)\n",
        "\n",
        "   MCC = []\n",
        "   BalAcc = []\n",
        "   for model_svm in models:\n",
        "\n",
        "     # trenowanie modelu\n",
        "     model_svm.fit(data_train, target_train)\n",
        "     # predykcja klas\n",
        "     predict_class_svm = model_svm.predict(data_test)\n",
        "     # miary\n",
        "     m1, balacc1 = metrics_mcc_balacc(predict_class_svm)\n",
        "     MCC.append(m1)\n",
        "     BalAcc.append(balacc1)\n",
        "\n",
        "     # to samo dla skalowanego zbioru\n",
        "     model_svm.fit(data_train_scaler, target_train)\n",
        "     predict_class_svm_scaler = model_svm.predict(data_test_scaler)\n",
        "     m2, balacc2 = metrics_mcc_balacc(predict_class_svm_scaler)\n",
        "     MCC.append(m2)\n",
        "     BalAcc.append(balacc2)\n",
        "\n",
        "   return pd.DataFrame({'kernel SVC':['rbf', 'rbf with standard scaler', 'linear', 'linear with standard scaler', 'poly', 'poly with standard scaler', 'sigmoid', 'sigmoid with standard scaler'],\n",
        "             'MCC': MCC, 'balanced accuracy': BalAcc})\n",
        "   "
      ],
      "execution_count": 0,
      "outputs": []
    },
    {
      "cell_type": "code",
      "metadata": {
        "id": "WPomV4Lal7s0",
        "colab_type": "code",
        "outputId": "0e90ab17-84f2-43f2-b68c-5be2c08beb29",
        "colab": {
          "base_uri": "https://localhost:8080/",
          "height": 295
        }
      },
      "source": [
        "test_metrics = dataModeling()\n",
        "test_metrics"
      ],
      "execution_count": 11,
      "outputs": [
        {
          "output_type": "execute_result",
          "data": {
            "text/html": [
              "<div>\n",
              "<style scoped>\n",
              "    .dataframe tbody tr th:only-of-type {\n",
              "        vertical-align: middle;\n",
              "    }\n",
              "\n",
              "    .dataframe tbody tr th {\n",
              "        vertical-align: top;\n",
              "    }\n",
              "\n",
              "    .dataframe thead th {\n",
              "        text-align: right;\n",
              "    }\n",
              "</style>\n",
              "<table border=\"1\" class=\"dataframe\">\n",
              "  <thead>\n",
              "    <tr style=\"text-align: right;\">\n",
              "      <th></th>\n",
              "      <th>kernel SVC</th>\n",
              "      <th>MCC</th>\n",
              "      <th>balanced accuracy</th>\n",
              "    </tr>\n",
              "  </thead>\n",
              "  <tbody>\n",
              "    <tr>\n",
              "      <th>0</th>\n",
              "      <td>rbf</td>\n",
              "      <td>0.128355</td>\n",
              "      <td>0.209069</td>\n",
              "    </tr>\n",
              "    <tr>\n",
              "      <th>1</th>\n",
              "      <td>rbf with standard scaler</td>\n",
              "      <td>0.236763</td>\n",
              "      <td>0.314350</td>\n",
              "    </tr>\n",
              "    <tr>\n",
              "      <th>2</th>\n",
              "      <td>linear</td>\n",
              "      <td>0.208815</td>\n",
              "      <td>0.282896</td>\n",
              "    </tr>\n",
              "    <tr>\n",
              "      <th>3</th>\n",
              "      <td>linear with standard scaler</td>\n",
              "      <td>0.208939</td>\n",
              "      <td>0.286293</td>\n",
              "    </tr>\n",
              "    <tr>\n",
              "      <th>4</th>\n",
              "      <td>poly</td>\n",
              "      <td>0.134398</td>\n",
              "      <td>0.211777</td>\n",
              "    </tr>\n",
              "    <tr>\n",
              "      <th>5</th>\n",
              "      <td>poly with standard scaler</td>\n",
              "      <td>0.170635</td>\n",
              "      <td>0.256737</td>\n",
              "    </tr>\n",
              "    <tr>\n",
              "      <th>6</th>\n",
              "      <td>sigmoid</td>\n",
              "      <td>-0.110584</td>\n",
              "      <td>0.025000</td>\n",
              "    </tr>\n",
              "    <tr>\n",
              "      <th>7</th>\n",
              "      <td>sigmoid with standard scaler</td>\n",
              "      <td>0.130291</td>\n",
              "      <td>0.219476</td>\n",
              "    </tr>\n",
              "  </tbody>\n",
              "</table>\n",
              "</div>"
            ],
            "text/plain": [
              "                     kernel SVC       MCC  balanced accuracy\n",
              "0                           rbf  0.128355           0.209069\n",
              "1      rbf with standard scaler  0.236763           0.314350\n",
              "2                        linear  0.208815           0.282896\n",
              "3   linear with standard scaler  0.208939           0.286293\n",
              "4                          poly  0.134398           0.211777\n",
              "5     poly with standard scaler  0.170635           0.256737\n",
              "6                       sigmoid -0.110584           0.025000\n",
              "7  sigmoid with standard scaler  0.130291           0.219476"
            ]
          },
          "metadata": {
            "tags": []
          },
          "execution_count": 11
        }
      ]
    },
    {
      "cell_type": "markdown",
      "metadata": {
        "id": "vQxDFYdqXGKU",
        "colab_type": "text"
      },
      "source": [
        "Zbiór mamy zbalansowany, jednak wolałam uzywać miar dobrych też dla zbiorów niezbalansowanych, aby przy kolejnym zbiorze wykorzystać tę samą funkcję. Zbalansowane accuracy działa jak accuracy przy zbalansowanych danych, a współczynnik korelacji Matthewsa (MCC) jest miarą w zakresie -1 do 1, gdzie najlepiej to 1, a 0 oznacza średnią jakość. \n",
        "\n",
        "Przyglądając się wynikom w tabeli widzimy, że we wszystkich przypadkach skalowanie dało lepsze wyniki (chociaż minimalnie jak przy liniowym jądrze). Najlepszym jądrem okazało się gaussowskie jak ostatnio, a największa różnica względems skalowania jest znowu przy sigmoidalnym, więc wnioski są takie same."
      ]
    },
    {
      "cell_type": "markdown",
      "metadata": {
        "id": "Mm8O2G2FduMz",
        "colab_type": "text"
      },
      "source": [
        "### Skalowanie danych - wnioski\n",
        "\n",
        "Artykuł jak i moje poprzednie zabiegi na danych pokazują jednoznacznie, że skalowanie zmiennych jest dobrym zabiegiem i przynosi korzyść algorytmowi SVM. Brak skalowania rzeczywiście poważnie obniża wynik przy jądrze sigmoidalnym. Zastowałam standaryzację, co jest częste i przynosi dobre korzyści (jeśli dane nie są rzadkie) wedle artykułu. Dlatego też, chciałabym już od tego momentu optymalizować parametry tylko dla danych poddanych standaryzacji."
      ]
    },
    {
      "cell_type": "code",
      "metadata": {
        "id": "9NS8vdafWvdH",
        "colab_type": "code",
        "colab": {}
      },
      "source": [
        "# skalowanie danych już na stałe\n",
        "std_scaler = preprocessing.StandardScaler()\n",
        "data_train = std_scaler.fit_transform(data_train) \n",
        "data_test = std_scaler.transform(data_test)"
      ],
      "execution_count": 0,
      "outputs": []
    },
    {
      "cell_type": "markdown",
      "metadata": {
        "id": "Gc4AYMniKkvO",
        "colab_type": "text"
      },
      "source": [
        "\n",
        "### Stojenie hiperparametrów\n",
        "\n",
        "Sprawdziliśmy wpływ standaryzacji na dane przy defaultowych parametrach, dlatego teraz przejdziemy do zoptymalizowania kilku parametrów. Chociaż wiemy, że najlepszym jądrem okazało się gaussowskie to sprawdzimy czy przy zmianie parametrów inne jądra nie wypadną lepiej albo chociaż jaka będzie różnica w jakości przewidywań. Bdziemy stosować losowe dopasowania parametrów."
      ]
    },
    {
      "cell_type": "code",
      "metadata": {
        "id": "cs7hmiTFLy1q",
        "colab_type": "code",
        "colab": {}
      },
      "source": [
        "def tuner(data_obj, target_obj):\n",
        "  \"\"\"\n",
        "  Funkcja ma za zadnie stoić parametry dla danych treningowych z wykorzystaniem RandomSearch dla różnych jąder SVC.\n",
        "  Zwraca najlepsze modele dla danego jądra.\n",
        "  \"\"\"\n",
        "  modeldict = {\n",
        "    'SVC_rbf': SVC(random_state = 0),\n",
        "    'SVC_linear' : SVC(kernel = 'linear', random_state = 0),\n",
        "    'SVC_poly' : SVC(kernel = 'poly', random_state = 0),\n",
        "    'SVC_sigmoid' : SVC(kernel = 'sigmoid', random_state = 0)\n",
        "    }\n",
        "  params = {\n",
        "    'C': np.arange(0.01, 10, 0.05),\n",
        "    'degree': np.arange( 0, 10, 1),\n",
        "    'gamma': [\"scale\", \"auto\"] + np.arange(0.001, 0.5, 0.001).tolist()\n",
        "    }\n",
        "  A = {}\n",
        "  for modelname in modeldict.keys():\n",
        "    model = modeldict[modelname]\n",
        "    randomsearcher = RandomizedSearchCV(model, param_distributions=params, cv = 20, n_jobs=-1, random_state=0, scoring = balanced_accuracy)\n",
        "    randomsearcher.fit(data_obj, target_obj)\n",
        "    print(modelname + ':')\n",
        "    print(\"Best parameters are:\\n{0}\\nThe score: {1:.6f}\".format(randomsearcher.best_params_, randomsearcher.best_score_))\n",
        "    A.update({modelname: randomsearcher})\n",
        "  return A"
      ],
      "execution_count": 0,
      "outputs": []
    },
    {
      "cell_type": "markdown",
      "metadata": {
        "id": "ln5xK640B5nj",
        "colab_type": "text"
      },
      "source": [
        "Mamy funkcję pomocniczą do strojenia parametrów dla każdego jądra a poniżej jej wywołanie."
      ]
    },
    {
      "cell_type": "code",
      "metadata": {
        "id": "iE-R17za7RRP",
        "colab_type": "code",
        "outputId": "abd3c58f-8fde-431a-b617-19213fe917fc",
        "colab": {
          "base_uri": "https://localhost:8080/",
          "height": 325
        }
      },
      "source": [
        "dict_of_best_classifiers = tuner(data_train, target_train)"
      ],
      "execution_count": 14,
      "outputs": [
        {
          "output_type": "stream",
          "text": [
            "SVC_rbf:\n",
            "Best parameters are:\n",
            "{'gamma': 0.064, 'degree': 8, 'C': 3.56}\n",
            "The score: 0.325000\n",
            "SVC_linear:\n",
            "Best parameters are:\n",
            "{'gamma': 0.010000000000000002, 'degree': 4, 'C': 1.51}\n",
            "The score: 0.295083\n",
            "SVC_poly:\n",
            "Best parameters are:\n",
            "{'gamma': 0.304, 'degree': 7, 'C': 9.81}\n",
            "The score: 0.295250\n",
            "SVC_sigmoid:\n",
            "Best parameters are:\n",
            "{'gamma': 0.029, 'degree': 7, 'C': 3.01}\n",
            "The score: 0.262250\n"
          ],
          "name": "stdout"
        }
      ]
    },
    {
      "cell_type": "markdown",
      "metadata": {
        "id": "WSYtG1OfCX-t",
        "colab_type": "text"
      },
      "source": [
        "Obserwacja: Najbardziej zbliżone parametry do defaultowych są dla jądra liniowego.\n",
        "\n",
        "Przy takim ustawieniu parametrów i ziarna losowości, dla danych treningowych wyniki się trochę zwiększyły, chociaż jest to zmiana o kilka setnych. Oczywiście to zawsze jest na plus, że dzięki standaryzacji i optymalizacji parametrów mamy lepsze wyniki. Sprawdźmy jak będą wyglądać dla danych testowych."
      ]
    },
    {
      "cell_type": "code",
      "metadata": {
        "id": "RruvFgEqFpHY",
        "colab_type": "code",
        "colab": {}
      },
      "source": [
        "def dataTestModeling(pipelines):\n",
        "  \"\"\"\n",
        "  Funkcja zwraca ramkę danych z wynikami MCC i zbalansowanym accuracy dla podanych modeli\n",
        "  \"\"\"\n",
        "  models = ['SVC_rbf', 'SVC_linear', 'SVC_poly', 'SVC_sigmoid']\n",
        "  MCC = []\n",
        "  BalAcc = []\n",
        "  for pipe in pipelines:\n",
        "    y_pred = pipe.predict(data_test)\n",
        "    m, balacc = metrics_mcc_balacc(y_pred)\n",
        "    MCC.append(m)\n",
        "    BalAcc.append(balacc)\n",
        "  return pd.DataFrame({'kernel SVC': models, 'MCC': MCC, 'balanced accuracy': BalAcc})"
      ],
      "execution_count": 0,
      "outputs": []
    },
    {
      "cell_type": "code",
      "metadata": {
        "id": "tESTuNdYJVcW",
        "colab_type": "code",
        "outputId": "c1c2891b-34ea-4ab3-925e-4542032df22c",
        "colab": {
          "base_uri": "https://localhost:8080/",
          "height": 171
        }
      },
      "source": [
        "# tworzymy pipeline z najlepszymy modelami\n",
        "best_pipelines = [dict_of_best_classifiers[i].best_estimator_ for i in dict_of_best_classifiers.keys()]\n",
        "\n",
        "# zwracamy wyniki w postaci ramki dla danych testowych\n",
        "dataTestModeling(best_pipelines)"
      ],
      "execution_count": 16,
      "outputs": [
        {
          "output_type": "execute_result",
          "data": {
            "text/html": [
              "<div>\n",
              "<style scoped>\n",
              "    .dataframe tbody tr th:only-of-type {\n",
              "        vertical-align: middle;\n",
              "    }\n",
              "\n",
              "    .dataframe tbody tr th {\n",
              "        vertical-align: top;\n",
              "    }\n",
              "\n",
              "    .dataframe thead th {\n",
              "        text-align: right;\n",
              "    }\n",
              "</style>\n",
              "<table border=\"1\" class=\"dataframe\">\n",
              "  <thead>\n",
              "    <tr style=\"text-align: right;\">\n",
              "      <th></th>\n",
              "      <th>kernel SVC</th>\n",
              "      <th>MCC</th>\n",
              "      <th>balanced accuracy</th>\n",
              "    </tr>\n",
              "  </thead>\n",
              "  <tbody>\n",
              "    <tr>\n",
              "      <th>0</th>\n",
              "      <td>SVC_rbf</td>\n",
              "      <td>0.233696</td>\n",
              "      <td>0.315128</td>\n",
              "    </tr>\n",
              "    <tr>\n",
              "      <th>1</th>\n",
              "      <td>SVC_linear</td>\n",
              "      <td>0.209228</td>\n",
              "      <td>0.285378</td>\n",
              "    </tr>\n",
              "    <tr>\n",
              "      <th>2</th>\n",
              "      <td>SVC_poly</td>\n",
              "      <td>0.185264</td>\n",
              "      <td>0.267679</td>\n",
              "    </tr>\n",
              "    <tr>\n",
              "      <th>3</th>\n",
              "      <td>SVC_sigmoid</td>\n",
              "      <td>0.192833</td>\n",
              "      <td>0.269107</td>\n",
              "    </tr>\n",
              "  </tbody>\n",
              "</table>\n",
              "</div>"
            ],
            "text/plain": [
              "    kernel SVC       MCC  balanced accuracy\n",
              "0      SVC_rbf  0.233696           0.315128\n",
              "1   SVC_linear  0.209228           0.285378\n",
              "2     SVC_poly  0.185264           0.267679\n",
              "3  SVC_sigmoid  0.192833           0.269107"
            ]
          },
          "metadata": {
            "tags": []
          },
          "execution_count": 16
        }
      ]
    },
    {
      "cell_type": "markdown",
      "metadata": {
        "id": "vQcOOvYXLt4T",
        "colab_type": "text"
      },
      "source": [
        "W celu porównania poniżej dane testowe bez strojenia parametrów (ta sama ramka co była, jednak teraz dla porównania ją tutaj wyświetlamy - we wnioskach skupiamy się na przeskalowanych wartościach."
      ]
    },
    {
      "cell_type": "code",
      "metadata": {
        "id": "10f9ohSTLbol",
        "colab_type": "code",
        "outputId": "7ff7293d-9cf6-41af-fcd8-17c3bf9ef1f4",
        "colab": {
          "base_uri": "https://localhost:8080/",
          "height": 295
        }
      },
      "source": [
        "test_metrics"
      ],
      "execution_count": 17,
      "outputs": [
        {
          "output_type": "execute_result",
          "data": {
            "text/html": [
              "<div>\n",
              "<style scoped>\n",
              "    .dataframe tbody tr th:only-of-type {\n",
              "        vertical-align: middle;\n",
              "    }\n",
              "\n",
              "    .dataframe tbody tr th {\n",
              "        vertical-align: top;\n",
              "    }\n",
              "\n",
              "    .dataframe thead th {\n",
              "        text-align: right;\n",
              "    }\n",
              "</style>\n",
              "<table border=\"1\" class=\"dataframe\">\n",
              "  <thead>\n",
              "    <tr style=\"text-align: right;\">\n",
              "      <th></th>\n",
              "      <th>kernel SVC</th>\n",
              "      <th>MCC</th>\n",
              "      <th>balanced accuracy</th>\n",
              "    </tr>\n",
              "  </thead>\n",
              "  <tbody>\n",
              "    <tr>\n",
              "      <th>0</th>\n",
              "      <td>rbf</td>\n",
              "      <td>0.128355</td>\n",
              "      <td>0.209069</td>\n",
              "    </tr>\n",
              "    <tr>\n",
              "      <th>1</th>\n",
              "      <td>rbf with standard scaler</td>\n",
              "      <td>0.236763</td>\n",
              "      <td>0.314350</td>\n",
              "    </tr>\n",
              "    <tr>\n",
              "      <th>2</th>\n",
              "      <td>linear</td>\n",
              "      <td>0.208815</td>\n",
              "      <td>0.282896</td>\n",
              "    </tr>\n",
              "    <tr>\n",
              "      <th>3</th>\n",
              "      <td>linear with standard scaler</td>\n",
              "      <td>0.208939</td>\n",
              "      <td>0.286293</td>\n",
              "    </tr>\n",
              "    <tr>\n",
              "      <th>4</th>\n",
              "      <td>poly</td>\n",
              "      <td>0.134398</td>\n",
              "      <td>0.211777</td>\n",
              "    </tr>\n",
              "    <tr>\n",
              "      <th>5</th>\n",
              "      <td>poly with standard scaler</td>\n",
              "      <td>0.170635</td>\n",
              "      <td>0.256737</td>\n",
              "    </tr>\n",
              "    <tr>\n",
              "      <th>6</th>\n",
              "      <td>sigmoid</td>\n",
              "      <td>-0.110584</td>\n",
              "      <td>0.025000</td>\n",
              "    </tr>\n",
              "    <tr>\n",
              "      <th>7</th>\n",
              "      <td>sigmoid with standard scaler</td>\n",
              "      <td>0.130291</td>\n",
              "      <td>0.219476</td>\n",
              "    </tr>\n",
              "  </tbody>\n",
              "</table>\n",
              "</div>"
            ],
            "text/plain": [
              "                     kernel SVC       MCC  balanced accuracy\n",
              "0                           rbf  0.128355           0.209069\n",
              "1      rbf with standard scaler  0.236763           0.314350\n",
              "2                        linear  0.208815           0.282896\n",
              "3   linear with standard scaler  0.208939           0.286293\n",
              "4                          poly  0.134398           0.211777\n",
              "5     poly with standard scaler  0.170635           0.256737\n",
              "6                       sigmoid -0.110584           0.025000\n",
              "7  sigmoid with standard scaler  0.130291           0.219476"
            ]
          },
          "metadata": {
            "tags": []
          },
          "execution_count": 17
        }
      ]
    },
    {
      "cell_type": "markdown",
      "metadata": {
        "id": "z8rGdW1ZMbJz",
        "colab_type": "text"
      },
      "source": [
        "Współczynnik korelacji Mathewsa pokazuje większe wyniki po strojeniu - super, to znaczy, że strojenie pomogło. Zbalansowane accuracy pokazuje wyższy wynik dla wszystkich poza linear, który jest troszkę lepszy dla modelu bez strojenia.\n",
        "\n",
        "Oczywiście wyniki te dalej są w okolicach 1/3, więc strojenie nie zwiększyło wyników diametralnie. Podsumowując krótko, najlepszym jądrem za każdym razem okazało się gaussowskie (co mogliśmy założyć na początku i zrezygnować ze sprawdzania za każdym razem, jednak teraz jesteśmy pewni)."
      ]
    },
    {
      "cell_type": "markdown",
      "metadata": {
        "id": "vqSRvwKSNiwX",
        "colab_type": "text"
      },
      "source": [
        "## Zbiór II - Wine\n",
        "\n",
        "Zbiór pochodzi ze strony mldata (link:https://www.mldata.io/dataset-details/wine/) oraz ma 13 zmiennych typu float, więc pasuje do wymagań zadania. Zajmiemy się przewidywaniem typu wina, gdzie są trzy możliwe, więc mamy multiklasowe zadanie (prawie jak poprzednio, chociaż klas jest mniej)."
      ]
    },
    {
      "cell_type": "markdown",
      "metadata": {
        "id": "kgAyD5-gNs6l",
        "colab_type": "text"
      },
      "source": [
        "### Wczytanie zbioru, krótka analiza i podział na zbiór treningowy i testowy"
      ]
    },
    {
      "cell_type": "code",
      "metadata": {
        "id": "4z4d0AoZNiY3",
        "colab_type": "code",
        "outputId": "111c502d-0141-4663-e0a8-d9a212c2901b",
        "colab": {
          "base_uri": "https://localhost:8080/",
          "height": 256
        }
      },
      "source": [
        "wine = pd.read_csv('wine_dataset.csv')\n",
        "wine.head()"
      ],
      "execution_count": 18,
      "outputs": [
        {
          "output_type": "execute_result",
          "data": {
            "text/html": [
              "<div>\n",
              "<style scoped>\n",
              "    .dataframe tbody tr th:only-of-type {\n",
              "        vertical-align: middle;\n",
              "    }\n",
              "\n",
              "    .dataframe tbody tr th {\n",
              "        vertical-align: top;\n",
              "    }\n",
              "\n",
              "    .dataframe thead th {\n",
              "        text-align: right;\n",
              "    }\n",
              "</style>\n",
              "<table border=\"1\" class=\"dataframe\">\n",
              "  <thead>\n",
              "    <tr style=\"text-align: right;\">\n",
              "      <th></th>\n",
              "      <th>Alcohol</th>\n",
              "      <th>Malic acid</th>\n",
              "      <th>Ash</th>\n",
              "      <th>Alcalinity of ash</th>\n",
              "      <th>Magnesium</th>\n",
              "      <th>Total phenols</th>\n",
              "      <th>Flavanoids</th>\n",
              "      <th>Nonflavanoid phenols</th>\n",
              "      <th>Proanthocyanins</th>\n",
              "      <th>Color intensity</th>\n",
              "      <th>Hue</th>\n",
              "      <th>OD280/OD315 of diluted wines</th>\n",
              "      <th>Proline</th>\n",
              "      <th>Wine Type</th>\n",
              "    </tr>\n",
              "  </thead>\n",
              "  <tbody>\n",
              "    <tr>\n",
              "      <th>0</th>\n",
              "      <td>14.23</td>\n",
              "      <td>1.71</td>\n",
              "      <td>2.43</td>\n",
              "      <td>15.6</td>\n",
              "      <td>127.0</td>\n",
              "      <td>2.80</td>\n",
              "      <td>3.06</td>\n",
              "      <td>0.28</td>\n",
              "      <td>2.29</td>\n",
              "      <td>5.64</td>\n",
              "      <td>1.04</td>\n",
              "      <td>3.92</td>\n",
              "      <td>1065.0</td>\n",
              "      <td>One</td>\n",
              "    </tr>\n",
              "    <tr>\n",
              "      <th>1</th>\n",
              "      <td>13.20</td>\n",
              "      <td>1.78</td>\n",
              "      <td>2.14</td>\n",
              "      <td>11.2</td>\n",
              "      <td>100.0</td>\n",
              "      <td>2.65</td>\n",
              "      <td>2.76</td>\n",
              "      <td>0.26</td>\n",
              "      <td>1.28</td>\n",
              "      <td>4.38</td>\n",
              "      <td>1.05</td>\n",
              "      <td>3.40</td>\n",
              "      <td>1050.0</td>\n",
              "      <td>One</td>\n",
              "    </tr>\n",
              "    <tr>\n",
              "      <th>2</th>\n",
              "      <td>13.16</td>\n",
              "      <td>2.36</td>\n",
              "      <td>2.67</td>\n",
              "      <td>18.6</td>\n",
              "      <td>101.0</td>\n",
              "      <td>2.80</td>\n",
              "      <td>3.24</td>\n",
              "      <td>0.30</td>\n",
              "      <td>2.81</td>\n",
              "      <td>5.68</td>\n",
              "      <td>1.03</td>\n",
              "      <td>3.17</td>\n",
              "      <td>1185.0</td>\n",
              "      <td>One</td>\n",
              "    </tr>\n",
              "    <tr>\n",
              "      <th>3</th>\n",
              "      <td>14.37</td>\n",
              "      <td>1.95</td>\n",
              "      <td>2.50</td>\n",
              "      <td>16.8</td>\n",
              "      <td>113.0</td>\n",
              "      <td>3.85</td>\n",
              "      <td>3.49</td>\n",
              "      <td>0.24</td>\n",
              "      <td>2.18</td>\n",
              "      <td>7.80</td>\n",
              "      <td>0.86</td>\n",
              "      <td>3.45</td>\n",
              "      <td>1480.0</td>\n",
              "      <td>One</td>\n",
              "    </tr>\n",
              "    <tr>\n",
              "      <th>4</th>\n",
              "      <td>13.24</td>\n",
              "      <td>2.59</td>\n",
              "      <td>2.87</td>\n",
              "      <td>21.0</td>\n",
              "      <td>118.0</td>\n",
              "      <td>2.80</td>\n",
              "      <td>2.69</td>\n",
              "      <td>0.39</td>\n",
              "      <td>1.82</td>\n",
              "      <td>4.32</td>\n",
              "      <td>1.04</td>\n",
              "      <td>2.93</td>\n",
              "      <td>735.0</td>\n",
              "      <td>One</td>\n",
              "    </tr>\n",
              "  </tbody>\n",
              "</table>\n",
              "</div>"
            ],
            "text/plain": [
              "   Alcohol  Malic acid   Ash  ...  OD280/OD315 of diluted wines  Proline  Wine Type\n",
              "0    14.23        1.71  2.43  ...                          3.92   1065.0        One\n",
              "1    13.20        1.78  2.14  ...                          3.40   1050.0        One\n",
              "2    13.16        2.36  2.67  ...                          3.17   1185.0        One\n",
              "3    14.37        1.95  2.50  ...                          3.45   1480.0        One\n",
              "4    13.24        2.59  2.87  ...                          2.93    735.0        One\n",
              "\n",
              "[5 rows x 14 columns]"
            ]
          },
          "metadata": {
            "tags": []
          },
          "execution_count": 18
        }
      ]
    },
    {
      "cell_type": "code",
      "metadata": {
        "id": "juj5XMrvgxoi",
        "colab_type": "code",
        "outputId": "ec03b54b-948f-4d49-e57f-da2b39980991",
        "colab": {
          "base_uri": "https://localhost:8080/",
          "height": 421
        }
      },
      "source": [
        "wine.info()"
      ],
      "execution_count": 19,
      "outputs": [
        {
          "output_type": "stream",
          "text": [
            "<class 'pandas.core.frame.DataFrame'>\n",
            "RangeIndex: 178 entries, 0 to 177\n",
            "Data columns (total 14 columns):\n",
            " #   Column                        Non-Null Count  Dtype  \n",
            "---  ------                        --------------  -----  \n",
            " 0   Alcohol                       178 non-null    float64\n",
            " 1   Malic acid                    178 non-null    float64\n",
            " 2   Ash                           178 non-null    float64\n",
            " 3   Alcalinity of ash             178 non-null    float64\n",
            " 4   Magnesium                     178 non-null    float64\n",
            " 5   Total phenols                 178 non-null    float64\n",
            " 6   Flavanoids                    178 non-null    float64\n",
            " 7   Nonflavanoid phenols          178 non-null    float64\n",
            " 8   Proanthocyanins               178 non-null    float64\n",
            " 9   Color intensity               178 non-null    float64\n",
            " 10  Hue                           178 non-null    float64\n",
            " 11  OD280/OD315 of diluted wines  178 non-null    float64\n",
            " 12  Proline                       178 non-null    float64\n",
            " 13  Wine Type                     178 non-null    object \n",
            "dtypes: float64(13), object(1)\n",
            "memory usage: 19.6+ KB\n"
          ],
          "name": "stdout"
        }
      ]
    },
    {
      "cell_type": "markdown",
      "metadata": {
        "id": "rHBuQos0fEeN",
        "colab_type": "text"
      },
      "source": [
        "Nie mamy braków danych, a zmienną celu jest Wine Type, jednak musimy jak poprzednio ją zakodować, gdyż jest typu string."
      ]
    },
    {
      "cell_type": "code",
      "metadata": {
        "id": "a1Gv0TY4fLB3",
        "colab_type": "code",
        "colab": {}
      },
      "source": [
        "# świadomie nadpisujemy nazwy zmiennych poprzedniego zbioru, gdyż większość funkcji opiera się na ich nazwach i nie podajemy ich w argumentach\n",
        "data_train, data_test, target_train, target_test = dataPreparing(wine, 'Wine Type')"
      ],
      "execution_count": 0,
      "outputs": []
    },
    {
      "cell_type": "code",
      "metadata": {
        "id": "TO6MchAxg9Ig",
        "colab_type": "code",
        "outputId": "0b10e064-e59a-483c-96f9-0fb8fd84e9aa",
        "colab": {
          "base_uri": "https://localhost:8080/",
          "height": 314
        }
      },
      "source": [
        "# sprawdzamy zbalansowanie zbioru\n",
        "targetPlot(wine, 'Wine Type')"
      ],
      "execution_count": 21,
      "outputs": [
        {
          "output_type": "execute_result",
          "data": {
            "text/plain": [
              "<matplotlib.axes._subplots.AxesSubplot at 0x7f7a313e8748>"
            ]
          },
          "metadata": {
            "tags": []
          },
          "execution_count": 21
        },
        {
          "output_type": "display_data",
          "data": {
            "image/png": "[encoded data removed]",
            "text/plain": [
              "<Figure size 432x288 with 1 Axes>"
            ]
          },
          "metadata": {
            "tags": [],
            "needs_background": "light"
          }
        }
      ]
    },
    {
      "cell_type": "markdown",
      "metadata": {
        "id": "7H6yP2n8hCnf",
        "colab_type": "text"
      },
      "source": [
        "Nie ma dużego niezbalansowania, jednak jakieś ono jest, więc możemy się cieszyć, że nie na darmo daliśmy miary dobre dla wszystkich możliwości."
      ]
    },
    {
      "cell_type": "markdown",
      "metadata": {
        "id": "pqvpVnJihlxr",
        "colab_type": "text"
      },
      "source": [
        "### Modelowanie\n",
        "\n",
        "Skoro mamy zapisane zbiory treningowe i testowe w funkcjach, a większość rzeczy, które chcemy policzyć jest zamknięta w funkcje to ten rodział będzie ich wywoływaniem.\n",
        "\n",
        "Najpierw sprawdźmy jak się ma skalowanie danych o winie w zależności od jąder SVC."
      ]
    },
    {
      "cell_type": "code",
      "metadata": {
        "id": "wmqDk4eghOd0",
        "colab_type": "code",
        "outputId": "76d40d47-3d88-455d-d297-e10fbc0b9da4",
        "colab": {
          "base_uri": "https://localhost:8080/",
          "height": 248
        }
      },
      "source": [
        "examineTransformingInfluence(svc_rbf, 'SVC with rbf kernel', balanced_accuracy)\n",
        "examineTransformingInfluence(svc_linear, 'SVC with linear kernel', balanced_accuracy)\n",
        "examineTransformingInfluence(svc_poly, 'SVC with poly kernel', balanced_accuracy)\n",
        "examineTransformingInfluence(svc_sigmoid, 'SVC with sigmoid kernel', balanced_accuracy)"
      ],
      "execution_count": 22,
      "outputs": [
        {
          "output_type": "stream",
          "text": [
            "SVC with rbf kernel:\n",
            "Średnia wyników bez transformacji: 0.6199, odchylenie standardowe: 0.0202\n",
            "Średnia wyników po standaryzacji: 0.9768, odchylenie standardowe: 0.0244\n",
            "SVC with linear kernel:\n",
            "Średnia wyników bez transformacji: 0.9690, odchylenie standardowe: 0.0235\n",
            "Średnia wyników po standaryzacji: 0.9682, odchylenie standardowe: 0.0314\n",
            "SVC with poly kernel:\n",
            "Średnia wyników bez transformacji: 0.6030, odchylenie standardowe: 0.0358\n",
            "Średnia wyników po standaryzacji: 0.9634, odchylenie standardowe: 0.0262\n",
            "SVC with sigmoid kernel:\n",
            "Średnia wyników bez transformacji: 0.1507, odchylenie standardowe: 0.0781\n",
            "Średnia wyników po standaryzacji: 0.9669, odchylenie standardowe: 0.0413\n"
          ],
          "name": "stdout"
        }
      ]
    },
    {
      "cell_type": "markdown",
      "metadata": {
        "id": "oiBhcXV9iA1O",
        "colab_type": "text"
      },
      "source": [
        "Ten zbiór zdecydowanie ma lepsze wyniki niż 1/3, a skalowanie zmienia (w niektórych przypadkach jak sigmoid drastycznie) wartości miar dla średnich kroswalidacji. Bez standaryzacji wyniki sigmoidalnego jądra 0.1507 a po niej wzrastają prawie do jedynki. Czyli wciąż tylko upewniamy się, że standaryzacja jest dobra i potrzebna (artykuł się nie mylił).\n",
        "\n",
        "Jak poprzednio powtarzamy badanie na zbiorach testowych."
      ]
    },
    {
      "cell_type": "code",
      "metadata": {
        "id": "4ZN-A06WinjG",
        "colab_type": "code",
        "outputId": "19117e6b-7cad-4e74-ae44-148892bd097d",
        "colab": {
          "base_uri": "https://localhost:8080/",
          "height": 295
        }
      },
      "source": [
        "test_metrics_wine = dataModeling()\n",
        "test_metrics_wine"
      ],
      "execution_count": 23,
      "outputs": [
        {
          "output_type": "execute_result",
          "data": {
            "text/html": [
              "<div>\n",
              "<style scoped>\n",
              "    .dataframe tbody tr th:only-of-type {\n",
              "        vertical-align: middle;\n",
              "    }\n",
              "\n",
              "    .dataframe tbody tr th {\n",
              "        vertical-align: top;\n",
              "    }\n",
              "\n",
              "    .dataframe thead th {\n",
              "        text-align: right;\n",
              "    }\n",
              "</style>\n",
              "<table border=\"1\" class=\"dataframe\">\n",
              "  <thead>\n",
              "    <tr style=\"text-align: right;\">\n",
              "      <th></th>\n",
              "      <th>kernel SVC</th>\n",
              "      <th>MCC</th>\n",
              "      <th>balanced accuracy</th>\n",
              "    </tr>\n",
              "  </thead>\n",
              "  <tbody>\n",
              "    <tr>\n",
              "      <th>0</th>\n",
              "      <td>rbf</td>\n",
              "      <td>0.431332</td>\n",
              "      <td>0.636364</td>\n",
              "    </tr>\n",
              "    <tr>\n",
              "      <th>1</th>\n",
              "      <td>rbf with standard scaler</td>\n",
              "      <td>0.957696</td>\n",
              "      <td>0.980392</td>\n",
              "    </tr>\n",
              "    <tr>\n",
              "      <th>2</th>\n",
              "      <td>linear</td>\n",
              "      <td>0.914500</td>\n",
              "      <td>0.950089</td>\n",
              "    </tr>\n",
              "    <tr>\n",
              "      <th>3</th>\n",
              "      <td>linear with standard scaler</td>\n",
              "      <td>0.914500</td>\n",
              "      <td>0.950089</td>\n",
              "    </tr>\n",
              "    <tr>\n",
              "      <th>4</th>\n",
              "      <td>poly</td>\n",
              "      <td>0.431332</td>\n",
              "      <td>0.636364</td>\n",
              "    </tr>\n",
              "    <tr>\n",
              "      <th>5</th>\n",
              "      <td>poly with standard scaler</td>\n",
              "      <td>0.957696</td>\n",
              "      <td>0.980392</td>\n",
              "    </tr>\n",
              "    <tr>\n",
              "      <th>6</th>\n",
              "      <td>sigmoid</td>\n",
              "      <td>-0.313911</td>\n",
              "      <td>0.090909</td>\n",
              "    </tr>\n",
              "    <tr>\n",
              "      <th>7</th>\n",
              "      <td>sigmoid with standard scaler</td>\n",
              "      <td>0.957527</td>\n",
              "      <td>0.969697</td>\n",
              "    </tr>\n",
              "  </tbody>\n",
              "</table>\n",
              "</div>"
            ],
            "text/plain": [
              "                     kernel SVC       MCC  balanced accuracy\n",
              "0                           rbf  0.431332           0.636364\n",
              "1      rbf with standard scaler  0.957696           0.980392\n",
              "2                        linear  0.914500           0.950089\n",
              "3   linear with standard scaler  0.914500           0.950089\n",
              "4                          poly  0.431332           0.636364\n",
              "5     poly with standard scaler  0.957696           0.980392\n",
              "6                       sigmoid -0.313911           0.090909\n",
              "7  sigmoid with standard scaler  0.957527           0.969697"
            ]
          },
          "metadata": {
            "tags": []
          },
          "execution_count": 23
        }
      ]
    },
    {
      "cell_type": "markdown",
      "metadata": {
        "id": "XyoYA22EoLvN",
        "colab_type": "text"
      },
      "source": [
        "Wnioski takie same, wszędzie obserwujemy wzrost wyników po skalowaniu (jedynie przy liniowym jest brak zmiany). Najlepszym jądrem okazuje się wielomianowane na równi z gaussowskim.\n",
        "\n",
        "Wyniki po skalowaniu są już bardzo dobre, ciekawe jak bardzo strojenie parametrów je poprawi. Na początek standaryzujemy dane na stałe."
      ]
    },
    {
      "cell_type": "code",
      "metadata": {
        "id": "yRocn_HKoRWT",
        "colab_type": "code",
        "colab": {}
      },
      "source": [
        "# skalowanie danych już na stałe\n",
        "std_scaler = preprocessing.StandardScaler()\n",
        "data_train = std_scaler.fit_transform(data_train) \n",
        "data_test = std_scaler.transform(data_test)"
      ],
      "execution_count": 0,
      "outputs": []
    },
    {
      "cell_type": "markdown",
      "metadata": {
        "id": "X_fbRjQcoSv-",
        "colab_type": "text"
      },
      "source": [
        "Upewniliśmy się na obu zbiorach, że standaryzacja jest potrzeba przy SVM i należy ją wykonywać zawsze przed przystąpieniem do modelowania (czasem może jednak lepiej sprawdzić normalizację albo inne sposoby skalowania w zależności od danych).\n",
        "\n",
        "### Strojenie hiperparametrów\n",
        "\n",
        "Będziemy stroić parametry tak jak poprzednio - dla kilku jąder SVC."
      ]
    },
    {
      "cell_type": "code",
      "metadata": {
        "id": "4zy9P9kZribW",
        "colab_type": "code",
        "outputId": "8c07d528-66df-4c19-f1a8-fca78f7eecc9",
        "colab": {
          "base_uri": "https://localhost:8080/",
          "height": 325
        }
      },
      "source": [
        "dict_of_best_classifiers_wine = tuner(data_train, target_train)"
      ],
      "execution_count": 25,
      "outputs": [
        {
          "output_type": "stream",
          "text": [
            "SVC_rbf:\n",
            "Best parameters are:\n",
            "{'gamma': 0.010000000000000002, 'degree': 4, 'C': 1.51}\n",
            "The score: 0.994444\n",
            "SVC_linear:\n",
            "Best parameters are:\n",
            "{'gamma': 0.304, 'degree': 7, 'C': 9.81}\n",
            "The score: 0.961111\n",
            "SVC_poly:\n",
            "Best parameters are:\n",
            "{'gamma': 0.109, 'degree': 1, 'C': 8.81}\n",
            "The score: 0.961111\n",
            "SVC_sigmoid:\n",
            "Best parameters are:\n",
            "{'gamma': 0.010000000000000002, 'degree': 4, 'C': 1.51}\n",
            "The score: 0.988889\n"
          ],
          "name": "stdout"
        }
      ]
    },
    {
      "cell_type": "markdown",
      "metadata": {
        "id": "MAIi9MRftDAz",
        "colab_type": "text"
      },
      "source": [
        "Parametry sigmoid i rbf są zbliżone do defaultowych. Najlepszy wynik osiągnął rbf, ale reszta wcale nie ma gorszych wyników - wszystkie są ponad 0.95.\n",
        "\n",
        "Sprawdźmy wyniki na zbiorze testowym:"
      ]
    },
    {
      "cell_type": "code",
      "metadata": {
        "id": "Rd_S5DhRtbnK",
        "colab_type": "code",
        "outputId": "4264155c-9d98-43ca-f1b1-cf96174880bf",
        "colab": {
          "base_uri": "https://localhost:8080/",
          "height": 171
        }
      },
      "source": [
        "# tworzymy pipeline z najlepszymy modelami\n",
        "best_pipelines = [dict_of_best_classifiers_wine[i].best_estimator_ for i in dict_of_best_classifiers_wine.keys()]\n",
        "\n",
        "# zwracamy wyniki w postaci ramki dla danych testowych\n",
        "dataTestModeling(best_pipelines)"
      ],
      "execution_count": 26,
      "outputs": [
        {
          "output_type": "execute_result",
          "data": {
            "text/html": [
              "<div>\n",
              "<style scoped>\n",
              "    .dataframe tbody tr th:only-of-type {\n",
              "        vertical-align: middle;\n",
              "    }\n",
              "\n",
              "    .dataframe tbody tr th {\n",
              "        vertical-align: top;\n",
              "    }\n",
              "\n",
              "    .dataframe thead th {\n",
              "        text-align: right;\n",
              "    }\n",
              "</style>\n",
              "<table border=\"1\" class=\"dataframe\">\n",
              "  <thead>\n",
              "    <tr style=\"text-align: right;\">\n",
              "      <th></th>\n",
              "      <th>kernel SVC</th>\n",
              "      <th>MCC</th>\n",
              "      <th>balanced accuracy</th>\n",
              "    </tr>\n",
              "  </thead>\n",
              "  <tbody>\n",
              "    <tr>\n",
              "      <th>0</th>\n",
              "      <td>SVC_rbf</td>\n",
              "      <td>0.957696</td>\n",
              "      <td>0.980392</td>\n",
              "    </tr>\n",
              "    <tr>\n",
              "      <th>1</th>\n",
              "      <td>SVC_linear</td>\n",
              "      <td>0.914500</td>\n",
              "      <td>0.950089</td>\n",
              "    </tr>\n",
              "    <tr>\n",
              "      <th>2</th>\n",
              "      <td>SVC_poly</td>\n",
              "      <td>0.914500</td>\n",
              "      <td>0.950089</td>\n",
              "    </tr>\n",
              "    <tr>\n",
              "      <th>3</th>\n",
              "      <td>SVC_sigmoid</td>\n",
              "      <td>0.914500</td>\n",
              "      <td>0.950089</td>\n",
              "    </tr>\n",
              "  </tbody>\n",
              "</table>\n",
              "</div>"
            ],
            "text/plain": [
              "    kernel SVC       MCC  balanced accuracy\n",
              "0      SVC_rbf  0.957696           0.980392\n",
              "1   SVC_linear  0.914500           0.950089\n",
              "2     SVC_poly  0.914500           0.950089\n",
              "3  SVC_sigmoid  0.914500           0.950089"
            ]
          },
          "metadata": {
            "tags": []
          },
          "execution_count": 26
        }
      ]
    },
    {
      "cell_type": "code",
      "metadata": {
        "id": "gW3WFGpmttba",
        "colab_type": "code",
        "outputId": "99ad8383-b52d-426f-9d4a-01a51d314d11",
        "colab": {
          "base_uri": "https://localhost:8080/",
          "height": 295
        }
      },
      "source": [
        "# dla porównania poprzednie wyniki\n",
        "test_metrics_wine"
      ],
      "execution_count": 27,
      "outputs": [
        {
          "output_type": "execute_result",
          "data": {
            "text/html": [
              "<div>\n",
              "<style scoped>\n",
              "    .dataframe tbody tr th:only-of-type {\n",
              "        vertical-align: middle;\n",
              "    }\n",
              "\n",
              "    .dataframe tbody tr th {\n",
              "        vertical-align: top;\n",
              "    }\n",
              "\n",
              "    .dataframe thead th {\n",
              "        text-align: right;\n",
              "    }\n",
              "</style>\n",
              "<table border=\"1\" class=\"dataframe\">\n",
              "  <thead>\n",
              "    <tr style=\"text-align: right;\">\n",
              "      <th></th>\n",
              "      <th>kernel SVC</th>\n",
              "      <th>MCC</th>\n",
              "      <th>balanced accuracy</th>\n",
              "    </tr>\n",
              "  </thead>\n",
              "  <tbody>\n",
              "    <tr>\n",
              "      <th>0</th>\n",
              "      <td>rbf</td>\n",
              "      <td>0.431332</td>\n",
              "      <td>0.636364</td>\n",
              "    </tr>\n",
              "    <tr>\n",
              "      <th>1</th>\n",
              "      <td>rbf with standard scaler</td>\n",
              "      <td>0.957696</td>\n",
              "      <td>0.980392</td>\n",
              "    </tr>\n",
              "    <tr>\n",
              "      <th>2</th>\n",
              "      <td>linear</td>\n",
              "      <td>0.914500</td>\n",
              "      <td>0.950089</td>\n",
              "    </tr>\n",
              "    <tr>\n",
              "      <th>3</th>\n",
              "      <td>linear with standard scaler</td>\n",
              "      <td>0.914500</td>\n",
              "      <td>0.950089</td>\n",
              "    </tr>\n",
              "    <tr>\n",
              "      <th>4</th>\n",
              "      <td>poly</td>\n",
              "      <td>0.431332</td>\n",
              "      <td>0.636364</td>\n",
              "    </tr>\n",
              "    <tr>\n",
              "      <th>5</th>\n",
              "      <td>poly with standard scaler</td>\n",
              "      <td>0.957696</td>\n",
              "      <td>0.980392</td>\n",
              "    </tr>\n",
              "    <tr>\n",
              "      <th>6</th>\n",
              "      <td>sigmoid</td>\n",
              "      <td>-0.313911</td>\n",
              "      <td>0.090909</td>\n",
              "    </tr>\n",
              "    <tr>\n",
              "      <th>7</th>\n",
              "      <td>sigmoid with standard scaler</td>\n",
              "      <td>0.957527</td>\n",
              "      <td>0.969697</td>\n",
              "    </tr>\n",
              "  </tbody>\n",
              "</table>\n",
              "</div>"
            ],
            "text/plain": [
              "                     kernel SVC       MCC  balanced accuracy\n",
              "0                           rbf  0.431332           0.636364\n",
              "1      rbf with standard scaler  0.957696           0.980392\n",
              "2                        linear  0.914500           0.950089\n",
              "3   linear with standard scaler  0.914500           0.950089\n",
              "4                          poly  0.431332           0.636364\n",
              "5     poly with standard scaler  0.957696           0.980392\n",
              "6                       sigmoid -0.313911           0.090909\n",
              "7  sigmoid with standard scaler  0.957527           0.969697"
            ]
          },
          "metadata": {
            "tags": []
          },
          "execution_count": 27
        }
      ]
    },
    {
      "cell_type": "markdown",
      "metadata": {
        "id": "ybOQHHFltynU",
        "colab_type": "text"
      },
      "source": [
        "Strojenie parametrów pomogło tylko przy wielomianowym i sigmoidalnym jądrze. Wyniki liniowego i gaussowskiego się nie zmieniły po strojeniu. Jądro gaussowskie wciąż jest najlepsze. Dziwne jest to, że inne jądra osiągnęły identyczne wyniki, z początku myślałam, że to błąd, jednak ta sama funkcja obliczyła dla poprzedniego zbioru i wyniki się tam różniły, więc to raczej nie jest błąd a taki przypadek."
      ]
    },
    {
      "cell_type": "markdown",
      "metadata": {
        "id": "2xt-6ih9vnaO",
        "colab_type": "text"
      },
      "source": [
        "Krótko podsumowując zadanie:\n",
        "* standaryzacja okazała się bardzo potrzebna do uzyskaniu dobrych wyników (szczególnie dla jądra sigmoidalnego)\n",
        "* najlepszym jądrem dla tych zbiorów okazało się gaussowskie, które jest w domyślnym ustawienu"
      ]
    }
  ]
}