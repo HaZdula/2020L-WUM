{
 "cells": [
  {
   "cell_type": "markdown",
   "metadata": {},
   "source": [
    "# Homework 4\n",
    "### Author: Mariusz Słapek"
   ]
  },
  {
   "cell_type": "markdown",
   "metadata": {},
   "source": [
    "### Needed libraries"
   ]
  },
  {
   "cell_type": "code",
   "execution_count": 18,
   "metadata": {},
   "outputs": [],
   "source": [
    "import warnings\n",
    "warnings.filterwarnings('ignore')\n",
    "\n",
    "import pandas as pd\n",
    "import numpy as np\n",
    "import sklearn \n",
    "import seaborn as sns\n",
    "import matplotlib.pyplot as plt\n",
    "import category_encoders as ce\n",
    "from sklearn.preprocessing import StandardScaler\n",
    "from sklearn.model_selection import (RandomizedSearchCV,\n",
    "                                     train_test_split)\n",
    "from scipy.stats import uniform\n",
    "from sklearn.svm import SVR\n"
   ]
  },
  {
   "cell_type": "markdown",
   "metadata": {},
   "source": [
    "# First dataset - *Apartments*"
   ]
  },
  {
   "cell_type": "markdown",
   "metadata": {},
   "source": [
    "### Read data"
   ]
  },
  {
   "cell_type": "code",
   "execution_count": 5,
   "metadata": {},
   "outputs": [],
   "source": [
    "train = pd.read_csv('apartments.csv')\n",
    "test = pd.read_csv('apartments_test.csv')"
   ]
  },
  {
   "cell_type": "code",
   "execution_count": 6,
   "metadata": {},
   "outputs": [
    {
     "name": "stdout",
     "output_type": "stream",
     "text": [
      "<class 'pandas.core.frame.DataFrame'>\n",
      "RangeIndex: 1000 entries, 0 to 999\n",
      "Data columns (total 6 columns):\n",
      "m2.price             1000 non-null int64\n",
      "construction.year    1000 non-null int64\n",
      "surface              1000 non-null int64\n",
      "floor                1000 non-null int64\n",
      "no.rooms             1000 non-null int64\n",
      "district             1000 non-null object\n",
      "dtypes: int64(5), object(1)\n",
      "memory usage: 43.0+ KB\n"
     ]
    }
   ],
   "source": [
    "train.info()"
   ]
  },
  {
   "cell_type": "code",
   "execution_count": 7,
   "metadata": {},
   "outputs": [
    {
     "name": "stdout",
     "output_type": "stream",
     "text": [
      "<class 'pandas.core.frame.DataFrame'>\n",
      "RangeIndex: 9000 entries, 0 to 8999\n",
      "Data columns (total 6 columns):\n",
      "m2.price             9000 non-null int64\n",
      "construction.year    9000 non-null int64\n",
      "surface              9000 non-null int64\n",
      "floor                9000 non-null int64\n",
      "no.rooms             9000 non-null int64\n",
      "district             9000 non-null object\n",
      "dtypes: int64(5), object(1)\n",
      "memory usage: 386.8+ KB\n"
     ]
    }
   ],
   "source": [
    "test.info()"
   ]
  },
  {
   "cell_type": "markdown",
   "metadata": {},
   "source": [
    "### One-hot encoding"
   ]
  },
  {
   "cell_type": "code",
   "execution_count": 10,
   "metadata": {},
   "outputs": [],
   "source": [
    "one_hot = ce.OneHotEncoder(cols=['district'])\n",
    "one_hot.fit(train)\n",
    "train = one_hot.transform(train)\n",
    "test = one_hot.transform(test)"
   ]
  },
  {
   "cell_type": "markdown",
   "metadata": {},
   "source": [
    "### Divide data (X and y)"
   ]
  },
  {
   "cell_type": "code",
   "execution_count": 11,
   "metadata": {},
   "outputs": [],
   "source": [
    "def divide_data(train, test):\n",
    "    return train.drop(['m2.price'], axis=1), train['m2.price'], test.drop(['m2.price'], axis=1),test['m2.price']"
   ]
  },
  {
   "cell_type": "markdown",
   "metadata": {},
   "source": [
    "### Metrics"
   ]
  },
  {
   "cell_type": "code",
   "execution_count": 12,
   "metadata": {},
   "outputs": [],
   "source": [
    "from sklearn.metrics import explained_variance_score, max_error, mean_squared_error\n",
    "\n",
    "def model_score(y_pred, y):\n",
    "    print(f'explained_variance_score={explained_variance_score(y, y_pred)}')\n",
    "    print(f'max_error={max_error(y, y_pred)}')\n",
    "    print(f'mean_squared_error={mean_squared_error(y, y_pred)}')\n",
    "    "
   ]
  },
  {
   "cell_type": "markdown",
   "metadata": {},
   "source": [
    "### Standard Scaler"
   ]
  },
  {
   "cell_type": "code",
   "execution_count": 13,
   "metadata": {},
   "outputs": [
    {
     "data": {
      "text/html": [
       "<div>\n",
       "<style scoped>\n",
       "    .dataframe tbody tr th:only-of-type {\n",
       "        vertical-align: middle;\n",
       "    }\n",
       "\n",
       "    .dataframe tbody tr th {\n",
       "        vertical-align: top;\n",
       "    }\n",
       "\n",
       "    .dataframe thead th {\n",
       "        text-align: right;\n",
       "    }\n",
       "</style>\n",
       "<table border=\"1\" class=\"dataframe\">\n",
       "  <thead>\n",
       "    <tr style=\"text-align: right;\">\n",
       "      <th></th>\n",
       "      <th>m2.price</th>\n",
       "      <th>construction.year</th>\n",
       "      <th>surface</th>\n",
       "      <th>floor</th>\n",
       "      <th>no.rooms</th>\n",
       "      <th>district_1</th>\n",
       "      <th>district_2</th>\n",
       "      <th>district_3</th>\n",
       "      <th>district_4</th>\n",
       "      <th>district_5</th>\n",
       "      <th>district_6</th>\n",
       "      <th>district_7</th>\n",
       "      <th>district_8</th>\n",
       "      <th>district_9</th>\n",
       "      <th>district_10</th>\n",
       "    </tr>\n",
       "  </thead>\n",
       "  <tbody>\n",
       "    <tr>\n",
       "      <th>0</th>\n",
       "      <td>2.659324</td>\n",
       "      <td>-0.457926</td>\n",
       "      <td>-1.600545</td>\n",
       "      <td>-0.904974</td>\n",
       "      <td>-1.709248</td>\n",
       "      <td>1</td>\n",
       "      <td>0</td>\n",
       "      <td>0</td>\n",
       "      <td>0</td>\n",
       "      <td>0</td>\n",
       "      <td>0</td>\n",
       "      <td>0</td>\n",
       "      <td>0</td>\n",
       "      <td>0</td>\n",
       "      <td>0</td>\n",
       "    </tr>\n",
       "    <tr>\n",
       "      <th>1</th>\n",
       "      <td>-1.841700</td>\n",
       "      <td>1.052614</td>\n",
       "      <td>1.516542</td>\n",
       "      <td>1.165115</td>\n",
       "      <td>1.187782</td>\n",
       "      <td>0</td>\n",
       "      <td>1</td>\n",
       "      <td>0</td>\n",
       "      <td>0</td>\n",
       "      <td>0</td>\n",
       "      <td>0</td>\n",
       "      <td>0</td>\n",
       "      <td>0</td>\n",
       "      <td>0</td>\n",
       "      <td>0</td>\n",
       "    </tr>\n",
       "    <tr>\n",
       "      <th>2</th>\n",
       "      <td>0.172119</td>\n",
       "      <td>-1.077634</td>\n",
       "      <td>-0.781649</td>\n",
       "      <td>-1.595004</td>\n",
       "      <td>-0.984990</td>\n",
       "      <td>0</td>\n",
       "      <td>0</td>\n",
       "      <td>1</td>\n",
       "      <td>0</td>\n",
       "      <td>0</td>\n",
       "      <td>0</td>\n",
       "      <td>0</td>\n",
       "      <td>0</td>\n",
       "      <td>0</td>\n",
       "      <td>0</td>\n",
       "    </tr>\n",
       "    <tr>\n",
       "      <th>3</th>\n",
       "      <td>0.033083</td>\n",
       "      <td>1.168809</td>\n",
       "      <td>0.195742</td>\n",
       "      <td>0.475086</td>\n",
       "      <td>-0.260733</td>\n",
       "      <td>0</td>\n",
       "      <td>0</td>\n",
       "      <td>0</td>\n",
       "      <td>1</td>\n",
       "      <td>0</td>\n",
       "      <td>0</td>\n",
       "      <td>0</td>\n",
       "      <td>0</td>\n",
       "      <td>0</td>\n",
       "      <td>0</td>\n",
       "    </tr>\n",
       "    <tr>\n",
       "      <th>4</th>\n",
       "      <td>-0.523062</td>\n",
       "      <td>1.052614</td>\n",
       "      <td>1.542958</td>\n",
       "      <td>0.130071</td>\n",
       "      <td>1.187782</td>\n",
       "      <td>0</td>\n",
       "      <td>0</td>\n",
       "      <td>0</td>\n",
       "      <td>0</td>\n",
       "      <td>1</td>\n",
       "      <td>0</td>\n",
       "      <td>0</td>\n",
       "      <td>0</td>\n",
       "      <td>0</td>\n",
       "      <td>0</td>\n",
       "    </tr>\n",
       "    <tr>\n",
       "      <th>...</th>\n",
       "      <td>...</td>\n",
       "      <td>...</td>\n",
       "      <td>...</td>\n",
       "      <td>...</td>\n",
       "      <td>...</td>\n",
       "      <td>...</td>\n",
       "      <td>...</td>\n",
       "      <td>...</td>\n",
       "      <td>...</td>\n",
       "      <td>...</td>\n",
       "      <td>...</td>\n",
       "      <td>...</td>\n",
       "      <td>...</td>\n",
       "      <td>...</td>\n",
       "      <td>...</td>\n",
       "    </tr>\n",
       "    <tr>\n",
       "      <th>995</th>\n",
       "      <td>3.164710</td>\n",
       "      <td>-1.697343</td>\n",
       "      <td>-1.098641</td>\n",
       "      <td>-1.249989</td>\n",
       "      <td>-0.984990</td>\n",
       "      <td>1</td>\n",
       "      <td>0</td>\n",
       "      <td>0</td>\n",
       "      <td>0</td>\n",
       "      <td>0</td>\n",
       "      <td>0</td>\n",
       "      <td>0</td>\n",
       "      <td>0</td>\n",
       "      <td>0</td>\n",
       "      <td>0</td>\n",
       "    </tr>\n",
       "    <tr>\n",
       "      <th>996</th>\n",
       "      <td>-0.071746</td>\n",
       "      <td>-1.697343</td>\n",
       "      <td>-0.992977</td>\n",
       "      <td>1.510130</td>\n",
       "      <td>-0.984990</td>\n",
       "      <td>0</td>\n",
       "      <td>0</td>\n",
       "      <td>0</td>\n",
       "      <td>0</td>\n",
       "      <td>0</td>\n",
       "      <td>0</td>\n",
       "      <td>0</td>\n",
       "      <td>0</td>\n",
       "      <td>1</td>\n",
       "      <td>0</td>\n",
       "    </tr>\n",
       "    <tr>\n",
       "      <th>997</th>\n",
       "      <td>-0.429268</td>\n",
       "      <td>0.587832</td>\n",
       "      <td>-0.015585</td>\n",
       "      <td>-0.904974</td>\n",
       "      <td>-0.260733</td>\n",
       "      <td>0</td>\n",
       "      <td>0</td>\n",
       "      <td>0</td>\n",
       "      <td>0</td>\n",
       "      <td>0</td>\n",
       "      <td>0</td>\n",
       "      <td>0</td>\n",
       "      <td>0</td>\n",
       "      <td>1</td>\n",
       "      <td>0</td>\n",
       "    </tr>\n",
       "    <tr>\n",
       "      <th>998</th>\n",
       "      <td>0.777920</td>\n",
       "      <td>-0.883975</td>\n",
       "      <td>-1.309969</td>\n",
       "      <td>0.475086</td>\n",
       "      <td>-1.709248</td>\n",
       "      <td>0</td>\n",
       "      <td>0</td>\n",
       "      <td>0</td>\n",
       "      <td>0</td>\n",
       "      <td>0</td>\n",
       "      <td>0</td>\n",
       "      <td>1</td>\n",
       "      <td>0</td>\n",
       "      <td>0</td>\n",
       "      <td>0</td>\n",
       "    </tr>\n",
       "    <tr>\n",
       "      <th>999</th>\n",
       "      <td>-0.176575</td>\n",
       "      <td>1.052614</td>\n",
       "      <td>0.697646</td>\n",
       "      <td>0.130071</td>\n",
       "      <td>1.187782</td>\n",
       "      <td>0</td>\n",
       "      <td>0</td>\n",
       "      <td>0</td>\n",
       "      <td>0</td>\n",
       "      <td>1</td>\n",
       "      <td>0</td>\n",
       "      <td>0</td>\n",
       "      <td>0</td>\n",
       "      <td>0</td>\n",
       "      <td>0</td>\n",
       "    </tr>\n",
       "  </tbody>\n",
       "</table>\n",
       "<p>1000 rows × 15 columns</p>\n",
       "</div>"
      ],
      "text/plain": [
       "     m2.price  construction.year   surface     floor  no.rooms  district_1  \\\n",
       "0    2.659324          -0.457926 -1.600545 -0.904974 -1.709248           1   \n",
       "1   -1.841700           1.052614  1.516542  1.165115  1.187782           0   \n",
       "2    0.172119          -1.077634 -0.781649 -1.595004 -0.984990           0   \n",
       "3    0.033083           1.168809  0.195742  0.475086 -0.260733           0   \n",
       "4   -0.523062           1.052614  1.542958  0.130071  1.187782           0   \n",
       "..        ...                ...       ...       ...       ...         ...   \n",
       "995  3.164710          -1.697343 -1.098641 -1.249989 -0.984990           1   \n",
       "996 -0.071746          -1.697343 -0.992977  1.510130 -0.984990           0   \n",
       "997 -0.429268           0.587832 -0.015585 -0.904974 -0.260733           0   \n",
       "998  0.777920          -0.883975 -1.309969  0.475086 -1.709248           0   \n",
       "999 -0.176575           1.052614  0.697646  0.130071  1.187782           0   \n",
       "\n",
       "     district_2  district_3  district_4  district_5  district_6  district_7  \\\n",
       "0             0           0           0           0           0           0   \n",
       "1             1           0           0           0           0           0   \n",
       "2             0           1           0           0           0           0   \n",
       "3             0           0           1           0           0           0   \n",
       "4             0           0           0           1           0           0   \n",
       "..          ...         ...         ...         ...         ...         ...   \n",
       "995           0           0           0           0           0           0   \n",
       "996           0           0           0           0           0           0   \n",
       "997           0           0           0           0           0           0   \n",
       "998           0           0           0           0           0           1   \n",
       "999           0           0           0           1           0           0   \n",
       "\n",
       "     district_8  district_9  district_10  \n",
       "0             0           0            0  \n",
       "1             0           0            0  \n",
       "2             0           0            0  \n",
       "3             0           0            0  \n",
       "4             0           0            0  \n",
       "..          ...         ...          ...  \n",
       "995           0           0            0  \n",
       "996           0           1            0  \n",
       "997           0           1            0  \n",
       "998           0           0            0  \n",
       "999           0           0            0  \n",
       "\n",
       "[1000 rows x 15 columns]"
      ]
     },
     "execution_count": 13,
     "metadata": {},
     "output_type": "execute_result"
    }
   ],
   "source": [
    "scaler = StandardScaler() \n",
    "\n",
    "nums = ['m2.price', 'construction.year', 'surface', 'floor', 'no.rooms']\n",
    "\n",
    "train_scaled = train.copy()\n",
    "test_scaled = test.copy()\n",
    "\n",
    "train_scaled[nums] = scaler.fit_transform(train_scaled[nums])\n",
    "test_scaled[nums] = scaler.fit_transform(test_scaled[nums])\n",
    "\n",
    "train_scaled"
   ]
  },
  {
   "cell_type": "markdown",
   "metadata": {},
   "source": [
    "## SVM - without tuning"
   ]
  },
  {
   "cell_type": "markdown",
   "metadata": {},
   "source": [
    "### Without scaling "
   ]
  },
  {
   "cell_type": "markdown",
   "metadata": {},
   "source": [
    "In *sklear.svm* we have to class: \n",
    "* SVC - for classification\n",
    "* SVR - for regression\n",
    "\n",
    "We make regression (m2.pize column) so we use SVR"
   ]
  },
  {
   "cell_type": "code",
   "execution_count": 23,
   "metadata": {},
   "outputs": [],
   "source": [
    "X_train, y_train, X_test, y_test = divide_data(train, test)"
   ]
  },
  {
   "cell_type": "code",
   "execution_count": 24,
   "metadata": {},
   "outputs": [
    {
     "data": {
      "text/plain": [
       "SVR(C=1.0, cache_size=200, coef0=0.0, degree=3, epsilon=0.1, gamma='scale',\n",
       "    kernel='rbf', max_iter=-1, shrinking=True, tol=0.001, verbose=False)"
      ]
     },
     "execution_count": 24,
     "metadata": {},
     "output_type": "execute_result"
    }
   ],
   "source": [
    "svm_reg = sklearn.svm.SVR()\n",
    "svm_reg.fit(X_train, y_train)"
   ]
  },
  {
   "cell_type": "markdown",
   "metadata": {},
   "source": [
    "#### Evaluate model"
   ]
  },
  {
   "cell_type": "code",
   "execution_count": 25,
   "metadata": {},
   "outputs": [
    {
     "name": "stdout",
     "output_type": "stream",
     "text": [
      "explained_variance_score=0.0003682903281065908\n",
      "max_error=3292.6801724672737\n",
      "mean_squared_error=826320.6518556494\n"
     ]
    }
   ],
   "source": [
    "y_pred = svm_reg.predict(X_test)\n",
    "\n",
    "model_score(y_pred, y_test)"
   ]
  },
  {
   "cell_type": "markdown",
   "metadata": {},
   "source": [
    "The error is very big!"
   ]
  },
  {
   "cell_type": "markdown",
   "metadata": {},
   "source": [
    "### With scaling"
   ]
  },
  {
   "cell_type": "code",
   "execution_count": 20,
   "metadata": {},
   "outputs": [],
   "source": [
    "X_train_scaled, y_train_scaled, X_test_scaled, y_test_scaled = divide_data(train_scaled, test_scaled)"
   ]
  },
  {
   "cell_type": "code",
   "execution_count": 21,
   "metadata": {},
   "outputs": [
    {
     "data": {
      "text/plain": [
       "SVR(C=1.0, cache_size=200, coef0=0.0, degree=3, epsilon=0.1, gamma='scale',\n",
       "    kernel='rbf', max_iter=-1, shrinking=True, tol=0.001, verbose=False)"
      ]
     },
     "execution_count": 21,
     "metadata": {},
     "output_type": "execute_result"
    }
   ],
   "source": [
    "svm_reg = SVR()\n",
    "svm_reg.fit(X_train_scaled, y_train_scaled)"
   ]
  },
  {
   "cell_type": "markdown",
   "metadata": {},
   "source": [
    "#### Evaluate"
   ]
  },
  {
   "cell_type": "code",
   "execution_count": 22,
   "metadata": {},
   "outputs": [
    {
     "name": "stdout",
     "output_type": "stream",
     "text": [
      "explained_variance_score=0.9641331549899023\n",
      "max_error=0.8593564825777225\n",
      "mean_squared_error=0.035867396824281375\n"
     ]
    }
   ],
   "source": [
    "y_pred = svm_reg.predict(X_test_scaled)\n",
    "\n",
    "model_score(y_pred, y_test_scaled)"
   ]
  },
  {
   "cell_type": "markdown",
   "metadata": {},
   "source": [
    "## Conclusion 1"
   ]
  },
  {
   "cell_type": "markdown",
   "metadata": {},
   "source": [
    "Using scaling was a very good move. A *mean_squared_error* is smaller over 23 000 000 times. This research shows us how important is scalling, when you want use SVM."
   ]
  },
  {
   "cell_type": "markdown",
   "metadata": {},
   "source": [
    "### SVM - with hyperparameteres tuning\n",
    "#### Random Search Method"
   ]
  },
  {
   "cell_type": "markdown",
   "metadata": {},
   "source": [
    "##### Gauss kernel "
   ]
  },
  {
   "cell_type": "code",
   "execution_count": 26,
   "metadata": {},
   "outputs": [],
   "source": [
    "kernel = ['rbf']\n",
    "cost = uniform(scale=10000)\n",
    "gamma = uniform(scale=1)\n",
    "degree = uniform(scale=1000)\n",
    "\n",
    "params = {'kernel': kernel,\n",
    "          'C': cost,\n",
    "          'gamma': gamma,\n",
    "          'degree': degree\n",
    "}"
   ]
  },
  {
   "cell_type": "code",
   "execution_count": 27,
   "metadata": {},
   "outputs": [
    {
     "name": "stdout",
     "output_type": "stream",
     "text": [
      "Fitting 3 folds for each of 3000 candidates, totalling 9000 fits\n"
     ]
    },
    {
     "name": "stderr",
     "output_type": "stream",
     "text": [
      "[Parallel(n_jobs=-1)]: Using backend LokyBackend with 8 concurrent workers.\n",
      "[Parallel(n_jobs=-1)]: Done  25 tasks      | elapsed:    2.6s\n",
      "[Parallel(n_jobs=-1)]: Done 146 tasks      | elapsed:    5.5s\n",
      "[Parallel(n_jobs=-1)]: Done 349 tasks      | elapsed:   10.3s\n",
      "[Parallel(n_jobs=-1)]: Done 632 tasks      | elapsed:   18.3s\n",
      "[Parallel(n_jobs=-1)]: Done 997 tasks      | elapsed:   28.4s\n",
      "[Parallel(n_jobs=-1)]: Done 1442 tasks      | elapsed:   40.7s\n",
      "[Parallel(n_jobs=-1)]: Done 1969 tasks      | elapsed:   55.7s\n",
      "[Parallel(n_jobs=-1)]: Done 2576 tasks      | elapsed:  1.2min\n",
      "[Parallel(n_jobs=-1)]: Done 3265 tasks      | elapsed:  1.5min\n",
      "[Parallel(n_jobs=-1)]: Done 4034 tasks      | elapsed:  1.9min\n",
      "[Parallel(n_jobs=-1)]: Done 4885 tasks      | elapsed:  2.3min\n",
      "[Parallel(n_jobs=-1)]: Done 5816 tasks      | elapsed:  2.7min\n",
      "[Parallel(n_jobs=-1)]: Done 6829 tasks      | elapsed:  3.2min\n",
      "[Parallel(n_jobs=-1)]: Done 7922 tasks      | elapsed:  3.7min\n",
      "[Parallel(n_jobs=-1)]: Done 9000 out of 9000 | elapsed:  4.3min finished\n"
     ]
    }
   ],
   "source": [
    "rand_search_cv = RandomizedSearchCV(estimator=sklearn.svm.SVR(epsilon = 0.01),\n",
    "                                   param_distributions=params,\n",
    "                                   n_jobs=-1,\n",
    "                                    n_iter=3000,\n",
    "                                   verbose=2,\n",
    "                                   cv=3)\n",
    "result = rand_search_cv.fit(X_train, y_train)\n",
    "best_params = result.best_params_"
   ]
  },
  {
   "cell_type": "code",
   "execution_count": 29,
   "metadata": {},
   "outputs": [],
   "source": [
    "C = best_params['C']\n",
    "degree = best_params['degree']\n",
    "gamma = best_params['gamma']"
   ]
  },
  {
   "cell_type": "markdown",
   "metadata": {},
   "source": [
    "### Without scalling"
   ]
  },
  {
   "cell_type": "code",
   "execution_count": 30,
   "metadata": {},
   "outputs": [
    {
     "data": {
      "text/plain": [
       "SVR(C=9912.177704405041, cache_size=200, coef0=0.0, degree=379.4760225015611,\n",
       "    epsilon=0.1, gamma=0.001382916073454421, kernel='rbf', max_iter=-1,\n",
       "    shrinking=True, tol=0.001, verbose=False)"
      ]
     },
     "execution_count": 30,
     "metadata": {},
     "output_type": "execute_result"
    }
   ],
   "source": [
    "svm_reg = sklearn.svm.SVR(C = C, gamma = gamma, degree = degree)\n",
    "svm_reg.fit(X_train, y_train)"
   ]
  },
  {
   "cell_type": "code",
   "execution_count": 31,
   "metadata": {},
   "outputs": [
    {
     "name": "stdout",
     "output_type": "stream",
     "text": [
      "explained_variance_score=0.7088702549466819\n",
      "max_error=1922.757272300354\n",
      "mean_squared_error=256676.3548358449\n"
     ]
    }
   ],
   "source": [
    "y_pred = svm_reg.predict(X_test)\n",
    "\n",
    "model_score(y_pred, y_test)"
   ]
  },
  {
   "cell_type": "markdown",
   "metadata": {},
   "source": [
    "### With scalling"
   ]
  },
  {
   "cell_type": "code",
   "execution_count": 32,
   "metadata": {},
   "outputs": [
    {
     "data": {
      "text/plain": [
       "SVR(C=9912.177704405041, cache_size=200, coef0=0.0, degree=379.4760225015611,\n",
       "    epsilon=0.1, gamma=0.001382916073454421, kernel='rbf', max_iter=-1,\n",
       "    shrinking=True, tol=0.001, verbose=False)"
      ]
     },
     "execution_count": 32,
     "metadata": {},
     "output_type": "execute_result"
    }
   ],
   "source": [
    "svm_reg = sklearn.svm.SVR(C = C, gamma = gamma, degree = degree)\n",
    "svm_reg.fit(X_train_scaled, y_train_scaled)"
   ]
  },
  {
   "cell_type": "code",
   "execution_count": 33,
   "metadata": {},
   "outputs": [
    {
     "name": "stdout",
     "output_type": "stream",
     "text": [
      "explained_variance_score=0.9753696820500791\n",
      "max_error=0.5144067186284033\n",
      "mean_squared_error=0.02473366863995508\n"
     ]
    }
   ],
   "source": [
    "y_pred = svm_reg.predict(X_test_scaled)\n",
    "\n",
    "model_score(y_pred, y_test_scaled)"
   ]
  },
  {
   "cell_type": "markdown",
   "metadata": {},
   "source": [
    "## Conclustion 2"
   ]
  },
  {
   "cell_type": "markdown",
   "metadata": {},
   "source": [
    "Random Search method help us make noticeably better results (over three times!)."
   ]
  },
  {
   "cell_type": "markdown",
   "metadata": {},
   "source": [
    "# Second dataset - *Energy efficiency*\n",
    "\n",
    "Source: *https://data.world/uci/energy-efficiency*\n",
    "\n",
    "*We perform energy analysis using 12 different building shapes simulated in Ecotect. The buildings differ with respect to the glazing area, the glazing area distribution, and the orientation, amongst other parameters. We simulate various settings as functions of the afore-mentioned characteristics to obtain 768 building shapes. The dataset comprises 768 samples and 8 features, aiming to predict two real valued responses. It can also be used as a multi-class classification problem if the response is rounded to the nearest integer.*"
   ]
  },
  {
   "cell_type": "markdown",
   "metadata": {},
   "source": [
    "### Read data"
   ]
  },
  {
   "cell_type": "code",
   "execution_count": 34,
   "metadata": {},
   "outputs": [],
   "source": [
    "data = pd.read_csv('ENB2012_data.csv')"
   ]
  },
  {
   "cell_type": "code",
   "execution_count": 35,
   "metadata": {},
   "outputs": [
    {
     "name": "stdout",
     "output_type": "stream",
     "text": [
      "<class 'pandas.core.frame.DataFrame'>\n",
      "RangeIndex: 768 entries, 0 to 767\n",
      "Data columns (total 10 columns):\n",
      "X1    768 non-null float64\n",
      "X2    768 non-null float64\n",
      "X3    768 non-null float64\n",
      "X4    768 non-null float64\n",
      "X5    768 non-null float64\n",
      "X6    768 non-null int64\n",
      "X7    768 non-null float64\n",
      "X8    768 non-null int64\n",
      "Y1    768 non-null float64\n",
      "Y2    768 non-null float64\n",
      "dtypes: float64(8), int64(2)\n",
      "memory usage: 60.1 KB\n"
     ]
    }
   ],
   "source": [
    "data.info()"
   ]
  },
  {
   "cell_type": "code",
   "execution_count": 36,
   "metadata": {},
   "outputs": [
    {
     "data": {
      "text/html": [
       "<div>\n",
       "<style scoped>\n",
       "    .dataframe tbody tr th:only-of-type {\n",
       "        vertical-align: middle;\n",
       "    }\n",
       "\n",
       "    .dataframe tbody tr th {\n",
       "        vertical-align: top;\n",
       "    }\n",
       "\n",
       "    .dataframe thead th {\n",
       "        text-align: right;\n",
       "    }\n",
       "</style>\n",
       "<table border=\"1\" class=\"dataframe\">\n",
       "  <thead>\n",
       "    <tr style=\"text-align: right;\">\n",
       "      <th></th>\n",
       "      <th>X1</th>\n",
       "      <th>X2</th>\n",
       "      <th>X3</th>\n",
       "      <th>X4</th>\n",
       "      <th>X5</th>\n",
       "      <th>X6</th>\n",
       "      <th>X7</th>\n",
       "      <th>X8</th>\n",
       "      <th>Y1</th>\n",
       "      <th>Y2</th>\n",
       "    </tr>\n",
       "  </thead>\n",
       "  <tbody>\n",
       "    <tr>\n",
       "      <th>0</th>\n",
       "      <td>0.98</td>\n",
       "      <td>514.5</td>\n",
       "      <td>294.0</td>\n",
       "      <td>110.25</td>\n",
       "      <td>7.0</td>\n",
       "      <td>2</td>\n",
       "      <td>0.0</td>\n",
       "      <td>0</td>\n",
       "      <td>15.55</td>\n",
       "      <td>21.33</td>\n",
       "    </tr>\n",
       "    <tr>\n",
       "      <th>1</th>\n",
       "      <td>0.98</td>\n",
       "      <td>514.5</td>\n",
       "      <td>294.0</td>\n",
       "      <td>110.25</td>\n",
       "      <td>7.0</td>\n",
       "      <td>3</td>\n",
       "      <td>0.0</td>\n",
       "      <td>0</td>\n",
       "      <td>15.55</td>\n",
       "      <td>21.33</td>\n",
       "    </tr>\n",
       "    <tr>\n",
       "      <th>2</th>\n",
       "      <td>0.98</td>\n",
       "      <td>514.5</td>\n",
       "      <td>294.0</td>\n",
       "      <td>110.25</td>\n",
       "      <td>7.0</td>\n",
       "      <td>4</td>\n",
       "      <td>0.0</td>\n",
       "      <td>0</td>\n",
       "      <td>15.55</td>\n",
       "      <td>21.33</td>\n",
       "    </tr>\n",
       "    <tr>\n",
       "      <th>3</th>\n",
       "      <td>0.98</td>\n",
       "      <td>514.5</td>\n",
       "      <td>294.0</td>\n",
       "      <td>110.25</td>\n",
       "      <td>7.0</td>\n",
       "      <td>5</td>\n",
       "      <td>0.0</td>\n",
       "      <td>0</td>\n",
       "      <td>15.55</td>\n",
       "      <td>21.33</td>\n",
       "    </tr>\n",
       "    <tr>\n",
       "      <th>4</th>\n",
       "      <td>0.90</td>\n",
       "      <td>563.5</td>\n",
       "      <td>318.5</td>\n",
       "      <td>122.50</td>\n",
       "      <td>7.0</td>\n",
       "      <td>2</td>\n",
       "      <td>0.0</td>\n",
       "      <td>0</td>\n",
       "      <td>20.84</td>\n",
       "      <td>28.28</td>\n",
       "    </tr>\n",
       "  </tbody>\n",
       "</table>\n",
       "</div>"
      ],
      "text/plain": [
       "     X1     X2     X3      X4   X5  X6   X7  X8     Y1     Y2\n",
       "0  0.98  514.5  294.0  110.25  7.0   2  0.0   0  15.55  21.33\n",
       "1  0.98  514.5  294.0  110.25  7.0   3  0.0   0  15.55  21.33\n",
       "2  0.98  514.5  294.0  110.25  7.0   4  0.0   0  15.55  21.33\n",
       "3  0.98  514.5  294.0  110.25  7.0   5  0.0   0  15.55  21.33\n",
       "4  0.90  563.5  318.5  122.50  7.0   2  0.0   0  20.84  28.28"
      ]
     },
     "execution_count": 36,
     "metadata": {},
     "output_type": "execute_result"
    }
   ],
   "source": [
    "data.head()"
   ]
  },
  {
   "cell_type": "markdown",
   "metadata": {},
   "source": [
    "### Divide into train and test sets"
   ]
  },
  {
   "cell_type": "code",
   "execution_count": 37,
   "metadata": {},
   "outputs": [],
   "source": [
    "X_train, X_test, y_train, y_test = train_test_split(data.drop(['Y1', 'Y2'], axis=1), data[['Y1']])"
   ]
  },
  {
   "cell_type": "markdown",
   "metadata": {},
   "source": [
    "### Scalling data"
   ]
  },
  {
   "cell_type": "code",
   "execution_count": 47,
   "metadata": {},
   "outputs": [
    {
     "data": {
      "text/html": [
       "<div>\n",
       "<style scoped>\n",
       "    .dataframe tbody tr th:only-of-type {\n",
       "        vertical-align: middle;\n",
       "    }\n",
       "\n",
       "    .dataframe tbody tr th {\n",
       "        vertical-align: top;\n",
       "    }\n",
       "\n",
       "    .dataframe thead th {\n",
       "        text-align: right;\n",
       "    }\n",
       "</style>\n",
       "<table border=\"1\" class=\"dataframe\">\n",
       "  <thead>\n",
       "    <tr style=\"text-align: right;\">\n",
       "      <th></th>\n",
       "      <th>X1</th>\n",
       "      <th>X2</th>\n",
       "      <th>X3</th>\n",
       "      <th>X4</th>\n",
       "      <th>X5</th>\n",
       "      <th>X6</th>\n",
       "      <th>X7</th>\n",
       "      <th>X8</th>\n",
       "    </tr>\n",
       "  </thead>\n",
       "  <tbody>\n",
       "    <tr>\n",
       "      <th>380</th>\n",
       "      <td>-1.356977</td>\n",
       "      <td>1.543082</td>\n",
       "      <td>1.128909</td>\n",
       "      <td>0.978888</td>\n",
       "      <td>-1.006969</td>\n",
       "      <td>-1.346942</td>\n",
       "      <td>0.083637</td>\n",
       "      <td>-0.572320</td>\n",
       "    </tr>\n",
       "    <tr>\n",
       "      <th>60</th>\n",
       "      <td>0.503798</td>\n",
       "      <td>-0.650846</td>\n",
       "      <td>0.000979</td>\n",
       "      <td>-0.641341</td>\n",
       "      <td>0.993080</td>\n",
       "      <td>-1.346942</td>\n",
       "      <td>-1.054356</td>\n",
       "      <td>-1.219974</td>\n",
       "    </tr>\n",
       "    <tr>\n",
       "      <th>100</th>\n",
       "      <td>1.248108</td>\n",
       "      <td>-1.199328</td>\n",
       "      <td>0.000979</td>\n",
       "      <td>-1.181417</td>\n",
       "      <td>0.993080</td>\n",
       "      <td>-1.346942</td>\n",
       "      <td>-1.054356</td>\n",
       "      <td>-0.572320</td>\n",
       "    </tr>\n",
       "    <tr>\n",
       "      <th>575</th>\n",
       "      <td>-1.356977</td>\n",
       "      <td>1.543082</td>\n",
       "      <td>1.128909</td>\n",
       "      <td>0.978888</td>\n",
       "      <td>-1.006969</td>\n",
       "      <td>1.343828</td>\n",
       "      <td>1.221631</td>\n",
       "      <td>-1.219974</td>\n",
       "    </tr>\n",
       "    <tr>\n",
       "      <th>384</th>\n",
       "      <td>1.992418</td>\n",
       "      <td>-1.747810</td>\n",
       "      <td>-0.562986</td>\n",
       "      <td>-1.451455</td>\n",
       "      <td>0.993080</td>\n",
       "      <td>-1.346942</td>\n",
       "      <td>0.083637</td>\n",
       "      <td>0.075335</td>\n",
       "    </tr>\n",
       "    <tr>\n",
       "      <th>...</th>\n",
       "      <td>...</td>\n",
       "      <td>...</td>\n",
       "      <td>...</td>\n",
       "      <td>...</td>\n",
       "      <td>...</td>\n",
       "      <td>...</td>\n",
       "      <td>...</td>\n",
       "      <td>...</td>\n",
       "    </tr>\n",
       "    <tr>\n",
       "      <th>138</th>\n",
       "      <td>-1.170899</td>\n",
       "      <td>1.268841</td>\n",
       "      <td>0.564944</td>\n",
       "      <td>0.978888</td>\n",
       "      <td>-1.006969</td>\n",
       "      <td>0.446904</td>\n",
       "      <td>-1.054356</td>\n",
       "      <td>-0.572320</td>\n",
       "    </tr>\n",
       "    <tr>\n",
       "      <th>125</th>\n",
       "      <td>-0.519628</td>\n",
       "      <td>0.446118</td>\n",
       "      <td>-1.126951</td>\n",
       "      <td>0.978888</td>\n",
       "      <td>-1.006969</td>\n",
       "      <td>-0.450019</td>\n",
       "      <td>-1.054356</td>\n",
       "      <td>-0.572320</td>\n",
       "    </tr>\n",
       "    <tr>\n",
       "      <th>570</th>\n",
       "      <td>-1.170899</td>\n",
       "      <td>1.268841</td>\n",
       "      <td>0.564944</td>\n",
       "      <td>0.978888</td>\n",
       "      <td>-1.006969</td>\n",
       "      <td>0.446904</td>\n",
       "      <td>1.221631</td>\n",
       "      <td>-1.219974</td>\n",
       "    </tr>\n",
       "    <tr>\n",
       "      <th>75</th>\n",
       "      <td>-0.240512</td>\n",
       "      <td>0.171877</td>\n",
       "      <td>-1.690916</td>\n",
       "      <td>0.978888</td>\n",
       "      <td>-1.006969</td>\n",
       "      <td>1.343828</td>\n",
       "      <td>-1.054356</td>\n",
       "      <td>-1.219974</td>\n",
       "    </tr>\n",
       "    <tr>\n",
       "      <th>438</th>\n",
       "      <td>1.248108</td>\n",
       "      <td>-1.199328</td>\n",
       "      <td>0.000979</td>\n",
       "      <td>-1.181417</td>\n",
       "      <td>0.993080</td>\n",
       "      <td>0.446904</td>\n",
       "      <td>0.083637</td>\n",
       "      <td>0.722989</td>\n",
       "    </tr>\n",
       "  </tbody>\n",
       "</table>\n",
       "<p>576 rows × 8 columns</p>\n",
       "</div>"
      ],
      "text/plain": [
       "           X1        X2        X3        X4        X5        X6        X7  \\\n",
       "380 -1.356977  1.543082  1.128909  0.978888 -1.006969 -1.346942  0.083637   \n",
       "60   0.503798 -0.650846  0.000979 -0.641341  0.993080 -1.346942 -1.054356   \n",
       "100  1.248108 -1.199328  0.000979 -1.181417  0.993080 -1.346942 -1.054356   \n",
       "575 -1.356977  1.543082  1.128909  0.978888 -1.006969  1.343828  1.221631   \n",
       "384  1.992418 -1.747810 -0.562986 -1.451455  0.993080 -1.346942  0.083637   \n",
       "..        ...       ...       ...       ...       ...       ...       ...   \n",
       "138 -1.170899  1.268841  0.564944  0.978888 -1.006969  0.446904 -1.054356   \n",
       "125 -0.519628  0.446118 -1.126951  0.978888 -1.006969 -0.450019 -1.054356   \n",
       "570 -1.170899  1.268841  0.564944  0.978888 -1.006969  0.446904  1.221631   \n",
       "75  -0.240512  0.171877 -1.690916  0.978888 -1.006969  1.343828 -1.054356   \n",
       "438  1.248108 -1.199328  0.000979 -1.181417  0.993080  0.446904  0.083637   \n",
       "\n",
       "           X8  \n",
       "380 -0.572320  \n",
       "60  -1.219974  \n",
       "100 -0.572320  \n",
       "575 -1.219974  \n",
       "384  0.075335  \n",
       "..        ...  \n",
       "138 -0.572320  \n",
       "125 -0.572320  \n",
       "570 -1.219974  \n",
       "75  -1.219974  \n",
       "438  0.722989  \n",
       "\n",
       "[576 rows x 8 columns]"
      ]
     },
     "execution_count": 47,
     "metadata": {},
     "output_type": "execute_result"
    }
   ],
   "source": [
    "scaler = StandardScaler() \n",
    "\n",
    "X_train_scaled = X_train.copy()\n",
    "X_test_scaled = X_test.copy()\n",
    "y_train_scaled = y_train.copy()\n",
    "y_test_scaled = y_test.copy()\n",
    "\n",
    "\n",
    "nums = ['X1', 'X2', 'X3', 'X4', 'X5', 'X6', 'X7', 'X8']\n",
    "\n",
    "X_train_scaled[nums] = scaler.fit_transform(X_train_scaled[nums])\n",
    "X_test_scaled[nums] = scaler.fit_transform(X_test_scaled[nums])\n",
    "y_train_scaled = pd.DataFrame(scaler.fit_transform(y_train_scaled), columns=y_train_scaled.columns)\n",
    "y_test_scaled = pd.DataFrame(scaler.fit_transform(y_test_scaled), columns=y_test_scaled.columns)\n",
    "\n",
    "X_train_scaled"
   ]
  },
  {
   "cell_type": "markdown",
   "metadata": {},
   "source": [
    "## SVM - without tuning"
   ]
  },
  {
   "cell_type": "markdown",
   "metadata": {},
   "source": [
    "### Without scalling"
   ]
  },
  {
   "cell_type": "code",
   "execution_count": 40,
   "metadata": {},
   "outputs": [
    {
     "data": {
      "text/plain": [
       "SVR(C=1.0, cache_size=200, coef0=0.0, degree=3, epsilon=0.1, gamma='scale',\n",
       "    kernel='rbf', max_iter=-1, shrinking=True, tol=0.001, verbose=False)"
      ]
     },
     "execution_count": 40,
     "metadata": {},
     "output_type": "execute_result"
    }
   ],
   "source": [
    "svm_reg = sklearn.svm.SVR()\n",
    "svm_reg.fit(X_train, y_train)"
   ]
  },
  {
   "cell_type": "code",
   "execution_count": 41,
   "metadata": {},
   "outputs": [
    {
     "name": "stdout",
     "output_type": "stream",
     "text": [
      "explained_variance_score=0.7192408814753468\n",
      "max_error=16.26897133016716\n",
      "mean_squared_error=29.508220993983954\n"
     ]
    }
   ],
   "source": [
    "y_pred = svm_reg.predict(X_test)\n",
    "\n",
    "model_score(y_pred, y_test)"
   ]
  },
  {
   "cell_type": "markdown",
   "metadata": {},
   "source": [
    "### With scalling"
   ]
  },
  {
   "cell_type": "code",
   "execution_count": 50,
   "metadata": {},
   "outputs": [
    {
     "data": {
      "text/plain": [
       "SVR(C=1.0, cache_size=200, coef0=0.0, degree=3, epsilon=0.1, gamma='scale',\n",
       "    kernel='rbf', max_iter=-1, shrinking=True, tol=0.001, verbose=False)"
      ]
     },
     "execution_count": 50,
     "metadata": {},
     "output_type": "execute_result"
    }
   ],
   "source": [
    "svm_reg = sklearn.svm.SVR()\n",
    "svm_reg.fit(X_train_scaled, y_train_scaled)"
   ]
  },
  {
   "cell_type": "code",
   "execution_count": 51,
   "metadata": {},
   "outputs": [
    {
     "name": "stdout",
     "output_type": "stream",
     "text": [
      "explained_variance_score=0.9547586888664563\n",
      "max_error=0.7065076504683079\n",
      "mean_squared_error=0.045405214496254\n"
     ]
    }
   ],
   "source": [
    "y_pred = svm_reg.predict(X_test_scaled)\n",
    "\n",
    "model_score(y_pred, y_test_scaled)"
   ]
  },
  {
   "cell_type": "markdown",
   "metadata": {},
   "source": [
    "## SVM - with hyperparameteres tuning\n",
    "#### Random Search Method"
   ]
  },
  {
   "cell_type": "code",
   "execution_count": 53,
   "metadata": {},
   "outputs": [
    {
     "name": "stdout",
     "output_type": "stream",
     "text": [
      "Fitting 3 folds for each of 500 candidates, totalling 1500 fits\n"
     ]
    },
    {
     "name": "stderr",
     "output_type": "stream",
     "text": [
      "[Parallel(n_jobs=-1)]: Using backend LokyBackend with 8 concurrent workers.\n",
      "[Parallel(n_jobs=-1)]: Done  25 tasks      | elapsed:    5.7s\n",
      "[Parallel(n_jobs=-1)]: Done 146 tasks      | elapsed:   24.5s\n",
      "[Parallel(n_jobs=-1)]: Done 349 tasks      | elapsed:  1.2min\n",
      "[Parallel(n_jobs=-1)]: Done 632 tasks      | elapsed:  2.3min\n",
      "[Parallel(n_jobs=-1)]: Done 997 tasks      | elapsed:  3.5min\n",
      "[Parallel(n_jobs=-1)]: Done 1442 tasks      | elapsed:  5.1min\n",
      "[Parallel(n_jobs=-1)]: Done 1500 out of 1500 | elapsed:  5.3min finished\n"
     ]
    }
   ],
   "source": [
    "rand_search_cv = RandomizedSearchCV(estimator=sklearn.svm.SVR(epsilon = 0.01),\n",
    "                                   param_distributions=params,\n",
    "                                   n_jobs=-1,\n",
    "                                    n_iter=500,\n",
    "                                   verbose=2,\n",
    "                                   cv=3)\n",
    "result = rand_search_cv.fit(X_train, y_train)\n",
    "best_params = result.best_params_"
   ]
  },
  {
   "cell_type": "code",
   "execution_count": 54,
   "metadata": {},
   "outputs": [],
   "source": [
    "C = best_params['C']\n",
    "degree = best_params['degree']\n",
    "gamma = best_params['gamma']"
   ]
  },
  {
   "cell_type": "markdown",
   "metadata": {},
   "source": [
    "### Without scalling"
   ]
  },
  {
   "cell_type": "code",
   "execution_count": 55,
   "metadata": {},
   "outputs": [
    {
     "name": "stdout",
     "output_type": "stream",
     "text": [
      "explained_variance_score=0.9962285406459845\n",
      "max_error=3.1294842434118095\n",
      "mean_squared_error=0.38751251786556623\n"
     ]
    }
   ],
   "source": [
    "svm_reg = sklearn.svm.SVR(C = C, gamma = gamma, degree = degree)\n",
    "svm_reg.fit(X_train, y_train)\n",
    "y_pred = svm_reg.predict(X_test)\n",
    "\n",
    "model_score(y_pred, y_test)"
   ]
  },
  {
   "cell_type": "markdown",
   "metadata": {},
   "source": [
    "### With scalling"
   ]
  },
  {
   "cell_type": "code",
   "execution_count": 56,
   "metadata": {},
   "outputs": [
    {
     "name": "stdout",
     "output_type": "stream",
     "text": [
      "explained_variance_score=0.9688113224548751\n",
      "max_error=0.4954438003905063\n",
      "mean_squared_error=0.0313485403887\n"
     ]
    }
   ],
   "source": [
    "svm_reg = sklearn.svm.SVR(C = C, gamma = gamma, degree = degree)\n",
    "svm_reg.fit(X_train_scaled, y_train_scaled)\n",
    "\n",
    "y_pred = svm_reg.predict(X_test_scaled)\n",
    "\n",
    "model_score(y_pred, y_test_scaled)"
   ]
  },
  {
   "cell_type": "markdown",
   "metadata": {},
   "source": [
    "## Conclusions\n",
    "\n",
    "The results are the same as in the first dataframe:\n",
    "- scalling is a good tools to make model better\n",
    "- what is obvious hyperparameteres tuning make that model is better"
   ]
  }
 ],
 "metadata": {
  "kernelspec": {
   "display_name": "Python 3",
   "language": "python",
   "name": "python3"
  },
  "language_info": {
   "codemirror_mode": {
    "name": "ipython",
    "version": 3
   },
   "file_extension": ".py",
   "mimetype": "text/x-python",
   "name": "python",
   "nbconvert_exporter": "python",
   "pygments_lexer": "ipython3",
   "version": "3.7.1"
  }
 },
 "nbformat": 4,
 "nbformat_minor": 4
}
