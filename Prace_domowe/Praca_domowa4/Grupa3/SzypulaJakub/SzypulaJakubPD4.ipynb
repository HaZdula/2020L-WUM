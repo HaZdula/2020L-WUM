{
 "cells": [
  {
   "cell_type": "markdown",
   "metadata": {},
   "source": [
    "# Praca domowa nr 4\n",
    "Jakub Szypuła"
   ]
  },
  {
   "cell_type": "markdown",
   "metadata": {},
   "source": [
    "## Załadowanie danych i pakietów"
   ]
  },
  {
   "cell_type": "markdown",
   "metadata": {},
   "source": [
    "### Apartments"
   ]
  },
  {
   "cell_type": "code",
   "execution_count": 1,
   "metadata": {},
   "outputs": [
    {
     "data": {
      "text/html": [
       "<div>\n",
       "<style scoped>\n",
       "    .dataframe tbody tr th:only-of-type {\n",
       "        vertical-align: middle;\n",
       "    }\n",
       "\n",
       "    .dataframe tbody tr th {\n",
       "        vertical-align: top;\n",
       "    }\n",
       "\n",
       "    .dataframe thead th {\n",
       "        text-align: right;\n",
       "    }\n",
       "</style>\n",
       "<table border=\"1\" class=\"dataframe\">\n",
       "  <thead>\n",
       "    <tr style=\"text-align: right;\">\n",
       "      <th></th>\n",
       "      <th>m2.price</th>\n",
       "      <th>construction.year</th>\n",
       "      <th>surface</th>\n",
       "      <th>floor</th>\n",
       "      <th>no.rooms</th>\n",
       "      <th>district</th>\n",
       "    </tr>\n",
       "  </thead>\n",
       "  <tbody>\n",
       "    <tr>\n",
       "      <th>0</th>\n",
       "      <td>5897</td>\n",
       "      <td>1953</td>\n",
       "      <td>25</td>\n",
       "      <td>3</td>\n",
       "      <td>1</td>\n",
       "      <td>Srodmiescie</td>\n",
       "    </tr>\n",
       "    <tr>\n",
       "      <th>1</th>\n",
       "      <td>1818</td>\n",
       "      <td>1992</td>\n",
       "      <td>143</td>\n",
       "      <td>9</td>\n",
       "      <td>5</td>\n",
       "      <td>Bielany</td>\n",
       "    </tr>\n",
       "    <tr>\n",
       "      <th>2</th>\n",
       "      <td>3643</td>\n",
       "      <td>1937</td>\n",
       "      <td>56</td>\n",
       "      <td>1</td>\n",
       "      <td>2</td>\n",
       "      <td>Praga</td>\n",
       "    </tr>\n",
       "    <tr>\n",
       "      <th>3</th>\n",
       "      <td>3517</td>\n",
       "      <td>1995</td>\n",
       "      <td>93</td>\n",
       "      <td>7</td>\n",
       "      <td>3</td>\n",
       "      <td>Ochota</td>\n",
       "    </tr>\n",
       "    <tr>\n",
       "      <th>4</th>\n",
       "      <td>3013</td>\n",
       "      <td>1992</td>\n",
       "      <td>144</td>\n",
       "      <td>6</td>\n",
       "      <td>5</td>\n",
       "      <td>Mokotow</td>\n",
       "    </tr>\n",
       "  </tbody>\n",
       "</table>\n",
       "</div>"
      ],
      "text/plain": [
       "   m2.price  construction.year  surface  floor  no.rooms     district\n",
       "0      5897               1953       25      3         1  Srodmiescie\n",
       "1      1818               1992      143      9         5      Bielany\n",
       "2      3643               1937       56      1         2        Praga\n",
       "3      3517               1995       93      7         3       Ochota\n",
       "4      3013               1992      144      6         5      Mokotow"
      ]
     },
     "execution_count": 1,
     "metadata": {},
     "output_type": "execute_result"
    }
   ],
   "source": [
    "import pandas as pd\n",
    "import numpy as np\n",
    "apartments = pd.read_csv('https://raw.githubusercontent.com/mini-pw/2020L-WUM/master/Prace_domowe/Praca_domowa4/Grupa1/apartments.csv')\n",
    "apartments.head()"
   ]
  },
  {
   "cell_type": "markdown",
   "metadata": {},
   "source": [
    "### AoE2 Voobly Data\n",
    "\n",
    "Jako drugi zbiór danych postanowiłem wybrać zbiór danych dotyczący meczy 1 na 1 w grze strategicznej Age of Empires II, rozgrywanej przez platformę Voobly. Jako zmienną celu przyjąłem `player_1_wins` oznaczającą zwycięstwo gracza nr 1.\n",
    "\n",
    "Ze względu na ogromny rozmiar danych, postanowiłem je określić do losowych 1000 obserwacji.\n",
    "\n",
    "Źródło danych: https://blog.macuyiko.com/post/2018/predicting-voobly-age-of-empires-2-matches.html"
   ]
  },
  {
   "cell_type": "code",
   "execution_count": 2,
   "metadata": {},
   "outputs": [],
   "source": [
    "aoe2 = pd.read_csv('https://github.com/Macuyiko/aoe2predict/raw/master/prepared_data.csv.gz')"
   ]
  },
  {
   "cell_type": "code",
   "execution_count": 3,
   "metadata": {},
   "outputs": [
    {
     "data": {
      "text/plain": [
       "(1808535, 67)"
      ]
     },
     "execution_count": 3,
     "metadata": {},
     "output_type": "execute_result"
    }
   ],
   "source": [
    "aoe2.shape"
   ]
  },
  {
   "cell_type": "code",
   "execution_count": 4,
   "metadata": {},
   "outputs": [
    {
     "data": {
      "text/plain": [
       "(1000, 67)"
      ]
     },
     "execution_count": 4,
     "metadata": {},
     "output_type": "execute_result"
    }
   ],
   "source": [
    "aoe2 = aoe2.sample(n=1000, random_state=11)\n",
    "aoe2.shape"
   ]
  },
  {
   "cell_type": "code",
   "execution_count": 5,
   "metadata": {
    "scrolled": true
   },
   "outputs": [
    {
     "data": {
      "text/html": [
       "<div>\n",
       "<style scoped>\n",
       "    .dataframe tbody tr th:only-of-type {\n",
       "        vertical-align: middle;\n",
       "    }\n",
       "\n",
       "    .dataframe tbody tr th {\n",
       "        vertical-align: top;\n",
       "    }\n",
       "\n",
       "    .dataframe thead th {\n",
       "        text-align: right;\n",
       "    }\n",
       "</style>\n",
       "<table border=\"1\" class=\"dataframe\">\n",
       "  <thead>\n",
       "    <tr style=\"text-align: right;\">\n",
       "      <th></th>\n",
       "      <th>match_id</th>\n",
       "      <th>current_time</th>\n",
       "      <th>diff_units_infantry</th>\n",
       "      <th>diff_units_ranged</th>\n",
       "      <th>diff_units_siege</th>\n",
       "      <th>diff_units_war_ships</th>\n",
       "      <th>diff_units_cavalry_archers</th>\n",
       "      <th>diff_units_cavalry</th>\n",
       "      <th>diff_units_monks</th>\n",
       "      <th>diff_units_idle_fishing_ships</th>\n",
       "      <th>...</th>\n",
       "      <th>diff_worth_lost</th>\n",
       "      <th>diff_score_military</th>\n",
       "      <th>diff_score_economy</th>\n",
       "      <th>diff_score_technology</th>\n",
       "      <th>diff_score_society</th>\n",
       "      <th>diff_score_total</th>\n",
       "      <th>diff_kills</th>\n",
       "      <th>diff_razes</th>\n",
       "      <th>player_1_wins</th>\n",
       "      <th>diff_rating</th>\n",
       "    </tr>\n",
       "  </thead>\n",
       "  <tbody>\n",
       "    <tr>\n",
       "      <th>235862</th>\n",
       "      <td>16721218</td>\n",
       "      <td>1060026</td>\n",
       "      <td>3</td>\n",
       "      <td>12</td>\n",
       "      <td>0</td>\n",
       "      <td>0</td>\n",
       "      <td>0</td>\n",
       "      <td>-1</td>\n",
       "      <td>0</td>\n",
       "      <td>0</td>\n",
       "      <td>...</td>\n",
       "      <td>-160</td>\n",
       "      <td>32</td>\n",
       "      <td>115</td>\n",
       "      <td>-20</td>\n",
       "      <td>0</td>\n",
       "      <td>127</td>\n",
       "      <td>1</td>\n",
       "      <td>0</td>\n",
       "      <td>1</td>\n",
       "      <td>-32</td>\n",
       "    </tr>\n",
       "    <tr>\n",
       "      <th>1661235</th>\n",
       "      <td>16762423</td>\n",
       "      <td>1405152</td>\n",
       "      <td>0</td>\n",
       "      <td>0</td>\n",
       "      <td>1</td>\n",
       "      <td>0</td>\n",
       "      <td>4</td>\n",
       "      <td>2</td>\n",
       "      <td>1</td>\n",
       "      <td>0</td>\n",
       "      <td>...</td>\n",
       "      <td>-459</td>\n",
       "      <td>36</td>\n",
       "      <td>101</td>\n",
       "      <td>-5</td>\n",
       "      <td>0</td>\n",
       "      <td>132</td>\n",
       "      <td>2</td>\n",
       "      <td>0</td>\n",
       "      <td>0</td>\n",
       "      <td>-53</td>\n",
       "    </tr>\n",
       "    <tr>\n",
       "      <th>1270841</th>\n",
       "      <td>16724135</td>\n",
       "      <td>3503286</td>\n",
       "      <td>8</td>\n",
       "      <td>22</td>\n",
       "      <td>0</td>\n",
       "      <td>0</td>\n",
       "      <td>0</td>\n",
       "      <td>-7</td>\n",
       "      <td>-1</td>\n",
       "      <td>0</td>\n",
       "      <td>...</td>\n",
       "      <td>3446</td>\n",
       "      <td>-345</td>\n",
       "      <td>178</td>\n",
       "      <td>-976</td>\n",
       "      <td>98</td>\n",
       "      <td>-1045</td>\n",
       "      <td>65</td>\n",
       "      <td>5</td>\n",
       "      <td>0</td>\n",
       "      <td>32</td>\n",
       "    </tr>\n",
       "    <tr>\n",
       "      <th>1675612</th>\n",
       "      <td>16768685</td>\n",
       "      <td>561606</td>\n",
       "      <td>-3</td>\n",
       "      <td>0</td>\n",
       "      <td>0</td>\n",
       "      <td>0</td>\n",
       "      <td>0</td>\n",
       "      <td>1</td>\n",
       "      <td>0</td>\n",
       "      <td>0</td>\n",
       "      <td>...</td>\n",
       "      <td>-80</td>\n",
       "      <td>16</td>\n",
       "      <td>-24</td>\n",
       "      <td>110</td>\n",
       "      <td>0</td>\n",
       "      <td>102</td>\n",
       "      <td>1</td>\n",
       "      <td>0</td>\n",
       "      <td>1</td>\n",
       "      <td>17</td>\n",
       "    </tr>\n",
       "    <tr>\n",
       "      <th>988008</th>\n",
       "      <td>16723315</td>\n",
       "      <td>979056</td>\n",
       "      <td>0</td>\n",
       "      <td>0</td>\n",
       "      <td>0</td>\n",
       "      <td>0</td>\n",
       "      <td>0</td>\n",
       "      <td>3</td>\n",
       "      <td>0</td>\n",
       "      <td>0</td>\n",
       "      <td>...</td>\n",
       "      <td>-50</td>\n",
       "      <td>0</td>\n",
       "      <td>298</td>\n",
       "      <td>0</td>\n",
       "      <td>0</td>\n",
       "      <td>298</td>\n",
       "      <td>0</td>\n",
       "      <td>0</td>\n",
       "      <td>0</td>\n",
       "      <td>211</td>\n",
       "    </tr>\n",
       "  </tbody>\n",
       "</table>\n",
       "<p>5 rows × 67 columns</p>\n",
       "</div>"
      ],
      "text/plain": [
       "         match_id  current_time  diff_units_infantry  diff_units_ranged  \\\n",
       "235862   16721218       1060026                    3                 12   \n",
       "1661235  16762423       1405152                    0                  0   \n",
       "1270841  16724135       3503286                    8                 22   \n",
       "1675612  16768685        561606                   -3                  0   \n",
       "988008   16723315        979056                    0                  0   \n",
       "\n",
       "         diff_units_siege  diff_units_war_ships  diff_units_cavalry_archers  \\\n",
       "235862                  0                     0                           0   \n",
       "1661235                 1                     0                           4   \n",
       "1270841                 0                     0                           0   \n",
       "1675612                 0                     0                           0   \n",
       "988008                  0                     0                           0   \n",
       "\n",
       "         diff_units_cavalry  diff_units_monks  diff_units_idle_fishing_ships  \\\n",
       "235862                   -1                 0                              0   \n",
       "1661235                   2                 1                              0   \n",
       "1270841                  -7                -1                              0   \n",
       "1675612                   1                 0                              0   \n",
       "988008                    3                 0                              0   \n",
       "\n",
       "         ...  diff_worth_lost  diff_score_military  diff_score_economy  \\\n",
       "235862   ...             -160                   32                 115   \n",
       "1661235  ...             -459                   36                 101   \n",
       "1270841  ...             3446                 -345                 178   \n",
       "1675612  ...              -80                   16                 -24   \n",
       "988008   ...              -50                    0                 298   \n",
       "\n",
       "         diff_score_technology  diff_score_society  diff_score_total  \\\n",
       "235862                     -20                   0               127   \n",
       "1661235                     -5                   0               132   \n",
       "1270841                   -976                  98             -1045   \n",
       "1675612                    110                   0               102   \n",
       "988008                       0                   0               298   \n",
       "\n",
       "         diff_kills  diff_razes  player_1_wins  diff_rating  \n",
       "235862            1           0              1          -32  \n",
       "1661235           2           0              0          -53  \n",
       "1270841          65           5              0           32  \n",
       "1675612           1           0              1           17  \n",
       "988008            0           0              0          211  \n",
       "\n",
       "[5 rows x 67 columns]"
      ]
     },
     "execution_count": 5,
     "metadata": {},
     "output_type": "execute_result"
    }
   ],
   "source": [
    "aoe2.head()"
   ]
  },
  {
   "cell_type": "code",
   "execution_count": 6,
   "metadata": {},
   "outputs": [
    {
     "data": {
      "text/plain": [
       "0.0"
      ]
     },
     "execution_count": 6,
     "metadata": {},
     "output_type": "execute_result"
    }
   ],
   "source": [
    "aoe2braki=aoe2.isnull().mean() \n",
    "aoe2braki.sum()"
   ]
  },
  {
   "cell_type": "markdown",
   "metadata": {},
   "source": [
    "Na szczęście w zbiorze danych nie ma żadnych braków."
   ]
  },
  {
   "cell_type": "code",
   "execution_count": 7,
   "metadata": {},
   "outputs": [],
   "source": [
    "from sklearn.model_selection import train_test_split\n",
    "y_ap = apartments[[\"district\"]]\n",
    "X_ap = apartments.drop([\"district\"], axis=1)\n",
    "X_train_ap, X_test_ap, y_train_ap, y_test_ap = train_test_split(X_ap, y_ap, test_size=0.15, random_state=111)\n",
    "y_train_ap = y_train_ap.values.ravel()\n",
    "y_test_ap = y_test_ap.values.ravel()\n",
    "y_aoe2 = aoe2[[\"player_1_wins\"]]\n",
    "X_aoe2 = aoe2.drop([\"player_1_wins\"], axis=1)\n",
    "X_train_aoe2, X_test_aoe2, y_train_aoe2, y_test_aoe2 = train_test_split(X_aoe2, y_aoe2, test_size = 0.15, random_state = 111)\n",
    "y_train_aoe2 = y_train_aoe2.values.ravel()\n",
    "y_test_aoe2 = y_test_aoe2.values.ravel()"
   ]
  },
  {
   "cell_type": "markdown",
   "metadata": {},
   "source": [
    "## SVM bez skalowania"
   ]
  },
  {
   "cell_type": "code",
   "execution_count": 8,
   "metadata": {},
   "outputs": [],
   "source": [
    "from sklearn import svm\n",
    "from sklearn.metrics import accuracy_score\n",
    "model = svm.SVC()"
   ]
  },
  {
   "cell_type": "markdown",
   "metadata": {},
   "source": [
    "### Apartments"
   ]
  },
  {
   "cell_type": "code",
   "execution_count": 8,
   "metadata": {},
   "outputs": [
    {
     "data": {
      "text/plain": [
       "0.20666666666666667"
      ]
     },
     "execution_count": 8,
     "metadata": {},
     "output_type": "execute_result"
    }
   ],
   "source": [
    "model.fit(X_train_ap, y_train_ap)\n",
    "y_predicted_ap = model.predict(X_test_ap)\n",
    "accuracy_score(y_test_ap, y_predicted_ap)"
   ]
  },
  {
   "cell_type": "markdown",
   "metadata": {},
   "source": [
    "#### Strojenie\n"
   ]
  },
  {
   "cell_type": "code",
   "execution_count": 14,
   "metadata": {},
   "outputs": [
    {
     "data": {
      "text/plain": [
       "{'gamma': 'auto', 'degree': 5, 'C': 6.5}"
      ]
     },
     "execution_count": 14,
     "metadata": {},
     "output_type": "execute_result"
    }
   ],
   "source": [
    "from sklearn.model_selection import RandomizedSearchCV\n",
    "\n",
    "C = np.arange(0.1, 15, 0.1)\n",
    "degree = np.arange(1, 6, 1)\n",
    "gamma = [\"scale\", \"auto\"] + np.arange(0.1, 0.5, 0.1).tolist()\n",
    "hyperF = dict(C = C, degree = degree, gamma = gamma)\n",
    "\n",
    "grid = RandomizedSearchCV(model, hyperF, cv = 11, random_state = 11)\n",
    "grid.fit(X_train_ap, y_train_ap)\n",
    "grid.best_params_"
   ]
  },
  {
   "cell_type": "code",
   "execution_count": 45,
   "metadata": {},
   "outputs": [
    {
     "data": {
      "text/plain": [
       "0.06666666666666667"
      ]
     },
     "execution_count": 45,
     "metadata": {},
     "output_type": "execute_result"
    }
   ],
   "source": [
    "svm_ap_strj = svm.SVC(gamma = 0.11, degree = 4, C = 14.5)\n",
    "svm_ap_strj.fit(X_train_ap, y_train_ap)\n",
    "y_predicted_ap_strj = svm_ap_strj.predict(X_test_ap)\n",
    "accuracy_score(y_test_ap, y_predicted_ap_strj)"
   ]
  },
  {
   "cell_type": "markdown",
   "metadata": {},
   "source": [
    "Automatyczne strojenie znacząco pogorszyło wynik. Być może to kwestia ustalonego random_state."
   ]
  },
  {
   "cell_type": "markdown",
   "metadata": {},
   "source": [
    "### AoE 2"
   ]
  },
  {
   "cell_type": "code",
   "execution_count": 9,
   "metadata": {},
   "outputs": [
    {
     "data": {
      "text/plain": [
       "0.5066666666666667"
      ]
     },
     "execution_count": 9,
     "metadata": {},
     "output_type": "execute_result"
    }
   ],
   "source": [
    "model.fit(X_train_aoe2, y_train_aoe2)\n",
    "y_predicted_aoe2 = model.predict(X_test_aoe2)\n",
    "accuracy_score(y_test_aoe2, y_predicted_aoe2)"
   ]
  },
  {
   "cell_type": "markdown",
   "metadata": {},
   "source": [
    "#### Strojenie\n"
   ]
  },
  {
   "cell_type": "code",
   "execution_count": 46,
   "metadata": {},
   "outputs": [
    {
     "data": {
      "text/plain": [
       "{'gamma': 0.22999999999999995, 'degree': 2, 'C': 4.9}"
      ]
     },
     "execution_count": 46,
     "metadata": {},
     "output_type": "execute_result"
    }
   ],
   "source": [
    "grid = RandomizedSearchCV(model, hyperF, cv = 11, random_state = 11)\n",
    "grid.fit(X_train_aoe2, y_train_aoe2)\n",
    "grid.best_params_"
   ]
  },
  {
   "cell_type": "code",
   "execution_count": 47,
   "metadata": {},
   "outputs": [
    {
     "data": {
      "text/plain": [
       "0.0"
      ]
     },
     "execution_count": 47,
     "metadata": {},
     "output_type": "execute_result"
    }
   ],
   "source": [
    "svm_aoe2_strj = svm.SVC(gamma = 0.22999999999999995, degree = 2, C = 4.9)\n",
    "svm_aoe2_strj.fit(X_train_aoe2, y_train_aoe2)\n",
    "y_predicted_aoe2_strj = svm_aoe2_strj.predict(X_test_aoe2)\n",
    "accuracy_score(y_test_ap, y_predicted_aoe2_strj)"
   ]
  },
  {
   "cell_type": "markdown",
   "metadata": {},
   "source": [
    "Stwierdzenie, że losowe strojenie pogorszyło wynik byłoby tutaj niedopowiedzeniem."
   ]
  },
  {
   "cell_type": "markdown",
   "metadata": {},
   "source": [
    "## Inne jądra\n",
    "### Liniowe\n",
    "#### Apartments"
   ]
  },
  {
   "cell_type": "code",
   "execution_count": 12,
   "metadata": {},
   "outputs": [
    {
     "data": {
      "text/plain": [
       "0.26"
      ]
     },
     "execution_count": 12,
     "metadata": {},
     "output_type": "execute_result"
    }
   ],
   "source": [
    "model = svm.SVC(kernel='linear')\n",
    "model.fit(X_train_ap, y_train_ap)\n",
    "y_predicted_ap = model.predict(X_test_ap)\n",
    "accuracy_score(y_test_ap, y_predicted_ap)"
   ]
  },
  {
   "cell_type": "markdown",
   "metadata": {},
   "source": [
    "#### AoE2"
   ]
  },
  {
   "cell_type": "code",
   "execution_count": null,
   "metadata": {},
   "outputs": [],
   "source": [
    "model.fit(X_train_aoe2, y_train_aoe2)\n",
    "y_predicted_aoe2 = model.predict(X_test_aoe2)\n",
    "accuracy_score(y_test_aoe2, y_predicted_aoe2)"
   ]
  },
  {
   "cell_type": "markdown",
   "metadata": {},
   "source": [
    "Powyższy kod wykonywał się ponad pół godziny i nie wykonał się, dlatego zrezygnowałem z analizy tego jądra."
   ]
  },
  {
   "cell_type": "markdown",
   "metadata": {},
   "source": [
    "### Poly\n",
    "\n",
    "#### Apartments"
   ]
  },
  {
   "cell_type": "code",
   "execution_count": 9,
   "metadata": {},
   "outputs": [
    {
     "data": {
      "text/plain": [
       "0.24"
      ]
     },
     "execution_count": 9,
     "metadata": {},
     "output_type": "execute_result"
    }
   ],
   "source": [
    "model = svm.SVC(kernel='poly')\n",
    "model.fit(X_train_ap, y_train_ap)\n",
    "y_predicted_ap = model.predict(X_test_ap)\n",
    "accuracy_score(y_test_ap, y_predicted_ap)"
   ]
  },
  {
   "cell_type": "markdown",
   "metadata": {},
   "source": [
    "#### AoE2"
   ]
  },
  {
   "cell_type": "code",
   "execution_count": 10,
   "metadata": {},
   "outputs": [
    {
     "data": {
      "text/plain": [
       "0.5066666666666667"
      ]
     },
     "execution_count": 10,
     "metadata": {},
     "output_type": "execute_result"
    }
   ],
   "source": [
    "model.fit(X_train_aoe2, y_train_aoe2)\n",
    "y_predicted_aoe2 = model.predict(X_test_aoe2)\n",
    "accuracy_score(y_test_aoe2, y_predicted_aoe2)"
   ]
  },
  {
   "cell_type": "markdown",
   "metadata": {},
   "source": [
    "### Sigmoid\n",
    "#### Apartments"
   ]
  },
  {
   "cell_type": "code",
   "execution_count": 11,
   "metadata": {},
   "outputs": [
    {
     "data": {
      "text/plain": [
       "0.0"
      ]
     },
     "execution_count": 11,
     "metadata": {},
     "output_type": "execute_result"
    }
   ],
   "source": [
    "model = svm.SVC(kernel='sigmoid')\n",
    "model.fit(X_train_ap, y_train_ap)\n",
    "y_predicted_ap = model.predict(X_test_ap)\n",
    "accuracy_score(y_test_ap, y_predicted_ap)"
   ]
  },
  {
   "cell_type": "markdown",
   "metadata": {},
   "source": [
    "#### AoE2"
   ]
  },
  {
   "cell_type": "code",
   "execution_count": 12,
   "metadata": {},
   "outputs": [
    {
     "data": {
      "text/plain": [
       "0.5066666666666667"
      ]
     },
     "execution_count": 12,
     "metadata": {},
     "output_type": "execute_result"
    }
   ],
   "source": [
    "model.fit(X_train_aoe2, y_train_aoe2)\n",
    "y_predicted_aoe2 = model.predict(X_test_aoe2)\n",
    "accuracy_score(y_test_aoe2, y_predicted_aoe2)"
   ]
  },
  {
   "cell_type": "markdown",
   "metadata": {},
   "source": [
    "### Podsumowanie\n",
    "\n",
    "Wykorzystanie innych jąder nie poprawiło zbytnio sytuacji, jeżęli wręcz jej nie pogorszyło."
   ]
  },
  {
   "cell_type": "markdown",
   "metadata": {},
   "source": [
    "## Skalowanie"
   ]
  },
  {
   "cell_type": "markdown",
   "metadata": {},
   "source": [
    "### Apartments"
   ]
  },
  {
   "cell_type": "code",
   "execution_count": 31,
   "metadata": {},
   "outputs": [],
   "source": [
    "from sklearn.preprocessing import StandardScaler\n",
    "scaler = StandardScaler()\n",
    "X_scaled_ap = scaler.fit_transform(X_ap)\n",
    "X_scaled_ap = pd.DataFrame(X_scaled_ap, columns = X_ap.columns)"
   ]
  },
  {
   "cell_type": "code",
   "execution_count": 32,
   "metadata": {},
   "outputs": [
    {
     "data": {
      "text/plain": [
       "0.26"
      ]
     },
     "execution_count": 32,
     "metadata": {},
     "output_type": "execute_result"
    }
   ],
   "source": [
    "X_train_ap, X_test_ap, y_train_ap, y_test_ap = train_test_split(X_scaled_ap, y_ap, test_size=0.15, random_state=111)\n",
    "y_train_ap = y_train_ap.values.ravel()\n",
    "y_test_ap = y_test_ap.values.ravel()\n",
    "model = svm.SVC()\n",
    "model.fit(X_train_ap, y_train_ap)\n",
    "y_predicted = model.predict(X_test_ap)\n",
    "accuracy_score(y_test_ap, y_predicted)\n"
   ]
  },
  {
   "cell_type": "markdown",
   "metadata": {},
   "source": [
    "#### Strojenie"
   ]
  },
  {
   "cell_type": "code",
   "execution_count": 21,
   "metadata": {},
   "outputs": [
    {
     "data": {
      "text/plain": [
       "{'gamma': 0.1, 'degree': 1, 'C': 1.2000000000000002}"
      ]
     },
     "execution_count": 21,
     "metadata": {},
     "output_type": "execute_result"
    }
   ],
   "source": [
    "grid = RandomizedSearchCV(model, hyperF, cv = 11, random_state = 11)\n",
    "grid.fit(X_train_ap, y_train_ap)\n",
    "grid.best_params_"
   ]
  },
  {
   "cell_type": "code",
   "execution_count": 27,
   "metadata": {},
   "outputs": [
    {
     "data": {
      "text/plain": [
       "0.25333333333333335"
      ]
     },
     "execution_count": 27,
     "metadata": {},
     "output_type": "execute_result"
    }
   ],
   "source": [
    "model = svm.SVC(gamma = 0.1, C = 1.2)\n",
    "model.fit(X_train_ap, y_train_ap)\n",
    "y_predicted = model.predict(X_test_ap)\n",
    "accuracy_score(y_test_ap, y_predicted)"
   ]
  },
  {
   "cell_type": "markdown",
   "metadata": {},
   "source": [
    "### AoE 2"
   ]
  },
  {
   "cell_type": "code",
   "execution_count": 24,
   "metadata": {},
   "outputs": [
    {
     "data": {
      "text/plain": [
       "0.6933333333333334"
      ]
     },
     "execution_count": 24,
     "metadata": {},
     "output_type": "execute_result"
    }
   ],
   "source": [
    "X_scaled_aoe2 = scaler.fit_transform(X_aoe2)\n",
    "X_train_aoe2, X_test_aoe2, y_train_aoe2, y_test_aoe2 = train_test_split(X_scaled_aoe2, y_aoe2, test_size=0.15, random_state=111)\n",
    "y_train_aoe2 = y_train_aoe2.values.ravel()\n",
    "y_test_aoe2 = y_test_aoe2.values.ravel()\n",
    "model = svm.SVC()\n",
    "model.fit(X_train_aoe2, y_train_aoe2)\n",
    "y_predicted = model.predict(X_test_aoe2)\n",
    "accuracy_score(y_test_aoe2, y_predicted)"
   ]
  },
  {
   "cell_type": "markdown",
   "metadata": {},
   "source": [
    "#### Strojenie"
   ]
  },
  {
   "cell_type": "code",
   "execution_count": 25,
   "metadata": {},
   "outputs": [
    {
     "data": {
      "text/plain": [
       "{'gamma': 'auto', 'degree': 5, 'C': 6.5}"
      ]
     },
     "execution_count": 25,
     "metadata": {},
     "output_type": "execute_result"
    }
   ],
   "source": [
    "grid = RandomizedSearchCV(model, hyperF, cv = 11, random_state = 11)\n",
    "grid.fit(X_train_aoe2, y_train_aoe2)\n",
    "grid.best_params_"
   ]
  },
  {
   "cell_type": "code",
   "execution_count": 26,
   "metadata": {},
   "outputs": [
    {
     "data": {
      "text/plain": [
       "0.6333333333333333"
      ]
     },
     "execution_count": 26,
     "metadata": {},
     "output_type": "execute_result"
    }
   ],
   "source": [
    "model = svm.SVC(gamma = 0.1, degree = 1, C = 1.2)\n",
    "model.fit(X_train_aoe2, y_train_aoe2)\n",
    "y_predicted = model.predict(X_test_aoe2)\n",
    "accuracy_score(y_test_aoe2, y_predicted)"
   ]
  },
  {
   "cell_type": "markdown",
   "metadata": {},
   "source": [
    "### Wnioski\n",
    "\n",
    "Strojenie za pomocą RandomizedSearch nie poprawiło znacząco wyników (a nawet je pogorszyło względem domyślnych), za to przeskalowanie danych dało znaczące polepszenie polepszenie (z 0.2 do 0.26 i z 0.5 do 0.6 dla obu zbiorów danych). Zwrócenie uwagi na skalowanie danych jest słuszne, ponieważ może to znacznie wpłynąć na wynik."
   ]
  },
  {
   "cell_type": "markdown",
   "metadata": {},
   "source": [
    "## Oświadczenie\n",
    "Potwierdzam samodzielność powyższej pracy oraz niekorzystanie przeze mnie z niedozwolonych źródeł"
   ]
  }
 ],
 "metadata": {
  "kernelspec": {
   "display_name": "Python 3",
   "language": "python",
   "name": "python3"
  },
  "language_info": {
   "codemirror_mode": {
    "name": "ipython",
    "version": 3
   },
   "file_extension": ".py",
   "mimetype": "text/x-python",
   "name": "python",
   "nbconvert_exporter": "python",
   "pygments_lexer": "ipython3",
   "version": "3.7.0"
  }
 },
 "nbformat": 4,
 "nbformat_minor": 2
}
