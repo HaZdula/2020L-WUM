{
 "cells": [
  {
   "cell_type": "markdown",
   "metadata": {},
   "source": [
    "# Apartments\n",
    "\n",
    "Dane pobrałam w repo pakietu DALEX."
   ]
  },
  {
   "cell_type": "code",
   "execution_count": 58,
   "metadata": {},
   "outputs": [],
   "source": [
    "import rdata\n",
    "\n",
    "parsed = rdata.parser.parse_file(\"apartments.rda\")\n",
    "converted = rdata.conversion.convert(parsed)\n",
    "apartments = converted[\"apartments\"]"
   ]
  },
  {
   "cell_type": "code",
   "execution_count": 59,
   "metadata": {},
   "outputs": [
    {
     "data": {
      "text/html": [
       "<div>\n",
       "<style scoped>\n",
       "    .dataframe tbody tr th:only-of-type {\n",
       "        vertical-align: middle;\n",
       "    }\n",
       "\n",
       "    .dataframe tbody tr th {\n",
       "        vertical-align: top;\n",
       "    }\n",
       "\n",
       "    .dataframe thead th {\n",
       "        text-align: right;\n",
       "    }\n",
       "</style>\n",
       "<table border=\"1\" class=\"dataframe\">\n",
       "  <thead>\n",
       "    <tr style=\"text-align: right;\">\n",
       "      <th></th>\n",
       "      <th>m2.price</th>\n",
       "      <th>construction.year</th>\n",
       "      <th>surface</th>\n",
       "      <th>floor</th>\n",
       "      <th>no.rooms</th>\n",
       "      <th>district</th>\n",
       "    </tr>\n",
       "  </thead>\n",
       "  <tbody>\n",
       "    <tr>\n",
       "      <th>0</th>\n",
       "      <td>5897.0</td>\n",
       "      <td>1953.0</td>\n",
       "      <td>25.0</td>\n",
       "      <td>3</td>\n",
       "      <td>1.0</td>\n",
       "      <td>Srodmiescie</td>\n",
       "    </tr>\n",
       "    <tr>\n",
       "      <th>1</th>\n",
       "      <td>1818.0</td>\n",
       "      <td>1992.0</td>\n",
       "      <td>143.0</td>\n",
       "      <td>9</td>\n",
       "      <td>5.0</td>\n",
       "      <td>Bielany</td>\n",
       "    </tr>\n",
       "    <tr>\n",
       "      <th>2</th>\n",
       "      <td>3643.0</td>\n",
       "      <td>1937.0</td>\n",
       "      <td>56.0</td>\n",
       "      <td>1</td>\n",
       "      <td>2.0</td>\n",
       "      <td>Praga</td>\n",
       "    </tr>\n",
       "    <tr>\n",
       "      <th>3</th>\n",
       "      <td>3517.0</td>\n",
       "      <td>1995.0</td>\n",
       "      <td>93.0</td>\n",
       "      <td>7</td>\n",
       "      <td>3.0</td>\n",
       "      <td>Ochota</td>\n",
       "    </tr>\n",
       "    <tr>\n",
       "      <th>4</th>\n",
       "      <td>3013.0</td>\n",
       "      <td>1992.0</td>\n",
       "      <td>144.0</td>\n",
       "      <td>6</td>\n",
       "      <td>5.0</td>\n",
       "      <td>Mokotow</td>\n",
       "    </tr>\n",
       "  </tbody>\n",
       "</table>\n",
       "</div>"
      ],
      "text/plain": [
       "   m2.price  construction.year  surface  floor  no.rooms     district\n",
       "0    5897.0             1953.0     25.0      3       1.0  Srodmiescie\n",
       "1    1818.0             1992.0    143.0      9       5.0      Bielany\n",
       "2    3643.0             1937.0     56.0      1       2.0        Praga\n",
       "3    3517.0             1995.0     93.0      7       3.0       Ochota\n",
       "4    3013.0             1992.0    144.0      6       5.0      Mokotow"
      ]
     },
     "execution_count": 59,
     "metadata": {},
     "output_type": "execute_result"
    }
   ],
   "source": [
    "apartments.head()"
   ]
  },
  {
   "cell_type": "markdown",
   "metadata": {},
   "source": [
    "Mamy 5 kolumn ilościowych i kolumnę celu - district."
   ]
  },
  {
   "cell_type": "code",
   "execution_count": 60,
   "metadata": {},
   "outputs": [],
   "source": [
    "from sklearn.model_selection import train_test_split\n",
    "from sklearn import preprocessing\n",
    "\n",
    "le = preprocessing.LabelEncoder()\n",
    "\n",
    "# funkcja wyodrebniajaca kolumne o danej nazwie\n",
    "def extract_y(data, column):\n",
    "    y = data[[column]]\n",
    "    le.fit(y.values.ravel())\n",
    "    return data.drop([column], axis=1), le.transform(y.values.ravel())\n",
    "\n",
    "X, y = extract_y(apartments, \"district\")\n",
    "X_train, X_test, y_train, y_test = train_test_split(X, y, test_size=0.2, random_state=2137)"
   ]
  },
  {
   "cell_type": "markdown",
   "metadata": {},
   "source": [
    "## Przed skalowaniem"
   ]
  },
  {
   "cell_type": "code",
   "execution_count": 61,
   "metadata": {},
   "outputs": [
    {
     "data": {
      "text/plain": [
       "SVC(C=1.0, break_ties=False, cache_size=200, class_weight=None, coef0=0.0,\n",
       "    decision_function_shape='ovr', degree=3, gamma='scale', kernel='rbf',\n",
       "    max_iter=-1, probability=False, random_state=None, shrinking=True,\n",
       "    tol=0.001, verbose=False)"
      ]
     },
     "execution_count": 61,
     "metadata": {},
     "output_type": "execute_result"
    }
   ],
   "source": [
    "from sklearn import svm\n",
    "model = svm.SVC()\n",
    "model.fit(X_train, y_train)"
   ]
  },
  {
   "cell_type": "code",
   "execution_count": 63,
   "metadata": {},
   "outputs": [
    {
     "data": {
      "text/plain": [
       "0.185"
      ]
     },
     "execution_count": 63,
     "metadata": {},
     "output_type": "execute_result"
    }
   ],
   "source": [
    "from sklearn.metrics import accuracy_score\n",
    "\n",
    "y_predicted = model.predict(X_test)\n",
    "accuracy_score(y_test, y_predicted)"
   ]
  },
  {
   "cell_type": "markdown",
   "metadata": {},
   "source": [
    "Wynik wygląda bardzo słabo, spróbujmy trochę zoptymalizować hiperparametry."
   ]
  },
  {
   "cell_type": "code",
   "execution_count": 66,
   "metadata": {
    "scrolled": true
   },
   "outputs": [
    {
     "name": "stdout",
     "output_type": "stream",
     "text": [
      "Score: 0.22125000000000003\n"
     ]
    },
    {
     "data": {
      "text/plain": [
       "{'gamma': 'scale', 'degree': 2, 'C': 2.7}"
      ]
     },
     "execution_count": 66,
     "metadata": {},
     "output_type": "execute_result"
    }
   ],
   "source": [
    "from sklearn.model_selection import RandomizedSearchCV\n",
    "import numpy as np\n",
    "\n",
    "params = {\n",
    "    'C': np.arange(0.1, 10, 0.1),\n",
    "    'degree': np.arange(1, 5, 1),\n",
    "    'gamma': [\"scale\", \"auto\"] + np.arange(0.01, 0.5, 0.01).tolist()\n",
    "}\n",
    "\n",
    "# ustawilam cv=10, bo nizsze wartosci troche mijaja sie z celem przy tylu klasach i takiej defaultowej skutecznosci\n",
    "grid = RandomizedSearchCV(model, params, error_score='raise', cv=10)\n",
    "grid.fit(X_train, y_train)\n",
    "\n",
    "print(f\"Score: {grid.best_score_}\")\n",
    "grid.best_params_"
   ]
  },
  {
   "cell_type": "code",
   "execution_count": 67,
   "metadata": {},
   "outputs": [
    {
     "data": {
      "text/plain": [
       "0.185"
      ]
     },
     "execution_count": 67,
     "metadata": {},
     "output_type": "execute_result"
    }
   ],
   "source": [
    "newmodel = svm.SVC(gamma='scale', degree=2, C=2.7)\n",
    "newmodel.fit(X_train, y_train)\n",
    "y_predicted=newmodel.predict(X_test)\n",
    "accuracy_score(y_test, y_predicted)"
   ]
  },
  {
   "cell_type": "markdown",
   "metadata": {},
   "source": [
    "Strojenie hiperparametrów nie dało nam nic. (Przy innych moich próbach wynik tylko spadł :( )"
   ]
  },
  {
   "cell_type": "markdown",
   "metadata": {},
   "source": [
    "## Po skalowaniu"
   ]
  },
  {
   "cell_type": "code",
   "execution_count": 49,
   "metadata": {},
   "outputs": [
    {
     "data": {
      "text/html": [
       "<div>\n",
       "<style scoped>\n",
       "    .dataframe tbody tr th:only-of-type {\n",
       "        vertical-align: middle;\n",
       "    }\n",
       "\n",
       "    .dataframe tbody tr th {\n",
       "        vertical-align: top;\n",
       "    }\n",
       "\n",
       "    .dataframe thead th {\n",
       "        text-align: right;\n",
       "    }\n",
       "</style>\n",
       "<table border=\"1\" class=\"dataframe\">\n",
       "  <thead>\n",
       "    <tr style=\"text-align: right;\">\n",
       "      <th></th>\n",
       "      <th>m2.price</th>\n",
       "      <th>construction.year</th>\n",
       "      <th>surface</th>\n",
       "      <th>floor</th>\n",
       "      <th>no.rooms</th>\n",
       "    </tr>\n",
       "  </thead>\n",
       "  <tbody>\n",
       "    <tr>\n",
       "      <th>0</th>\n",
       "      <td>2.659324</td>\n",
       "      <td>-0.457926</td>\n",
       "      <td>-1.600545</td>\n",
       "      <td>-0.904974</td>\n",
       "      <td>-1.709248</td>\n",
       "    </tr>\n",
       "    <tr>\n",
       "      <th>1</th>\n",
       "      <td>-1.841700</td>\n",
       "      <td>1.052614</td>\n",
       "      <td>1.516542</td>\n",
       "      <td>1.165115</td>\n",
       "      <td>1.187782</td>\n",
       "    </tr>\n",
       "    <tr>\n",
       "      <th>2</th>\n",
       "      <td>0.172119</td>\n",
       "      <td>-1.077634</td>\n",
       "      <td>-0.781649</td>\n",
       "      <td>-1.595004</td>\n",
       "      <td>-0.984990</td>\n",
       "    </tr>\n",
       "    <tr>\n",
       "      <th>3</th>\n",
       "      <td>0.033083</td>\n",
       "      <td>1.168809</td>\n",
       "      <td>0.195742</td>\n",
       "      <td>0.475086</td>\n",
       "      <td>-0.260733</td>\n",
       "    </tr>\n",
       "    <tr>\n",
       "      <th>4</th>\n",
       "      <td>-0.523062</td>\n",
       "      <td>1.052614</td>\n",
       "      <td>1.542958</td>\n",
       "      <td>0.130071</td>\n",
       "      <td>1.187782</td>\n",
       "    </tr>\n",
       "    <tr>\n",
       "      <th>...</th>\n",
       "      <td>...</td>\n",
       "      <td>...</td>\n",
       "      <td>...</td>\n",
       "      <td>...</td>\n",
       "      <td>...</td>\n",
       "    </tr>\n",
       "    <tr>\n",
       "      <th>995</th>\n",
       "      <td>3.164710</td>\n",
       "      <td>-1.697343</td>\n",
       "      <td>-1.098641</td>\n",
       "      <td>-1.249989</td>\n",
       "      <td>-0.984990</td>\n",
       "    </tr>\n",
       "    <tr>\n",
       "      <th>996</th>\n",
       "      <td>-0.071746</td>\n",
       "      <td>-1.697343</td>\n",
       "      <td>-0.992977</td>\n",
       "      <td>1.510130</td>\n",
       "      <td>-0.984990</td>\n",
       "    </tr>\n",
       "    <tr>\n",
       "      <th>997</th>\n",
       "      <td>-0.429268</td>\n",
       "      <td>0.587832</td>\n",
       "      <td>-0.015585</td>\n",
       "      <td>-0.904974</td>\n",
       "      <td>-0.260733</td>\n",
       "    </tr>\n",
       "    <tr>\n",
       "      <th>998</th>\n",
       "      <td>0.777920</td>\n",
       "      <td>-0.883975</td>\n",
       "      <td>-1.309969</td>\n",
       "      <td>0.475086</td>\n",
       "      <td>-1.709248</td>\n",
       "    </tr>\n",
       "    <tr>\n",
       "      <th>999</th>\n",
       "      <td>-0.176575</td>\n",
       "      <td>1.052614</td>\n",
       "      <td>0.697646</td>\n",
       "      <td>0.130071</td>\n",
       "      <td>1.187782</td>\n",
       "    </tr>\n",
       "  </tbody>\n",
       "</table>\n",
       "<p>1000 rows × 5 columns</p>\n",
       "</div>"
      ],
      "text/plain": [
       "     m2.price  construction.year   surface     floor  no.rooms\n",
       "0    2.659324          -0.457926 -1.600545 -0.904974 -1.709248\n",
       "1   -1.841700           1.052614  1.516542  1.165115  1.187782\n",
       "2    0.172119          -1.077634 -0.781649 -1.595004 -0.984990\n",
       "3    0.033083           1.168809  0.195742  0.475086 -0.260733\n",
       "4   -0.523062           1.052614  1.542958  0.130071  1.187782\n",
       "..        ...                ...       ...       ...       ...\n",
       "995  3.164710          -1.697343 -1.098641 -1.249989 -0.984990\n",
       "996 -0.071746          -1.697343 -0.992977  1.510130 -0.984990\n",
       "997 -0.429268           0.587832 -0.015585 -0.904974 -0.260733\n",
       "998  0.777920          -0.883975 -1.309969  0.475086 -1.709248\n",
       "999 -0.176575           1.052614  0.697646  0.130071  1.187782\n",
       "\n",
       "[1000 rows x 5 columns]"
      ]
     },
     "execution_count": 49,
     "metadata": {},
     "output_type": "execute_result"
    }
   ],
   "source": [
    "from sklearn.preprocessing import StandardScaler\n",
    "import pandas as pd\n",
    "numerical = ['m2.price', 'construction.year', 'surface', 'floor', 'no.rooms']\n",
    "scaler = StandardScaler() \n",
    "\n",
    "X_scaled = scaler.fit_transform(X[numerical])\n",
    "X_scaled = pd.DataFrame(X_scaled, columns = numerical)\n",
    "X_scaled"
   ]
  },
  {
   "cell_type": "code",
   "execution_count": 69,
   "metadata": {},
   "outputs": [
    {
     "data": {
      "text/plain": [
       "0.32"
      ]
     },
     "execution_count": 69,
     "metadata": {},
     "output_type": "execute_result"
    }
   ],
   "source": [
    "X_train, X_test, y_train, y_test = train_test_split(X_scaled, y, test_size=0.2, random_state=2137)\n",
    "\n",
    "model = svm.SVC()\n",
    "model.fit(X_train, y_train)\n",
    "y_predicted = model.predict(X_test)\n",
    "accuracy_score(y_test, y_predicted)"
   ]
  },
  {
   "cell_type": "markdown",
   "metadata": {},
   "source": [
    "Wynik bez strojenia hiperparametrów już jest znacznie wyższy. Wygląda obiecująco."
   ]
  },
  {
   "cell_type": "code",
   "execution_count": 70,
   "metadata": {},
   "outputs": [
    {
     "name": "stdout",
     "output_type": "stream",
     "text": [
      "Score: 0.3225\n"
     ]
    },
    {
     "data": {
      "text/plain": [
       "{'gamma': 0.19, 'degree': 2, 'C': 4.9}"
      ]
     },
     "execution_count": 70,
     "metadata": {},
     "output_type": "execute_result"
    }
   ],
   "source": [
    "params = {\n",
    "    'C': np.arange(0.1, 10, 0.1),\n",
    "    'degree': np.arange(1, 5, 1),\n",
    "    'gamma': [\"scale\", \"auto\"] + np.arange(0.01, 0.5, 0.01).tolist()\n",
    "}\n",
    "\n",
    "grid = RandomizedSearchCV(model, params, error_score='raise', cv=10)\n",
    "grid.fit(X_train, y_train)\n",
    "\n",
    "print(f\"Score: {grid.best_score_}\")\n",
    "grid.best_params_"
   ]
  },
  {
   "cell_type": "markdown",
   "metadata": {},
   "source": [
    "Warto zauważyć, że gamma znaleziona przez RandomizedSearch nie różni się szczególnie od wartości ustawionej przez *auto*."
   ]
  },
  {
   "cell_type": "code",
   "execution_count": 72,
   "metadata": {},
   "outputs": [
    {
     "data": {
      "text/plain": [
       "0.33"
      ]
     },
     "execution_count": 72,
     "metadata": {},
     "output_type": "execute_result"
    }
   ],
   "source": [
    "newmodel = svm.SVC(gamma=0.19, degree=2, C=4.9)\n",
    "newmodel.fit(X_train, y_train)\n",
    "y_predicted=newmodel.predict(X_test)\n",
    "accuracy_score(y_test, y_predicted)"
   ]
  },
  {
   "cell_type": "markdown",
   "metadata": {},
   "source": [
    "Nie jest może znacznie lepiej niż przed strojeniem, ale lepsza skuteczność 1/3 niż 1/5 jak przed skalowaniem :)"
   ]
  },
  {
   "cell_type": "markdown",
   "metadata": {},
   "source": [
    "## Szybki test innego jądra\n",
    "### Liniowe"
   ]
  },
  {
   "cell_type": "code",
   "execution_count": 90,
   "metadata": {},
   "outputs": [
    {
     "name": "stdout",
     "output_type": "stream",
     "text": [
      "Default:  0.285\n",
      "Score: 0.31375\n"
     ]
    },
    {
     "data": {
      "text/plain": [
       "{'gamma': 0.47000000000000003, 'degree': 4, 'C': 9.0}"
      ]
     },
     "execution_count": 90,
     "metadata": {},
     "output_type": "execute_result"
    }
   ],
   "source": [
    "model = svm.SVC(kernel='linear')\n",
    "model.fit(X_train, y_train)\n",
    "y_predicted = model.predict(X_test)\n",
    "print(\"Default: \", accuracy_score(y_test, y_predicted))\n",
    "\n",
    "grid = RandomizedSearchCV(model, params, error_score='raise', cv=10)\n",
    "grid.fit(X_train, y_train)\n",
    "\n",
    "print(f\"Score: {grid.best_score_}\")\n",
    "grid.best_params_"
   ]
  },
  {
   "cell_type": "code",
   "execution_count": 91,
   "metadata": {},
   "outputs": [
    {
     "data": {
      "text/plain": [
       "0.28"
      ]
     },
     "execution_count": 91,
     "metadata": {},
     "output_type": "execute_result"
    }
   ],
   "source": [
    "# linear ignoruje degree, wiec mozna wyrzucic\n",
    "newmodel = svm.SVC(kernel='linear', gamma=0.47, C=9)\n",
    "newmodel.fit(X_train, y_train)\n",
    "y_predicted=newmodel.predict(X_test)\n",
    "accuracy_score(y_test, y_predicted)"
   ]
  },
  {
   "cell_type": "markdown",
   "metadata": {},
   "source": [
    "Dostaliśmy gorszy wynik, choć zapowiadało się obiecująco.\n",
    "### Wielomianowe"
   ]
  },
  {
   "cell_type": "code",
   "execution_count": 93,
   "metadata": {},
   "outputs": [
    {
     "name": "stdout",
     "output_type": "stream",
     "text": [
      "Default:  0.29\n",
      "Score: 0.31375\n"
     ]
    },
    {
     "data": {
      "text/plain": [
       "{'gamma': 0.37, 'degree': 1, 'C': 1.4000000000000001}"
      ]
     },
     "execution_count": 93,
     "metadata": {},
     "output_type": "execute_result"
    }
   ],
   "source": [
    "model = svm.SVC(kernel='poly')\n",
    "model.fit(X_train, y_train)\n",
    "y_predicted = model.predict(X_test)\n",
    "print(\"Default: \", accuracy_score(y_test, y_predicted))\n",
    "\n",
    "grid = RandomizedSearchCV(model, params, error_score='raise', cv=10)\n",
    "grid.fit(X_train, y_train)\n",
    "\n",
    "print(f\"Score: {grid.best_score_}\")\n",
    "grid.best_params_"
   ]
  },
  {
   "cell_type": "code",
   "execution_count": 94,
   "metadata": {},
   "outputs": [
    {
     "data": {
      "text/plain": [
       "0.285"
      ]
     },
     "execution_count": 94,
     "metadata": {},
     "output_type": "execute_result"
    }
   ],
   "source": [
    "# chyba jednak model liniowy nie jest taki zly :P\n",
    "newmodel = svm.SVC(kernel='poly', gamma='scale', degree=1, C=1.4)\n",
    "newmodel.fit(X_train, y_train)\n",
    "y_predicted=newmodel.predict(X_test)\n",
    "accuracy_score(y_test, y_predicted)"
   ]
  },
  {
   "cell_type": "markdown",
   "metadata": {},
   "source": [
    "Dalej gorzej niż *rbf*.\n",
    "### Sigmoid"
   ]
  },
  {
   "cell_type": "code",
   "execution_count": 95,
   "metadata": {},
   "outputs": [
    {
     "name": "stdout",
     "output_type": "stream",
     "text": [
      "Default:  0.205\n",
      "Score: 0.28625\n"
     ]
    },
    {
     "data": {
      "text/plain": [
       "{'gamma': 0.060000000000000005, 'degree': 1, 'C': 7.8}"
      ]
     },
     "execution_count": 95,
     "metadata": {},
     "output_type": "execute_result"
    }
   ],
   "source": [
    "model = svm.SVC(kernel='sigmoid')\n",
    "model.fit(X_train, y_train)\n",
    "y_predicted = model.predict(X_test)\n",
    "print(\"Default: \", accuracy_score(y_test, y_predicted))\n",
    "\n",
    "grid = RandomizedSearchCV(model, params, error_score='raise', cv=10)\n",
    "grid.fit(X_train, y_train)\n",
    "\n",
    "print(f\"Score: {grid.best_score_}\")\n",
    "grid.best_params_"
   ]
  },
  {
   "cell_type": "code",
   "execution_count": 96,
   "metadata": {},
   "outputs": [
    {
     "data": {
      "text/plain": [
       "0.27"
      ]
     },
     "execution_count": 96,
     "metadata": {},
     "output_type": "execute_result"
    }
   ],
   "source": [
    "# tez mozna wywalic degree\n",
    "newmodel = svm.SVC(kernel='sigmoid', gamma=0.06, C=7.8)\n",
    "newmodel.fit(X_train, y_train)\n",
    "y_predicted=newmodel.predict(X_test)\n",
    "accuracy_score(y_test, y_predicted)"
   ]
  },
  {
   "cell_type": "markdown",
   "metadata": {},
   "source": [
    "Dalej najlepiej się sprawdza *rbf*. Być może przed skalowaniem te kernele poradziłyby sobie lepiej, ale nie sądzę.\n",
    "# League of Legends Diamond Ranked Games\n",
    "Link: https://www.kaggle.com/bobbyscience/league-of-legends-diamond-ranked-games-10-min\n",
    "\n",
    "Jako zmienną celu przyjmijmy *blueWins*. Co prawda daje nam to tylko 2 kategorie, ale spodobał mi się zbiór danych, gdyż ostatnio po długim czasie wróciłam do gry w LoLa :)"
   ]
  },
  {
   "cell_type": "code",
   "execution_count": 104,
   "metadata": {},
   "outputs": [
    {
     "data": {
      "text/html": [
       "<div>\n",
       "<style scoped>\n",
       "    .dataframe tbody tr th:only-of-type {\n",
       "        vertical-align: middle;\n",
       "    }\n",
       "\n",
       "    .dataframe tbody tr th {\n",
       "        vertical-align: top;\n",
       "    }\n",
       "\n",
       "    .dataframe thead th {\n",
       "        text-align: right;\n",
       "    }\n",
       "</style>\n",
       "<table border=\"1\" class=\"dataframe\">\n",
       "  <thead>\n",
       "    <tr style=\"text-align: right;\">\n",
       "      <th></th>\n",
       "      <th>gameId</th>\n",
       "      <th>blueWins</th>\n",
       "      <th>blueWardsPlaced</th>\n",
       "      <th>blueWardsDestroyed</th>\n",
       "      <th>blueFirstBlood</th>\n",
       "      <th>blueKills</th>\n",
       "      <th>blueDeaths</th>\n",
       "      <th>blueAssists</th>\n",
       "      <th>blueEliteMonsters</th>\n",
       "      <th>blueDragons</th>\n",
       "      <th>...</th>\n",
       "      <th>redTowersDestroyed</th>\n",
       "      <th>redTotalGold</th>\n",
       "      <th>redAvgLevel</th>\n",
       "      <th>redTotalExperience</th>\n",
       "      <th>redTotalMinionsKilled</th>\n",
       "      <th>redTotalJungleMinionsKilled</th>\n",
       "      <th>redGoldDiff</th>\n",
       "      <th>redExperienceDiff</th>\n",
       "      <th>redCSPerMin</th>\n",
       "      <th>redGoldPerMin</th>\n",
       "    </tr>\n",
       "  </thead>\n",
       "  <tbody>\n",
       "    <tr>\n",
       "      <th>0</th>\n",
       "      <td>4519157822</td>\n",
       "      <td>0</td>\n",
       "      <td>28</td>\n",
       "      <td>2</td>\n",
       "      <td>1</td>\n",
       "      <td>9</td>\n",
       "      <td>6</td>\n",
       "      <td>11</td>\n",
       "      <td>0</td>\n",
       "      <td>0</td>\n",
       "      <td>...</td>\n",
       "      <td>0</td>\n",
       "      <td>16567</td>\n",
       "      <td>6.8</td>\n",
       "      <td>17047</td>\n",
       "      <td>197</td>\n",
       "      <td>55</td>\n",
       "      <td>-643</td>\n",
       "      <td>8</td>\n",
       "      <td>19.7</td>\n",
       "      <td>1656.7</td>\n",
       "    </tr>\n",
       "    <tr>\n",
       "      <th>1</th>\n",
       "      <td>4523371949</td>\n",
       "      <td>0</td>\n",
       "      <td>12</td>\n",
       "      <td>1</td>\n",
       "      <td>0</td>\n",
       "      <td>5</td>\n",
       "      <td>5</td>\n",
       "      <td>5</td>\n",
       "      <td>0</td>\n",
       "      <td>0</td>\n",
       "      <td>...</td>\n",
       "      <td>1</td>\n",
       "      <td>17620</td>\n",
       "      <td>6.8</td>\n",
       "      <td>17438</td>\n",
       "      <td>240</td>\n",
       "      <td>52</td>\n",
       "      <td>2908</td>\n",
       "      <td>1173</td>\n",
       "      <td>24.0</td>\n",
       "      <td>1762.0</td>\n",
       "    </tr>\n",
       "    <tr>\n",
       "      <th>2</th>\n",
       "      <td>4521474530</td>\n",
       "      <td>0</td>\n",
       "      <td>15</td>\n",
       "      <td>0</td>\n",
       "      <td>0</td>\n",
       "      <td>7</td>\n",
       "      <td>11</td>\n",
       "      <td>4</td>\n",
       "      <td>1</td>\n",
       "      <td>1</td>\n",
       "      <td>...</td>\n",
       "      <td>0</td>\n",
       "      <td>17285</td>\n",
       "      <td>6.8</td>\n",
       "      <td>17254</td>\n",
       "      <td>203</td>\n",
       "      <td>28</td>\n",
       "      <td>1172</td>\n",
       "      <td>1033</td>\n",
       "      <td>20.3</td>\n",
       "      <td>1728.5</td>\n",
       "    </tr>\n",
       "    <tr>\n",
       "      <th>3</th>\n",
       "      <td>4524384067</td>\n",
       "      <td>0</td>\n",
       "      <td>43</td>\n",
       "      <td>1</td>\n",
       "      <td>0</td>\n",
       "      <td>4</td>\n",
       "      <td>5</td>\n",
       "      <td>5</td>\n",
       "      <td>1</td>\n",
       "      <td>0</td>\n",
       "      <td>...</td>\n",
       "      <td>0</td>\n",
       "      <td>16478</td>\n",
       "      <td>7.0</td>\n",
       "      <td>17961</td>\n",
       "      <td>235</td>\n",
       "      <td>47</td>\n",
       "      <td>1321</td>\n",
       "      <td>7</td>\n",
       "      <td>23.5</td>\n",
       "      <td>1647.8</td>\n",
       "    </tr>\n",
       "    <tr>\n",
       "      <th>4</th>\n",
       "      <td>4436033771</td>\n",
       "      <td>0</td>\n",
       "      <td>75</td>\n",
       "      <td>4</td>\n",
       "      <td>0</td>\n",
       "      <td>6</td>\n",
       "      <td>6</td>\n",
       "      <td>6</td>\n",
       "      <td>0</td>\n",
       "      <td>0</td>\n",
       "      <td>...</td>\n",
       "      <td>0</td>\n",
       "      <td>17404</td>\n",
       "      <td>7.0</td>\n",
       "      <td>18313</td>\n",
       "      <td>225</td>\n",
       "      <td>67</td>\n",
       "      <td>1004</td>\n",
       "      <td>-230</td>\n",
       "      <td>22.5</td>\n",
       "      <td>1740.4</td>\n",
       "    </tr>\n",
       "  </tbody>\n",
       "</table>\n",
       "<p>5 rows × 40 columns</p>\n",
       "</div>"
      ],
      "text/plain": [
       "       gameId  blueWins  blueWardsPlaced  blueWardsDestroyed  blueFirstBlood  \\\n",
       "0  4519157822         0               28                   2               1   \n",
       "1  4523371949         0               12                   1               0   \n",
       "2  4521474530         0               15                   0               0   \n",
       "3  4524384067         0               43                   1               0   \n",
       "4  4436033771         0               75                   4               0   \n",
       "\n",
       "   blueKills  blueDeaths  blueAssists  blueEliteMonsters  blueDragons  ...  \\\n",
       "0          9           6           11                  0            0  ...   \n",
       "1          5           5            5                  0            0  ...   \n",
       "2          7          11            4                  1            1  ...   \n",
       "3          4           5            5                  1            0  ...   \n",
       "4          6           6            6                  0            0  ...   \n",
       "\n",
       "   redTowersDestroyed  redTotalGold  redAvgLevel  redTotalExperience  \\\n",
       "0                   0         16567          6.8               17047   \n",
       "1                   1         17620          6.8               17438   \n",
       "2                   0         17285          6.8               17254   \n",
       "3                   0         16478          7.0               17961   \n",
       "4                   0         17404          7.0               18313   \n",
       "\n",
       "   redTotalMinionsKilled  redTotalJungleMinionsKilled  redGoldDiff  \\\n",
       "0                    197                           55         -643   \n",
       "1                    240                           52         2908   \n",
       "2                    203                           28         1172   \n",
       "3                    235                           47         1321   \n",
       "4                    225                           67         1004   \n",
       "\n",
       "   redExperienceDiff  redCSPerMin  redGoldPerMin  \n",
       "0                  8         19.7         1656.7  \n",
       "1               1173         24.0         1762.0  \n",
       "2               1033         20.3         1728.5  \n",
       "3                  7         23.5         1647.8  \n",
       "4               -230         22.5         1740.4  \n",
       "\n",
       "[5 rows x 40 columns]"
      ]
     },
     "execution_count": 104,
     "metadata": {},
     "output_type": "execute_result"
    }
   ],
   "source": [
    "data = pd.read_csv('high_diamond_ranked_10min.csv')\n",
    "data.head()"
   ]
  },
  {
   "cell_type": "code",
   "execution_count": 105,
   "metadata": {},
   "outputs": [
    {
     "name": "stdout",
     "output_type": "stream",
     "text": [
      "   blueWins\n",
      "0         0\n",
      "1         0\n",
      "2         0\n",
      "3         0\n",
      "4         0\n",
      "   blueWardsPlaced  blueWardsDestroyed  blueFirstBlood  blueKills  blueDeaths  \\\n",
      "0               28                   2               1          9           6   \n",
      "1               12                   1               0          5           5   \n",
      "2               15                   0               0          7          11   \n",
      "3               43                   1               0          4           5   \n",
      "4               75                   4               0          6           6   \n",
      "\n",
      "   blueAssists  blueEliteMonsters  blueDragons  blueHeralds  \\\n",
      "0           11                  0            0            0   \n",
      "1            5                  0            0            0   \n",
      "2            4                  1            1            0   \n",
      "3            5                  1            0            1   \n",
      "4            6                  0            0            0   \n",
      "\n",
      "   blueTowersDestroyed  ...  redTowersDestroyed  redTotalGold  redAvgLevel  \\\n",
      "0                    0  ...                   0         16567          6.8   \n",
      "1                    0  ...                   1         17620          6.8   \n",
      "2                    0  ...                   0         17285          6.8   \n",
      "3                    0  ...                   0         16478          7.0   \n",
      "4                    0  ...                   0         17404          7.0   \n",
      "\n",
      "   redTotalExperience  redTotalMinionsKilled  redTotalJungleMinionsKilled  \\\n",
      "0               17047                    197                           55   \n",
      "1               17438                    240                           52   \n",
      "2               17254                    203                           28   \n",
      "3               17961                    235                           47   \n",
      "4               18313                    225                           67   \n",
      "\n",
      "   redGoldDiff  redExperienceDiff  redCSPerMin  redGoldPerMin  \n",
      "0         -643                  8         19.7         1656.7  \n",
      "1         2908               1173         24.0         1762.0  \n",
      "2         1172               1033         20.3         1728.5  \n",
      "3         1321                  7         23.5         1647.8  \n",
      "4         1004               -230         22.5         1740.4  \n",
      "\n",
      "[5 rows x 38 columns]\n"
     ]
    }
   ],
   "source": [
    "data = data.drop(['gameId'], axis=1)\n",
    "\n",
    "y = data[['blueWins']]\n",
    "X = data.drop(['blueWins'], axis=1)\n",
    "print(y.head())\n",
    "print(X.head())"
   ]
  },
  {
   "cell_type": "code",
   "execution_count": 106,
   "metadata": {},
   "outputs": [],
   "source": [
    "X_train, X_test, y_train, y_test = train_test_split(X, y, test_size=0.2, random_state=2137)"
   ]
  },
  {
   "cell_type": "markdown",
   "metadata": {},
   "source": [
    "## Przed skalowaniem"
   ]
  },
  {
   "cell_type": "code",
   "execution_count": 107,
   "metadata": {},
   "outputs": [
    {
     "name": "stdout",
     "output_type": "stream",
     "text": [
      "Default:  0.7383603238866396\n",
      "Score: 0.5014550957173396\n"
     ]
    },
    {
     "data": {
      "text/plain": [
       "{'gamma': 0.31, 'degree': 4, 'C': 5.8}"
      ]
     },
     "execution_count": 107,
     "metadata": {},
     "output_type": "execute_result"
    }
   ],
   "source": [
    "model = svm.SVC()\n",
    "model.fit(X_train, y_train.values.ravel())\n",
    "y_predicted = model.predict(X_test)\n",
    "print(\"Default: \", accuracy_score(y_test, y_predicted))\n",
    "\n",
    "grid = RandomizedSearchCV(model, params, error_score='raise', cv=5)\n",
    "grid.fit(X_train, y_train.values.ravel())\n",
    "\n",
    "print(f\"Score: {grid.best_score_}\")\n",
    "grid.best_params_"
   ]
  },
  {
   "cell_type": "code",
   "execution_count": 109,
   "metadata": {},
   "outputs": [
    {
     "data": {
      "text/plain": [
       "0.4893724696356275"
      ]
     },
     "execution_count": 109,
     "metadata": {},
     "output_type": "execute_result"
    }
   ],
   "source": [
    "model = svm.SVC(gamma=0.31, degree=4, C=5.8)\n",
    "model.fit(X_train, y_train.values.ravel())\n",
    "y_predicted = model.predict(X_test)\n",
    "accuracy_score(y_test, y_predicted)"
   ]
  },
  {
   "cell_type": "markdown",
   "metadata": {},
   "source": [
    "Defaultowe parametry sprawdziły się znacznie lepiej niż te po strojeniu. Spróbowałabym może jeszcze raz, ale niestety mój  komputer już nie chce.\n",
    "## Po skalowaniu"
   ]
  },
  {
   "cell_type": "code",
   "execution_count": 111,
   "metadata": {},
   "outputs": [],
   "source": [
    "numerical = X.columns\n",
    "scaler = StandardScaler() \n",
    "\n",
    "X_scaled = scaler.fit_transform(X[numerical])\n",
    "X_scaled = pd.DataFrame(X_scaled, columns = numerical)\n",
    "\n",
    "X_train, X_test, y_train, y_test = train_test_split(X_scaled, y, test_size=0.2, random_state=2137)"
   ]
  },
  {
   "cell_type": "code",
   "execution_count": 112,
   "metadata": {},
   "outputs": [
    {
     "name": "stdout",
     "output_type": "stream",
     "text": [
      "Default:  0.7398785425101214\n",
      "Score: 0.7226368505752647\n"
     ]
    },
    {
     "data": {
      "text/plain": [
       "{'gamma': 0.03, 'degree': 1, 'C': 0.9}"
      ]
     },
     "execution_count": 112,
     "metadata": {},
     "output_type": "execute_result"
    }
   ],
   "source": [
    "model = svm.SVC()\n",
    "model.fit(X_train, y_train.values.ravel())\n",
    "y_predicted = model.predict(X_test)\n",
    "print(\"Default: \", accuracy_score(y_test, y_predicted))\n",
    "\n",
    "grid = RandomizedSearchCV(model, params, error_score='raise', cv=5)\n",
    "grid.fit(X_train, y_train.values.ravel())\n",
    "\n",
    "print(f\"Score: {grid.best_score_}\")\n",
    "grid.best_params_"
   ]
  },
  {
   "cell_type": "code",
   "execution_count": 115,
   "metadata": {},
   "outputs": [
    {
     "data": {
      "text/plain": [
       "0.7373481781376519"
      ]
     },
     "execution_count": 115,
     "metadata": {},
     "output_type": "execute_result"
    }
   ],
   "source": [
    "# w sumie to tez ignoruje degree\n",
    "model = svm.SVC(gamma=0.03, C=0.9)\n",
    "model.fit(X_train, y_train.values.ravel())\n",
    "y_predicted = model.predict(X_test)\n",
    "accuracy_score(y_test, y_predicted)"
   ]
  },
  {
   "cell_type": "markdown",
   "metadata": {},
   "source": [
    "# Wnioski ze skalowania\n",
    "W pierwszym przypadku skalowanie dało znaczącą poprawę wyniku. W drugim co prawda nie ma takiej różnicy przy defaultowych parametrach, ale widać, że znacznie lepiej działało chociażby strojenie hiperparametrów. \n",
    "\n",
    "## Szybki test innych kerneli\n",
    "ale bez strojenia, bo ten zbiór jest za duży dla mojego komputera\n",
    "\n",
    "### Liniowe"
   ]
  },
  {
   "cell_type": "code",
   "execution_count": 117,
   "metadata": {},
   "outputs": [
    {
     "name": "stdout",
     "output_type": "stream",
     "text": [
      "Default:  0.736336032388664\n"
     ]
    }
   ],
   "source": [
    "model = svm.SVC(kernel='linear')\n",
    "model.fit(X_train, y_train.values.ravel())\n",
    "y_predicted = model.predict(X_test)\n",
    "print(\"Default: \", accuracy_score(y_test, y_predicted))"
   ]
  },
  {
   "cell_type": "markdown",
   "metadata": {},
   "source": [
    "### Wielomianowe"
   ]
  },
  {
   "cell_type": "code",
   "execution_count": 119,
   "metadata": {},
   "outputs": [
    {
     "name": "stdout",
     "output_type": "stream",
     "text": [
      "Default:  0.7348178137651822\n"
     ]
    }
   ],
   "source": [
    "model = svm.SVC(kernel='poly')\n",
    "model.fit(X_train, y_train.values.ravel())\n",
    "y_predicted = model.predict(X_test)\n",
    "print(\"Default: \", accuracy_score(y_test, y_predicted))"
   ]
  },
  {
   "cell_type": "markdown",
   "metadata": {},
   "source": [
    "### Sigmoid"
   ]
  },
  {
   "cell_type": "code",
   "execution_count": 120,
   "metadata": {},
   "outputs": [
    {
     "name": "stdout",
     "output_type": "stream",
     "text": [
      "Default:  0.6842105263157895\n"
     ]
    }
   ],
   "source": [
    "model = svm.SVC(kernel='sigmoid')\n",
    "model.fit(X_train, y_train.values.ravel())\n",
    "y_predicted = model.predict(X_test)\n",
    "print(\"Default: \", accuracy_score(y_test, y_predicted))"
   ]
  },
  {
   "cell_type": "markdown",
   "metadata": {},
   "source": [
    "W tym przypadku widać, że modele dają bardzo podobne wyniki, tylko sigmoid jest wyraźnie gorszy."
   ]
  },
  {
   "cell_type": "code",
   "execution_count": null,
   "metadata": {},
   "outputs": [],
   "source": []
  }
 ],
 "metadata": {
  "kernelspec": {
   "display_name": "Python 3",
   "language": "python",
   "name": "python3"
  },
  "language_info": {
   "codemirror_mode": {
    "name": "ipython",
    "version": 3
   },
   "file_extension": ".py",
   "mimetype": "text/x-python",
   "name": "python",
   "nbconvert_exporter": "python",
   "pygments_lexer": "ipython3",
   "version": "3.7.4"
  }
 },
 "nbformat": 4,
 "nbformat_minor": 4
}
