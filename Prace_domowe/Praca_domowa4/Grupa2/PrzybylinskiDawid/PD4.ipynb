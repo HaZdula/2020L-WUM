{
 "cells": [
  {
   "cell_type": "code",
   "execution_count": 1,
   "metadata": {},
   "outputs": [],
   "source": [
    "import pandas as pd\n",
    "import numpy as np"
   ]
  },
  {
   "cell_type": "code",
   "execution_count": 2,
   "metadata": {},
   "outputs": [],
   "source": [
    "from sklearn.model_selection import train_test_split\n",
    "from sklearn import svm\n",
    "from sklearn.metrics import precision_score, accuracy_score, recall_score, f1_score\n",
    "from sklearn import preprocessing"
   ]
  },
  {
   "cell_type": "markdown",
   "metadata": {},
   "source": [
    "## Zbiór apartments"
   ]
  },
  {
   "cell_type": "code",
   "execution_count": 3,
   "metadata": {},
   "outputs": [],
   "source": [
    "apartments = pd.read_csv(\"~/Documents/github/apartments.csv\")"
   ]
  },
  {
   "cell_type": "code",
   "execution_count": 4,
   "metadata": {},
   "outputs": [
    {
     "data": {
      "text/html": [
       "<div>\n",
       "<style scoped>\n",
       "    .dataframe tbody tr th:only-of-type {\n",
       "        vertical-align: middle;\n",
       "    }\n",
       "\n",
       "    .dataframe tbody tr th {\n",
       "        vertical-align: top;\n",
       "    }\n",
       "\n",
       "    .dataframe thead th {\n",
       "        text-align: right;\n",
       "    }\n",
       "</style>\n",
       "<table border=\"1\" class=\"dataframe\">\n",
       "  <thead>\n",
       "    <tr style=\"text-align: right;\">\n",
       "      <th></th>\n",
       "      <th>m2.price</th>\n",
       "      <th>construction.year</th>\n",
       "      <th>surface</th>\n",
       "      <th>floor</th>\n",
       "      <th>no.rooms</th>\n",
       "      <th>district</th>\n",
       "    </tr>\n",
       "  </thead>\n",
       "  <tbody>\n",
       "    <tr>\n",
       "      <th>0</th>\n",
       "      <td>5897</td>\n",
       "      <td>1953</td>\n",
       "      <td>25</td>\n",
       "      <td>3</td>\n",
       "      <td>1</td>\n",
       "      <td>Srodmiescie</td>\n",
       "    </tr>\n",
       "    <tr>\n",
       "      <th>1</th>\n",
       "      <td>1818</td>\n",
       "      <td>1992</td>\n",
       "      <td>143</td>\n",
       "      <td>9</td>\n",
       "      <td>5</td>\n",
       "      <td>Bielany</td>\n",
       "    </tr>\n",
       "    <tr>\n",
       "      <th>2</th>\n",
       "      <td>3643</td>\n",
       "      <td>1937</td>\n",
       "      <td>56</td>\n",
       "      <td>1</td>\n",
       "      <td>2</td>\n",
       "      <td>Praga</td>\n",
       "    </tr>\n",
       "    <tr>\n",
       "      <th>3</th>\n",
       "      <td>3517</td>\n",
       "      <td>1995</td>\n",
       "      <td>93</td>\n",
       "      <td>7</td>\n",
       "      <td>3</td>\n",
       "      <td>Ochota</td>\n",
       "    </tr>\n",
       "    <tr>\n",
       "      <th>4</th>\n",
       "      <td>3013</td>\n",
       "      <td>1992</td>\n",
       "      <td>144</td>\n",
       "      <td>6</td>\n",
       "      <td>5</td>\n",
       "      <td>Mokotow</td>\n",
       "    </tr>\n",
       "    <tr>\n",
       "      <th>...</th>\n",
       "      <td>...</td>\n",
       "      <td>...</td>\n",
       "      <td>...</td>\n",
       "      <td>...</td>\n",
       "      <td>...</td>\n",
       "      <td>...</td>\n",
       "    </tr>\n",
       "    <tr>\n",
       "      <th>995</th>\n",
       "      <td>6355</td>\n",
       "      <td>1921</td>\n",
       "      <td>44</td>\n",
       "      <td>2</td>\n",
       "      <td>2</td>\n",
       "      <td>Srodmiescie</td>\n",
       "    </tr>\n",
       "    <tr>\n",
       "      <th>996</th>\n",
       "      <td>3422</td>\n",
       "      <td>1921</td>\n",
       "      <td>48</td>\n",
       "      <td>10</td>\n",
       "      <td>2</td>\n",
       "      <td>Bemowo</td>\n",
       "    </tr>\n",
       "    <tr>\n",
       "      <th>997</th>\n",
       "      <td>3098</td>\n",
       "      <td>1980</td>\n",
       "      <td>85</td>\n",
       "      <td>3</td>\n",
       "      <td>3</td>\n",
       "      <td>Bemowo</td>\n",
       "    </tr>\n",
       "    <tr>\n",
       "      <th>998</th>\n",
       "      <td>4192</td>\n",
       "      <td>1942</td>\n",
       "      <td>36</td>\n",
       "      <td>7</td>\n",
       "      <td>1</td>\n",
       "      <td>Zoliborz</td>\n",
       "    </tr>\n",
       "    <tr>\n",
       "      <th>999</th>\n",
       "      <td>3327</td>\n",
       "      <td>1992</td>\n",
       "      <td>112</td>\n",
       "      <td>6</td>\n",
       "      <td>5</td>\n",
       "      <td>Mokotow</td>\n",
       "    </tr>\n",
       "  </tbody>\n",
       "</table>\n",
       "<p>1000 rows × 6 columns</p>\n",
       "</div>"
      ],
      "text/plain": [
       "     m2.price  construction.year  surface  floor  no.rooms     district\n",
       "0        5897               1953       25      3         1  Srodmiescie\n",
       "1        1818               1992      143      9         5      Bielany\n",
       "2        3643               1937       56      1         2        Praga\n",
       "3        3517               1995       93      7         3       Ochota\n",
       "4        3013               1992      144      6         5      Mokotow\n",
       "..        ...                ...      ...    ...       ...          ...\n",
       "995      6355               1921       44      2         2  Srodmiescie\n",
       "996      3422               1921       48     10         2       Bemowo\n",
       "997      3098               1980       85      3         3       Bemowo\n",
       "998      4192               1942       36      7         1     Zoliborz\n",
       "999      3327               1992      112      6         5      Mokotow\n",
       "\n",
       "[1000 rows x 6 columns]"
      ]
     },
     "execution_count": 4,
     "metadata": {},
     "output_type": "execute_result"
    }
   ],
   "source": [
    "apartments"
   ]
  },
  {
   "cell_type": "markdown",
   "metadata": {},
   "source": [
    "Zastosujemy label encoding dla zmiennej *district*:"
   ]
  },
  {
   "cell_type": "code",
   "execution_count": 5,
   "metadata": {},
   "outputs": [
    {
     "data": {
      "text/plain": [
       "LabelEncoder()"
      ]
     },
     "execution_count": 5,
     "metadata": {},
     "output_type": "execute_result"
    }
   ],
   "source": [
    "le = preprocessing.LabelEncoder()\n",
    "le.fit(apartments.loc[:,\"district\"])"
   ]
  },
  {
   "cell_type": "code",
   "execution_count": 6,
   "metadata": {},
   "outputs": [],
   "source": [
    "apartments.loc[:,\"district_enc\"] = le.transform(apartments.loc[:,\"district\"])"
   ]
  },
  {
   "cell_type": "code",
   "execution_count": 7,
   "metadata": {},
   "outputs": [
    {
     "data": {
      "text/html": [
       "<div>\n",
       "<style scoped>\n",
       "    .dataframe tbody tr th:only-of-type {\n",
       "        vertical-align: middle;\n",
       "    }\n",
       "\n",
       "    .dataframe tbody tr th {\n",
       "        vertical-align: top;\n",
       "    }\n",
       "\n",
       "    .dataframe thead th {\n",
       "        text-align: right;\n",
       "    }\n",
       "</style>\n",
       "<table border=\"1\" class=\"dataframe\">\n",
       "  <thead>\n",
       "    <tr style=\"text-align: right;\">\n",
       "      <th></th>\n",
       "      <th>construction.year</th>\n",
       "      <th>surface</th>\n",
       "      <th>floor</th>\n",
       "      <th>no.rooms</th>\n",
       "      <th>district_enc</th>\n",
       "    </tr>\n",
       "  </thead>\n",
       "  <tbody>\n",
       "    <tr>\n",
       "      <th>0</th>\n",
       "      <td>1953</td>\n",
       "      <td>25</td>\n",
       "      <td>3</td>\n",
       "      <td>1</td>\n",
       "      <td>5</td>\n",
       "    </tr>\n",
       "    <tr>\n",
       "      <th>1</th>\n",
       "      <td>1992</td>\n",
       "      <td>143</td>\n",
       "      <td>9</td>\n",
       "      <td>5</td>\n",
       "      <td>1</td>\n",
       "    </tr>\n",
       "    <tr>\n",
       "      <th>2</th>\n",
       "      <td>1937</td>\n",
       "      <td>56</td>\n",
       "      <td>1</td>\n",
       "      <td>2</td>\n",
       "      <td>4</td>\n",
       "    </tr>\n",
       "    <tr>\n",
       "      <th>3</th>\n",
       "      <td>1995</td>\n",
       "      <td>93</td>\n",
       "      <td>7</td>\n",
       "      <td>3</td>\n",
       "      <td>3</td>\n",
       "    </tr>\n",
       "    <tr>\n",
       "      <th>4</th>\n",
       "      <td>1992</td>\n",
       "      <td>144</td>\n",
       "      <td>6</td>\n",
       "      <td>5</td>\n",
       "      <td>2</td>\n",
       "    </tr>\n",
       "    <tr>\n",
       "      <th>5</th>\n",
       "      <td>1926</td>\n",
       "      <td>61</td>\n",
       "      <td>6</td>\n",
       "      <td>2</td>\n",
       "      <td>5</td>\n",
       "    </tr>\n",
       "    <tr>\n",
       "      <th>6</th>\n",
       "      <td>1970</td>\n",
       "      <td>127</td>\n",
       "      <td>8</td>\n",
       "      <td>5</td>\n",
       "      <td>2</td>\n",
       "    </tr>\n",
       "    <tr>\n",
       "      <th>7</th>\n",
       "      <td>1985</td>\n",
       "      <td>105</td>\n",
       "      <td>8</td>\n",
       "      <td>4</td>\n",
       "      <td>6</td>\n",
       "    </tr>\n",
       "    <tr>\n",
       "      <th>8</th>\n",
       "      <td>1928</td>\n",
       "      <td>145</td>\n",
       "      <td>6</td>\n",
       "      <td>6</td>\n",
       "      <td>5</td>\n",
       "    </tr>\n",
       "    <tr>\n",
       "      <th>9</th>\n",
       "      <td>1949</td>\n",
       "      <td>112</td>\n",
       "      <td>9</td>\n",
       "      <td>4</td>\n",
       "      <td>5</td>\n",
       "    </tr>\n",
       "  </tbody>\n",
       "</table>\n",
       "</div>"
      ],
      "text/plain": [
       "   construction.year  surface  floor  no.rooms  district_enc\n",
       "0               1953       25      3         1             5\n",
       "1               1992      143      9         5             1\n",
       "2               1937       56      1         2             4\n",
       "3               1995       93      7         3             3\n",
       "4               1992      144      6         5             2\n",
       "5               1926       61      6         2             5\n",
       "6               1970      127      8         5             2\n",
       "7               1985      105      8         4             6\n",
       "8               1928      145      6         6             5\n",
       "9               1949      112      9         4             5"
      ]
     },
     "execution_count": 7,
     "metadata": {},
     "output_type": "execute_result"
    }
   ],
   "source": [
    "X = apartments[['construction.year','surface','floor','no.rooms', 'district_enc']]\n",
    "Y = apartments['m2.price']\n",
    "X.head(10)"
   ]
  },
  {
   "cell_type": "code",
   "execution_count": 8,
   "metadata": {},
   "outputs": [],
   "source": [
    "x_train, x_test,y_train,y_test = train_test_split(X,Y,test_size=0.2)"
   ]
  },
  {
   "cell_type": "code",
   "execution_count": 9,
   "metadata": {},
   "outputs": [
    {
     "data": {
      "text/plain": [
       "SVR(C=1.0, cache_size=200, coef0=0.0, degree=3, epsilon=0.1, gamma='scale',\n",
       "    kernel='rbf', max_iter=-1, shrinking=True, tol=0.001, verbose=False)"
      ]
     },
     "execution_count": 9,
     "metadata": {},
     "output_type": "execute_result"
    }
   ],
   "source": [
    "from sklearn.svm import SVR\n",
    "clf = SVR()\n",
    "clf.fit(x_train, y_train)"
   ]
  },
  {
   "cell_type": "code",
   "execution_count": 10,
   "metadata": {},
   "outputs": [],
   "source": [
    "y_pred = clf.predict(x_test)"
   ]
  },
  {
   "cell_type": "code",
   "execution_count": 11,
   "metadata": {},
   "outputs": [
    {
     "data": {
      "text/plain": [
       "954.0734166653851"
      ]
     },
     "execution_count": 11,
     "metadata": {},
     "output_type": "execute_result"
    }
   ],
   "source": [
    "rmse = 0 \n",
    "for i in range(200):\n",
    "    rmse = rmse + (y_test.iloc[i] - y_pred[i])**2\n",
    "rmse/=200\n",
    "np.sqrt(rmse)"
   ]
  },
  {
   "cell_type": "markdown",
   "metadata": {},
   "source": [
    "Szukanie najlepszych parametrów:"
   ]
  },
  {
   "cell_type": "code",
   "execution_count": 12,
   "metadata": {},
   "outputs": [
    {
     "data": {
      "text/plain": [
       "{'C': 1.1883543883024892, 'degree': 3, 'gamma': 0.13551802909894348}"
      ]
     },
     "execution_count": 12,
     "metadata": {},
     "output_type": "execute_result"
    }
   ],
   "source": [
    "from sklearn.model_selection import RandomizedSearchCV\n",
    "from scipy.stats import uniform\n",
    "\n",
    "clf = SVR()\n",
    "distributions = dict(C=uniform(loc=0.01, scale=3),\n",
    "                     gamma=uniform(loc=0.1, scale=0.5),\n",
    "                     degree=[2, 3, 4, 5])\n",
    "searcher = RandomizedSearchCV(clf, distributions, random_state=0)\n",
    "search = searcher.fit(x_train, y_train)\n",
    "search.best_params_"
   ]
  },
  {
   "cell_type": "code",
   "execution_count": 13,
   "metadata": {},
   "outputs": [
    {
     "data": {
      "text/plain": [
       "SVR(C=1.18835, cache_size=200, coef0=0.0, degree=3, epsilon=0.1, gamma=0.1355,\n",
       "    kernel='rbf', max_iter=-1, shrinking=True, tol=0.001, verbose=False)"
      ]
     },
     "execution_count": 13,
     "metadata": {},
     "output_type": "execute_result"
    }
   ],
   "source": [
    "best_clf = SVR(C=1.18835, degree=3, gamma=0.1355)\n",
    "best_clf.fit(x_train, y_train)"
   ]
  },
  {
   "cell_type": "code",
   "execution_count": 14,
   "metadata": {},
   "outputs": [],
   "source": [
    "y_pred = best_clf.predict(x_test)"
   ]
  },
  {
   "cell_type": "markdown",
   "metadata": {},
   "source": [
    "Błąd średniokwadratowy:"
   ]
  },
  {
   "cell_type": "code",
   "execution_count": 15,
   "metadata": {},
   "outputs": [
    {
     "data": {
      "text/plain": [
       "954.1007679035671"
      ]
     },
     "execution_count": 15,
     "metadata": {},
     "output_type": "execute_result"
    }
   ],
   "source": [
    "rmse = 0 \n",
    "for i in range(200):\n",
    "    rmse = rmse + (y_test.iloc[i] - y_pred[i])**2\n",
    "rmse/=200\n",
    "np.sqrt(rmse)"
   ]
  },
  {
   "cell_type": "markdown",
   "metadata": {},
   "source": [
    "Porównywalnie do poprzedniego wyniku, możemy wywnioskować, że algorytm dobrze dobiera paramety."
   ]
  },
  {
   "cell_type": "markdown",
   "metadata": {},
   "source": [
    "## Zbiór stock"
   ]
  },
  {
   "cell_type": "markdown",
   "metadata": {},
   "source": [
    "Zbiór z OpenMLa zawierający informację o dziennych cenach akcji 10 firm zajmujących się branżą kosmiczną od stycznia 1988 do października 1991. Jako zmienną celu autor wskazał ceny akcji ostatniej z kolei firmy. "
   ]
  },
  {
   "cell_type": "code",
   "execution_count": 16,
   "metadata": {},
   "outputs": [],
   "source": [
    "data = pd.read_csv(\"~/Documents/github/stock.csv\")"
   ]
  },
  {
   "cell_type": "code",
   "execution_count": 17,
   "metadata": {},
   "outputs": [
    {
     "data": {
      "text/html": [
       "<div>\n",
       "<style scoped>\n",
       "    .dataframe tbody tr th:only-of-type {\n",
       "        vertical-align: middle;\n",
       "    }\n",
       "\n",
       "    .dataframe tbody tr th {\n",
       "        vertical-align: top;\n",
       "    }\n",
       "\n",
       "    .dataframe thead th {\n",
       "        text-align: right;\n",
       "    }\n",
       "</style>\n",
       "<table border=\"1\" class=\"dataframe\">\n",
       "  <thead>\n",
       "    <tr style=\"text-align: right;\">\n",
       "      <th></th>\n",
       "      <th>company1</th>\n",
       "      <th>company2</th>\n",
       "      <th>company3</th>\n",
       "      <th>company4</th>\n",
       "      <th>company5</th>\n",
       "      <th>company6</th>\n",
       "      <th>company7</th>\n",
       "      <th>company8</th>\n",
       "      <th>company9</th>\n",
       "      <th>company10</th>\n",
       "    </tr>\n",
       "  </thead>\n",
       "  <tbody>\n",
       "    <tr>\n",
       "      <th>0</th>\n",
       "      <td>17.219</td>\n",
       "      <td>50.500</td>\n",
       "      <td>18.750</td>\n",
       "      <td>43.000</td>\n",
       "      <td>60.875</td>\n",
       "      <td>26.375</td>\n",
       "      <td>67.750</td>\n",
       "      <td>19.000</td>\n",
       "      <td>48.750</td>\n",
       "      <td>34.875</td>\n",
       "    </tr>\n",
       "    <tr>\n",
       "      <th>1</th>\n",
       "      <td>17.891</td>\n",
       "      <td>51.375</td>\n",
       "      <td>19.625</td>\n",
       "      <td>44.000</td>\n",
       "      <td>62.000</td>\n",
       "      <td>26.125</td>\n",
       "      <td>68.125</td>\n",
       "      <td>19.125</td>\n",
       "      <td>48.750</td>\n",
       "      <td>35.625</td>\n",
       "    </tr>\n",
       "    <tr>\n",
       "      <th>2</th>\n",
       "      <td>18.438</td>\n",
       "      <td>50.875</td>\n",
       "      <td>19.875</td>\n",
       "      <td>43.875</td>\n",
       "      <td>61.875</td>\n",
       "      <td>27.250</td>\n",
       "      <td>68.500</td>\n",
       "      <td>18.250</td>\n",
       "      <td>49.000</td>\n",
       "      <td>36.375</td>\n",
       "    </tr>\n",
       "    <tr>\n",
       "      <th>3</th>\n",
       "      <td>18.672</td>\n",
       "      <td>51.500</td>\n",
       "      <td>20.000</td>\n",
       "      <td>44.000</td>\n",
       "      <td>62.625</td>\n",
       "      <td>27.875</td>\n",
       "      <td>69.375</td>\n",
       "      <td>18.375</td>\n",
       "      <td>49.625</td>\n",
       "      <td>36.250</td>\n",
       "    </tr>\n",
       "    <tr>\n",
       "      <th>4</th>\n",
       "      <td>17.438</td>\n",
       "      <td>49.000</td>\n",
       "      <td>20.000</td>\n",
       "      <td>41.375</td>\n",
       "      <td>59.750</td>\n",
       "      <td>25.875</td>\n",
       "      <td>63.250</td>\n",
       "      <td>16.500</td>\n",
       "      <td>47.500</td>\n",
       "      <td>35.500</td>\n",
       "    </tr>\n",
       "    <tr>\n",
       "      <th>...</th>\n",
       "      <td>...</td>\n",
       "      <td>...</td>\n",
       "      <td>...</td>\n",
       "      <td>...</td>\n",
       "      <td>...</td>\n",
       "      <td>...</td>\n",
       "      <td>...</td>\n",
       "      <td>...</td>\n",
       "      <td>...</td>\n",
       "      <td>...</td>\n",
       "    </tr>\n",
       "    <tr>\n",
       "      <th>945</th>\n",
       "      <td>50.375</td>\n",
       "      <td>46.250</td>\n",
       "      <td>19.375</td>\n",
       "      <td>52.250</td>\n",
       "      <td>61.875</td>\n",
       "      <td>23.500</td>\n",
       "      <td>78.625</td>\n",
       "      <td>26.625</td>\n",
       "      <td>41.875</td>\n",
       "      <td>44.375</td>\n",
       "    </tr>\n",
       "    <tr>\n",
       "      <th>946</th>\n",
       "      <td>50.750</td>\n",
       "      <td>46.375</td>\n",
       "      <td>19.625</td>\n",
       "      <td>50.875</td>\n",
       "      <td>64.625</td>\n",
       "      <td>23.250</td>\n",
       "      <td>77.625</td>\n",
       "      <td>26.500</td>\n",
       "      <td>40.750</td>\n",
       "      <td>45.000</td>\n",
       "    </tr>\n",
       "    <tr>\n",
       "      <th>947</th>\n",
       "      <td>50.625</td>\n",
       "      <td>46.625</td>\n",
       "      <td>19.625</td>\n",
       "      <td>50.875</td>\n",
       "      <td>64.625</td>\n",
       "      <td>23.250</td>\n",
       "      <td>75.000</td>\n",
       "      <td>26.250</td>\n",
       "      <td>41.250</td>\n",
       "      <td>44.125</td>\n",
       "    </tr>\n",
       "    <tr>\n",
       "      <th>948</th>\n",
       "      <td>50.125</td>\n",
       "      <td>47.000</td>\n",
       "      <td>19.875</td>\n",
       "      <td>50.750</td>\n",
       "      <td>62.750</td>\n",
       "      <td>22.875</td>\n",
       "      <td>74.500</td>\n",
       "      <td>25.250</td>\n",
       "      <td>40.625</td>\n",
       "      <td>43.875</td>\n",
       "    </tr>\n",
       "    <tr>\n",
       "      <th>949</th>\n",
       "      <td>49.000</td>\n",
       "      <td>47.000</td>\n",
       "      <td>19.500</td>\n",
       "      <td>49.500</td>\n",
       "      <td>60.875</td>\n",
       "      <td>22.750</td>\n",
       "      <td>75.625</td>\n",
       "      <td>25.500</td>\n",
       "      <td>40.500</td>\n",
       "      <td>43.375</td>\n",
       "    </tr>\n",
       "  </tbody>\n",
       "</table>\n",
       "<p>950 rows × 10 columns</p>\n",
       "</div>"
      ],
      "text/plain": [
       "     company1  company2  company3  company4  company5  company6  company7  \\\n",
       "0      17.219    50.500    18.750    43.000    60.875    26.375    67.750   \n",
       "1      17.891    51.375    19.625    44.000    62.000    26.125    68.125   \n",
       "2      18.438    50.875    19.875    43.875    61.875    27.250    68.500   \n",
       "3      18.672    51.500    20.000    44.000    62.625    27.875    69.375   \n",
       "4      17.438    49.000    20.000    41.375    59.750    25.875    63.250   \n",
       "..        ...       ...       ...       ...       ...       ...       ...   \n",
       "945    50.375    46.250    19.375    52.250    61.875    23.500    78.625   \n",
       "946    50.750    46.375    19.625    50.875    64.625    23.250    77.625   \n",
       "947    50.625    46.625    19.625    50.875    64.625    23.250    75.000   \n",
       "948    50.125    47.000    19.875    50.750    62.750    22.875    74.500   \n",
       "949    49.000    47.000    19.500    49.500    60.875    22.750    75.625   \n",
       "\n",
       "     company8  company9  company10  \n",
       "0      19.000    48.750     34.875  \n",
       "1      19.125    48.750     35.625  \n",
       "2      18.250    49.000     36.375  \n",
       "3      18.375    49.625     36.250  \n",
       "4      16.500    47.500     35.500  \n",
       "..        ...       ...        ...  \n",
       "945    26.625    41.875     44.375  \n",
       "946    26.500    40.750     45.000  \n",
       "947    26.250    41.250     44.125  \n",
       "948    25.250    40.625     43.875  \n",
       "949    25.500    40.500     43.375  \n",
       "\n",
       "[950 rows x 10 columns]"
      ]
     },
     "execution_count": 17,
     "metadata": {},
     "output_type": "execute_result"
    }
   ],
   "source": [
    "data"
   ]
  },
  {
   "cell_type": "code",
   "execution_count": 18,
   "metadata": {},
   "outputs": [],
   "source": [
    "X = data[['company1','company2','company3','company4','company5','company6','company7','company8','company9']]\n",
    "Y = data['company10']"
   ]
  },
  {
   "cell_type": "code",
   "execution_count": 19,
   "metadata": {},
   "outputs": [],
   "source": [
    "x_train, x_test,y_train,y_test = train_test_split(X,Y,test_size=0.2)"
   ]
  },
  {
   "cell_type": "code",
   "execution_count": 20,
   "metadata": {},
   "outputs": [
    {
     "data": {
      "text/plain": [
       "SVR(C=1.0, cache_size=200, coef0=0.0, degree=3, epsilon=0.1, gamma='scale',\n",
       "    kernel='rbf', max_iter=-1, shrinking=True, tol=0.001, verbose=False)"
      ]
     },
     "execution_count": 20,
     "metadata": {},
     "output_type": "execute_result"
    }
   ],
   "source": [
    "clf = SVR()\n",
    "clf.fit(x_train, y_train)"
   ]
  },
  {
   "cell_type": "code",
   "execution_count": 21,
   "metadata": {},
   "outputs": [],
   "source": [
    "y_pred = clf.predict(x_test)"
   ]
  },
  {
   "cell_type": "markdown",
   "metadata": {},
   "source": [
    "Błąd średniokwadratowy:"
   ]
  },
  {
   "cell_type": "code",
   "execution_count": 22,
   "metadata": {},
   "outputs": [
    {
     "data": {
      "text/plain": [
       "1.662568689199444"
      ]
     },
     "execution_count": 22,
     "metadata": {},
     "output_type": "execute_result"
    }
   ],
   "source": [
    "rmse = 0 \n",
    "for i in range(len(y_pred)):\n",
    "    rmse = rmse + (y_test.iloc[i] - y_pred[i])**2\n",
    "rmse/=len(y_pred)\n",
    "np.sqrt(rmse)"
   ]
  },
  {
   "cell_type": "markdown",
   "metadata": {},
   "source": [
    "Szukanie najlepszych parametrów:"
   ]
  },
  {
   "cell_type": "code",
   "execution_count": 23,
   "metadata": {},
   "outputs": [
    {
     "data": {
      "text/plain": [
       "{'C': 1.5714324386536145, 'degree': 5, 'gamma': 0.15913721293446662}"
      ]
     },
     "execution_count": 23,
     "metadata": {},
     "output_type": "execute_result"
    }
   ],
   "source": [
    "clf = SVR()\n",
    "distributions = dict(C=uniform(loc=0.01, scale=3),\n",
    "                     gamma=uniform(loc=0.1, scale=0.5),\n",
    "                     degree=[2, 3, 4, 5])\n",
    "searcher = RandomizedSearchCV(clf, distributions, random_state=0)\n",
    "search = searcher.fit(x_train, y_train)\n",
    "search.best_params_"
   ]
  },
  {
   "cell_type": "code",
   "execution_count": 24,
   "metadata": {},
   "outputs": [
    {
     "data": {
      "text/plain": [
       "SVR(C=1.57143, cache_size=200, coef0=0.0, degree=5, epsilon=0.1, gamma=0.1591,\n",
       "    kernel='rbf', max_iter=-1, shrinking=True, tol=0.001, verbose=False)"
      ]
     },
     "execution_count": 24,
     "metadata": {},
     "output_type": "execute_result"
    }
   ],
   "source": [
    "best_clf = SVR(C=1.57143, degree=5, gamma=0.1591)\n",
    "best_clf.fit(x_train, y_train)"
   ]
  },
  {
   "cell_type": "code",
   "execution_count": 25,
   "metadata": {},
   "outputs": [],
   "source": [
    "y_pred = best_clf.predict(x_test)"
   ]
  },
  {
   "cell_type": "code",
   "execution_count": 26,
   "metadata": {},
   "outputs": [
    {
     "data": {
      "text/plain": [
       "3.371776914725569"
      ]
     },
     "execution_count": 26,
     "metadata": {},
     "output_type": "execute_result"
    }
   ],
   "source": [
    "rmse = 0 \n",
    "for i in range(len(y_pred)):\n",
    "    rmse = rmse + (y_test.iloc[i] - y_pred[i])**2\n",
    "rmse/=len(y_pred)\n",
    "np.sqrt(rmse)"
   ]
  },
  {
   "cell_type": "markdown",
   "metadata": {},
   "source": [
    "Tutaj wynik jest zauważalnie gorszy, algorytm dobrał hiperparametry lepiej niż random search."
   ]
  }
 ],
 "metadata": {
  "kernelspec": {
   "display_name": "Python 3",
   "language": "python",
   "name": "python3"
  },
  "language_info": {
   "codemirror_mode": {
    "name": "ipython",
    "version": 3
   },
   "file_extension": ".py",
   "mimetype": "text/x-python",
   "name": "python",
   "nbconvert_exporter": "python",
   "pygments_lexer": "ipython3",
   "version": "3.6.8"
  }
 },
 "nbformat": 4,
 "nbformat_minor": 2
}
