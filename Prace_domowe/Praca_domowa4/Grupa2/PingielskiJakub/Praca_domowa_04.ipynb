{
 "cells": [
  {
   "cell_type": "code",
   "execution_count": 1,
   "metadata": {},
   "outputs": [],
   "source": [
    "import numpy as np\n",
    "import pandas as pd\n",
    "\n",
    "from sklearn.svm import SVR, SVC\n",
    "\n",
    "from sklearn.model_selection import train_test_split, RandomizedSearchCV\n",
    "from sklearn.preprocessing import StandardScaler\n",
    "from sklearn.metrics import mean_squared_error, roc_auc_score\n",
    "from sklearn.pipeline import Pipeline\n",
    "from sklearn.preprocessing import OneHotEncoder\n",
    "from sklearn.compose import ColumnTransformer"
   ]
  },
  {
   "cell_type": "markdown",
   "metadata": {},
   "source": [
    "## Apartments"
   ]
  },
  {
   "cell_type": "code",
   "execution_count": 2,
   "metadata": {},
   "outputs": [],
   "source": [
    "data = pd.read_csv(\"./apartments.csv\", index_col=0)"
   ]
  },
  {
   "cell_type": "code",
   "execution_count": 3,
   "metadata": {
    "scrolled": true
   },
   "outputs": [],
   "source": [
    "column_transformer = ColumnTransformer([('OneHot', OneHotEncoder(), ['district'])], remainder= 'passthrough')"
   ]
  },
  {
   "cell_type": "code",
   "execution_count": 4,
   "metadata": {},
   "outputs": [],
   "source": [
    "X_train, X_test, y_train, y_test = train_test_split(data.drop(['m2.price'], axis = 1), data['m2.price'])"
   ]
  },
  {
   "cell_type": "code",
   "execution_count": 5,
   "metadata": {},
   "outputs": [],
   "source": [
    "model_scaling = Pipeline([('transformer', column_transformer),\n",
    "                          ('scaler', StandardScaler()), \n",
    "                          ('regressor', SVR())])"
   ]
  },
  {
   "cell_type": "code",
   "execution_count": 6,
   "metadata": {},
   "outputs": [],
   "source": [
    "model_no_scaling = Pipeline([('transformer', column_transformer),\n",
    "                             ('regressor', SVR())])"
   ]
  },
  {
   "cell_type": "code",
   "execution_count": 7,
   "metadata": {},
   "outputs": [],
   "source": [
    "param_grid = {\n",
    "    'regressor__C': np.logspace(0, 3, num=5),\n",
    "    'regressor__gamma': np.geomspace(10e-5, 1, num=5)\n",
    "}"
   ]
  },
  {
   "cell_type": "code",
   "execution_count": 8,
   "metadata": {},
   "outputs": [],
   "source": [
    "search_scaling = RandomizedSearchCV(\n",
    "    model_scaling,\n",
    "    param_grid,\n",
    "    scoring='neg_root_mean_squared_error').fit(X_train, y_train)\n",
    "\n",
    "y_pred = search_scaling.best_estimator_.predict(X_test)\n",
    "RMSE_scaling = mean_squared_error(y_test, y_pred, squared=False)"
   ]
  },
  {
   "cell_type": "code",
   "execution_count": 9,
   "metadata": {},
   "outputs": [],
   "source": [
    "search_no_scaling = RandomizedSearchCV(\n",
    "    model_no_scaling,\n",
    "    param_grid,\n",
    "    scoring='neg_root_mean_squared_error').fit(X_train, y_train)\n",
    "\n",
    "y_pred = search_no_scaling.best_estimator_.predict(X_test)\n",
    "RMSE_no_scaling = mean_squared_error(y_test, y_pred, squared=False)"
   ]
  },
  {
   "cell_type": "code",
   "execution_count": 10,
   "metadata": {},
   "outputs": [
    {
     "name": "stdout",
     "output_type": "stream",
     "text": [
      "RMSE with scaling:    145.67\n",
      "RMSE without scaling: 547.52\n"
     ]
    }
   ],
   "source": [
    "print(f'RMSE with scaling:    {round(RMSE_scaling, 2)}')\n",
    "print(f'RMSE without scaling: {round(RMSE_no_scaling, 2)}')"
   ]
  },
  {
   "cell_type": "markdown",
   "metadata": {},
   "source": [
    "As we can see, results with scaling are much better than without scaling."
   ]
  },
  {
   "cell_type": "markdown",
   "metadata": {},
   "source": [
    "## Australia"
   ]
  },
  {
   "cell_type": "code",
   "execution_count": 23,
   "metadata": {},
   "outputs": [],
   "source": [
    "data = pd.read_csv(\"./australia.csv\", nrows=1000)"
   ]
  },
  {
   "cell_type": "code",
   "execution_count": 24,
   "metadata": {},
   "outputs": [],
   "source": [
    "X_train, X_test, y_train, y_test = train_test_split(data.drop(['RainTomorrow'], axis = 1), data['RainTomorrow'])"
   ]
  },
  {
   "cell_type": "code",
   "execution_count": 25,
   "metadata": {},
   "outputs": [],
   "source": [
    "model_scaling = Pipeline([('scaler', StandardScaler()), \n",
    "                          ('classifier', SVC(probability=True))])"
   ]
  },
  {
   "cell_type": "code",
   "execution_count": 26,
   "metadata": {},
   "outputs": [],
   "source": [
    "model_no_scaling = Pipeline([('classifier', SVC(probability=True))])"
   ]
  },
  {
   "cell_type": "code",
   "execution_count": 27,
   "metadata": {},
   "outputs": [],
   "source": [
    "param_grid = {\n",
    "    'classifier__C': np.logspace(0, 3, num=10),\n",
    "    'classifier__gamma': np.geomspace(10e-5, 1, num=10)\n",
    "}"
   ]
  },
  {
   "cell_type": "code",
   "execution_count": 28,
   "metadata": {},
   "outputs": [],
   "source": [
    "search_scaling = RandomizedSearchCV(\n",
    "    model_scaling,\n",
    "    param_grid,\n",
    "    scoring='roc_auc').fit(X_train, y_train)\n",
    "\n",
    "y_pred = search_scaling.best_estimator_.predict_proba(X_test)\n",
    "AUC_scaling = roc_auc_score(y_test, y_pred[:, 1])"
   ]
  },
  {
   "cell_type": "code",
   "execution_count": 29,
   "metadata": {},
   "outputs": [],
   "source": [
    "search_no_scaling = RandomizedSearchCV(\n",
    "    model_no_scaling,\n",
    "    param_grid,\n",
    "    scoring='roc_auc').fit(X_train, y_train)\n",
    "\n",
    "y_pred = search_no_scaling.best_estimator_.predict_proba(X_test)\n",
    "AUC_no_scaling = roc_auc_score(y_test, y_pred[:, 1])"
   ]
  },
  {
   "cell_type": "code",
   "execution_count": 30,
   "metadata": {},
   "outputs": [
    {
     "name": "stdout",
     "output_type": "stream",
     "text": [
      "AUC with scaling:    0.91\n",
      "AUC without scaling: 0.89\n"
     ]
    }
   ],
   "source": [
    "print(f'AUC with scaling:    {round(AUC_scaling, 2)}')\n",
    "print(f'AUC without scaling: {round(AUC_no_scaling, 2)}')"
   ]
  },
  {
   "cell_type": "markdown",
   "metadata": {},
   "source": [
    "Similarly to regression, classification problem using Support Vector Machines benefits from scaling values before modelling."
   ]
  }
 ],
 "metadata": {
  "hide_input": false,
  "kernelspec": {
   "display_name": "Python 3",
   "language": "python",
   "name": "python3"
  },
  "language_info": {
   "codemirror_mode": {
    "name": "ipython",
    "version": 3
   },
   "file_extension": ".py",
   "mimetype": "text/x-python",
   "name": "python",
   "nbconvert_exporter": "python",
   "pygments_lexer": "ipython3",
   "version": "3.7.3"
  },
  "varInspector": {
   "cols": {
    "lenName": 16,
    "lenType": 16,
    "lenVar": 40
   },
   "kernels_config": {
    "python": {
     "delete_cmd_postfix": "",
     "delete_cmd_prefix": "del ",
     "library": "var_list.py",
     "varRefreshCmd": "print(var_dic_list())"
    },
    "r": {
     "delete_cmd_postfix": ") ",
     "delete_cmd_prefix": "rm(",
     "library": "var_list.r",
     "varRefreshCmd": "cat(var_dic_list()) "
    }
   },
   "types_to_exclude": [
    "module",
    "function",
    "builtin_function_or_method",
    "instance",
    "_Feature"
   ],
   "window_display": false
  }
 },
 "nbformat": 4,
 "nbformat_minor": 4
}
