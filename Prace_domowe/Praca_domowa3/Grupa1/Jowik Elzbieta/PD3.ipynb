{
 "cells": [
  {
   "cell_type": "markdown",
   "metadata": {},
   "source": [
    "# Klasyfikatory"
   ]
  },
  {
   "cell_type": "markdown",
   "metadata": {},
   "source": [
    "### Pakiety"
   ]
  },
  {
   "cell_type": "code",
   "execution_count": 3,
   "metadata": {},
   "outputs": [],
   "source": [
    "import pandas as pd \n",
    "import numpy as np\n",
    "import category_encoders as ce\n",
    "import matplotlib.pyplot as plt\n",
    "from sklearn.ensemble import RandomForestClassifier\n",
    "from sklearn.model_selection import GridSearchCV, train_test_split\n",
    "from sklearn.metrics import recall_score\n",
    "from sklearn.pipeline import Pipeline\n",
    "from sklearn.metrics import precision_score\n",
    "from sklearn import metrics\n",
    "from sklearn.preprocessing import StandardScaler\n",
    "import random\n",
    "import warnings \n",
    "warnings.filterwarnings('ignore')"
   ]
  },
  {
   "cell_type": "code",
   "execution_count": 4,
   "metadata": {},
   "outputs": [],
   "source": [
    "from xgboost import XGBClassifier"
   ]
  },
  {
   "cell_type": "markdown",
   "metadata": {},
   "source": [
    "### Ustawienie ziarna gwarantuje reprodukowalność wyników"
   ]
  },
  {
   "cell_type": "code",
   "execution_count": 3,
   "metadata": {},
   "outputs": [],
   "source": [
    "np.random.seed(123)"
   ]
  },
  {
   "cell_type": "markdown",
   "metadata": {},
   "source": [
    "### Wczytanie danych"
   ]
  },
  {
   "cell_type": "code",
   "execution_count": 4,
   "metadata": {},
   "outputs": [],
   "source": [
    "data = pd.read_csv('australia.csv')\n",
    "data = pd.DataFrame(data)"
   ]
  },
  {
   "cell_type": "markdown",
   "metadata": {},
   "source": [
    "### Sprawdzenia zrównoważenia zbioru ze względu na zmienną celu, w celu doboru odpowiednich miar oceny klasyfikacji"
   ]
  },
  {
   "cell_type": "code",
   "execution_count": 5,
   "metadata": {},
   "outputs": [
    {
     "data": {
      "text/plain": [
       "array([[<matplotlib.axes._subplots.AxesSubplot object at 0x7f518032a390>]],\n",
       "      dtype=object)"
      ]
     },
     "execution_count": 5,
     "metadata": {},
     "output_type": "execute_result"
    },
    {
     "data": {
      "image/png": "[encoded data removed]",
      "text/plain": [
       "<Figure size 432x288 with 1 Axes>"
      ]
     },
     "metadata": {
      "needs_background": "light"
     },
     "output_type": "display_data"
    }
   ],
   "source": [
    "data.filter([\"RainTomorrow\"]).hist()"
   ]
  },
  {
   "cell_type": "markdown",
   "metadata": {},
   "source": [
    "Dane są niezrównoważone, więc jako miary jakości predykcji klasy przez klasyfikatory będziemy używać precision i recall (nie accuracy)"
   ]
  },
  {
   "cell_type": "markdown",
   "metadata": {},
   "source": [
    "# 1. Podział na zbiory treningowy i testowy  \n",
    "\n",
    "* 80% obserwacji należy do zbioru treningowego, pozostałe do testowego.  \n",
    "* Odseparowujemy zmienną celu od zmiennych objaśniających."
   ]
  },
  {
   "cell_type": "code",
   "execution_count": 6,
   "metadata": {},
   "outputs": [],
   "source": [
    "X_train, X_test, Y_train, Y_test = train_test_split(data.drop('RainTomorrow', axis=1), data['RainTomorrow'])\n",
    "\n",
    "scaler = StandardScaler()\n",
    "X_train = scaler.fit_transform(X_train)\n",
    "X_test = scaler.transform(X_test)"
   ]
  },
  {
   "cell_type": "markdown",
   "metadata": {},
   "source": [
    "# 2. Klasyfikatory"
   ]
  },
  {
   "cell_type": "markdown",
   "metadata": {},
   "source": [
    "## 2.1. Random Forest"
   ]
  },
  {
   "cell_type": "code",
   "execution_count": 7,
   "metadata": {},
   "outputs": [],
   "source": [
    "# Stworzenie modelu\n",
    "rf_classifier = RandomForestClassifier(n_estimators=1000, max_depth=8, max_features='sqrt', bootstrap=True, \n",
    "                                       min_samples_leaf=2, min_samples_split=2, random_state=42)\n"
   ]
  },
  {
   "cell_type": "markdown",
   "metadata": {},
   "source": [
    "### Objaśnienie wybranych hiperparametrów"
   ]
  },
  {
   "cell_type": "markdown",
   "metadata": {},
   "source": [
    "Wybrane hiperparametry:  \n",
    "\n",
    "**n_estimators** - ilość drzew składowych (int, domyślnie 100)  \n",
    "**max_depth** - maksymalna głębokość drzewa (int, domyślnie None)   \n",
    "**min_samples_split** - minimalna liczba obserwacji wymagana do podziału węzła wewnętrznego (int/float, domyślnie 2)  \n",
    "**min_samples_leaf** - minimalna liczba obserwacji wymagana względem liścia (int, domyślnie 1)  \n",
    "**max_features** - ilość cech branych pod uwagę podczas poszukiwania najlepszego podziału (string). Jeśli “sqrt”, to max_features=sqrt(n_features), jeśli “log2”, to max_features=log2(n_features).  \n",
    "**bootstrap** - stosowanie bootstrap (bool, domyślnie True)  \n",
    "**random_state** - kontroluje losowość procedury bootstrap   "
   ]
  },
  {
   "cell_type": "code",
   "execution_count": 8,
   "metadata": {},
   "outputs": [
    {
     "data": {
      "text/plain": [
       "RandomForestClassifier(bootstrap=True, ccp_alpha=0.0, class_weight=None,\n",
       "                       criterion='gini', max_depth=8, max_features='sqrt',\n",
       "                       max_leaf_nodes=None, max_samples=None,\n",
       "                       min_impurity_decrease=0.0, min_impurity_split=None,\n",
       "                       min_samples_leaf=2, min_samples_split=2,\n",
       "                       min_weight_fraction_leaf=0.0, n_estimators=1000,\n",
       "                       n_jobs=None, oob_score=False, random_state=42, verbose=0,\n",
       "                       warm_start=False)"
      ]
     },
     "execution_count": 8,
     "metadata": {},
     "output_type": "execute_result"
    }
   ],
   "source": [
    "# Trenowanie modelu\n",
    "rf_classifier.fit(X_train, Y_train)"
   ]
  },
  {
   "cell_type": "code",
   "execution_count": 9,
   "metadata": {},
   "outputs": [],
   "source": [
    "# Predykcja klasy\n",
    "predict_class1 = rf_classifier.predict(X_test)\n",
    "\n",
    "# Predykcja prawdopodobieństwa\n",
    "predict_proba1 = rf_classifier.predict_proba(X_test)[:, 1]"
   ]
  },
  {
   "cell_type": "markdown",
   "metadata": {},
   "source": [
    "## 2.2. XGBoost"
   ]
  },
  {
   "cell_type": "code",
   "execution_count": 10,
   "metadata": {},
   "outputs": [],
   "source": [
    "# Stworzenie modelu\n",
    "xgb_classifier = XGBClassifier(n_estimators = 1000, booster = 'gbtree', colsample_bytree = 0.8, max_depth = 5, \n",
    "                               gamma = 1.5, min_child_weight = 1, subsample = 0.8, random_state = 42)\n"
   ]
  },
  {
   "cell_type": "markdown",
   "metadata": {},
   "source": [
    "### Objaśnienie wybranych hiperparametrów"
   ]
  },
  {
   "cell_type": "markdown",
   "metadata": {},
   "source": [
    "**booster** - typ boostera, gbtree, gblinear lub dart. Dwa pierwsze oparte na modelach drzewiastych, ostatni na funkcjach liniowych.   \n",
    "**colsample_bytree** - to frakcja kolumn (losowo wybranych), które zostaną wykorzystane przy konstruowaniu każdego drzewa.  \n",
    "**gamma** - odpowiada za częstość przycinania drzewa, im wyższa gamma, tym częściej przycinamy.   \n",
    "**min_child_weight** - minimalna waga wymagana względem 'dziecka'  \n",
    "**subsample** - odpowiada części obserwacji (wierszy) do podpróbkowania na każdym etapie. Domyślnie jest ustawiony na 1, co oznacza, że używamy wszystkich wierszy.    \n",
    "Pozostałe jak wyżej."
   ]
  },
  {
   "cell_type": "code",
   "execution_count": 11,
   "metadata": {},
   "outputs": [
    {
     "data": {
      "text/plain": [
       "XGBClassifier(base_score=0.5, booster='gbtree', colsample_bylevel=1,\n",
       "              colsample_bynode=1, colsample_bytree=0.8, gamma=1.5, gpu_id=-1,\n",
       "              importance_type='gain', interaction_constraints=None,\n",
       "              learning_rate=0.300000012, max_delta_step=0, max_depth=5,\n",
       "              min_child_weight=1, missing=nan, monotone_constraints=None,\n",
       "              n_estimators=1000, n_jobs=0, num_parallel_tree=1,\n",
       "              objective='binary:logistic', random_state=42, reg_alpha=0,\n",
       "              reg_lambda=1, scale_pos_weight=1, subsample=0.8, tree_method=None,\n",
       "              validate_parameters=False, verbosity=None)"
      ]
     },
     "execution_count": 11,
     "metadata": {},
     "output_type": "execute_result"
    }
   ],
   "source": [
    "# Trenowanie modelu\n",
    "xgb_classifier.fit(X_train, Y_train)"
   ]
  },
  {
   "cell_type": "code",
   "execution_count": 12,
   "metadata": {},
   "outputs": [],
   "source": [
    "# Predykcja klasy\n",
    "predict_class2 = xgb_classifier.predict(X_test)\n",
    "\n",
    "# Predykcja prawdopodobieństwa\n",
    "predict_proba2 = xgb_classifier.predict_proba(X_test)[:, 1]"
   ]
  },
  {
   "cell_type": "markdown",
   "metadata": {},
   "source": [
    "## 2.3. Regresja logistyczna"
   ]
  },
  {
   "cell_type": "markdown",
   "metadata": {},
   "source": []
  },
  {
   "cell_type": "code",
   "execution_count": 13,
   "metadata": {},
   "outputs": [],
   "source": [
    "from sklearn.linear_model import LogisticRegression"
   ]
  },
  {
   "cell_type": "code",
   "execution_count": 14,
   "metadata": {},
   "outputs": [],
   "source": [
    "# Budowanie modelu\n",
    "lr_classifier = LogisticRegression(penalty = 'l1', class_weight='balanced', C = 0.01, solver = 'saga')"
   ]
  },
  {
   "cell_type": "markdown",
   "metadata": {},
   "source": [
    "### Objaśnienie wybranych hiperparametrów"
   ]
  },
  {
   "cell_type": "markdown",
   "metadata": {},
   "source": [
    "**penalty** - norma kary.   \n",
    "**class_weight** - wagi klas.  \n",
    "**C** - odwrotny parametr regularyzacji, wyższe wartości C odpowiadają mniejszej regularyzacji.   \n",
    "**solver** - algorytm używany w procedurze optymalizacji.  "
   ]
  },
  {
   "cell_type": "code",
   "execution_count": 15,
   "metadata": {},
   "outputs": [
    {
     "data": {
      "text/plain": [
       "LogisticRegression(C=0.01, class_weight='balanced', dual=False,\n",
       "                   fit_intercept=True, intercept_scaling=1, l1_ratio=None,\n",
       "                   max_iter=100, multi_class='auto', n_jobs=None, penalty='l1',\n",
       "                   random_state=None, solver='saga', tol=0.0001, verbose=0,\n",
       "                   warm_start=False)"
      ]
     },
     "execution_count": 15,
     "metadata": {},
     "output_type": "execute_result"
    }
   ],
   "source": [
    "lr_classifier.fit(X_train, Y_train)"
   ]
  },
  {
   "cell_type": "code",
   "execution_count": 16,
   "metadata": {},
   "outputs": [],
   "source": [
    "# Predykcja klasy\n",
    "predict_class3 = lr_classifier.predict(X_test)\n",
    "\n",
    "# Predykcja prawdopodobieństwa\n",
    "predict_proba3 = lr_classifier.predict_proba(X_test)[:, 1]"
   ]
  },
  {
   "cell_type": "markdown",
   "metadata": {},
   "source": [
    "# 3. Zestawienie rezultatów"
   ]
  },
  {
   "cell_type": "markdown",
   "metadata": {},
   "source": [
    "## 3.1. Miary precision i recall\n",
    "Wartości miary recall na zbiorze testowym dla klasyfikatorów Random Forest, XGBoost i regresji logistycznej wynoszą odpowiednio:\n"
   ]
  },
  {
   "cell_type": "code",
   "execution_count": 17,
   "metadata": {},
   "outputs": [
    {
     "data": {
      "text/html": [
       "<div>\n",
       "<style scoped>\n",
       "    .dataframe tbody tr th:only-of-type {\n",
       "        vertical-align: middle;\n",
       "    }\n",
       "\n",
       "    .dataframe tbody tr th {\n",
       "        vertical-align: top;\n",
       "    }\n",
       "\n",
       "    .dataframe thead th {\n",
       "        text-align: right;\n",
       "    }\n",
       "</style>\n",
       "<table border=\"1\" class=\"dataframe\">\n",
       "  <thead>\n",
       "    <tr style=\"text-align: right;\">\n",
       "      <th></th>\n",
       "      <th>Metoda</th>\n",
       "      <th>Recall</th>\n",
       "      <th>Precision</th>\n",
       "    </tr>\n",
       "  </thead>\n",
       "  <tbody>\n",
       "    <tr>\n",
       "      <th>0</th>\n",
       "      <td>Random Forest</td>\n",
       "      <td>0.469144</td>\n",
       "      <td>0.823449</td>\n",
       "    </tr>\n",
       "    <tr>\n",
       "      <th>1</th>\n",
       "      <td>XGBoost</td>\n",
       "      <td>0.572536</td>\n",
       "      <td>0.798576</td>\n",
       "    </tr>\n",
       "    <tr>\n",
       "      <th>2</th>\n",
       "      <td>Regresja logistyczna</td>\n",
       "      <td>0.796123</td>\n",
       "      <td>0.738254</td>\n",
       "    </tr>\n",
       "  </tbody>\n",
       "</table>\n",
       "</div>"
      ],
      "text/plain": [
       "                 Metoda    Recall  Precision\n",
       "0         Random Forest  0.469144   0.823449\n",
       "1               XGBoost  0.572536   0.798576\n",
       "2  Regresja logistyczna  0.796123   0.738254"
      ]
     },
     "execution_count": 17,
     "metadata": {},
     "output_type": "execute_result"
    }
   ],
   "source": [
    "pd.DataFrame({\"Metoda\" : [\"Random Forest\", \"XGBoost\", \"Regresja logistyczna\"], \n",
    "             \"Recall\" : [recall_score(Y_test, predict_class1), recall_score(Y_test, predict_class2), recall_score(Y_test, predict_class3)],\n",
    "             \"Precision\" : [precision_score(Y_test, predict_class1, average='macro'), precision_score(Y_test, predict_class2, average='macro'), precision_score(Y_test, predict_class3, average='macro')]})"
   ]
  },
  {
   "cell_type": "markdown",
   "metadata": {},
   "source": [
    "## Krzywe Precision-Recall"
   ]
  },
  {
   "cell_type": "code",
   "execution_count": 18,
   "metadata": {},
   "outputs": [
    {
     "data": {
      "text/plain": [
       "Text(0.5, 1.0, 'Krzywa Precision-Recall dla regresji logistycznej')"
      ]
     },
     "execution_count": 18,
     "metadata": {},
     "output_type": "execute_result"
    },
    {
     "data": {
      "image/png": "[encoded data removed]",
      "text/plain": [
       "<Figure size 432x288 with 1 Axes>"
      ]
     },
     "metadata": {
      "needs_background": "light"
     },
     "output_type": "display_data"
    },
    {
     "data": {
      "image/png": "[encoded data removed]",
      "text/plain": [
       "<Figure size 432x288 with 1 Axes>"
      ]
     },
     "metadata": {
      "needs_background": "light"
     },
     "output_type": "display_data"
    },
    {
     "data": {
      "image/png": "[encoded data removed]",
      "text/plain": [
       "<Figure size 432x288 with 1 Axes>"
      ]
     },
     "metadata": {
      "needs_background": "light"
     },
     "output_type": "display_data"
    }
   ],
   "source": [
    "from sklearn.metrics import precision_recall_curve\n",
    "from sklearn.metrics import plot_precision_recall_curve\n",
    "\n",
    "disp1 = plot_precision_recall_curve(rf_classifier, X_test, Y_test)\n",
    "disp1.ax_.set_title('Krzywa Precision-Recall dla klasyfikatora Random Forest')\n",
    "disp2 = plot_precision_recall_curve(xgb_classifier, X_test, Y_test)\n",
    "disp2.ax_.set_title('Krzywa Precision-Recall dla klasyfikatora XGBoost')\n",
    "disp3 = plot_precision_recall_curve(lr_classifier, X_test, Y_test)\n",
    "disp3.ax_.set_title('Krzywa Precision-Recall dla regresji logistycznej')"
   ]
  },
  {
   "cell_type": "markdown",
   "metadata": {},
   "source": [
    "## Wnioski:\n",
    "Przy predykcji klasy okazuje się, że osiągnięte przez klasyfikatory wartości precision i recall są zróżnicowane. Względem miary precision najlepsze rezultaty osiągnął Random Forest, natomiast względem recall regresja logistyczna.  \n",
    "\n",
    "Moim zdaniem, ocena który klasyfikator jest lepszy od pozostałych zależy od konkretnej sytuacji i zmiennej celu, którą chcemy przewidywać. Mianowicie ważne jest to, czy chcemy aby klasyfikator wykrywał jak największą frakcję wyników dodatnich (maksymalizacja recall), czy aby jak największa część obserwacji wskazanych przez klasyfikator jako dodatnia faktycznie taka była (maksymalizacja precision).  \n",
    "W przypadku przewidywania deszczu, skupiłabym się bardziej na zmiennej recall.  "
   ]
  },
  {
   "cell_type": "markdown",
   "metadata": {},
   "source": [
    "## 3.2. Krzywa ROCR i miara AUC"
   ]
  },
  {
   "cell_type": "code",
   "execution_count": 19,
   "metadata": {
    "scrolled": true
   },
   "outputs": [
    {
     "data": {
      "image/png": "[encoded data removed]",
      "text/plain": [
       "<Figure size 432x288 with 1 Axes>"
      ]
     },
     "metadata": {
      "needs_background": "light"
     },
     "output_type": "display_data"
    }
   ],
   "source": [
    "# Krzywa ROCR\n",
    "fpr1, tpr1, thresholds1 = metrics.roc_curve(Y_test, predict_proba1) # false & true positive rates\n",
    "fpr2, tpr2, thresholds2 = metrics.roc_curve(Y_test, predict_proba2) # false & true positive rates\n",
    "fpr3, tpr3, thresholds3 = metrics.roc_curve(Y_test, predict_proba3) # false & true positive rates\n",
    "\n",
    "plt.figure()\n",
    "plt.plot([0, 1], [0, 1], 'k--')\n",
    "plt.plot(fpr1, tpr1, label='Random Forest')\n",
    "plt.plot(fpr2, tpr2, label='XGBoost')\n",
    "plt.plot(fpr3, tpr3, label='Regresja Logistyczna')\n",
    "plt.xlabel('False positive rate')\n",
    "plt.ylabel('True positive rate')\n",
    "plt.title('ROC curve')\n",
    "plt.legend(loc='best')\n",
    "plt.show()"
   ]
  },
  {
   "cell_type": "code",
   "execution_count": 20,
   "metadata": {},
   "outputs": [
    {
     "data": {
      "text/html": [
       "<div>\n",
       "<style scoped>\n",
       "    .dataframe tbody tr th:only-of-type {\n",
       "        vertical-align: middle;\n",
       "    }\n",
       "\n",
       "    .dataframe tbody tr th {\n",
       "        vertical-align: top;\n",
       "    }\n",
       "\n",
       "    .dataframe thead th {\n",
       "        text-align: right;\n",
       "    }\n",
       "</style>\n",
       "<table border=\"1\" class=\"dataframe\">\n",
       "  <thead>\n",
       "    <tr style=\"text-align: right;\">\n",
       "      <th></th>\n",
       "      <th>Klasyfikator</th>\n",
       "      <th>AUC</th>\n",
       "    </tr>\n",
       "  </thead>\n",
       "  <tbody>\n",
       "    <tr>\n",
       "      <th>0</th>\n",
       "      <td>Random Forest</td>\n",
       "      <td>0.886290</td>\n",
       "    </tr>\n",
       "    <tr>\n",
       "      <th>1</th>\n",
       "      <td>XGBoost</td>\n",
       "      <td>0.886197</td>\n",
       "    </tr>\n",
       "    <tr>\n",
       "      <th>2</th>\n",
       "      <td>Regresja Logistyczna</td>\n",
       "      <td>0.887379</td>\n",
       "    </tr>\n",
       "  </tbody>\n",
       "</table>\n",
       "</div>"
      ],
      "text/plain": [
       "           Klasyfikator       AUC\n",
       "0         Random Forest  0.886290\n",
       "1               XGBoost  0.886197\n",
       "2  Regresja Logistyczna  0.887379"
      ]
     },
     "execution_count": 20,
     "metadata": {},
     "output_type": "execute_result"
    }
   ],
   "source": [
    "# Miara AUC\n",
    "pd.DataFrame({\"Klasyfikator\" : [\"Random Forest\", \"XGBoost\", \"Regresja Logistyczna\"],\n",
    "             \"AUC\": [metrics.auc(fpr1, tpr1), metrics.auc(fpr2, tpr2), metrics.auc(fpr3, tpr3)]})"
   ]
  },
  {
   "cell_type": "markdown",
   "metadata": {},
   "source": [
    "## Wnioski"
   ]
  },
  {
   "cell_type": "markdown",
   "metadata": {},
   "source": [
    "Rezultaty osiągnięte przez klasyfikatory w przypadku predykcji prawdopodobieństwa są niemalże identyczne (krzywe ROCR pokrywają się) i dość wysokie. Jak widać najwyższy wynik względem miary AUC osiągnęła regresja logistyczna, nie mniej jednak, różnice są znikome. Jak wynika z literatury, wyniki wszystkich klasyfikatorów świadczą o tym, że każdy z nich może być postrzegany jako co najmniej dobry, a nawet bardzo dobry."
   ]
  },
  {
   "cell_type": "markdown",
   "metadata": {},
   "source": [
    "# Część dodatkowa - model regresyjny"
   ]
  },
  {
   "cell_type": "markdown",
   "metadata": {},
   "source": [
    "# Regresja liniowa"
   ]
  },
  {
   "cell_type": "code",
   "execution_count": 16,
   "metadata": {},
   "outputs": [],
   "source": [
    "import category_encoders as ce\n",
    "from sklearn.linear_model import LinearRegression\n",
    "from sklearn.metrics import r2_score\n",
    "from sklearn.metrics import mean_squared_error"
   ]
  },
  {
   "cell_type": "markdown",
   "metadata": {},
   "source": [
    "### Wczytanie danych"
   ]
  },
  {
   "cell_type": "code",
   "execution_count": 17,
   "metadata": {},
   "outputs": [],
   "source": [
    "df = pd.read_csv('allegro-api-transactions.csv')\n",
    "df = pd.DataFrame(df)\n",
    "df = df.drop(['lp', 'date'], axis = 1)\n",
    "\n",
    "Y = df.price\n",
    "cols = ['categories', 'seller','it_location', 'main_category']"
   ]
  },
  {
   "cell_type": "markdown",
   "metadata": {},
   "source": [
    "## 1. Target Encoding"
   ]
  },
  {
   "cell_type": "code",
   "execution_count": 18,
   "metadata": {},
   "outputs": [],
   "source": [
    "te = ce.TargetEncoder(cols = cols)"
   ]
  },
  {
   "cell_type": "code",
   "execution_count": 25,
   "metadata": {},
   "outputs": [],
   "source": [
    "# Podział na zbiory treningowy i testowy\n",
    "train_X1, test_X1, train_Y1, test_Y1 = train_test_split(df.drop('price', axis=1), df['price'])\n",
    "\n",
    "# Kodowanie po podziale na podzbiory\n",
    "encoded_train_X1 = te.fit_transform(train_X1, train_Y1)\n",
    "encoded_test_X1 = te.transform(test_X1, test_Y1)\n",
    "\n",
    "\n",
    "# Model\n",
    "linreg1 = LinearRegression()\n",
    "linreg1.fit(encoded_train_X1, train_Y1)\n",
    "\n",
    "# Predykcja\n",
    "y_pred1 = linreg1.predict(encoded_test_X1)"
   ]
  },
  {
   "cell_type": "markdown",
   "metadata": {},
   "source": [
    "## 2. James Stein Encoding"
   ]
  },
  {
   "cell_type": "code",
   "execution_count": 26,
   "metadata": {},
   "outputs": [],
   "source": [
    "js = ce.james_stein.JamesSteinEncoder(df, cols = cols)"
   ]
  },
  {
   "cell_type": "code",
   "execution_count": 27,
   "metadata": {},
   "outputs": [],
   "source": [
    "# Podział na zbiory treningowy i testowy\n",
    "train_X2, test_X2, train_Y2, test_Y2 = train_test_split(df.drop('price', axis=1), df['price'])\n",
    "\n",
    "# Kodowanie po podziale na podzbiory\n",
    "encoded_train_X2 = js.fit_transform(train_X2, train_Y2)\n",
    "encoded_test_X2 = js.transform(test_X2, test_Y2)\n",
    "\n",
    "\n",
    "# Model\n",
    "linreg2 = LinearRegression()\n",
    "linreg2.fit(encoded_train_X2, train_Y2)\n",
    "\n",
    "# Predykcja\n",
    "y_pred2 = linreg2.predict(encoded_test_X2)"
   ]
  },
  {
   "cell_type": "markdown",
   "metadata": {},
   "source": [
    "## 3. CatBoost Encoding"
   ]
  },
  {
   "cell_type": "code",
   "execution_count": 28,
   "metadata": {},
   "outputs": [],
   "source": [
    "cb = ce.CatBoostEncoder(cols = cols)"
   ]
  },
  {
   "cell_type": "code",
   "execution_count": 29,
   "metadata": {},
   "outputs": [],
   "source": [
    "# Podział na zbiory treningowy i testowy\n",
    "train_X3, test_X3, train_Y3, test_Y3 = train_test_split(df.drop('price', axis=1), df['price'])\n",
    "\n",
    "# Kodowanie po podziale na podzbiory\n",
    "train_X3_copy = train_X3.copy()\n",
    "train_Y3_copy = train_Y3.copy()\n",
    "test_X3_copy = test_X3.copy()\n",
    "test_Y3_copy = test_Y3.copy()\n",
    "\n",
    "## Losowa permutacja wierszy (zabieg zalecane w dokumentacji)\n",
    "train_permutation = np.random.permutation(len(train_X3_copy)) \n",
    "train_X3_copy = train_X3_copy.iloc[train_permutation].reset_index(drop = True)\n",
    "train_Y3_copy = train_Y3_copy.iloc[train_permutation].reset_index(drop = True)\n",
    "\n",
    "test_permutation = np.random.permutation(len(test_X3_copy)) \n",
    "test_X3_copy = test_X3_copy.iloc[test_permutation].reset_index(drop = True)\n",
    "test_Y3_copy = test_Y3_copy.iloc[test_permutation].reset_index(drop = True)\n",
    "\n",
    "## Kodowanie\n",
    "encoded_train_X3 = cb.fit_transform(train_X3_copy, train_Y3_copy)\n",
    "encoded_test_X3 = cb.transform(test_X3_copy, test_Y3_copy)\n",
    "\n",
    "\n",
    "# Model\n",
    "linreg3 = LinearRegression()\n",
    "linreg3.fit(encoded_train_X3, train_Y3_copy)\n",
    "\n",
    "# Predykcja\n",
    "y_pred3 = linreg3.predict(encoded_test_X3)"
   ]
  },
  {
   "cell_type": "markdown",
   "metadata": {},
   "source": [
    "## Zestawienie wyników"
   ]
  },
  {
   "cell_type": "code",
   "execution_count": 30,
   "metadata": {},
   "outputs": [
    {
     "data": {
      "text/html": [
       "<div>\n",
       "<style scoped>\n",
       "    .dataframe tbody tr th:only-of-type {\n",
       "        vertical-align: middle;\n",
       "    }\n",
       "\n",
       "    .dataframe tbody tr th {\n",
       "        vertical-align: top;\n",
       "    }\n",
       "\n",
       "    .dataframe thead th {\n",
       "        text-align: right;\n",
       "    }\n",
       "</style>\n",
       "<table border=\"1\" class=\"dataframe\">\n",
       "  <thead>\n",
       "    <tr style=\"text-align: right;\">\n",
       "      <th></th>\n",
       "      <th>Metoda</th>\n",
       "      <th>R2</th>\n",
       "      <th>RMSE</th>\n",
       "    </tr>\n",
       "  </thead>\n",
       "  <tbody>\n",
       "    <tr>\n",
       "      <th>0</th>\n",
       "      <td>Target Encoding</td>\n",
       "      <td>0.106129</td>\n",
       "      <td>390.000356</td>\n",
       "    </tr>\n",
       "    <tr>\n",
       "      <th>1</th>\n",
       "      <td>James Stein Encoding</td>\n",
       "      <td>0.145902</td>\n",
       "      <td>334.230796</td>\n",
       "    </tr>\n",
       "    <tr>\n",
       "      <th>2</th>\n",
       "      <td>CatBoost Encoding</td>\n",
       "      <td>0.225271</td>\n",
       "      <td>212.388148</td>\n",
       "    </tr>\n",
       "  </tbody>\n",
       "</table>\n",
       "</div>"
      ],
      "text/plain": [
       "                 Metoda        R2        RMSE\n",
       "0       Target Encoding  0.106129  390.000356\n",
       "1  James Stein Encoding  0.145902  334.230796\n",
       "2     CatBoost Encoding  0.225271  212.388148"
      ]
     },
     "execution_count": 30,
     "metadata": {},
     "output_type": "execute_result"
    }
   ],
   "source": [
    "pd.DataFrame({\"Metoda\" : [\"Target Encoding\", \"James Stein Encoding\", \"CatBoost Encoding\"], \n",
    "             \"R2\" : [r2_score(test_Y1, y_pred1), r2_score(test_Y2, y_pred2), r2_score(test_Y3_copy, y_pred3)],\n",
    "             \"RMSE\" : [mean_squared_error(test_Y1, y_pred1, squared=False), mean_squared_error(test_Y2, y_pred2, squared=False), mean_squared_error(test_Y3_copy, y_pred3, squared=False)]})"
   ]
  },
  {
   "cell_type": "markdown",
   "metadata": {},
   "source": [
    "## Wnioski"
   ]
  },
  {
   "cell_type": "markdown",
   "metadata": {},
   "source": [
    "Zgodnie z początkową intuicją rezultaty regresji względem rozważanych miar, dla danych poddanych podobnym metodom kodowania zmiennych kategorycznych, są zróżnicowane w nieznacznym stopniu. \n",
    "\n",
    "Pierwsze co rzuca się w oczy w powyższych wynikach, to niskie wartości współczynników determinacji. Wartość R<sup>2</sup> wynosząca ok. 0.1-0.15, gdzie maksymalna możliwa wartość wynosi 1, jest niezwykle mała. Pokazuje, że nasze modele regresji praktycznie nie przedstawiają zmienności próbki. Wartości błędów średniokwadratowych dla rozważanych encodingów są nieco bardziej zróżnicowane. \n",
    "\n",
    "Nie mniej jednak w tym wywołaniu, najlepiej względem obydwu miar wypadł CatBoost Encoding. (Odnoszę się do konkretnego wywołania, ponieważ wyniki nie są ściśle reprodukowalne)"
   ]
  }
 ],
 "metadata": {
  "kernelspec": {
   "display_name": "Python 3",
   "language": "python",
   "name": "python3"
  },
  "language_info": {
   "codemirror_mode": {
    "name": "ipython",
    "version": 3
   },
   "file_extension": ".py",
   "mimetype": "text/x-python",
   "name": "python",
   "nbconvert_exporter": "python",
   "pygments_lexer": "ipython3",
   "version": "3.7.6"
  }
 },
 "nbformat": 4,
 "nbformat_minor": 4
}
