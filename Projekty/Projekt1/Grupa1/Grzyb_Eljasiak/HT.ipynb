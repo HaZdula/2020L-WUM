{
 "cells": [
  {
   "cell_type": "markdown",
   "metadata": {},
   "source": [
    "# Projekt 1\n",
    "#### Mateusz Grzyb, Bartłomiej Eljasiak"
   ]
  },
  {
   "cell_type": "markdown",
   "metadata": {},
   "source": [
    "## Wczytanie bibliotek"
   ]
  },
  {
   "cell_type": "code",
   "execution_count": 439,
   "metadata": {},
   "outputs": [],
   "source": [
    "import random\n",
    "import numpy as np\n",
    "import pandas as pd\n",
    "\n",
    "from scipy.stats import uniform\n",
    "from scipy.stats import expon\n",
    "from scipy.stats import randint\n",
    "\n",
    "import matplotlib.pyplot as plt\n",
    "import seaborn as sns\n",
    "import missingno as msno\n",
    "\n",
    "from sklearn.model_selection import train_test_split\n",
    "\n",
    "from xgboost import XGBClassifier\n",
    "from sklearn.impute import SimpleImputer\n",
    "from sklearn.pipeline import make_pipeline\n",
    "from sklearn.metrics import confusion_matrix\n",
    "from sklearn.metrics.scorer import make_scorer\n",
    "\n",
    "from sklearn.model_selection import RandomizedSearchCV\n",
    "\n",
    "from scipy import interp\n",
    "from sklearn.metrics import auc\n",
    "from sklearn.metrics import plot_roc_curve\n",
    "from sklearn.model_selection import StratifiedKFold\n",
    "\n",
    "from sklearn.metrics import matthews_corrcoef\n",
    "\n",
    "from sklearn.metrics import plot_confusion_matrix"
   ]
  },
  {
   "cell_type": "markdown",
   "metadata": {},
   "source": [
    "## Przygotowanie danych"
   ]
  },
  {
   "cell_type": "markdown",
   "metadata": {},
   "source": [
    "Bazując na wynikach, z poprzednich etapów projektu, surowe dane obrobię w następujący sposób:\n",
    "\n",
    "* Wczytam surowe dane,\n",
    "\n",
    "* wykonam rzutowanie str na bool,\n",
    "\n",
    "* tym razem zostawię kolumny '*_measured', będą informowały o miejsach imputacji,\n",
    "\n",
    "* poprawię jedną, nierealną obserwację zmiennej 'age',\n",
    "\n",
    "* usunę kolumny 'TBG' i 'TBG_measured', nie zawierają one żadnej informacji,\n",
    "\n",
    "* usunę zmienną 'referral_source', której wątpliwą jakość omówiliśmy na etapie drugim,\n",
    "\n",
    "* imputuję zmienną 'sex' w sposób losowy, z prawdopodobieństwami odpowiadającymi proporcjom klas.\n"
   ]
  },
  {
   "cell_type": "code",
   "execution_count": 440,
   "metadata": {},
   "outputs": [],
   "source": [
    "raw_data=pd.read_csv('sick.csv')\n",
    "\n",
    "# kopia surowych danych\n",
    "data=raw_data.copy()"
   ]
  },
  {
   "cell_type": "code",
   "execution_count": 441,
   "metadata": {},
   "outputs": [],
   "source": [
    "# sex (F == 1, M == 0)\n",
    "data.loc[~data['sex'].isnull(), 'sex']=(data.loc[:, 'sex']=='F').astype(int)\n",
    "\n",
    "# Class (Sick == 1, negative == 0)\n",
    "data.loc[~data['Class'].isnull(), 'Class']=(data.loc[:, 'Class']=='sick').astype(int)\n",
    "\n",
    "# pozostałe zmienne (t == 1, f == 0)\n",
    "variables=set(list(data.columns))-set(['age', 'sex', 'TSH', 'T3', 'TT4', 'T4U', 'FTI', 'TBG', 'referral_source', 'Class']) \n",
    "\n",
    "for variable in variables:\n",
    "    data.loc[~data[variable].isnull(), variable]=(data.loc[:, variable]=='t').astype(int)"
   ]
  },
  {
   "cell_type": "code",
   "execution_count": 442,
   "metadata": {},
   "outputs": [],
   "source": [
    "# najdluzej zyjacy czlowiek zyl 122 lata (a tutaj jeden ma 455...)\n",
    "data.loc[data.age==455, 'age']=45"
   ]
  },
  {
   "cell_type": "code",
   "execution_count": 443,
   "metadata": {},
   "outputs": [],
   "source": [
    "# zmienne 'TBG_measured', 'TBG' i 'referral_source' odpadaja\n",
    "data=data.drop(['TBG_measured', 'TBG', 'referral_source'], axis=1)"
   ]
  },
  {
   "cell_type": "code",
   "execution_count": 444,
   "metadata": {},
   "outputs": [],
   "source": [
    "# imputacja zmiennej 'sex'\n",
    "random.seed=1\n",
    "data.loc[data['sex'].isnull(), 'sex']=random.choices(population=[1,0], weights=[0.67, 0.33], k=1)[0]"
   ]
  },
  {
   "cell_type": "code",
   "execution_count": 445,
   "metadata": {},
   "outputs": [
    {
     "data": {
      "text/html": [
       "<div>\n",
       "<style scoped>\n",
       "    .dataframe tbody tr th:only-of-type {\n",
       "        vertical-align: middle;\n",
       "    }\n",
       "\n",
       "    .dataframe tbody tr th {\n",
       "        vertical-align: top;\n",
       "    }\n",
       "\n",
       "    .dataframe thead th {\n",
       "        text-align: right;\n",
       "    }\n",
       "</style>\n",
       "<table border=\"1\" class=\"dataframe\">\n",
       "  <thead>\n",
       "    <tr style=\"text-align: right;\">\n",
       "      <th></th>\n",
       "      <th>age</th>\n",
       "      <th>sex</th>\n",
       "      <th>on_thyroxine</th>\n",
       "      <th>query_on_thyroxine</th>\n",
       "      <th>on_antithyroid_medication</th>\n",
       "      <th>sick</th>\n",
       "      <th>pregnant</th>\n",
       "      <th>thyroid_surgery</th>\n",
       "      <th>I131_treatment</th>\n",
       "      <th>query_hypothyroid</th>\n",
       "      <th>...</th>\n",
       "      <th>TSH</th>\n",
       "      <th>T3_measured</th>\n",
       "      <th>T3</th>\n",
       "      <th>TT4_measured</th>\n",
       "      <th>TT4</th>\n",
       "      <th>T4U_measured</th>\n",
       "      <th>T4U</th>\n",
       "      <th>FTI_measured</th>\n",
       "      <th>FTI</th>\n",
       "      <th>Class</th>\n",
       "    </tr>\n",
       "  </thead>\n",
       "  <tbody>\n",
       "    <tr>\n",
       "      <td>0</td>\n",
       "      <td>41.0</td>\n",
       "      <td>1</td>\n",
       "      <td>0</td>\n",
       "      <td>0</td>\n",
       "      <td>0</td>\n",
       "      <td>0</td>\n",
       "      <td>0</td>\n",
       "      <td>0</td>\n",
       "      <td>0</td>\n",
       "      <td>0</td>\n",
       "      <td>...</td>\n",
       "      <td>1.30</td>\n",
       "      <td>1</td>\n",
       "      <td>2.5</td>\n",
       "      <td>1</td>\n",
       "      <td>125.0</td>\n",
       "      <td>1</td>\n",
       "      <td>1.14</td>\n",
       "      <td>1</td>\n",
       "      <td>109.0</td>\n",
       "      <td>0</td>\n",
       "    </tr>\n",
       "    <tr>\n",
       "      <td>1</td>\n",
       "      <td>23.0</td>\n",
       "      <td>1</td>\n",
       "      <td>0</td>\n",
       "      <td>0</td>\n",
       "      <td>0</td>\n",
       "      <td>0</td>\n",
       "      <td>0</td>\n",
       "      <td>0</td>\n",
       "      <td>0</td>\n",
       "      <td>0</td>\n",
       "      <td>...</td>\n",
       "      <td>4.10</td>\n",
       "      <td>1</td>\n",
       "      <td>2.0</td>\n",
       "      <td>1</td>\n",
       "      <td>102.0</td>\n",
       "      <td>0</td>\n",
       "      <td>NaN</td>\n",
       "      <td>0</td>\n",
       "      <td>NaN</td>\n",
       "      <td>0</td>\n",
       "    </tr>\n",
       "    <tr>\n",
       "      <td>2</td>\n",
       "      <td>46.0</td>\n",
       "      <td>0</td>\n",
       "      <td>0</td>\n",
       "      <td>0</td>\n",
       "      <td>0</td>\n",
       "      <td>0</td>\n",
       "      <td>0</td>\n",
       "      <td>0</td>\n",
       "      <td>0</td>\n",
       "      <td>0</td>\n",
       "      <td>...</td>\n",
       "      <td>0.98</td>\n",
       "      <td>0</td>\n",
       "      <td>NaN</td>\n",
       "      <td>1</td>\n",
       "      <td>109.0</td>\n",
       "      <td>1</td>\n",
       "      <td>0.91</td>\n",
       "      <td>1</td>\n",
       "      <td>120.0</td>\n",
       "      <td>0</td>\n",
       "    </tr>\n",
       "    <tr>\n",
       "      <td>3</td>\n",
       "      <td>70.0</td>\n",
       "      <td>1</td>\n",
       "      <td>1</td>\n",
       "      <td>0</td>\n",
       "      <td>0</td>\n",
       "      <td>0</td>\n",
       "      <td>0</td>\n",
       "      <td>0</td>\n",
       "      <td>0</td>\n",
       "      <td>0</td>\n",
       "      <td>...</td>\n",
       "      <td>0.16</td>\n",
       "      <td>1</td>\n",
       "      <td>1.9</td>\n",
       "      <td>1</td>\n",
       "      <td>175.0</td>\n",
       "      <td>0</td>\n",
       "      <td>NaN</td>\n",
       "      <td>0</td>\n",
       "      <td>NaN</td>\n",
       "      <td>0</td>\n",
       "    </tr>\n",
       "    <tr>\n",
       "      <td>4</td>\n",
       "      <td>70.0</td>\n",
       "      <td>1</td>\n",
       "      <td>0</td>\n",
       "      <td>0</td>\n",
       "      <td>0</td>\n",
       "      <td>0</td>\n",
       "      <td>0</td>\n",
       "      <td>0</td>\n",
       "      <td>0</td>\n",
       "      <td>0</td>\n",
       "      <td>...</td>\n",
       "      <td>0.72</td>\n",
       "      <td>1</td>\n",
       "      <td>1.2</td>\n",
       "      <td>1</td>\n",
       "      <td>61.0</td>\n",
       "      <td>1</td>\n",
       "      <td>0.87</td>\n",
       "      <td>1</td>\n",
       "      <td>70.0</td>\n",
       "      <td>0</td>\n",
       "    </tr>\n",
       "    <tr>\n",
       "      <td>...</td>\n",
       "      <td>...</td>\n",
       "      <td>...</td>\n",
       "      <td>...</td>\n",
       "      <td>...</td>\n",
       "      <td>...</td>\n",
       "      <td>...</td>\n",
       "      <td>...</td>\n",
       "      <td>...</td>\n",
       "      <td>...</td>\n",
       "      <td>...</td>\n",
       "      <td>...</td>\n",
       "      <td>...</td>\n",
       "      <td>...</td>\n",
       "      <td>...</td>\n",
       "      <td>...</td>\n",
       "      <td>...</td>\n",
       "      <td>...</td>\n",
       "      <td>...</td>\n",
       "      <td>...</td>\n",
       "      <td>...</td>\n",
       "      <td>...</td>\n",
       "    </tr>\n",
       "    <tr>\n",
       "      <td>3767</td>\n",
       "      <td>30.0</td>\n",
       "      <td>1</td>\n",
       "      <td>0</td>\n",
       "      <td>0</td>\n",
       "      <td>0</td>\n",
       "      <td>0</td>\n",
       "      <td>0</td>\n",
       "      <td>0</td>\n",
       "      <td>0</td>\n",
       "      <td>0</td>\n",
       "      <td>...</td>\n",
       "      <td>NaN</td>\n",
       "      <td>0</td>\n",
       "      <td>NaN</td>\n",
       "      <td>0</td>\n",
       "      <td>NaN</td>\n",
       "      <td>0</td>\n",
       "      <td>NaN</td>\n",
       "      <td>0</td>\n",
       "      <td>NaN</td>\n",
       "      <td>0</td>\n",
       "    </tr>\n",
       "    <tr>\n",
       "      <td>3768</td>\n",
       "      <td>68.0</td>\n",
       "      <td>1</td>\n",
       "      <td>0</td>\n",
       "      <td>0</td>\n",
       "      <td>0</td>\n",
       "      <td>0</td>\n",
       "      <td>0</td>\n",
       "      <td>0</td>\n",
       "      <td>0</td>\n",
       "      <td>0</td>\n",
       "      <td>...</td>\n",
       "      <td>1.00</td>\n",
       "      <td>1</td>\n",
       "      <td>2.1</td>\n",
       "      <td>1</td>\n",
       "      <td>124.0</td>\n",
       "      <td>1</td>\n",
       "      <td>1.08</td>\n",
       "      <td>1</td>\n",
       "      <td>114.0</td>\n",
       "      <td>0</td>\n",
       "    </tr>\n",
       "    <tr>\n",
       "      <td>3769</td>\n",
       "      <td>74.0</td>\n",
       "      <td>1</td>\n",
       "      <td>0</td>\n",
       "      <td>0</td>\n",
       "      <td>0</td>\n",
       "      <td>0</td>\n",
       "      <td>0</td>\n",
       "      <td>0</td>\n",
       "      <td>0</td>\n",
       "      <td>0</td>\n",
       "      <td>...</td>\n",
       "      <td>5.10</td>\n",
       "      <td>1</td>\n",
       "      <td>1.8</td>\n",
       "      <td>1</td>\n",
       "      <td>112.0</td>\n",
       "      <td>1</td>\n",
       "      <td>1.07</td>\n",
       "      <td>1</td>\n",
       "      <td>105.0</td>\n",
       "      <td>0</td>\n",
       "    </tr>\n",
       "    <tr>\n",
       "      <td>3770</td>\n",
       "      <td>72.0</td>\n",
       "      <td>0</td>\n",
       "      <td>0</td>\n",
       "      <td>0</td>\n",
       "      <td>0</td>\n",
       "      <td>0</td>\n",
       "      <td>0</td>\n",
       "      <td>0</td>\n",
       "      <td>0</td>\n",
       "      <td>0</td>\n",
       "      <td>...</td>\n",
       "      <td>0.70</td>\n",
       "      <td>1</td>\n",
       "      <td>2.0</td>\n",
       "      <td>1</td>\n",
       "      <td>82.0</td>\n",
       "      <td>1</td>\n",
       "      <td>0.94</td>\n",
       "      <td>1</td>\n",
       "      <td>87.0</td>\n",
       "      <td>0</td>\n",
       "    </tr>\n",
       "    <tr>\n",
       "      <td>3771</td>\n",
       "      <td>64.0</td>\n",
       "      <td>1</td>\n",
       "      <td>0</td>\n",
       "      <td>0</td>\n",
       "      <td>0</td>\n",
       "      <td>0</td>\n",
       "      <td>0</td>\n",
       "      <td>0</td>\n",
       "      <td>0</td>\n",
       "      <td>0</td>\n",
       "      <td>...</td>\n",
       "      <td>1.00</td>\n",
       "      <td>1</td>\n",
       "      <td>2.2</td>\n",
       "      <td>1</td>\n",
       "      <td>99.0</td>\n",
       "      <td>1</td>\n",
       "      <td>1.07</td>\n",
       "      <td>1</td>\n",
       "      <td>92.0</td>\n",
       "      <td>0</td>\n",
       "    </tr>\n",
       "  </tbody>\n",
       "</table>\n",
       "<p>3772 rows × 27 columns</p>\n",
       "</div>"
      ],
      "text/plain": [
       "       age  sex  on_thyroxine  query_on_thyroxine  on_antithyroid_medication  \\\n",
       "0     41.0    1             0                   0                          0   \n",
       "1     23.0    1             0                   0                          0   \n",
       "2     46.0    0             0                   0                          0   \n",
       "3     70.0    1             1                   0                          0   \n",
       "4     70.0    1             0                   0                          0   \n",
       "...    ...  ...           ...                 ...                        ...   \n",
       "3767  30.0    1             0                   0                          0   \n",
       "3768  68.0    1             0                   0                          0   \n",
       "3769  74.0    1             0                   0                          0   \n",
       "3770  72.0    0             0                   0                          0   \n",
       "3771  64.0    1             0                   0                          0   \n",
       "\n",
       "      sick  pregnant  thyroid_surgery  I131_treatment  query_hypothyroid  ...  \\\n",
       "0        0         0                0               0                  0  ...   \n",
       "1        0         0                0               0                  0  ...   \n",
       "2        0         0                0               0                  0  ...   \n",
       "3        0         0                0               0                  0  ...   \n",
       "4        0         0                0               0                  0  ...   \n",
       "...    ...       ...              ...             ...                ...  ...   \n",
       "3767     0         0                0               0                  0  ...   \n",
       "3768     0         0                0               0                  0  ...   \n",
       "3769     0         0                0               0                  0  ...   \n",
       "3770     0         0                0               0                  0  ...   \n",
       "3771     0         0                0               0                  0  ...   \n",
       "\n",
       "       TSH  T3_measured   T3  TT4_measured    TT4  T4U_measured   T4U  \\\n",
       "0     1.30            1  2.5             1  125.0             1  1.14   \n",
       "1     4.10            1  2.0             1  102.0             0   NaN   \n",
       "2     0.98            0  NaN             1  109.0             1  0.91   \n",
       "3     0.16            1  1.9             1  175.0             0   NaN   \n",
       "4     0.72            1  1.2             1   61.0             1  0.87   \n",
       "...    ...          ...  ...           ...    ...           ...   ...   \n",
       "3767   NaN            0  NaN             0    NaN             0   NaN   \n",
       "3768  1.00            1  2.1             1  124.0             1  1.08   \n",
       "3769  5.10            1  1.8             1  112.0             1  1.07   \n",
       "3770  0.70            1  2.0             1   82.0             1  0.94   \n",
       "3771  1.00            1  2.2             1   99.0             1  1.07   \n",
       "\n",
       "      FTI_measured    FTI  Class  \n",
       "0                1  109.0      0  \n",
       "1                0    NaN      0  \n",
       "2                1  120.0      0  \n",
       "3                0    NaN      0  \n",
       "4                1   70.0      0  \n",
       "...            ...    ...    ...  \n",
       "3767             0    NaN      0  \n",
       "3768             1  114.0      0  \n",
       "3769             1  105.0      0  \n",
       "3770             1   87.0      0  \n",
       "3771             1   92.0      0  \n",
       "\n",
       "[3772 rows x 27 columns]"
      ]
     },
     "execution_count": 445,
     "metadata": {},
     "output_type": "execute_result"
    }
   ],
   "source": [
    "# podglad danych\n",
    "data"
   ]
  },
  {
   "cell_type": "code",
   "execution_count": 446,
   "metadata": {},
   "outputs": [
    {
     "data": {
      "image/png": "[encoded data removed]",
      "text/plain": [
       "<Figure size 1800x720 with 2 Axes>"
      ]
     },
     "metadata": {
      "needs_background": "light"
     },
     "output_type": "display_data"
    }
   ],
   "source": [
    "# podglad brakow\n",
    "msno.matrix(data);"
   ]
  },
  {
   "cell_type": "code",
   "execution_count": 447,
   "metadata": {},
   "outputs": [],
   "source": [
    "# dokonam jeszcze podzialu na zbior treningowy i testowy\n",
    "X=data.drop('Class', axis=1)\n",
    "y=data.Class\n",
    "X_train, X_test, y_train, y_test = train_test_split(X, y, stratify=y, test_size=0.2, random_state=0)"
   ]
  },
  {
   "cell_type": "markdown",
   "metadata": {},
   "source": [
    "## Przygotowanie modelu i metryki"
   ]
  },
  {
   "cell_type": "markdown",
   "metadata": {},
   "source": [
    "\n",
    "Modelem, którym posłużę się w tej części projektu, jest XGBoost z imputacją mediany. Wybrałem go, ponieważ osiągnął on najlepsze wyniki w poprzedniej części projektu i jest szybki."
   ]
  },
  {
   "cell_type": "code",
   "execution_count": 448,
   "metadata": {},
   "outputs": [],
   "source": [
    "xgb=XGBClassifier(n_jobs=-1)\n",
    "mi=SimpleImputer(strategy='median')\n",
    "# pipeline zapewnia brak przecieku danych przy imputacji\n",
    "classifier=make_pipeline(mi, xgb)"
   ]
  },
  {
   "cell_type": "markdown",
   "metadata": {},
   "source": [
    "Funkcja RandomizedSearchCV pozwala na przekazanie metryki, za pomocą której będzie ona oceniać jakość wartości hiperparametrów. Chciałbym z tej możliwości skorzystać i napisać własną metrykę, bazując na tym artykule naukowym: https://www.sciencedirect.com/science/article/abs/pii/S0957417420302153?via%3Dihub (artykuł został udostępniony nam w całośći przez dr inż. Annę Wróblewską).\n",
    "\n",
    "Zaproponowana w tym artykule metryka nazywa się Weighted TPR-TNR i wyraża następującym wzorem:\n",
    "\n",
    "$$\\text{Weighted TPR-TNR}=(TPR\\cdot\\frac{N}{P+N})+(TNR\\cdot\\frac{P}{P+N})$$\n",
    "\n",
    "Jej wartość zależy zatem od proporcji klas zmiennej celu w zbiorze testowym. Autor artykułu twierdzi, że miara ta jest sczególnie użyteczna w przypadku zbiorów mocno niezbalansowanych (czyli dokładnie takich, jak nasz), a przeprowadzone przez niego eksperymenty dowodzą, że dużo częściej jest ona zgodna z ekspertyzą (w kontekście oceny działania różnych klasyfikatorów na danym zbiorze danych), niż metody takie jak TOPSIS czy GRA, biorące pod uwagę wiele metryk prostych."
   ]
  },
  {
   "cell_type": "code",
   "execution_count": 449,
   "metadata": {},
   "outputs": [],
   "source": [
    "def my_score_func(y_true, y_pred):\n",
    "    \n",
    "    P=sum(y_true)\n",
    "    N=len(y_true)-P\n",
    "    TN, FP, FN, TP=confusion_matrix(y_true, y_pred).ravel()\n",
    "                \n",
    "    w1=N/(P+N)\n",
    "    w2=P/(P+N)\n",
    "    TPR=TP/(TP+FN)\n",
    "    TNR=TN/(TN+FP)\n",
    "    \n",
    "    score=TPR*w1+TNR*w2\n",
    "    \n",
    "    return score"
   ]
  },
  {
   "cell_type": "code",
   "execution_count": 450,
   "metadata": {},
   "outputs": [
    {
     "data": {
      "text/plain": [
       "1.0"
      ]
     },
     "execution_count": 450,
     "metadata": {},
     "output_type": "execute_result"
    }
   ],
   "source": [
    "# powinno wyjsc 1 (idealna predykcja)\n",
    "my_score_func([1, 1, 0, 0, 0, 0, 0, 0, 0, 0], [1, 1, 0, 0, 0, 0, 0, 0, 0, 0])"
   ]
  },
  {
   "cell_type": "code",
   "execution_count": 451,
   "metadata": {},
   "outputs": [
    {
     "data": {
      "text/plain": [
       "0.0"
      ]
     },
     "execution_count": 451,
     "metadata": {},
     "output_type": "execute_result"
    }
   ],
   "source": [
    "# powinno wyjsc 0 (przeciwienstwo idealnej predykcji)\n",
    "my_score_func([0, 0, 1, 1, 1, 1, 1, 1, 1, 1], [1, 1, 0, 0, 0, 0, 0, 0, 0, 0])"
   ]
  },
  {
   "cell_type": "code",
   "execution_count": 452,
   "metadata": {},
   "outputs": [
    {
     "data": {
      "text/plain": [
       "0.9750000000000001"
      ]
     },
     "execution_count": 452,
     "metadata": {},
     "output_type": "execute_result"
    }
   ],
   "source": [
    "# powinno miec mniejszy wplyw na wynik (falszywy alaram)\n",
    "my_score_func([1, 1, 0, 0, 0, 0, 0, 0, 0, 0], [1, 1, 0, 0, 0, 0, 0, 0, 0, 1])"
   ]
  },
  {
   "cell_type": "code",
   "execution_count": 453,
   "metadata": {},
   "outputs": [
    {
     "data": {
      "text/plain": [
       "0.6000000000000001"
      ]
     },
     "execution_count": 453,
     "metadata": {},
     "output_type": "execute_result"
    }
   ],
   "source": [
    "# powinno miec wiekszy wplyw na wynik (przeoczono chorobe)\n",
    "my_score_func([1, 1, 0, 0, 0, 0, 0, 0, 0, 0], [1, 0, 0, 0, 0, 0, 0, 0, 0, 0])"
   ]
  },
  {
   "cell_type": "markdown",
   "metadata": {},
   "source": [
    "## Strojenie hiperparametrów"
   ]
  },
  {
   "cell_type": "markdown",
   "metadata": {},
   "source": [
    "Posłużę się funkcją RandomizedSearchCV."
   ]
  },
  {
   "cell_type": "code",
   "execution_count": 454,
   "metadata": {},
   "outputs": [],
   "source": [
    "# https://xgboost.readthedocs.io/en/latest/parameter.html\n",
    "# https://www.analyticsvidhya.com/blog/2016/03/complete-guide-parameter-tuning-xgboost-with-codes-python/\n",
    "\n",
    "# domyslnie 'gbtree'\n",
    "# \"...I’ll consider only tree booster here because it always outperforms the linear booster and thus the later is rarely used.\"\n",
    "booster=['gbtree']\n",
    "\n",
    "# domyslnie 0.3\n",
    "# musi byc z zakresu [0, 1]\n",
    "# \"Typical final values to be used are 0.01-0.2.\"\n",
    "learning_rate=uniform(loc=0.01, scale=0.49)\n",
    "\n",
    "# domyslnie 1\n",
    "# musi byc z zakresu [1, ∞]\n",
    "min_child_weight=randint(low=1, high=10)\n",
    "\n",
    "# domyslnie 6\n",
    "# musi byc z zakresu [1, ∞]\n",
    "# \"Beware that XGBoost aggressively consumes memory when training a deep tree.\"\n",
    "max_depth=randint(low=1, high=10)\n",
    "\n",
    "# domyslnie 0\n",
    "# https://medium.com/data-design/xgboost-hi-im-gamma-what-can-i-do-for-you-and-the-tuning-of-regularization-a42ea17e6ab6\n",
    "# \"Gamma values around 20 are extremely high.\"\n",
    "# scale=1/lambda\n",
    "min_split_loss=uniform(loc=0, scale=20)\n",
    "# lub\n",
    "# min_split_loss=expon(scale=1/0.2)\n",
    "# mozna podejrzec, P(X<20)~=0.98168\n",
    "# r=min_split_loss.rvs(size=1000)\n",
    "# sorted(r)\n",
    "\n",
    "# domyslnie 0\n",
    "# \"Usually this parameter is not needed, but it might help in logistic regression when class is extremely imbalanced.\"\n",
    "# \"This is generally not used but you can explore further if you wish.\"\n",
    "# \"Set it to value of 1-10 might help control the update.\"\n",
    "max_delta_step=uniform(loc=0, scale=10)\n",
    "\n",
    "# domyslnie 1\n",
    "# musi byc z zakresu (0, 1]\n",
    "# \"Typical values are 0.5-1.\"\n",
    "subsample=uniform(loc=0.1, scale=0.9)\n",
    "\n",
    "# domyslnie 1\n",
    "# musi byc z zakresu (0, 1]\n",
    "# \"Typical values are 0.5-1\"\n",
    "colsample_bytree=uniform(loc=0.1, scale=0.9)\n",
    "\n",
    "# domyslnie 1\n",
    "# \"I don’t use this often because subsample and colsample_bytree will do the job for you. but you can explore further if you feel so.\"\n",
    "colsample_bylevel=[1]\n",
    "\n",
    "# domyslnie 1\n",
    "# \"This used to handle the regularization part of XGBoost. Though many data scientists don’t use it often, it should be explored to reduce overfitting.\"\n",
    "reg_lambda=uniform(loc=0, scale=3)\n",
    "\n",
    "# domyslnie 0\n",
    "# \"Can be used in case of very high dimensionality so that the algorithm runs faster when implemented.\"\n",
    "reg_alpha=uniform(loc=0, scale=3)\n",
    "\n",
    "# domyslnie 1\n",
    "# \"A value greater than 0 should be used in case of high class imbalance as it helps in faster convergence.\"\n",
    "scale_pos_weight=uniform(loc=0, scale=3)\n",
    "\n",
    "# domyslnie 100\n",
    "n_estimators=randint(50, 150)\n",
    "\n",
    "params={\n",
    "        'xgbclassifier__booster': booster, \n",
    "        'xgbclassifier__learning_rate': learning_rate,\n",
    "        'xgbclassifier__min_child_weight': min_child_weight, \n",
    "        'xgbclassifier__max_depth': max_depth,\n",
    "        'xgbclassifier__min_split_loss': min_split_loss, \n",
    "        'xgbclassifier__max_delta_step': max_delta_step, \n",
    "        'xgbclassifier__subsample': subsample, \n",
    "        'xgbclassifier__colsample_bytree': colsample_bytree, \n",
    "        'xgbclassifier__colsample_bylevel': colsample_bylevel, \n",
    "        'xgbclassifier__reg_lambda': reg_lambda, \n",
    "        'xgbclassifier__reg_alpha': reg_alpha, \n",
    "        'xgbclassifier__scale_pos_weight': scale_pos_weight,\n",
    "        'xgbclassifier__n_estimators': n_estimators\n",
    "}\n",
    "\n",
    "random=RandomizedSearchCV(estimator=classifier, param_distributions=params, scoring=my_scorer, n_iter=1000, cv=5, n_jobs=-1, verbose=True)"
   ]
  },
  {
   "cell_type": "code",
   "execution_count": 455,
   "metadata": {},
   "outputs": [
    {
     "name": "stdout",
     "output_type": "stream",
     "text": [
      "Fitting 5 folds for each of 1000 candidates, totalling 5000 fits\n"
     ]
    },
    {
     "name": "stderr",
     "output_type": "stream",
     "text": [
      "[Parallel(n_jobs=-1)]: Using backend LokyBackend with 8 concurrent workers.\n",
      "[Parallel(n_jobs=-1)]: Done  52 tasks      | elapsed:    1.9s\n",
      "[Parallel(n_jobs=-1)]: Done 352 tasks      | elapsed:   11.3s\n",
      "[Parallel(n_jobs=-1)]: Done 852 tasks      | elapsed:   24.6s\n",
      "[Parallel(n_jobs=-1)]: Done 1552 tasks      | elapsed:   43.6s\n",
      "[Parallel(n_jobs=-1)]: Done 2452 tasks      | elapsed:  1.1min\n",
      "[Parallel(n_jobs=-1)]: Done 3552 tasks      | elapsed:  1.6min\n",
      "[Parallel(n_jobs=-1)]: Done 4852 tasks      | elapsed:  2.2min\n",
      "[Parallel(n_jobs=-1)]: Done 5000 out of 5000 | elapsed:  2.3min finished\n"
     ]
    }
   ],
   "source": [
    "random_result=random.fit(X_train, y_train)"
   ]
  },
  {
   "cell_type": "markdown",
   "metadata": {},
   "source": [
    "Udało się zauważalnie poprawić model, czego dowodem są następujące wyniki."
   ]
  },
  {
   "cell_type": "code",
   "execution_count": 456,
   "metadata": {},
   "outputs": [
    {
     "name": "stdout",
     "output_type": "stream",
     "text": [
      "Weighted TPR-TNR for best tuned model: 0.913\n"
     ]
    }
   ],
   "source": [
    "# sprawdzmy wynik najlepszego modelu\n",
    "print('Weighted TPR-TNR for best tuned model: '+str(round(random_result.best_score_, 3)))"
   ]
  },
  {
   "cell_type": "code",
   "execution_count": 457,
   "metadata": {},
   "outputs": [
    {
     "name": "stdout",
     "output_type": "stream",
     "text": [
      "Weighted TPR-TNR for default model: 0.856\n"
     ]
    }
   ],
   "source": [
    "# dla porownania wyniki przy domyslnych parametrach\n",
    "classifier.fit(X_train, y_train)\n",
    "print('Weighted TPR-TNR for default model: '+str(round(my_scorer(classifier, X_test, y_test), 3)))"
   ]
  },
  {
   "cell_type": "markdown",
   "metadata": {},
   "source": [
    "Sprawdźmy jakie parametry modelu dobrał algorytm."
   ]
  },
  {
   "cell_type": "code",
   "execution_count": 458,
   "metadata": {},
   "outputs": [
    {
     "data": {
      "text/plain": [
       "{'objective': 'binary:logistic',\n",
       " 'base_score': 0.5,\n",
       " 'booster': 'gbtree',\n",
       " 'colsample_bylevel': 1,\n",
       " 'colsample_bynode': 1,\n",
       " 'colsample_bytree': 0.22842240142848716,\n",
       " 'gamma': 7.89431429,\n",
       " 'gpu_id': -1,\n",
       " 'importance_type': 'gain',\n",
       " 'interaction_constraints': None,\n",
       " 'learning_rate': 0.28344886280469794,\n",
       " 'max_delta_step': 5.630460927948212,\n",
       " 'max_depth': 6,\n",
       " 'min_child_weight': 1,\n",
       " 'missing': nan,\n",
       " 'monotone_constraints': None,\n",
       " 'n_estimators': 97,\n",
       " 'n_jobs': -1,\n",
       " 'num_parallel_tree': 1,\n",
       " 'random_state': 0,\n",
       " 'reg_alpha': 1.6980777560349871,\n",
       " 'reg_lambda': 1.3687854964496986,\n",
       " 'scale_pos_weight': 2.9034579858618503,\n",
       " 'subsample': 0.9189542915429992,\n",
       " 'tree_method': None,\n",
       " 'validate_parameters': False,\n",
       " 'verbosity': None,\n",
       " 'min_split_loss': 7.894314353844654}"
      ]
     },
     "execution_count": 458,
     "metadata": {},
     "output_type": "execute_result"
    }
   ],
   "source": [
    "# parametry najlepszego klasyfikatora\n",
    "random_result.best_estimator_.named_steps.xgbclassifier.get_xgb_params()"
   ]
  },
  {
   "cell_type": "markdown",
   "metadata": {},
   "source": [
    "Wspomniany wcześniej artykuł chwali także miarę \"Matthews correlation coefficient (MCC)\" przy ocenie klasyfikatorów na zbiorach niezbalansowanych. Jest ona już zaimplementowana w scikit-learn."
   ]
  },
  {
   "cell_type": "code",
   "execution_count": 459,
   "metadata": {},
   "outputs": [
    {
     "name": "stdout",
     "output_type": "stream",
     "text": [
      "Weighted MCC for best tuned model: 0.845\n"
     ]
    }
   ],
   "source": [
    "bm=random_result.best_estimator_\n",
    "print('Weighted MCC for best tuned model: '+str(round(matthews_corrcoef(bm.predict(X_test), y_test), 3)))"
   ]
  },
  {
   "cell_type": "code",
   "execution_count": 460,
   "metadata": {},
   "outputs": [
    {
     "name": "stdout",
     "output_type": "stream",
     "text": [
      "Weighted MCC for default model: 0.819\n"
     ]
    }
   ],
   "source": [
    "classifier.fit(X_train, y_train)\n",
    "print('Weighted MCC for default model: '+str(round(matthews_corrcoef(classifier.predict(X_test), y_test), 3)))"
   ]
  },
  {
   "cell_type": "markdown",
   "metadata": {},
   "source": [
    "Zawsze warto również spojrzeć na Confusion Matrix."
   ]
  },
  {
   "cell_type": "code",
   "execution_count": 461,
   "metadata": {},
   "outputs": [
    {
     "data": {
      "image/png": "[encoded data removed]",
      "text/plain": [
       "<Figure size 432x288 with 2 Axes>"
      ]
     },
     "metadata": {
      "needs_background": "light"
     },
     "output_type": "display_data"
    }
   ],
   "source": [
    "disp=plot_confusion_matrix(bm, X_test, y_test, cmap=plt.cm.Blues, normalize='true')\n",
    "disp.ax_.set_title('Confusion Matrix\\n(normalized along horizontal axis)');"
   ]
  },
  {
   "cell_type": "markdown",
   "metadata": {},
   "source": [
    "Wyniki są bardzo dobre. Model tylko w 1.7% przypadków fałszywie poinformował o chorobie i jednocześnie wykrył chorobę w 93% przypadków.\n",
    "Model oczywiście nigdy wcześniej nie \"widział\" tych obserwacji, ponieważ funkcja RandomizedSearchCV została wywołana na zbiorze treningowym, nie ma więc mowy o przecieku danych."
   ]
  },
  {
   "cell_type": "markdown",
   "metadata": {},
   "source": [
    "## Feature Importance\n",
    "\n",
    "Artykuł na temat Feature Importance w algorytmie XGBoost: https://towardsdatascience.com/be-careful-when-interpreting-your-features-importance-in-xgboost-6e16132588e7"
   ]
  },
  {
   "cell_type": "markdown",
   "metadata": {},
   "source": [
    "## Weight\n",
    "\"The **weight** is the percentage representing the relative number of times a particular feature occurs in the trees of the model.\""
   ]
  },
  {
   "cell_type": "code",
   "execution_count": 462,
   "metadata": {},
   "outputs": [
    {
     "data": {
      "image/png": "[encoded data removed]",
      "text/plain": [
       "<Figure size 648x432 with 1 Axes>"
      ]
     },
     "metadata": {
      "needs_background": "light"
     },
     "output_type": "display_data"
    }
   ],
   "source": [
    "from xgboost import plot_importance\n",
    "bm.named_steps.xgbclassifier.get_booster().feature_names=list(X.columns)\n",
    "fig, ax=plt.subplots(figsize=(9,6))  \n",
    "plot_importance(bm.named_steps.xgbclassifier, ylabel=None, importance_type='weight', title='Feature importance (weight)', show_values=False, ax=ax);"
   ]
  },
  {
   "cell_type": "markdown",
   "metadata": {},
   "source": [
    "### Gain\n",
    "\"A higher **gain** value when compared to another feature implies it is more important for generating a prediction.\""
   ]
  },
  {
   "cell_type": "code",
   "execution_count": 463,
   "metadata": {},
   "outputs": [
    {
     "data": {
      "image/png": "[encoded data removed]",
      "text/plain": [
       "<Figure size 648x432 with 1 Axes>"
      ]
     },
     "metadata": {
      "needs_background": "light"
     },
     "output_type": "display_data"
    }
   ],
   "source": [
    "fig, ax=plt.subplots(figsize=(9,6))  \n",
    "plot_importance(bm.named_steps.xgbclassifier, ylabel=None, importance_type='gain', title='Feature importance (gain)', show_values=False, ax=ax);"
   ]
  },
  {
   "cell_type": "markdown",
   "metadata": {},
   "source": [
    "### Coverage\n",
    "\n",
    "\"The **Coverage** metric means the relative number of observations related to this feature.\""
   ]
  },
  {
   "cell_type": "code",
   "execution_count": 464,
   "metadata": {},
   "outputs": [
    {
     "data": {
      "image/png": "[encoded data removed]",
      "text/plain": [
       "<Figure size 648x432 with 1 Axes>"
      ]
     },
     "metadata": {
      "needs_background": "light"
     },
     "output_type": "display_data"
    }
   ],
   "source": [
    "fig, ax=plt.subplots(figsize=(9,6))  \n",
    "plot_importance(bm.named_steps.xgbclassifier, ylabel=None, importance_type='cover', title='Feature importance (cover)', show_values=False, ax=ax);"
   ]
  },
  {
   "cell_type": "markdown",
   "metadata": {},
   "source": [
    "<div align=\"center\">\n",
    "    \"The gain is the most relevant attribute to interpret the relative importance of each feature.\"\n",
    "</div>"
   ]
  }
 ],
 "metadata": {
  "kernelspec": {
   "display_name": "Python 3",
   "language": "python",
   "name": "python3"
  },
  "language_info": {
   "codemirror_mode": {
    "name": "ipython",
    "version": 3
   },
   "file_extension": ".py",
   "mimetype": "text/x-python",
   "name": "python",
   "nbconvert_exporter": "python",
   "pygments_lexer": "ipython3",
   "version": "3.7.4"
  }
 },
 "nbformat": 4,
 "nbformat_minor": 4
}
