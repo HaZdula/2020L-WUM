{
 "cells": [
  {
   "cell_type": "markdown",
   "metadata": {},
   "source": [
    "# Searching for best models by tuning params"
   ]
  },
  {
   "cell_type": "markdown",
   "metadata": {},
   "source": [
    "## Libraries"
   ]
  },
  {
   "cell_type": "code",
   "execution_count": 4,
   "metadata": {},
   "outputs": [],
   "source": [
    "import pandas as pd\n",
    "import numpy as np\n",
    "import sklearn \n",
    "import seaborn as sns\n",
    "import matplotlib.pyplot as plt\n",
    "import warnings\n",
    "warnings.filterwarnings('ignore')\n",
    "np.random.seed(123)"
   ]
  },
  {
   "cell_type": "markdown",
   "metadata": {},
   "source": [
    "## Reading processed data (script 'data-preprocessing')"
   ]
  },
  {
   "cell_type": "code",
   "execution_count": 5,
   "metadata": {},
   "outputs": [],
   "source": [
    "data = pd.read_csv('../processed_data/out.csv')"
   ]
  },
  {
   "cell_type": "markdown",
   "metadata": {},
   "source": [
    "## Dividing into train and test"
   ]
  },
  {
   "cell_type": "markdown",
   "metadata": {},
   "source": [
    "To divide set so in both parts with have simmilar amounts of big and small credits we need to put them into groups:  \n",
    "(in traditional splits, randomization makes results appear very uneven)"
   ]
  },
  {
   "cell_type": "code",
   "execution_count": 6,
   "metadata": {},
   "outputs": [
    {
     "data": {
      "text/plain": [
       "{1: 445, 2: 293, 3: 97, 4: 80, 5: 38, 6: 19, 7: 14, 8: 8, 9: 6}"
      ]
     },
     "execution_count": 6,
     "metadata": {},
     "output_type": "execute_result"
    }
   ],
   "source": [
    "from sklearn import preprocessing\n",
    "\n",
    "x = data[['credit_amount']].values.astype(float)\n",
    "min_max_scaler = preprocessing.MinMaxScaler()\n",
    "x_scaled = min_max_scaler.fit_transform(x)\n",
    "data['amount_groups'] = x_scaled\n",
    "bins = [0.0, 0.1, 0.2, 0.3, 0.4, 0.5, 0.6, 0.7, 0.8]\n",
    "data['amount_groups'] = np.digitize(data['amount_groups'], bins)\n",
    "unique, counts = np.unique(data['amount_groups'], return_counts=True)\n",
    "dict(zip(unique, counts))"
   ]
  },
  {
   "cell_type": "code",
   "execution_count": 7,
   "metadata": {},
   "outputs": [],
   "source": [
    "from sklearn.model_selection import train_test_split\n",
    "X_train, X_test, y_train, y_test = train_test_split(data.drop(['customer_type', 'amount_groups'], axis=1), data.customer_type, test_size=0.20, stratify = data[['amount_groups', 'customer_type']])"
   ]
  },
  {
   "cell_type": "markdown",
   "metadata": {},
   "source": [
    "## Needed functions"
   ]
  },
  {
   "cell_type": "markdown",
   "metadata": {},
   "source": [
    "### Encoding"
   ]
  },
  {
   "cell_type": "code",
   "execution_count": 8,
   "metadata": {},
   "outputs": [],
   "source": [
    "import category_encoders as ce\n",
    "class Error(Exception):\n",
    "    pass\n",
    "class NonMatchingLengthsError(Error):\n",
    "    pass"
   ]
  },
  {
   "cell_type": "code",
   "execution_count": 9,
   "metadata": {},
   "outputs": [],
   "source": [
    "def multiEnc(X_train, X_test, target_train, cols, encodings):\n",
    "    \"\"\"\n",
    "    Lista znaków do \"encodings\":\n",
    "        d - backward difference\n",
    "        n - base N\n",
    "        b - binary\n",
    "        c - cat boost\n",
    "        # - hashing\n",
    "        h - helmert\n",
    "        j - James-Stein\n",
    "        l - leave one out\n",
    "        m - m-estimate\n",
    "        1 - one-hot\n",
    "        o - ordinal\n",
    "        p - polynomial\n",
    "        s - sum coding\n",
    "        t - target encoding\n",
    "        w - weight of evidence\n",
    "    \"\"\"\n",
    "    ce_map = {\"d\": ce.backward_difference.BackwardDifferenceEncoder,\n",
    "             \"n\": ce.basen.BaseNEncoder,\n",
    "             \"b\": ce.binary.BinaryEncoder,\n",
    "             \"c\": ce.cat_boost.CatBoostEncoder,\n",
    "             \"#\": ce.hashing.HashingEncoder,\n",
    "             \"h\": ce.helmert.HelmertEncoder,\n",
    "             \"j\": ce.james_stein.JamesSteinEncoder,\n",
    "             \"l\": ce.leave_one_out.LeaveOneOutEncoder,\n",
    "             \"m\": ce.m_estimate.MEstimateEncoder,\n",
    "             \"1\": ce.one_hot.OneHotEncoder,\n",
    "             \"o\": ce.ordinal.OrdinalEncoder,\n",
    "             \"p\": ce.polynomial.PolynomialEncoder,\n",
    "             \"s\": ce.sum_coding.SumEncoder,\n",
    "             \"t\": ce.target_encoder.TargetEncoder,\n",
    "             \"w\": ce.woe.WOEEncoder}\n",
    "    try:\n",
    "        if len(cols)!=len(encodings):\n",
    "            raise(NonMatchingLengthsError)\n",
    "    except NonMatchingLengthsError:\n",
    "        print(\"Lengths do not match\")\n",
    "        return None\n",
    "    e=0\n",
    "    for c in cols:\n",
    "        if X_train[c].dtypes=='object':\n",
    "            enc=ce_map[encodings[e]](cols=c)\n",
    "            enc=enc.fit(X_train, target_train)\n",
    "            X_train=enc.transform(X_train)\n",
    "            X_test=enc.transform(X_test)\n",
    "        e=e+1\n",
    "    return (X_train, X_test)"
   ]
  },
  {
   "cell_type": "markdown",
   "metadata": {},
   "source": [
    "### Models creation"
   ]
  },
  {
   "cell_type": "code",
   "execution_count": 10,
   "metadata": {},
   "outputs": [],
   "source": [
    "from abc import (ABC, \n",
    "                 abstractmethod, \n",
    "                 abstractproperty)\n",
    "from typing import Any\n",
    "from sklearn.model_selection import train_test_split\n",
    "\n",
    "from sklearn.tree import DecisionTreeClassifier\n",
    "from sklearn.linear_model import LogisticRegression\n",
    "from sklearn.svm import SVC\n",
    "from sklearn.naive_bayes import GaussianNB\n",
    "from sklearn.ensemble import RandomForestClassifier\n",
    "from sklearn.ensemble import AdaBoostClassifier\n",
    "from sklearn.ensemble import GradientBoostingClassifier\n",
    "from xgboost import XGBClassifier # Inna paczka niż sklearn!\n",
    "import xgboost as xgb\n",
    "\n",
    "\n",
    "class Builder(ABC):\n",
    "\n",
    "    @abstractproperty\n",
    "    def product(self) -> None:\n",
    "        pass\n",
    "    \n",
    "    \n",
    "class Product():\n",
    "\n",
    "    def __init__(self) -> None:\n",
    "        self.parts = []\n",
    "\n",
    "    def add(self, part: Any) -> None:\n",
    "        self.parts.append(part)\n",
    "\n",
    "    def list_parts(self):\n",
    "        return self.parts\n",
    "\n",
    "\n",
    "class ConcreteBuilder(Builder):\n",
    "\n",
    "    def __init__(self) -> None:\n",
    "\n",
    "        self.reset()\n",
    "\n",
    "    def reset(self) -> None:\n",
    "        self._product = Product()\n",
    "\n",
    "    @property\n",
    "    def product(self) -> Product:\n",
    "\n",
    "        product = self._product\n",
    "        self.reset()\n",
    "        return product\n",
    "\n",
    "    def _add_model(self, model_type: str, params: dict):\n",
    "        if model_type == 'logistic regression':\n",
    "            self._logistic_regression(params)\n",
    "        if model_type == 'decision tree':\n",
    "            self._decision_tree(params)\n",
    "        if model_type == 'svm':\n",
    "            self._svm(params)\n",
    "        if model_type == 'naive bayes':\n",
    "            self._naive_bayes(params)\n",
    "        if model_type == 'random forest':\n",
    "            self._random_forest(params)\n",
    "        if model_type == 'ada boost':\n",
    "            self._ada_boost(params)\n",
    "        if model_type == 'gradient boost':\n",
    "            self._gradient_boost(params)\n",
    "        if model_type == 'xgboost':\n",
    "            self._xgboost(params)\n",
    "        \n",
    "    def _logistic_regression(self, params: dict):\n",
    "        \n",
    "        lr = LogisticRegression(**params)\n",
    "        \n",
    "        return self._product.add(lr)\n",
    "    \n",
    "    def _decision_tree(self, params: dict):\n",
    "        \n",
    "        dt = DecisionTreeClassifier(**params)\n",
    "        \n",
    "        dt_params = {'criterion': dt.criterion}\n",
    "        \n",
    "        return self._product.add(dt)\n",
    "\n",
    "    def _svm(self, params: dict):\n",
    "        svm = SVC(**params)\n",
    "        \n",
    "        return self._product.add(svm)\n",
    "    \n",
    "    def _naive_bayes(self, params: dict):\n",
    "        nb = GaussianNB(**params)\n",
    "\n",
    "        return self._product.add(nb)\n",
    "    \n",
    "    def _random_forest(self, params: dict):\n",
    "        \n",
    "        rf = RandomForestClassifier(**params)\n",
    "        return self._product.add(rf)\n",
    "        \n",
    "    def _ada_boost(self, params: dict):\n",
    "        ada = AdaBoostClassifier(**params)\n",
    "    \n",
    "        return self._product.add(ada)\n",
    "    \n",
    "    def _gradient_boost(self, params: dict):\n",
    "        gb= GradientBoostingClassifier(**params)\n",
    "        return self._product.add(gb)\n",
    "    \n",
    "    def _xgboost(self, params: dict):\n",
    "        \n",
    "        xg=XGBClassifier(**params)\n",
    "        return self._product.add(xg)\n",
    "\n",
    "class Director:\n",
    "\n",
    "    def __init__(self) -> None:\n",
    "        self._builder = None\n",
    "\n",
    "    @property\n",
    "    def builder(self) -> Builder:\n",
    "        return self._builder\n",
    "\n",
    "    @builder.setter\n",
    "    def builder(self, builder: Builder) -> None:\n",
    "\n",
    "        self._builder = builder\n",
    "\n",
    "\n",
    "    def add_model(self, model_type, params):\n",
    "        return self.builder._add_model(model_type, params)\n",
    "\n",
    "    def add_all_models(self):\n",
    "        self.add_model('logistic regression', {})\n",
    "        self.add_model('decision tree', {})\n",
    "        self.add_model('svm', {})\n",
    "        self.add_model('naive bayes', {})\n",
    "        self.add_model('random forest', {})\n",
    "        self.add_model('ada boost', {})\n",
    "        self.add_model('gradient boost', {})\n",
    "        self.add_model('xgboost', {})\n",
    "        return builder.product.list_parts()\n",
    "    \n",
    "    def get_all_models(self, metric_name: str = ''):\n",
    "        parts =  builder.product.list_parts()\n",
    "        return parts"
   ]
  },
  {
   "cell_type": "code",
   "execution_count": 11,
   "metadata": {},
   "outputs": [],
   "source": [
    "director = Director()\n",
    "builder = ConcreteBuilder()\n",
    "director.builder = builder"
   ]
  },
  {
   "cell_type": "markdown",
   "metadata": {},
   "source": [
    "### Business metrics to rate models (simmilar to F1, but more focused on earnings for the bank)"
   ]
  },
  {
   "cell_type": "code",
   "execution_count": 12,
   "metadata": {},
   "outputs": [],
   "source": [
    "ir_loan = 0.13\n",
    "lgd = 0.38"
   ]
  },
  {
   "cell_type": "code",
   "execution_count": 13,
   "metadata": {},
   "outputs": [],
   "source": [
    "def calculateEarningsLosses(X_test, y_pred, y_test):\n",
    "    '''\n",
    "    As declared, takes test data and predicted classes and calculates:\n",
    "    - earnings made by following prediction\n",
    "    - losses made by following prediction\n",
    "    - earnings omited by following prediction\n",
    "    - losses omited by following prediction\n",
    "    '''\n",
    "    amounts = X_test['credit_amount']\n",
    "    balance_all = y_test.apply(lambda x: ir_loan if x==1 else -lgd) * amounts\n",
    "    earnings_made = balance_all.iloc[np.logical_and(y_test==1, y_pred==1).array].sum()\n",
    "    earnings_omitted = balance_all.iloc[np.logical_and(y_test==1, y_pred==0).array].sum()\n",
    "    losses_made = balance_all.iloc[np.logical_and(y_test==0, y_pred==1).array].sum()\n",
    "    losses_omitted = balance_all.iloc[np.logical_and(y_test==0, y_pred==0).array].sum()\n",
    "    \n",
    "    results = pd.DataFrame(columns=['Earnings made', 'Earnings omitted', 'Losses made', 'Losses omitted'])\n",
    "    results.loc[0] = [earnings_made, earnings_omitted, losses_made, losses_omitted]\n",
    "    \n",
    "    final_balance = earnings_made + losses_made\n",
    "    max_income = balance_all.iloc[(y_test==1).array].sum()\n",
    "    perc_of_max_income = final_balance/max_income\n",
    "    return (results, final_balance, perc_of_max_income)"
   ]
  },
  {
   "cell_type": "markdown",
   "metadata": {},
   "source": [
    "## Search for best type of encoding"
   ]
  },
  {
   "cell_type": "code",
   "execution_count": 14,
   "metadata": {},
   "outputs": [],
   "source": [
    "columns_enc = ['checking_account_status', 'credit_history', 'purpose', 'savings', 'present_employment', \n",
    "              'personal', 'other_debtors', 'property', 'other_installment_plans', \n",
    "              'housing', 'job', 'telephone']\n",
    "def encoding_list_gen(nominal, ordinal):\n",
    "    enc = [ordinal, nominal, nominal, ordinal, nominal, nominal, nominal, nominal, nominal, nominal, nominal, nominal]\n",
    "    return enc\n",
    "# we group columns as ordinal and nominal to encode them with the same type\n",
    "#enc = ['j', '1', '1', 'j', '1', '1', '1', '1', '1', '1', '1', '1']"
   ]
  },
  {
   "cell_type": "code",
   "execution_count": 15,
   "metadata": {},
   "outputs": [
    {
     "data": {
      "text/plain": [
       "Index(['checking_account_status', 'duration', 'credit_history', 'purpose',\n",
       "       'credit_amount', 'savings', 'present_employment', 'installment_rate',\n",
       "       'personal', 'other_debtors', 'present_residence', 'property', 'age',\n",
       "       'other_installment_plans', 'housing', 'existing_credits', 'job',\n",
       "       'dependents', 'telephone', 'foreign_worker', 'sex',\n",
       "       'checking_account_exists', 'savings_account_exists'],\n",
       "      dtype='object')"
      ]
     },
     "execution_count": 15,
     "metadata": {},
     "output_type": "execute_result"
    }
   ],
   "source": [
    "X_test.columns"
   ]
  },
  {
   "cell_type": "markdown",
   "metadata": {},
   "source": [
    "Previous attempts have shown, that XGB, GradientBoosting, RandomForest and SVM are the classifiers to aim at. In following cells we will evaluate those three algorithms with different encoding types. Because most of them are tree based, OneHot will be used only to test SVM."
   ]
  },
  {
   "cell_type": "markdown",
   "metadata": {},
   "source": [
    "### Testing function"
   ]
  },
  {
   "cell_type": "code",
   "execution_count": 16,
   "metadata": {},
   "outputs": [],
   "source": [
    "from typing import List\n",
    "from sklearn.metrics import f1_score\n",
    "\n",
    "def compare_models(models_list: List, X_train, y_train, X_test, y_test, categorical_variables, encoding_list):\n",
    "    results = dict()\n",
    "    \n",
    "    df_train, df_test = multiEnc(X_train, X_test, y_train, categorical_variables, encoding_list)\n",
    "    \n",
    "    \n",
    "    for model in models_list:\n",
    "        \n",
    "        training = model.fit(df_train, y_train)\n",
    "        score = training.score(df_test, y_test)\n",
    "        f1 = f1_score(y_test, model.predict(df_test))\n",
    "        _, _, business = calculateEarningsLosses(X_test, model.predict(df_test), y_test)\n",
    "        results[model] = (['score:', score], ['f1:', f1], ['business:', business])\n",
    "        \n",
    "    return results"
   ]
  },
  {
   "cell_type": "code",
   "execution_count": 17,
   "metadata": {},
   "outputs": [],
   "source": [
    "def compare_encoders(model, X_train, y_train, X_test, y_test, columns_enc, enc_nominal, enc_ordinal):\n",
    "    results = pd.DataFrame(columns = enc_nominal, index = enc_ordinal)\n",
    "    results_f1 = pd.DataFrame(columns = enc_nominal, index = enc_ordinal)\n",
    "    results_bus = pd.DataFrame(columns = enc_nominal, index = enc_ordinal)\n",
    "    \n",
    "    for nom in enc_nominal:\n",
    "        for ordi in enc_ordinal:\n",
    "            encoding_list = encoding_list_gen(nom, ordi)\n",
    "            df_train, df_test = multiEnc(X_train, X_test, y_train, columns_enc, encoding_list)\n",
    "            training = model.fit(df_train, y_train)\n",
    "            score = training.score(df_test, y_test)\n",
    "            f1 = f1_score(y_test, model.predict(df_test))\n",
    "            _, _, business = calculateEarningsLosses(X_test, model.predict(df_test), y_test)\n",
    "            \n",
    "            results.loc[ordi, nom] = score\n",
    "            results_f1.loc[ordi, nom] = f1\n",
    "            results_bus.loc[ordi, nom] = business\n",
    "    \n",
    "    return (results, results_f1, results_bus)"
   ]
  },
  {
   "cell_type": "code",
   "execution_count": 18,
   "metadata": {},
   "outputs": [],
   "source": [
    "director.add_model('gradient boost', {})\n",
    "director.add_model('xgboost', {})\n",
    "director.add_model('random forest', {})\n",
    "director.add_model('svm', {})"
   ]
  },
  {
   "cell_type": "code",
   "execution_count": 19,
   "metadata": {},
   "outputs": [],
   "source": [
    "models = director.get_all_models()"
   ]
  },
  {
   "cell_type": "code",
   "execution_count": 20,
   "metadata": {},
   "outputs": [],
   "source": [
    "enc_nominal = ['l', 'j', 'm'] # encoding types to check for nominal values\n",
    "enc_ordinal = ['p', 'h', 'd', 'l', 'j'] # encoding types to check for ordinal values\n",
    "# we don't check any encodings leading to information loss"
   ]
  },
  {
   "cell_type": "markdown",
   "metadata": {},
   "source": [
    "### Gradient boosting encoders fit"
   ]
  },
  {
   "cell_type": "code",
   "execution_count": 21,
   "metadata": {},
   "outputs": [],
   "source": [
    "(score, f1, buss) = compare_encoders(models[0], X_train, y_train, X_test, y_test, columns_enc, enc_nominal, enc_ordinal)"
   ]
  },
  {
   "cell_type": "code",
   "execution_count": 22,
   "metadata": {},
   "outputs": [
    {
     "data": {
      "text/html": [
       "<div>\n",
       "<style scoped>\n",
       "    .dataframe tbody tr th:only-of-type {\n",
       "        vertical-align: middle;\n",
       "    }\n",
       "\n",
       "    .dataframe tbody tr th {\n",
       "        vertical-align: top;\n",
       "    }\n",
       "\n",
       "    .dataframe thead th {\n",
       "        text-align: right;\n",
       "    }\n",
       "</style>\n",
       "<table border=\"1\" class=\"dataframe\">\n",
       "  <thead>\n",
       "    <tr style=\"text-align: right;\">\n",
       "      <th></th>\n",
       "      <th>l</th>\n",
       "      <th>j</th>\n",
       "      <th>m</th>\n",
       "    </tr>\n",
       "  </thead>\n",
       "  <tbody>\n",
       "    <tr>\n",
       "      <th>p</th>\n",
       "      <td>0.76</td>\n",
       "      <td>0.76</td>\n",
       "      <td>0.76</td>\n",
       "    </tr>\n",
       "    <tr>\n",
       "      <th>h</th>\n",
       "      <td>0.745</td>\n",
       "      <td>0.745</td>\n",
       "      <td>0.745</td>\n",
       "    </tr>\n",
       "    <tr>\n",
       "      <th>d</th>\n",
       "      <td>0.77</td>\n",
       "      <td>0.77</td>\n",
       "      <td>0.775</td>\n",
       "    </tr>\n",
       "    <tr>\n",
       "      <th>l</th>\n",
       "      <td>0.75</td>\n",
       "      <td>0.75</td>\n",
       "      <td>0.75</td>\n",
       "    </tr>\n",
       "    <tr>\n",
       "      <th>j</th>\n",
       "      <td>0.75</td>\n",
       "      <td>0.75</td>\n",
       "      <td>0.75</td>\n",
       "    </tr>\n",
       "  </tbody>\n",
       "</table>\n",
       "</div>"
      ],
      "text/plain": [
       "       l      j      m\n",
       "p   0.76   0.76   0.76\n",
       "h  0.745  0.745  0.745\n",
       "d   0.77   0.77  0.775\n",
       "l   0.75   0.75   0.75\n",
       "j   0.75   0.75   0.75"
      ]
     },
     "execution_count": 22,
     "metadata": {},
     "output_type": "execute_result"
    }
   ],
   "source": [
    "score"
   ]
  },
  {
   "cell_type": "code",
   "execution_count": 23,
   "metadata": {},
   "outputs": [
    {
     "data": {
      "text/html": [
       "<div>\n",
       "<style scoped>\n",
       "    .dataframe tbody tr th:only-of-type {\n",
       "        vertical-align: middle;\n",
       "    }\n",
       "\n",
       "    .dataframe tbody tr th {\n",
       "        vertical-align: top;\n",
       "    }\n",
       "\n",
       "    .dataframe thead th {\n",
       "        text-align: right;\n",
       "    }\n",
       "</style>\n",
       "<table border=\"1\" class=\"dataframe\">\n",
       "  <thead>\n",
       "    <tr style=\"text-align: right;\">\n",
       "      <th></th>\n",
       "      <th>l</th>\n",
       "      <th>j</th>\n",
       "      <th>m</th>\n",
       "    </tr>\n",
       "  </thead>\n",
       "  <tbody>\n",
       "    <tr>\n",
       "      <th>p</th>\n",
       "      <td>0.833333</td>\n",
       "      <td>0.833333</td>\n",
       "      <td>0.833333</td>\n",
       "    </tr>\n",
       "    <tr>\n",
       "      <th>h</th>\n",
       "      <td>0.8223</td>\n",
       "      <td>0.8223</td>\n",
       "      <td>0.8223</td>\n",
       "    </tr>\n",
       "    <tr>\n",
       "      <th>d</th>\n",
       "      <td>0.840278</td>\n",
       "      <td>0.840278</td>\n",
       "      <td>0.843206</td>\n",
       "    </tr>\n",
       "    <tr>\n",
       "      <th>l</th>\n",
       "      <td>0.827586</td>\n",
       "      <td>0.827586</td>\n",
       "      <td>0.827586</td>\n",
       "    </tr>\n",
       "    <tr>\n",
       "      <th>j</th>\n",
       "      <td>0.827586</td>\n",
       "      <td>0.827586</td>\n",
       "      <td>0.827586</td>\n",
       "    </tr>\n",
       "  </tbody>\n",
       "</table>\n",
       "</div>"
      ],
      "text/plain": [
       "          l         j         m\n",
       "p  0.833333  0.833333  0.833333\n",
       "h    0.8223    0.8223    0.8223\n",
       "d  0.840278  0.840278  0.843206\n",
       "l  0.827586  0.827586  0.827586\n",
       "j  0.827586  0.827586  0.827586"
      ]
     },
     "execution_count": 23,
     "metadata": {},
     "output_type": "execute_result"
    }
   ],
   "source": [
    "f1"
   ]
  },
  {
   "cell_type": "code",
   "execution_count": 24,
   "metadata": {},
   "outputs": [
    {
     "data": {
      "text/html": [
       "<div>\n",
       "<style scoped>\n",
       "    .dataframe tbody tr th:only-of-type {\n",
       "        vertical-align: middle;\n",
       "    }\n",
       "\n",
       "    .dataframe tbody tr th {\n",
       "        vertical-align: top;\n",
       "    }\n",
       "\n",
       "    .dataframe thead th {\n",
       "        text-align: right;\n",
       "    }\n",
       "</style>\n",
       "<table border=\"1\" class=\"dataframe\">\n",
       "  <thead>\n",
       "    <tr style=\"text-align: right;\">\n",
       "      <th></th>\n",
       "      <th>l</th>\n",
       "      <th>j</th>\n",
       "      <th>m</th>\n",
       "    </tr>\n",
       "  </thead>\n",
       "  <tbody>\n",
       "    <tr>\n",
       "      <th>p</th>\n",
       "      <td>0.205109</td>\n",
       "      <td>0.205109</td>\n",
       "      <td>0.205109</td>\n",
       "    </tr>\n",
       "    <tr>\n",
       "      <th>h</th>\n",
       "      <td>0.12244</td>\n",
       "      <td>0.12244</td>\n",
       "      <td>0.12244</td>\n",
       "    </tr>\n",
       "    <tr>\n",
       "      <th>d</th>\n",
       "      <td>0.109999</td>\n",
       "      <td>0.109999</td>\n",
       "      <td>0.188288</td>\n",
       "    </tr>\n",
       "    <tr>\n",
       "      <th>l</th>\n",
       "      <td>0.0454018</td>\n",
       "      <td>0.0454018</td>\n",
       "      <td>0.0454018</td>\n",
       "    </tr>\n",
       "    <tr>\n",
       "      <th>j</th>\n",
       "      <td>0.0454018</td>\n",
       "      <td>0.0454018</td>\n",
       "      <td>0.0454018</td>\n",
       "    </tr>\n",
       "  </tbody>\n",
       "</table>\n",
       "</div>"
      ],
      "text/plain": [
       "           l          j          m\n",
       "p   0.205109   0.205109   0.205109\n",
       "h    0.12244    0.12244    0.12244\n",
       "d   0.109999   0.109999   0.188288\n",
       "l  0.0454018  0.0454018  0.0454018\n",
       "j  0.0454018  0.0454018  0.0454018"
      ]
     },
     "execution_count": 24,
     "metadata": {},
     "output_type": "execute_result"
    }
   ],
   "source": [
    "buss"
   ]
  },
  {
   "cell_type": "markdown",
   "metadata": {},
   "source": [
    "### XGB encoders fit"
   ]
  },
  {
   "cell_type": "code",
   "execution_count": 25,
   "metadata": {},
   "outputs": [],
   "source": [
    "(score, f1, buss) = compare_encoders(models[1], X_train, y_train, X_test, y_test, columns_enc, enc_nominal, enc_ordinal = ['l', 'j'])"
   ]
  },
  {
   "cell_type": "markdown",
   "metadata": {},
   "source": [
    "XGB has some issues with ordinal encoders so we omit them"
   ]
  },
  {
   "cell_type": "code",
   "execution_count": 26,
   "metadata": {},
   "outputs": [
    {
     "data": {
      "text/html": [
       "<div>\n",
       "<style scoped>\n",
       "    .dataframe tbody tr th:only-of-type {\n",
       "        vertical-align: middle;\n",
       "    }\n",
       "\n",
       "    .dataframe tbody tr th {\n",
       "        vertical-align: top;\n",
       "    }\n",
       "\n",
       "    .dataframe thead th {\n",
       "        text-align: right;\n",
       "    }\n",
       "</style>\n",
       "<table border=\"1\" class=\"dataframe\">\n",
       "  <thead>\n",
       "    <tr style=\"text-align: right;\">\n",
       "      <th></th>\n",
       "      <th>l</th>\n",
       "      <th>j</th>\n",
       "      <th>m</th>\n",
       "    </tr>\n",
       "  </thead>\n",
       "  <tbody>\n",
       "    <tr>\n",
       "      <th>l</th>\n",
       "      <td>0.71</td>\n",
       "      <td>0.71</td>\n",
       "      <td>0.71</td>\n",
       "    </tr>\n",
       "    <tr>\n",
       "      <th>j</th>\n",
       "      <td>0.71</td>\n",
       "      <td>0.71</td>\n",
       "      <td>0.71</td>\n",
       "    </tr>\n",
       "  </tbody>\n",
       "</table>\n",
       "</div>"
      ],
      "text/plain": [
       "      l     j     m\n",
       "l  0.71  0.71  0.71\n",
       "j  0.71  0.71  0.71"
      ]
     },
     "execution_count": 26,
     "metadata": {},
     "output_type": "execute_result"
    }
   ],
   "source": [
    "score"
   ]
  },
  {
   "cell_type": "code",
   "execution_count": 27,
   "metadata": {},
   "outputs": [
    {
     "data": {
      "text/html": [
       "<div>\n",
       "<style scoped>\n",
       "    .dataframe tbody tr th:only-of-type {\n",
       "        vertical-align: middle;\n",
       "    }\n",
       "\n",
       "    .dataframe tbody tr th {\n",
       "        vertical-align: top;\n",
       "    }\n",
       "\n",
       "    .dataframe thead th {\n",
       "        text-align: right;\n",
       "    }\n",
       "</style>\n",
       "<table border=\"1\" class=\"dataframe\">\n",
       "  <thead>\n",
       "    <tr style=\"text-align: right;\">\n",
       "      <th></th>\n",
       "      <th>l</th>\n",
       "      <th>j</th>\n",
       "      <th>m</th>\n",
       "    </tr>\n",
       "  </thead>\n",
       "  <tbody>\n",
       "    <tr>\n",
       "      <th>l</th>\n",
       "      <td>0.8</td>\n",
       "      <td>0.8</td>\n",
       "      <td>0.8</td>\n",
       "    </tr>\n",
       "    <tr>\n",
       "      <th>j</th>\n",
       "      <td>0.8</td>\n",
       "      <td>0.8</td>\n",
       "      <td>0.8</td>\n",
       "    </tr>\n",
       "  </tbody>\n",
       "</table>\n",
       "</div>"
      ],
      "text/plain": [
       "     l    j    m\n",
       "l  0.8  0.8  0.8\n",
       "j  0.8  0.8  0.8"
      ]
     },
     "execution_count": 27,
     "metadata": {},
     "output_type": "execute_result"
    }
   ],
   "source": [
    "f1"
   ]
  },
  {
   "cell_type": "code",
   "execution_count": 28,
   "metadata": {},
   "outputs": [
    {
     "data": {
      "text/html": [
       "<div>\n",
       "<style scoped>\n",
       "    .dataframe tbody tr th:only-of-type {\n",
       "        vertical-align: middle;\n",
       "    }\n",
       "\n",
       "    .dataframe tbody tr th {\n",
       "        vertical-align: top;\n",
       "    }\n",
       "\n",
       "    .dataframe thead th {\n",
       "        text-align: right;\n",
       "    }\n",
       "</style>\n",
       "<table border=\"1\" class=\"dataframe\">\n",
       "  <thead>\n",
       "    <tr style=\"text-align: right;\">\n",
       "      <th></th>\n",
       "      <th>l</th>\n",
       "      <th>j</th>\n",
       "      <th>m</th>\n",
       "    </tr>\n",
       "  </thead>\n",
       "  <tbody>\n",
       "    <tr>\n",
       "      <th>l</th>\n",
       "      <td>-0.30158</td>\n",
       "      <td>-0.30158</td>\n",
       "      <td>-0.30158</td>\n",
       "    </tr>\n",
       "    <tr>\n",
       "      <th>j</th>\n",
       "      <td>-0.30158</td>\n",
       "      <td>-0.30158</td>\n",
       "      <td>-0.30158</td>\n",
       "    </tr>\n",
       "  </tbody>\n",
       "</table>\n",
       "</div>"
      ],
      "text/plain": [
       "         l        j        m\n",
       "l -0.30158 -0.30158 -0.30158\n",
       "j -0.30158 -0.30158 -0.30158"
      ]
     },
     "execution_count": 28,
     "metadata": {},
     "output_type": "execute_result"
    }
   ],
   "source": [
    "buss"
   ]
  },
  {
   "cell_type": "markdown",
   "metadata": {},
   "source": [
    "### Random Forest encoders fit"
   ]
  },
  {
   "cell_type": "code",
   "execution_count": 29,
   "metadata": {},
   "outputs": [],
   "source": [
    "(score, f1, buss) = compare_encoders(models[2], X_train, y_train, X_test, y_test, columns_enc, enc_nominal, enc_ordinal)"
   ]
  },
  {
   "cell_type": "code",
   "execution_count": 30,
   "metadata": {},
   "outputs": [
    {
     "data": {
      "text/html": [
       "<div>\n",
       "<style scoped>\n",
       "    .dataframe tbody tr th:only-of-type {\n",
       "        vertical-align: middle;\n",
       "    }\n",
       "\n",
       "    .dataframe tbody tr th {\n",
       "        vertical-align: top;\n",
       "    }\n",
       "\n",
       "    .dataframe thead th {\n",
       "        text-align: right;\n",
       "    }\n",
       "</style>\n",
       "<table border=\"1\" class=\"dataframe\">\n",
       "  <thead>\n",
       "    <tr style=\"text-align: right;\">\n",
       "      <th></th>\n",
       "      <th>l</th>\n",
       "      <th>j</th>\n",
       "      <th>m</th>\n",
       "    </tr>\n",
       "  </thead>\n",
       "  <tbody>\n",
       "    <tr>\n",
       "      <th>p</th>\n",
       "      <td>0.745</td>\n",
       "      <td>0.7</td>\n",
       "      <td>0.72</td>\n",
       "    </tr>\n",
       "    <tr>\n",
       "      <th>h</th>\n",
       "      <td>0.74</td>\n",
       "      <td>0.71</td>\n",
       "      <td>0.745</td>\n",
       "    </tr>\n",
       "    <tr>\n",
       "      <th>d</th>\n",
       "      <td>0.755</td>\n",
       "      <td>0.76</td>\n",
       "      <td>0.73</td>\n",
       "    </tr>\n",
       "    <tr>\n",
       "      <th>l</th>\n",
       "      <td>0.71</td>\n",
       "      <td>0.71</td>\n",
       "      <td>0.695</td>\n",
       "    </tr>\n",
       "    <tr>\n",
       "      <th>j</th>\n",
       "      <td>0.71</td>\n",
       "      <td>0.715</td>\n",
       "      <td>0.7</td>\n",
       "    </tr>\n",
       "  </tbody>\n",
       "</table>\n",
       "</div>"
      ],
      "text/plain": [
       "       l      j      m\n",
       "p  0.745    0.7   0.72\n",
       "h   0.74   0.71  0.745\n",
       "d  0.755   0.76   0.73\n",
       "l   0.71   0.71  0.695\n",
       "j   0.71  0.715    0.7"
      ]
     },
     "execution_count": 30,
     "metadata": {},
     "output_type": "execute_result"
    }
   ],
   "source": [
    "score"
   ]
  },
  {
   "cell_type": "code",
   "execution_count": 31,
   "metadata": {},
   "outputs": [
    {
     "data": {
      "text/html": [
       "<div>\n",
       "<style scoped>\n",
       "    .dataframe tbody tr th:only-of-type {\n",
       "        vertical-align: middle;\n",
       "    }\n",
       "\n",
       "    .dataframe tbody tr th {\n",
       "        vertical-align: top;\n",
       "    }\n",
       "\n",
       "    .dataframe thead th {\n",
       "        text-align: right;\n",
       "    }\n",
       "</style>\n",
       "<table border=\"1\" class=\"dataframe\">\n",
       "  <thead>\n",
       "    <tr style=\"text-align: right;\">\n",
       "      <th></th>\n",
       "      <th>l</th>\n",
       "      <th>j</th>\n",
       "      <th>m</th>\n",
       "    </tr>\n",
       "  </thead>\n",
       "  <tbody>\n",
       "    <tr>\n",
       "      <th>p</th>\n",
       "      <td>0.8223</td>\n",
       "      <td>0.79021</td>\n",
       "      <td>0.808219</td>\n",
       "    </tr>\n",
       "    <tr>\n",
       "      <th>h</th>\n",
       "      <td>0.811594</td>\n",
       "      <td>0.8</td>\n",
       "      <td>0.819788</td>\n",
       "    </tr>\n",
       "    <tr>\n",
       "      <th>d</th>\n",
       "      <td>0.825623</td>\n",
       "      <td>0.828571</td>\n",
       "      <td>0.804348</td>\n",
       "    </tr>\n",
       "    <tr>\n",
       "      <th>l</th>\n",
       "      <td>0.794326</td>\n",
       "      <td>0.789855</td>\n",
       "      <td>0.781362</td>\n",
       "    </tr>\n",
       "    <tr>\n",
       "      <th>j</th>\n",
       "      <td>0.797203</td>\n",
       "      <td>0.798587</td>\n",
       "      <td>0.782609</td>\n",
       "    </tr>\n",
       "  </tbody>\n",
       "</table>\n",
       "</div>"
      ],
      "text/plain": [
       "          l         j         m\n",
       "p    0.8223   0.79021  0.808219\n",
       "h  0.811594       0.8  0.819788\n",
       "d  0.825623  0.828571  0.804348\n",
       "l  0.794326  0.789855  0.781362\n",
       "j  0.797203  0.798587  0.782609"
      ]
     },
     "execution_count": 31,
     "metadata": {},
     "output_type": "execute_result"
    }
   ],
   "source": [
    "f1"
   ]
  },
  {
   "cell_type": "code",
   "execution_count": 32,
   "metadata": {},
   "outputs": [
    {
     "data": {
      "text/html": [
       "<div>\n",
       "<style scoped>\n",
       "    .dataframe tbody tr th:only-of-type {\n",
       "        vertical-align: middle;\n",
       "    }\n",
       "\n",
       "    .dataframe tbody tr th {\n",
       "        vertical-align: top;\n",
       "    }\n",
       "\n",
       "    .dataframe thead th {\n",
       "        text-align: right;\n",
       "    }\n",
       "</style>\n",
       "<table border=\"1\" class=\"dataframe\">\n",
       "  <thead>\n",
       "    <tr style=\"text-align: right;\">\n",
       "      <th></th>\n",
       "      <th>l</th>\n",
       "      <th>j</th>\n",
       "      <th>m</th>\n",
       "    </tr>\n",
       "  </thead>\n",
       "  <tbody>\n",
       "    <tr>\n",
       "      <th>p</th>\n",
       "      <td>-0.0810373</td>\n",
       "      <td>-0.0810193</td>\n",
       "      <td>-0.0630276</td>\n",
       "    </tr>\n",
       "    <tr>\n",
       "      <th>h</th>\n",
       "      <td>0.228108</td>\n",
       "      <td>-0.0919704</td>\n",
       "      <td>0.0964536</td>\n",
       "    </tr>\n",
       "    <tr>\n",
       "      <th>d</th>\n",
       "      <td>0.344288</td>\n",
       "      <td>0.1476</td>\n",
       "      <td>0.0629035</td>\n",
       "    </tr>\n",
       "    <tr>\n",
       "      <th>l</th>\n",
       "      <td>-0.110592</td>\n",
       "      <td>0.0216118</td>\n",
       "      <td>0.0473739</td>\n",
       "    </tr>\n",
       "    <tr>\n",
       "      <th>j</th>\n",
       "      <td>-0.115509</td>\n",
       "      <td>-0.163645</td>\n",
       "      <td>0.00374003</td>\n",
       "    </tr>\n",
       "  </tbody>\n",
       "</table>\n",
       "</div>"
      ],
      "text/plain": [
       "           l          j           m\n",
       "p -0.0810373 -0.0810193  -0.0630276\n",
       "h   0.228108 -0.0919704   0.0964536\n",
       "d   0.344288     0.1476   0.0629035\n",
       "l  -0.110592  0.0216118   0.0473739\n",
       "j  -0.115509  -0.163645  0.00374003"
      ]
     },
     "execution_count": 32,
     "metadata": {},
     "output_type": "execute_result"
    }
   ],
   "source": [
    "buss"
   ]
  },
  {
   "cell_type": "markdown",
   "metadata": {},
   "source": [
    "### SVM encoders fit"
   ]
  },
  {
   "cell_type": "code",
   "execution_count": 33,
   "metadata": {},
   "outputs": [],
   "source": [
    "enc_nominal.append('o')"
   ]
  },
  {
   "cell_type": "code",
   "execution_count": 34,
   "metadata": {},
   "outputs": [],
   "source": [
    "(score, f1, buss) = compare_encoders(models[3], X_train, y_train, X_test, y_test, columns_enc, enc_nominal, enc_ordinal)"
   ]
  },
  {
   "cell_type": "code",
   "execution_count": 35,
   "metadata": {},
   "outputs": [
    {
     "data": {
      "text/html": [
       "<div>\n",
       "<style scoped>\n",
       "    .dataframe tbody tr th:only-of-type {\n",
       "        vertical-align: middle;\n",
       "    }\n",
       "\n",
       "    .dataframe tbody tr th {\n",
       "        vertical-align: top;\n",
       "    }\n",
       "\n",
       "    .dataframe thead th {\n",
       "        text-align: right;\n",
       "    }\n",
       "</style>\n",
       "<table border=\"1\" class=\"dataframe\">\n",
       "  <thead>\n",
       "    <tr style=\"text-align: right;\">\n",
       "      <th></th>\n",
       "      <th>l</th>\n",
       "      <th>j</th>\n",
       "      <th>m</th>\n",
       "      <th>o</th>\n",
       "    </tr>\n",
       "  </thead>\n",
       "  <tbody>\n",
       "    <tr>\n",
       "      <th>p</th>\n",
       "      <td>0.685</td>\n",
       "      <td>0.685</td>\n",
       "      <td>0.685</td>\n",
       "      <td>0.69</td>\n",
       "    </tr>\n",
       "    <tr>\n",
       "      <th>h</th>\n",
       "      <td>0.69</td>\n",
       "      <td>0.69</td>\n",
       "      <td>0.69</td>\n",
       "      <td>0.695</td>\n",
       "    </tr>\n",
       "    <tr>\n",
       "      <th>d</th>\n",
       "      <td>0.685</td>\n",
       "      <td>0.685</td>\n",
       "      <td>0.685</td>\n",
       "      <td>0.69</td>\n",
       "    </tr>\n",
       "    <tr>\n",
       "      <th>l</th>\n",
       "      <td>0.695</td>\n",
       "      <td>0.695</td>\n",
       "      <td>0.695</td>\n",
       "      <td>0.695</td>\n",
       "    </tr>\n",
       "    <tr>\n",
       "      <th>j</th>\n",
       "      <td>0.695</td>\n",
       "      <td>0.695</td>\n",
       "      <td>0.695</td>\n",
       "      <td>0.695</td>\n",
       "    </tr>\n",
       "  </tbody>\n",
       "</table>\n",
       "</div>"
      ],
      "text/plain": [
       "       l      j      m      o\n",
       "p  0.685  0.685  0.685   0.69\n",
       "h   0.69   0.69   0.69  0.695\n",
       "d  0.685  0.685  0.685   0.69\n",
       "l  0.695  0.695  0.695  0.695\n",
       "j  0.695  0.695  0.695  0.695"
      ]
     },
     "execution_count": 35,
     "metadata": {},
     "output_type": "execute_result"
    }
   ],
   "source": [
    "score"
   ]
  },
  {
   "cell_type": "code",
   "execution_count": 36,
   "metadata": {},
   "outputs": [
    {
     "data": {
      "text/html": [
       "<div>\n",
       "<style scoped>\n",
       "    .dataframe tbody tr th:only-of-type {\n",
       "        vertical-align: middle;\n",
       "    }\n",
       "\n",
       "    .dataframe tbody tr th {\n",
       "        vertical-align: top;\n",
       "    }\n",
       "\n",
       "    .dataframe thead th {\n",
       "        text-align: right;\n",
       "    }\n",
       "</style>\n",
       "<table border=\"1\" class=\"dataframe\">\n",
       "  <thead>\n",
       "    <tr style=\"text-align: right;\">\n",
       "      <th></th>\n",
       "      <th>l</th>\n",
       "      <th>j</th>\n",
       "      <th>m</th>\n",
       "      <th>o</th>\n",
       "    </tr>\n",
       "  </thead>\n",
       "  <tbody>\n",
       "    <tr>\n",
       "      <th>p</th>\n",
       "      <td>0.813056</td>\n",
       "      <td>0.813056</td>\n",
       "      <td>0.813056</td>\n",
       "      <td>0.816568</td>\n",
       "    </tr>\n",
       "    <tr>\n",
       "      <th>h</th>\n",
       "      <td>0.816568</td>\n",
       "      <td>0.816568</td>\n",
       "      <td>0.816568</td>\n",
       "      <td>0.820059</td>\n",
       "    </tr>\n",
       "    <tr>\n",
       "      <th>d</th>\n",
       "      <td>0.813056</td>\n",
       "      <td>0.813056</td>\n",
       "      <td>0.813056</td>\n",
       "      <td>0.816568</td>\n",
       "    </tr>\n",
       "    <tr>\n",
       "      <th>l</th>\n",
       "      <td>0.820059</td>\n",
       "      <td>0.820059</td>\n",
       "      <td>0.820059</td>\n",
       "      <td>0.820059</td>\n",
       "    </tr>\n",
       "    <tr>\n",
       "      <th>j</th>\n",
       "      <td>0.820059</td>\n",
       "      <td>0.820059</td>\n",
       "      <td>0.820059</td>\n",
       "      <td>0.820059</td>\n",
       "    </tr>\n",
       "  </tbody>\n",
       "</table>\n",
       "</div>"
      ],
      "text/plain": [
       "          l         j         m         o\n",
       "p  0.813056  0.813056  0.813056  0.816568\n",
       "h  0.816568  0.816568  0.816568  0.820059\n",
       "d  0.813056  0.813056  0.813056  0.816568\n",
       "l  0.820059  0.820059  0.820059  0.820059\n",
       "j  0.820059  0.820059  0.820059  0.820059"
      ]
     },
     "execution_count": 36,
     "metadata": {},
     "output_type": "execute_result"
    }
   ],
   "source": [
    "f1"
   ]
  },
  {
   "cell_type": "code",
   "execution_count": 37,
   "metadata": {},
   "outputs": [
    {
     "data": {
      "text/html": [
       "<div>\n",
       "<style scoped>\n",
       "    .dataframe tbody tr th:only-of-type {\n",
       "        vertical-align: middle;\n",
       "    }\n",
       "\n",
       "    .dataframe tbody tr th {\n",
       "        vertical-align: top;\n",
       "    }\n",
       "\n",
       "    .dataframe thead th {\n",
       "        text-align: right;\n",
       "    }\n",
       "</style>\n",
       "<table border=\"1\" class=\"dataframe\">\n",
       "  <thead>\n",
       "    <tr style=\"text-align: right;\">\n",
       "      <th></th>\n",
       "      <th>l</th>\n",
       "      <th>j</th>\n",
       "      <th>m</th>\n",
       "      <th>o</th>\n",
       "    </tr>\n",
       "  </thead>\n",
       "  <tbody>\n",
       "    <tr>\n",
       "      <th>p</th>\n",
       "      <td>-0.758967</td>\n",
       "      <td>-0.758967</td>\n",
       "      <td>-0.758967</td>\n",
       "      <td>-0.752538</td>\n",
       "    </tr>\n",
       "    <tr>\n",
       "      <th>h</th>\n",
       "      <td>-0.757002</td>\n",
       "      <td>-0.757002</td>\n",
       "      <td>-0.757002</td>\n",
       "      <td>-0.750573</td>\n",
       "    </tr>\n",
       "    <tr>\n",
       "      <th>d</th>\n",
       "      <td>-0.758967</td>\n",
       "      <td>-0.758967</td>\n",
       "      <td>-0.758967</td>\n",
       "      <td>-0.752538</td>\n",
       "    </tr>\n",
       "    <tr>\n",
       "      <th>l</th>\n",
       "      <td>-0.750573</td>\n",
       "      <td>-0.750573</td>\n",
       "      <td>-0.750573</td>\n",
       "      <td>-0.750573</td>\n",
       "    </tr>\n",
       "    <tr>\n",
       "      <th>j</th>\n",
       "      <td>-0.750573</td>\n",
       "      <td>-0.750573</td>\n",
       "      <td>-0.750573</td>\n",
       "      <td>-0.750573</td>\n",
       "    </tr>\n",
       "  </tbody>\n",
       "</table>\n",
       "</div>"
      ],
      "text/plain": [
       "          l         j         m         o\n",
       "p -0.758967 -0.758967 -0.758967 -0.752538\n",
       "h -0.757002 -0.757002 -0.757002 -0.750573\n",
       "d -0.758967 -0.758967 -0.758967 -0.752538\n",
       "l -0.750573 -0.750573 -0.750573 -0.750573\n",
       "j -0.750573 -0.750573 -0.750573 -0.750573"
      ]
     },
     "execution_count": 37,
     "metadata": {},
     "output_type": "execute_result"
    }
   ],
   "source": [
    "buss"
   ]
  },
  {
   "cell_type": "markdown",
   "metadata": {},
   "source": [
    "### Results"
   ]
  },
  {
   "cell_type": "markdown",
   "metadata": {},
   "source": [
    "According to score and f1 score all of the algorithms perform well. However most important aspect for potenital client is how much money it would make them. In that case only two algorithms have some potential in improving which are:  \n",
    "**Gradient boosting** with encoding: ordinal: **polynominal** encoding, nominal: **James-Stein** (all performed the same, I just picked that one)  \n",
    "**Random Forest** with encoding: ordinal: **backward difference**, nominal: **m-estimate**  \n",
    "Rest algorithms present very low income levels or even lossess."
   ]
  },
  {
   "cell_type": "markdown",
   "metadata": {},
   "source": [
    "## Tuning parameters for selected algorithms"
   ]
  },
  {
   "cell_type": "code",
   "execution_count": 38,
   "metadata": {},
   "outputs": [],
   "source": [
    "from sklearn.model_selection import GridSearchCV\n",
    "from sklearn.metrics import make_scorer"
   ]
  },
  {
   "cell_type": "markdown",
   "metadata": {},
   "source": [
    "Just scoring for bussiness"
   ]
  },
  {
   "cell_type": "code",
   "execution_count": 39,
   "metadata": {},
   "outputs": [],
   "source": [
    "def bussScore(clf, X, y_true):\n",
    "    amounts = X['credit_amount']\n",
    "    y_pred = clf.predict(X)\n",
    "    balance_all = y_true.apply(lambda x: ir_loan if x==1 else -lgd) * amounts\n",
    "    earnings_made = balance_all.iloc[np.logical_and(y_true==1, y_pred==1).array].sum()\n",
    "    losses_made = balance_all.iloc[np.logical_and(y_true==0, y_pred==1).array].sum()\n",
    "    \n",
    "    final_balance = earnings_made + losses_made\n",
    "    max_income = balance_all.iloc[(y_true==1).array].sum()\n",
    "    perc_of_max_income = final_balance/max_income\n",
    "    return perc_of_max_income"
   ]
  },
  {
   "cell_type": "markdown",
   "metadata": {},
   "source": [
    "Setting encodings"
   ]
  },
  {
   "cell_type": "code",
   "execution_count": 40,
   "metadata": {},
   "outputs": [],
   "source": [
    "gboost_enc = encoding_list_gen('j', 'p')\n",
    "rforest_enc = encoding_list_gen('m', 'b')"
   ]
  },
  {
   "cell_type": "markdown",
   "metadata": {},
   "source": [
    "### Gradient boosting tuning"
   ]
  },
  {
   "cell_type": "code",
   "execution_count": 41,
   "metadata": {},
   "outputs": [],
   "source": [
    "parameters = {\n",
    "    \"loss\":[\"deviance\"],\n",
    "    \"learning_rate\": [0.3, 0.4, 0.5],\n",
    "    \"min_samples_split\": [0.05, 0.06, 0.07],\n",
    "    \"min_samples_leaf\": [0.09, 0.1, 0.12],\n",
    "    \"max_depth\":[8],\n",
    "    \"max_features\":[\"sqrt\"],\n",
    "    \"criterion\": [\"mae\"],\n",
    "    \"subsample\":[0.9, 1.0],\n",
    "    \"n_estimators\":[100, 200]\n",
    "    }"
   ]
  },
  {
   "cell_type": "code",
   "execution_count": 42,
   "metadata": {},
   "outputs": [],
   "source": [
    "df_train, df_test = multiEnc(X_train, X_test, y_train, columns_enc, gboost_enc)"
   ]
  },
  {
   "cell_type": "code",
   "execution_count": 43,
   "metadata": {},
   "outputs": [],
   "source": [
    "grid = GridSearchCV(estimator=models[0], param_grid = parameters, scoring = bussScore, cv=4, n_jobs=-1)\n",
    "grid_result = grid.fit(df_train, y_train)"
   ]
  },
  {
   "cell_type": "code",
   "execution_count": 44,
   "metadata": {},
   "outputs": [
    {
     "name": "stdout",
     "output_type": "stream",
     "text": [
      "Best: 0.190235 using {'criterion': 'mae', 'learning_rate': 0.3, 'loss': 'deviance', 'max_depth': 8, 'max_features': 'sqrt', 'min_samples_leaf': 0.09, 'min_samples_split': 0.05, 'n_estimators': 100, 'subsample': 0.9}\n"
     ]
    }
   ],
   "source": [
    "print(\"Best: %f using %s\" % (grid_result.best_score_, grid_result.best_params_))"
   ]
  },
  {
   "cell_type": "code",
   "execution_count": 45,
   "metadata": {},
   "outputs": [
    {
     "data": {
      "text/plain": [
       "0.765"
      ]
     },
     "execution_count": 45,
     "metadata": {},
     "output_type": "execute_result"
    }
   ],
   "source": [
    "best_model_gboost = grid_result.best_estimator_\n",
    "best_model_gboost.score(df_test, y_test)"
   ]
  },
  {
   "cell_type": "code",
   "execution_count": 46,
   "metadata": {},
   "outputs": [
    {
     "data": {
      "text/plain": [
       "0.8373702422145329"
      ]
     },
     "execution_count": 46,
     "metadata": {},
     "output_type": "execute_result"
    }
   ],
   "source": [
    "f1 = f1_score(y_test, best_model_gboost.predict(df_test))\n",
    "f1"
   ]
  },
  {
   "cell_type": "markdown",
   "metadata": {},
   "source": [
    "Tuning:  \n",
    "loss - deviance  \n",
    "learning rate - increasing from 0.1 stopped at 0.5  \n",
    "min_samples_split - increasing from 0.01 stopped at 0.05  \n",
    "min_samples_leaf - increasing from 0.01 stopped at 0.09  \n",
    "max_depth - after first try went to 8 and stopped there  \n",
    "subsample - sometimes 0.9 sometimes 1.0 stopped at 0.9  \n",
    "n_estimators - increased till 100  "
   ]
  },
  {
   "cell_type": "markdown",
   "metadata": {},
   "source": [
    "**Bussiness Score: 0.210441**  \n",
    "**Score: 0.76**  \n",
    "**f1 score: 0.83217**"
   ]
  },
  {
   "cell_type": "markdown",
   "metadata": {},
   "source": [
    "### Random Forest tuning"
   ]
  },
  {
   "cell_type": "code",
   "execution_count": 51,
   "metadata": {},
   "outputs": [],
   "source": [
    "parameters = {\n",
    "    \"min_samples_split\": [0.002, 0.003, 0.005],\n",
    "    \"min_samples_leaf\": [0.001, 0.002, 0.003],\n",
    "    \"max_depth\":[9, 10, 11],\n",
    "    \"max_features\":[\"sqrt\"],\n",
    "    \"criterion\": [\"gini\"],\n",
    "    \"n_estimators\":[400, 500]\n",
    "}"
   ]
  },
  {
   "cell_type": "code",
   "execution_count": 52,
   "metadata": {},
   "outputs": [],
   "source": [
    "df_train, df_test = multiEnc(X_train, X_test, y_train, columns_enc, rforest_enc)"
   ]
  },
  {
   "cell_type": "code",
   "execution_count": 53,
   "metadata": {},
   "outputs": [],
   "source": [
    "grid = GridSearchCV(estimator=models[2], param_grid = parameters, scoring = bussScore, cv=4, n_jobs=-1)\n",
    "grid_result = grid.fit(df_train, y_train)"
   ]
  },
  {
   "cell_type": "code",
   "execution_count": 54,
   "metadata": {},
   "outputs": [
    {
     "name": "stdout",
     "output_type": "stream",
     "text": [
      "Best: 0.112480 using {'criterion': 'gini', 'max_depth': 10, 'max_features': 'sqrt', 'min_samples_leaf': 0.001, 'min_samples_split': 0.003, 'n_estimators': 400}\n"
     ]
    }
   ],
   "source": [
    "print(\"Best: %f using %s\" % (grid_result.best_score_, grid_result.best_params_))"
   ]
  },
  {
   "cell_type": "code",
   "execution_count": 55,
   "metadata": {},
   "outputs": [
    {
     "data": {
      "text/plain": [
       "0.75"
      ]
     },
     "execution_count": 55,
     "metadata": {},
     "output_type": "execute_result"
    }
   ],
   "source": [
    "best_model_rforest = grid_result.best_estimator_\n",
    "best_model_rforest.score(df_test, y_test)"
   ]
  },
  {
   "cell_type": "code",
   "execution_count": 56,
   "metadata": {},
   "outputs": [
    {
     "data": {
      "text/plain": [
       "0.8333333333333334"
      ]
     },
     "execution_count": 56,
     "metadata": {},
     "output_type": "execute_result"
    }
   ],
   "source": [
    "f1 = f1_score(y_test, best_model_rforest.predict(df_test))\n",
    "f1"
   ]
  },
  {
   "cell_type": "markdown",
   "metadata": {},
   "source": [
    "min_samples_split - went all the way down but not below 0.002  \n",
    "min_samples_leaf - really low, betweeen 0.001-0.003\n",
    "max_depth - best results at 10, sometimes 11\n",
    "n_estimators - 500 was the best from evaluated\n",
    "ccp_alpha - stayed at 0 at all times"
   ]
  },
  {
   "cell_type": "markdown",
   "metadata": {},
   "source": [
    "Further trials weren't needed. Score sometimes goes slightly up but won't achieve gradient boost's results"
   ]
  },
  {
   "cell_type": "markdown",
   "metadata": {},
   "source": [
    "## Saving results"
   ]
  },
  {
   "cell_type": "code",
   "execution_count": 57,
   "metadata": {},
   "outputs": [],
   "source": [
    "def save_final_data(df_train, y_train, df_test, y_test):\n",
    "    df_train.to_csv('../final_data/df_train.csv', index=False)\n",
    "    df_test.to_csv('../final_data/df_test.csv', index=False)\n",
    "    y_test.to_csv('../final_data/y_test.csv', index=False)\n",
    "    y_train.to_csv('../final_data/y_train.csv', index=False)\n",
    "\n",
    "save_final_data(df_train, y_train, df_test, y_test)"
   ]
  },
  {
   "cell_type": "code",
   "execution_count": 58,
   "metadata": {},
   "outputs": [],
   "source": [
    "import pickle\n",
    "\n",
    "def save_model(model, filename: str):\n",
    "    pickle.dump(model, open('../models/' + str(filename) + '.sav', 'wb'))"
   ]
  },
  {
   "cell_type": "code",
   "execution_count": 59,
   "metadata": {},
   "outputs": [],
   "source": [
    "save_model(best_model_gboost, 'gradient_boost_best')"
   ]
  },
  {
   "cell_type": "code",
   "execution_count": 60,
   "metadata": {},
   "outputs": [],
   "source": [
    "save_model(best_model_rforest, 'random_forest_best')"
   ]
  },
  {
   "cell_type": "code",
   "execution_count": null,
   "metadata": {},
   "outputs": [],
   "source": []
  }
 ],
 "metadata": {
  "kernelspec": {
   "display_name": "Python 3",
   "language": "python",
   "name": "python3"
  },
  "language_info": {
   "codemirror_mode": {
    "name": "ipython",
    "version": 3
   },
   "file_extension": ".py",
   "mimetype": "text/x-python",
   "name": "python",
   "nbconvert_exporter": "python",
   "pygments_lexer": "ipython3",
   "version": "3.6.5"
  }
 },
 "nbformat": 4,
 "nbformat_minor": 2
}
