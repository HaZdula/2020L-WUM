{
 "cells": [
  {
   "cell_type": "markdown",
   "metadata": {},
   "source": [
    "# Modelling"
   ]
  },
  {
   "cell_type": "markdown",
   "metadata": {},
   "source": [
    "## Libraries"
   ]
  },
  {
   "cell_type": "code",
   "execution_count": 13,
   "metadata": {},
   "outputs": [],
   "source": [
    "import pandas as pd\n",
    "import numpy as np\n",
    "import sklearn \n",
    "import seaborn as sns\n",
    "import matplotlib.pyplot as plt\n",
    "import warnings\n",
    "warnings.filterwarnings('ignore')"
   ]
  },
  {
   "cell_type": "markdown",
   "metadata": {},
   "source": [
    "## Read processed data"
   ]
  },
  {
   "cell_type": "code",
   "execution_count": 14,
   "metadata": {},
   "outputs": [],
   "source": [
    "data = pd.read_csv('../processed_data/out.csv')"
   ]
  },
  {
   "cell_type": "markdown",
   "metadata": {},
   "source": [
    "## Divide data into train and test set"
   ]
  },
  {
   "cell_type": "code",
   "execution_count": 15,
   "metadata": {},
   "outputs": [],
   "source": [
    "from sklearn.model_selection import train_test_split\n",
    "X_train, X_test, y_train, y_test = train_test_split(data.drop('customer_type', axis=1), data.customer_type, test_size=0.3)"
   ]
  },
  {
   "cell_type": "markdown",
   "metadata": {},
   "source": [
    "## Encoding function"
   ]
  },
  {
   "cell_type": "code",
   "execution_count": 16,
   "metadata": {},
   "outputs": [],
   "source": [
    "import category_encoders as ce\n",
    "class Error(Exception):\n",
    "    pass\n",
    "class NonMatchingLengthsError(Error):\n",
    "    pass"
   ]
  },
  {
   "cell_type": "code",
   "execution_count": 17,
   "metadata": {},
   "outputs": [],
   "source": [
    "def multiEnc(X_train, X_test, target_train, cols, encodings):\n",
    "    \"\"\"\n",
    "    Lista znaków do \"encodings\":\n",
    "        d - backward difference\n",
    "        n - base N\n",
    "        b - binary\n",
    "        c - cat boost\n",
    "        # - hashing\n",
    "        h - helmert\n",
    "        j - James-Stein\n",
    "        l - leave one out\n",
    "        m - m-estimate\n",
    "        1 - one-hot\n",
    "        o - ordinal\n",
    "        p - polynomial\n",
    "        s - sum coding\n",
    "        t - target encoding\n",
    "        w - weight of evidence\n",
    "    \"\"\"\n",
    "    ce_map = {\"d\": ce.backward_difference.BackwardDifferenceEncoder,\n",
    "             \"n\": ce.basen.BaseNEncoder,\n",
    "             \"b\": ce.binary.BinaryEncoder,\n",
    "             \"c\": ce.cat_boost.CatBoostEncoder,\n",
    "             \"#\": ce.hashing.HashingEncoder,\n",
    "             \"h\": ce.helmert.HelmertEncoder,\n",
    "             \"j\": ce.james_stein.JamesSteinEncoder,\n",
    "             \"l\": ce.leave_one_out.LeaveOneOutEncoder,\n",
    "             \"m\": ce.m_estimate.MEstimateEncoder,\n",
    "             \"1\": ce.one_hot.OneHotEncoder,\n",
    "             \"o\": ce.ordinal.OrdinalEncoder,\n",
    "             \"p\": ce.polynomial.PolynomialEncoder,\n",
    "             \"s\": ce.sum_coding.SumEncoder,\n",
    "             \"t\": ce.target_encoder.TargetEncoder,\n",
    "             \"w\": ce.woe.WOEEncoder}\n",
    "    try:\n",
    "        if len(cols)!=len(encodings):\n",
    "            raise(NonMatchingLengthsError)\n",
    "    except NonMatchingLengthsError:\n",
    "        print(\"Lengths do not match\")\n",
    "        return None\n",
    "    e=0\n",
    "    for c in cols:\n",
    "        if X_train[c].dtypes=='object':\n",
    "            enc=ce_map[encodings[e]](cols=c)\n",
    "            enc=enc.fit(X_train, target_train)\n",
    "            X_train=enc.transform(X_train)\n",
    "            X_test=enc.transform(X_test)\n",
    "        e=e+1\n",
    "    return (X_train, X_test)"
   ]
  },
  {
   "cell_type": "code",
   "execution_count": 18,
   "metadata": {},
   "outputs": [],
   "source": [
    "# example\n",
    "#X_train, X_test = multiEnc(X_train, X_test, y_train ,['job'], ['1'])"
   ]
  },
  {
   "cell_type": "markdown",
   "metadata": {},
   "source": [
    "## Create generic functions to add models and make a Cross-Validation"
   ]
  },
  {
   "cell_type": "code",
   "execution_count": 19,
   "metadata": {},
   "outputs": [],
   "source": [
    "from abc import (ABC, \n",
    "                 abstractmethod, \n",
    "                 abstractproperty)\n",
    "from typing import Any\n",
    "from sklearn.model_selection import train_test_split\n",
    "\n",
    "from sklearn.tree import DecisionTreeClassifier\n",
    "from sklearn.linear_model import LogisticRegression\n",
    "from sklearn.svm import SVC\n",
    "from sklearn.naive_bayes import GaussianNB\n",
    "from sklearn.ensemble import RandomForestClassifier\n",
    "from sklearn.ensemble import AdaBoostClassifier\n",
    "from sklearn.ensemble import GradientBoostingClassifier\n",
    "from xgboost import XGBClassifier # Inna paczka niż sklearn!\n",
    "import xgboost as xgb\n",
    "\n",
    "\n",
    "class Builder(ABC):\n",
    "\n",
    "    @abstractproperty\n",
    "    def product(self) -> None:\n",
    "        pass\n",
    "    \n",
    "    \n",
    "class Product():\n",
    "\n",
    "    def __init__(self) -> None:\n",
    "        self.parts = []\n",
    "\n",
    "    def add(self, part: Any) -> None:\n",
    "        self.parts.append(part)\n",
    "\n",
    "    def list_parts(self):\n",
    "        return self.parts\n",
    "\n",
    "\n",
    "class ConcreteBuilder(Builder):\n",
    "\n",
    "    def __init__(self) -> None:\n",
    "\n",
    "        self.reset()\n",
    "\n",
    "    def reset(self) -> None:\n",
    "        self._product = Product()\n",
    "\n",
    "    @property\n",
    "    def product(self) -> Product:\n",
    "\n",
    "        product = self._product\n",
    "        self.reset()\n",
    "        return product\n",
    "\n",
    "    def _add_model(self, model_type: str, params: dict):\n",
    "        if model_type == 'logistic regression':\n",
    "            self._logistic_regression(params)\n",
    "        if model_type == 'decision tree':\n",
    "            self._decision_tree(params)\n",
    "        if model_type == 'svm':\n",
    "            self._svm(params)\n",
    "        if model_type == 'naive bayes':\n",
    "            self._naive_bayes(params)\n",
    "        if model_type == 'random forest':\n",
    "            self._random_forest(params)\n",
    "        if model_type == 'ada boost':\n",
    "            self._ada_boost(params)\n",
    "        if model_type == 'gradient boost':\n",
    "            self._gradient_boost(params)\n",
    "        if model_type == 'xgboost':\n",
    "            self._xgboost(params)\n",
    "        \n",
    "    def _logistic_regression(self, params: dict):\n",
    "        \n",
    "        lr = LogisticRegression(**params)\n",
    "        \n",
    "        return self._product.add(lr)\n",
    "    \n",
    "    def _decision_tree(self, params: dict):\n",
    "        \n",
    "        dt = DecisionTreeClassifier(**params)\n",
    "        \n",
    "        dt_params = {'criterion': dt.criterion}\n",
    "        \n",
    "        return self._product.add(dt)\n",
    "\n",
    "    def _svm(self, params: dict):\n",
    "        svm = SVC(**params)\n",
    "        \n",
    "        return self._product.add(svm)\n",
    "    \n",
    "    def _naive_bayes(self, params: dict):\n",
    "        nb = GaussianNB(**params)\n",
    "\n",
    "        return self._product.add(nb)\n",
    "    \n",
    "    def _random_forest(self, params: dict):\n",
    "        \n",
    "        rf = RandomForestClassifier(**params)\n",
    "        return self._product.add(rf)\n",
    "        \n",
    "    def _ada_boost(self, params: dict):\n",
    "        ada = AdaBoostClassifier(**params)\n",
    "    \n",
    "        return self._product.add(ada)\n",
    "    \n",
    "    def _gradient_boost(self, params: dict):\n",
    "        gb= GradientBoostingClassifier(**params)\n",
    "        return self._product.add(gb)\n",
    "    \n",
    "    def _xgboost(self, params: dict):\n",
    "        \n",
    "        xg=XGBClassifier(**params)\n",
    "        return self._product.add(xg)\n",
    "\n",
    "class Director:\n",
    "\n",
    "    def __init__(self) -> None:\n",
    "        self._builder = None\n",
    "\n",
    "    @property\n",
    "    def builder(self) -> Builder:\n",
    "        return self._builder\n",
    "\n",
    "    @builder.setter\n",
    "    def builder(self, builder: Builder) -> None:\n",
    "\n",
    "        self._builder = builder\n",
    "\n",
    "\n",
    "    def add_model(self, model_type, params):\n",
    "        return self.builder._add_model(model_type, params)\n",
    "\n",
    "    def add_all_models(self):\n",
    "        self.add_model('logistic regression', {})\n",
    "        self.add_model('decision tree', {})\n",
    "        self.add_model('svm', {})\n",
    "        self.add_model('naive bayes', {})\n",
    "        self.add_model('random forest', {})\n",
    "        self.add_model('ada boost', {})\n",
    "        self.add_model('gradient boost', {})\n",
    "        self.add_model('xgboost', {})\n",
    "        return builder.product.list_parts()\n",
    "    \n",
    "    def get_all_models(self, metric_name: str = ''):\n",
    "        parts =  builder.product.list_parts()\n",
    "        return parts"
   ]
  },
  {
   "cell_type": "code",
   "execution_count": 20,
   "metadata": {},
   "outputs": [],
   "source": [
    "director = Director()\n",
    "builder = ConcreteBuilder()\n",
    "director.builder = builder"
   ]
  },
  {
   "cell_type": "markdown",
   "metadata": {},
   "source": [
    "## Create different types of models"
   ]
  },
  {
   "cell_type": "code",
   "execution_count": 21,
   "metadata": {},
   "outputs": [],
   "source": [
    "director.add_model('logistic regression', {'penalty': 'l1', 'fit_intercept': 'False'})"
   ]
  },
  {
   "cell_type": "code",
   "execution_count": 22,
   "metadata": {},
   "outputs": [],
   "source": [
    "models = director.get_all_models() "
   ]
  },
  {
   "cell_type": "markdown",
   "metadata": {},
   "source": [
    "## Evaluate models"
   ]
  },
  {
   "cell_type": "code",
   "execution_count": 25,
   "metadata": {},
   "outputs": [],
   "source": [
    "from typing import List\n",
    "\n",
    "\n",
    "def compare_models(models_list: List, X_train, y_train, X_test, y_test, categorical_variables, method):\n",
    "    results = dict()\n",
    "    \n",
    "    df_train, df_test = multiEnc(X_train, X_test, y_train, categorical_variables, len(categorical_variables) * method)\n",
    "    \n",
    "    \n",
    "    for model in models_list:\n",
    "        \n",
    "        training = model.fit(df_train, y_train)\n",
    "        score = training.score(df_test, y_test)\n",
    "        results[model] = score\n",
    "        \n",
    "    return results, df_train, df_test"
   ]
  },
  {
   "cell_type": "code",
   "execution_count": 26,
   "metadata": {},
   "outputs": [],
   "source": [
    "categorical_variables = ['credit_history', 'purpose', 'personal', 'other_debtors', 'property', \n",
    "                        'other_installment_plans', 'housing' , 'job', 'telephone', 'foreign_worker', \n",
    "                        'present_employment', 'checking_account_status', 'savings'] "
   ]
  },
  {
   "cell_type": "code",
   "execution_count": 27,
   "metadata": {},
   "outputs": [],
   "source": [
    "def save_final_data(X_train, y_train, X_test, y_test, categorical_variables, method):\n",
    "    df_train, df_test = multiEnc(X_train, X_test, y_train, categorical_variables, len(categorical_variables) * method)\n",
    "    df_train.to_csv('../final_data/df_train.csv', index=False)\n",
    "    df_test.to_csv('../final_data/df_test.csv', index=False)\n",
    "    y_test.to_csv('../final_data/y_test.csv', index=False)\n",
    "    y_train.to_csv('../final_data/y_train.csv', index=False)\n",
    "\n",
    "save_final_data(X_train, y_train, X_test, y_test, categorical_variables, '1')\n"
   ]
  },
  {
   "cell_type": "code",
   "execution_count": 33,
   "metadata": {},
   "outputs": [],
   "source": [
    "def best_model(results: dict):\n",
    "    best_model_val = 0\n",
    "\n",
    "    for key,val in results.items():\n",
    "        if val > best_model_val:\n",
    "            best_model = key\n",
    "            best_model_val = val\n",
    "\n",
    "    return best_model"
   ]
  },
  {
   "cell_type": "code",
   "execution_count": 39,
   "metadata": {},
   "outputs": [],
   "source": [
    "from plot_metric.functions import BinaryClassification\n",
    "from sklearn.metrics import roc_auc_score\n",
    "\n",
    "def plot_roc(model, df_test, y_test):\n",
    "    y_pred = model.predict_proba(df_test)[:,1]\n",
    "    # Visualisation with plot_metric\n",
    "    bc = BinaryClassification(y_test, y_pred, labels=[\"Class 1\", \"Class 2\"])\n",
    "\n",
    "    # Figures\n",
    "    plt.figure(figsize=(5,5))\n",
    "    bc.plot_roc_curve()\n",
    "    plt.show()\n",
    "    \n",
    "    print(model, roc_auc_score(y_test, y_pred, average=\"weighted\"))"
   ]
  },
  {
   "cell_type": "code",
   "execution_count": 40,
   "metadata": {},
   "outputs": [
    {
     "data": {
      "text/plain": [
       "{LogisticRegression(C=1.0, class_weight=None, dual=False, fit_intercept='False',\n",
       "                    intercept_scaling=1, l1_ratio=None, max_iter=100,\n",
       "                    multi_class='warn', n_jobs=None, penalty='l1',\n",
       "                    random_state=None, solver='warn', tol=0.0001, verbose=0,\n",
       "                    warm_start=False): 0.7666666666666667}"
      ]
     },
     "execution_count": 40,
     "metadata": {},
     "output_type": "execute_result"
    }
   ],
   "source": [
    "results, df_train, df_test = compare_models(models, X_train, y_train, X_test, y_test, categorical_variables, '1')\n",
    "results"
   ]
  },
  {
   "cell_type": "code",
   "execution_count": 42,
   "metadata": {},
   "outputs": [
    {
     "data": {
      "image/png": "[encoded data removed]",
      "text/plain": [
       "<Figure size 360x360 with 1 Axes>"
      ]
     },
     "metadata": {},
     "output_type": "display_data"
    },
    {
     "name": "stdout",
     "output_type": "stream",
     "text": [
      "LogisticRegression(C=1.0, class_weight=None, dual=False, fit_intercept='False',\n",
      "                   intercept_scaling=1, l1_ratio=None, max_iter=100,\n",
      "                   multi_class='warn', n_jobs=None, penalty='l1',\n",
      "                   random_state=None, solver='warn', tol=0.0001, verbose=0,\n",
      "                   warm_start=False) 0.7892592592592593\n"
     ]
    }
   ],
   "source": [
    "model = best_model(results)\n",
    "plot_roc(model, df_test, y_test)"
   ]
  },
  {
   "cell_type": "markdown",
   "metadata": {},
   "source": [
    "## Save models"
   ]
  },
  {
   "cell_type": "code",
   "execution_count": 46,
   "metadata": {},
   "outputs": [],
   "source": [
    "import pickle\n",
    "\n",
    "def save_model(model, filename: str):\n",
    "    pickle.dump(model, open('../models/' + str(filename) + '.sav', 'wb'))"
   ]
  },
  {
   "cell_type": "code",
   "execution_count": 48,
   "metadata": {},
   "outputs": [],
   "source": [
    "save_model(model, 'LogisticRegression_1')"
   ]
  },
  {
   "cell_type": "code",
   "execution_count": null,
   "metadata": {},
   "outputs": [],
   "source": []
  }
 ],
 "metadata": {
  "kernelspec": {
   "display_name": "Python 3",
   "language": "python",
   "name": "python3"
  },
  "language_info": {
   "codemirror_mode": {
    "name": "ipython",
    "version": 3
   },
   "file_extension": ".py",
   "mimetype": "text/x-python",
   "name": "python",
   "nbconvert_exporter": "python",
   "pygments_lexer": "ipython3",
   "version": "3.6.5"
  }
 },
 "nbformat": 4,
 "nbformat_minor": 2
}
