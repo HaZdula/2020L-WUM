{
 "cells": [
  {
   "cell_type": "markdown",
   "metadata": {},
   "source": [
    "# *German credit data* - analysis"
   ]
  },
  {
   "cell_type": "markdown",
   "metadata": {},
   "source": [
    "## Libraries import"
   ]
  },
  {
   "cell_type": "code",
   "execution_count": 2,
   "metadata": {},
   "outputs": [],
   "source": [
    "import pandas as pd\n",
    "import numpy as np\n",
    "import sklearn \n",
    "import seaborn as sns\n",
    "import matplotlib.pyplot as plt\n",
    "import warnings\n",
    "warnings.filterwarnings('ignore')"
   ]
  },
  {
   "cell_type": "markdown",
   "metadata": {},
   "source": [
    "## Read data"
   ]
  },
  {
   "cell_type": "markdown",
   "metadata": {},
   "source": [
    "#### read data online"
   ]
  },
  {
   "cell_type": "code",
   "execution_count": 3,
   "metadata": {},
   "outputs": [],
   "source": [
    "data = pd.read_csv(\"https://www.mldata.io/download-csv-weka/german_credit_data/\")"
   ]
  },
  {
   "cell_type": "code",
   "execution_count": 4,
   "metadata": {},
   "outputs": [],
   "source": [
    "atributes = pd.read_csv(\"https://www.mldata.io/download-attributes/german_credit_data/\")"
   ]
  },
  {
   "cell_type": "markdown",
   "metadata": {},
   "source": [
    "## Intro data analysis"
   ]
  },
  {
   "cell_type": "code",
   "execution_count": 5,
   "metadata": {},
   "outputs": [],
   "source": [
    "data.telephone = data.telephone.map({\"A191\": 0, \"A192\": 1})\n",
    "data.foreign_worker = data.foreign_worker.map({\"A201\": 1, \"A202\": 0})"
   ]
  },
  {
   "cell_type": "markdown",
   "metadata": {},
   "source": [
    "Several variables underwent type change due to their binariness"
   ]
  },
  {
   "cell_type": "markdown",
   "metadata": {},
   "source": [
    "#### Conclusion\n",
    "\n",
    "Without missing data"
   ]
  },
  {
   "cell_type": "code",
   "execution_count": 6,
   "metadata": {},
   "outputs": [
    {
     "name": "stdout",
     "output_type": "stream",
     "text": [
      "<class 'pandas.core.frame.DataFrame'>\n",
      "RangeIndex: 1000 entries, 0 to 999\n",
      "Data columns (total 21 columns):\n",
      "checking_account_status    1000 non-null object\n",
      "duration                   1000 non-null int64\n",
      "credit_history             1000 non-null object\n",
      "purpose                    1000 non-null object\n",
      "credit_amount              1000 non-null float64\n",
      "savings                    1000 non-null object\n",
      "present_employment         1000 non-null object\n",
      "installment_rate           1000 non-null float64\n",
      "personal                   1000 non-null object\n",
      "other_debtors              1000 non-null object\n",
      "present_residence          1000 non-null float64\n",
      "property                   1000 non-null object\n",
      "age                        1000 non-null float64\n",
      "other_installment_plans    1000 non-null object\n",
      "housing                    1000 non-null object\n",
      "existing_credits           1000 non-null float64\n",
      "job                        1000 non-null object\n",
      "dependents                 1000 non-null int64\n",
      "telephone                  1000 non-null int64\n",
      "foreign_worker             1000 non-null int64\n",
      "customer_type              1000 non-null int64\n",
      "dtypes: float64(5), int64(5), object(11)\n",
      "memory usage: 164.1+ KB\n"
     ]
    }
   ],
   "source": [
    "data.info()"
   ]
  },
  {
   "cell_type": "markdown",
   "metadata": {},
   "source": [
    "#### Conclusions\n",
    "\n",
    "1. There is only 3.7% workers, who work in foreign country\n",
    "2. Dataset is not balanced (70% 'yes' answers)\n",
    "3. Credit_amount has significant outliers (check boxplots below)"
   ]
  },
  {
   "cell_type": "code",
   "execution_count": 7,
   "metadata": {},
   "outputs": [
    {
     "data": {
      "text/html": [
       "<div>\n",
       "<style scoped>\n",
       "    .dataframe tbody tr th:only-of-type {\n",
       "        vertical-align: middle;\n",
       "    }\n",
       "\n",
       "    .dataframe tbody tr th {\n",
       "        vertical-align: top;\n",
       "    }\n",
       "\n",
       "    .dataframe thead th {\n",
       "        text-align: right;\n",
       "    }\n",
       "</style>\n",
       "<table border=\"1\" class=\"dataframe\">\n",
       "  <thead>\n",
       "    <tr style=\"text-align: right;\">\n",
       "      <th></th>\n",
       "      <th>duration</th>\n",
       "      <th>credit_amount</th>\n",
       "      <th>age</th>\n",
       "      <th>existing_credits</th>\n",
       "      <th>dependents</th>\n",
       "      <th>telephone</th>\n",
       "      <th>foreign_worker</th>\n",
       "    </tr>\n",
       "  </thead>\n",
       "  <tbody>\n",
       "    <tr>\n",
       "      <th>count</th>\n",
       "      <td>1000.000000</td>\n",
       "      <td>1000.000000</td>\n",
       "      <td>1000.000000</td>\n",
       "      <td>1000.000000</td>\n",
       "      <td>1000.000000</td>\n",
       "      <td>1000.000000</td>\n",
       "      <td>1000.000000</td>\n",
       "    </tr>\n",
       "    <tr>\n",
       "      <th>mean</th>\n",
       "      <td>20.903000</td>\n",
       "      <td>3271.258000</td>\n",
       "      <td>35.546000</td>\n",
       "      <td>1.407000</td>\n",
       "      <td>1.155000</td>\n",
       "      <td>0.404000</td>\n",
       "      <td>0.963000</td>\n",
       "    </tr>\n",
       "    <tr>\n",
       "      <th>std</th>\n",
       "      <td>12.058814</td>\n",
       "      <td>2822.736876</td>\n",
       "      <td>11.375469</td>\n",
       "      <td>0.577654</td>\n",
       "      <td>0.362086</td>\n",
       "      <td>0.490943</td>\n",
       "      <td>0.188856</td>\n",
       "    </tr>\n",
       "    <tr>\n",
       "      <th>min</th>\n",
       "      <td>4.000000</td>\n",
       "      <td>250.000000</td>\n",
       "      <td>19.000000</td>\n",
       "      <td>1.000000</td>\n",
       "      <td>1.000000</td>\n",
       "      <td>0.000000</td>\n",
       "      <td>0.000000</td>\n",
       "    </tr>\n",
       "    <tr>\n",
       "      <th>25%</th>\n",
       "      <td>12.000000</td>\n",
       "      <td>1365.500000</td>\n",
       "      <td>27.000000</td>\n",
       "      <td>1.000000</td>\n",
       "      <td>1.000000</td>\n",
       "      <td>0.000000</td>\n",
       "      <td>1.000000</td>\n",
       "    </tr>\n",
       "    <tr>\n",
       "      <th>50%</th>\n",
       "      <td>18.000000</td>\n",
       "      <td>2319.500000</td>\n",
       "      <td>33.000000</td>\n",
       "      <td>1.000000</td>\n",
       "      <td>1.000000</td>\n",
       "      <td>0.000000</td>\n",
       "      <td>1.000000</td>\n",
       "    </tr>\n",
       "    <tr>\n",
       "      <th>75%</th>\n",
       "      <td>24.000000</td>\n",
       "      <td>3972.250000</td>\n",
       "      <td>42.000000</td>\n",
       "      <td>2.000000</td>\n",
       "      <td>1.000000</td>\n",
       "      <td>1.000000</td>\n",
       "      <td>1.000000</td>\n",
       "    </tr>\n",
       "    <tr>\n",
       "      <th>max</th>\n",
       "      <td>72.000000</td>\n",
       "      <td>18424.000000</td>\n",
       "      <td>75.000000</td>\n",
       "      <td>4.000000</td>\n",
       "      <td>2.000000</td>\n",
       "      <td>1.000000</td>\n",
       "      <td>1.000000</td>\n",
       "    </tr>\n",
       "  </tbody>\n",
       "</table>\n",
       "</div>"
      ],
      "text/plain": [
       "          duration  credit_amount          age  existing_credits   dependents  \\\n",
       "count  1000.000000    1000.000000  1000.000000       1000.000000  1000.000000   \n",
       "mean     20.903000    3271.258000    35.546000          1.407000     1.155000   \n",
       "std      12.058814    2822.736876    11.375469          0.577654     0.362086   \n",
       "min       4.000000     250.000000    19.000000          1.000000     1.000000   \n",
       "25%      12.000000    1365.500000    27.000000          1.000000     1.000000   \n",
       "50%      18.000000    2319.500000    33.000000          1.000000     1.000000   \n",
       "75%      24.000000    3972.250000    42.000000          2.000000     1.000000   \n",
       "max      72.000000   18424.000000    75.000000          4.000000     2.000000   \n",
       "\n",
       "         telephone  foreign_worker  \n",
       "count  1000.000000     1000.000000  \n",
       "mean      0.404000        0.963000  \n",
       "std       0.490943        0.188856  \n",
       "min       0.000000        0.000000  \n",
       "25%       0.000000        1.000000  \n",
       "50%       0.000000        1.000000  \n",
       "75%       1.000000        1.000000  \n",
       "max       1.000000        1.000000  "
      ]
     },
     "execution_count": 7,
     "metadata": {},
     "output_type": "execute_result"
    }
   ],
   "source": [
    "num_var = ['duration', 'credit_amount', 'age', 'existing_credits', 'dependents', 'telephone', 'foreign_worker']\n",
    "data[num_var].describe()"
   ]
  },
  {
   "cell_type": "code",
   "execution_count": 8,
   "metadata": {},
   "outputs": [
    {
     "data": {
      "text/plain": [
       "1    700\n",
       "0    300\n",
       "Name: customer_type, dtype: int64"
      ]
     },
     "execution_count": 8,
     "metadata": {},
     "output_type": "execute_result"
    }
   ],
   "source": [
    "data.customer_type.replace([1,2], [1,0], inplace=True)\n",
    "data.customer_type.value_counts()"
   ]
  },
  {
   "cell_type": "markdown",
   "metadata": {},
   "source": [
    "## Map variables"
   ]
  },
  {
   "cell_type": "code",
   "execution_count": 9,
   "metadata": {},
   "outputs": [],
   "source": [
    "data.job = data.job.map({\"A171\" : \"unemployed/unskilled\",\"A172\": \"unskilled-resident\", \"A173\": \"skilled_employee\",\"A174\": \"management/self-employed\"})\n",
    "data.housing = data.housing.map({'A151' : 'rent', 'A152' : 'own', 'A153' : 'free'})\n",
    "data.purpose = data.purpose.map({'A40': 'new car', 'A41': 'used car', 'A42': 'furniture/equipment', 'A43': 'radio/television', 'A44': 'domestic appliances', 'A45': 'repairs', 'A46': 'education', 'A47': 'vacation', 'A48':'retraining',\n",
    "'A49': 'business', 'A410': 'others'})\n",
    "data.other_debtors = data.other_debtors.map({'A101': 'none', 'A102': 'co-applicant', 'A103': 'guarantor'})\n",
    "data.other_installment_plans = data.other_installment_plans.map({'A141': 'bank', 'A142': 'stores', 'A143': 'none'})"
   ]
  },
  {
   "cell_type": "code",
   "execution_count": 10,
   "metadata": {},
   "outputs": [
    {
     "data": {
      "text/html": [
       "<div>\n",
       "<style scoped>\n",
       "    .dataframe tbody tr th:only-of-type {\n",
       "        vertical-align: middle;\n",
       "    }\n",
       "\n",
       "    .dataframe tbody tr th {\n",
       "        vertical-align: top;\n",
       "    }\n",
       "\n",
       "    .dataframe thead th {\n",
       "        text-align: right;\n",
       "    }\n",
       "</style>\n",
       "<table border=\"1\" class=\"dataframe\">\n",
       "  <thead>\n",
       "    <tr style=\"text-align: right;\">\n",
       "      <th></th>\n",
       "      <th>checking_account_status</th>\n",
       "      <th>duration</th>\n",
       "      <th>credit_history</th>\n",
       "      <th>purpose</th>\n",
       "      <th>credit_amount</th>\n",
       "      <th>savings</th>\n",
       "      <th>present_employment</th>\n",
       "      <th>installment_rate</th>\n",
       "      <th>personal</th>\n",
       "      <th>other_debtors</th>\n",
       "      <th>...</th>\n",
       "      <th>property</th>\n",
       "      <th>age</th>\n",
       "      <th>other_installment_plans</th>\n",
       "      <th>housing</th>\n",
       "      <th>existing_credits</th>\n",
       "      <th>job</th>\n",
       "      <th>dependents</th>\n",
       "      <th>telephone</th>\n",
       "      <th>foreign_worker</th>\n",
       "      <th>customer_type</th>\n",
       "    </tr>\n",
       "  </thead>\n",
       "  <tbody>\n",
       "    <tr>\n",
       "      <th>0</th>\n",
       "      <td>A11</td>\n",
       "      <td>6</td>\n",
       "      <td>A34</td>\n",
       "      <td>radio/television</td>\n",
       "      <td>1169.0</td>\n",
       "      <td>A65</td>\n",
       "      <td>A75</td>\n",
       "      <td>4.0</td>\n",
       "      <td>A93</td>\n",
       "      <td>none</td>\n",
       "      <td>...</td>\n",
       "      <td>A121</td>\n",
       "      <td>67.0</td>\n",
       "      <td>none</td>\n",
       "      <td>own</td>\n",
       "      <td>2.0</td>\n",
       "      <td>skilled_employee</td>\n",
       "      <td>1</td>\n",
       "      <td>1</td>\n",
       "      <td>1</td>\n",
       "      <td>1</td>\n",
       "    </tr>\n",
       "    <tr>\n",
       "      <th>1</th>\n",
       "      <td>A12</td>\n",
       "      <td>48</td>\n",
       "      <td>A32</td>\n",
       "      <td>radio/television</td>\n",
       "      <td>5951.0</td>\n",
       "      <td>A61</td>\n",
       "      <td>A73</td>\n",
       "      <td>2.0</td>\n",
       "      <td>A92</td>\n",
       "      <td>none</td>\n",
       "      <td>...</td>\n",
       "      <td>A121</td>\n",
       "      <td>22.0</td>\n",
       "      <td>none</td>\n",
       "      <td>own</td>\n",
       "      <td>1.0</td>\n",
       "      <td>skilled_employee</td>\n",
       "      <td>1</td>\n",
       "      <td>0</td>\n",
       "      <td>1</td>\n",
       "      <td>0</td>\n",
       "    </tr>\n",
       "    <tr>\n",
       "      <th>2</th>\n",
       "      <td>A14</td>\n",
       "      <td>12</td>\n",
       "      <td>A34</td>\n",
       "      <td>education</td>\n",
       "      <td>2096.0</td>\n",
       "      <td>A61</td>\n",
       "      <td>A74</td>\n",
       "      <td>2.0</td>\n",
       "      <td>A93</td>\n",
       "      <td>none</td>\n",
       "      <td>...</td>\n",
       "      <td>A121</td>\n",
       "      <td>49.0</td>\n",
       "      <td>none</td>\n",
       "      <td>own</td>\n",
       "      <td>1.0</td>\n",
       "      <td>unskilled-resident</td>\n",
       "      <td>2</td>\n",
       "      <td>0</td>\n",
       "      <td>1</td>\n",
       "      <td>1</td>\n",
       "    </tr>\n",
       "    <tr>\n",
       "      <th>3</th>\n",
       "      <td>A11</td>\n",
       "      <td>42</td>\n",
       "      <td>A32</td>\n",
       "      <td>furniture/equipment</td>\n",
       "      <td>7882.0</td>\n",
       "      <td>A61</td>\n",
       "      <td>A74</td>\n",
       "      <td>2.0</td>\n",
       "      <td>A93</td>\n",
       "      <td>guarantor</td>\n",
       "      <td>...</td>\n",
       "      <td>A122</td>\n",
       "      <td>45.0</td>\n",
       "      <td>none</td>\n",
       "      <td>free</td>\n",
       "      <td>1.0</td>\n",
       "      <td>skilled_employee</td>\n",
       "      <td>2</td>\n",
       "      <td>0</td>\n",
       "      <td>1</td>\n",
       "      <td>1</td>\n",
       "    </tr>\n",
       "    <tr>\n",
       "      <th>4</th>\n",
       "      <td>A11</td>\n",
       "      <td>24</td>\n",
       "      <td>A33</td>\n",
       "      <td>new car</td>\n",
       "      <td>4870.0</td>\n",
       "      <td>A61</td>\n",
       "      <td>A73</td>\n",
       "      <td>3.0</td>\n",
       "      <td>A93</td>\n",
       "      <td>none</td>\n",
       "      <td>...</td>\n",
       "      <td>A124</td>\n",
       "      <td>53.0</td>\n",
       "      <td>none</td>\n",
       "      <td>free</td>\n",
       "      <td>2.0</td>\n",
       "      <td>skilled_employee</td>\n",
       "      <td>2</td>\n",
       "      <td>0</td>\n",
       "      <td>1</td>\n",
       "      <td>0</td>\n",
       "    </tr>\n",
       "    <tr>\n",
       "      <th>5</th>\n",
       "      <td>A14</td>\n",
       "      <td>36</td>\n",
       "      <td>A32</td>\n",
       "      <td>education</td>\n",
       "      <td>9055.0</td>\n",
       "      <td>A65</td>\n",
       "      <td>A73</td>\n",
       "      <td>2.0</td>\n",
       "      <td>A93</td>\n",
       "      <td>none</td>\n",
       "      <td>...</td>\n",
       "      <td>A124</td>\n",
       "      <td>35.0</td>\n",
       "      <td>none</td>\n",
       "      <td>free</td>\n",
       "      <td>1.0</td>\n",
       "      <td>unskilled-resident</td>\n",
       "      <td>2</td>\n",
       "      <td>1</td>\n",
       "      <td>1</td>\n",
       "      <td>1</td>\n",
       "    </tr>\n",
       "    <tr>\n",
       "      <th>6</th>\n",
       "      <td>A14</td>\n",
       "      <td>24</td>\n",
       "      <td>A32</td>\n",
       "      <td>furniture/equipment</td>\n",
       "      <td>2835.0</td>\n",
       "      <td>A63</td>\n",
       "      <td>A75</td>\n",
       "      <td>3.0</td>\n",
       "      <td>A93</td>\n",
       "      <td>none</td>\n",
       "      <td>...</td>\n",
       "      <td>A122</td>\n",
       "      <td>53.0</td>\n",
       "      <td>none</td>\n",
       "      <td>own</td>\n",
       "      <td>1.0</td>\n",
       "      <td>skilled_employee</td>\n",
       "      <td>1</td>\n",
       "      <td>0</td>\n",
       "      <td>1</td>\n",
       "      <td>1</td>\n",
       "    </tr>\n",
       "    <tr>\n",
       "      <th>7</th>\n",
       "      <td>A12</td>\n",
       "      <td>36</td>\n",
       "      <td>A32</td>\n",
       "      <td>used car</td>\n",
       "      <td>6948.0</td>\n",
       "      <td>A61</td>\n",
       "      <td>A73</td>\n",
       "      <td>2.0</td>\n",
       "      <td>A93</td>\n",
       "      <td>none</td>\n",
       "      <td>...</td>\n",
       "      <td>A123</td>\n",
       "      <td>35.0</td>\n",
       "      <td>none</td>\n",
       "      <td>rent</td>\n",
       "      <td>1.0</td>\n",
       "      <td>management/self-employed</td>\n",
       "      <td>1</td>\n",
       "      <td>1</td>\n",
       "      <td>1</td>\n",
       "      <td>1</td>\n",
       "    </tr>\n",
       "    <tr>\n",
       "      <th>8</th>\n",
       "      <td>A14</td>\n",
       "      <td>12</td>\n",
       "      <td>A32</td>\n",
       "      <td>radio/television</td>\n",
       "      <td>3059.0</td>\n",
       "      <td>A64</td>\n",
       "      <td>A74</td>\n",
       "      <td>2.0</td>\n",
       "      <td>A91</td>\n",
       "      <td>none</td>\n",
       "      <td>...</td>\n",
       "      <td>A121</td>\n",
       "      <td>61.0</td>\n",
       "      <td>none</td>\n",
       "      <td>own</td>\n",
       "      <td>1.0</td>\n",
       "      <td>unskilled-resident</td>\n",
       "      <td>1</td>\n",
       "      <td>0</td>\n",
       "      <td>1</td>\n",
       "      <td>1</td>\n",
       "    </tr>\n",
       "    <tr>\n",
       "      <th>9</th>\n",
       "      <td>A12</td>\n",
       "      <td>30</td>\n",
       "      <td>A34</td>\n",
       "      <td>new car</td>\n",
       "      <td>5234.0</td>\n",
       "      <td>A61</td>\n",
       "      <td>A71</td>\n",
       "      <td>4.0</td>\n",
       "      <td>A94</td>\n",
       "      <td>none</td>\n",
       "      <td>...</td>\n",
       "      <td>A123</td>\n",
       "      <td>28.0</td>\n",
       "      <td>none</td>\n",
       "      <td>own</td>\n",
       "      <td>2.0</td>\n",
       "      <td>management/self-employed</td>\n",
       "      <td>1</td>\n",
       "      <td>0</td>\n",
       "      <td>1</td>\n",
       "      <td>0</td>\n",
       "    </tr>\n",
       "  </tbody>\n",
       "</table>\n",
       "<p>10 rows × 21 columns</p>\n",
       "</div>"
      ],
      "text/plain": [
       "  checking_account_status  duration credit_history              purpose  \\\n",
       "0                     A11         6            A34     radio/television   \n",
       "1                     A12        48            A32     radio/television   \n",
       "2                     A14        12            A34            education   \n",
       "3                     A11        42            A32  furniture/equipment   \n",
       "4                     A11        24            A33              new car   \n",
       "5                     A14        36            A32            education   \n",
       "6                     A14        24            A32  furniture/equipment   \n",
       "7                     A12        36            A32             used car   \n",
       "8                     A14        12            A32     radio/television   \n",
       "9                     A12        30            A34              new car   \n",
       "\n",
       "   credit_amount savings present_employment  installment_rate personal  \\\n",
       "0         1169.0     A65                A75               4.0      A93   \n",
       "1         5951.0     A61                A73               2.0      A92   \n",
       "2         2096.0     A61                A74               2.0      A93   \n",
       "3         7882.0     A61                A74               2.0      A93   \n",
       "4         4870.0     A61                A73               3.0      A93   \n",
       "5         9055.0     A65                A73               2.0      A93   \n",
       "6         2835.0     A63                A75               3.0      A93   \n",
       "7         6948.0     A61                A73               2.0      A93   \n",
       "8         3059.0     A64                A74               2.0      A91   \n",
       "9         5234.0     A61                A71               4.0      A94   \n",
       "\n",
       "  other_debtors  ...  property   age  other_installment_plans housing  \\\n",
       "0          none  ...      A121  67.0                     none     own   \n",
       "1          none  ...      A121  22.0                     none     own   \n",
       "2          none  ...      A121  49.0                     none     own   \n",
       "3     guarantor  ...      A122  45.0                     none    free   \n",
       "4          none  ...      A124  53.0                     none    free   \n",
       "5          none  ...      A124  35.0                     none    free   \n",
       "6          none  ...      A122  53.0                     none     own   \n",
       "7          none  ...      A123  35.0                     none    rent   \n",
       "8          none  ...      A121  61.0                     none     own   \n",
       "9          none  ...      A123  28.0                     none     own   \n",
       "\n",
       "  existing_credits                       job dependents  telephone  \\\n",
       "0              2.0          skilled_employee          1          1   \n",
       "1              1.0          skilled_employee          1          0   \n",
       "2              1.0        unskilled-resident          2          0   \n",
       "3              1.0          skilled_employee          2          0   \n",
       "4              2.0          skilled_employee          2          0   \n",
       "5              1.0        unskilled-resident          2          1   \n",
       "6              1.0          skilled_employee          1          0   \n",
       "7              1.0  management/self-employed          1          1   \n",
       "8              1.0        unskilled-resident          1          0   \n",
       "9              2.0  management/self-employed          1          0   \n",
       "\n",
       "   foreign_worker  customer_type  \n",
       "0               1              1  \n",
       "1               1              0  \n",
       "2               1              1  \n",
       "3               1              1  \n",
       "4               1              0  \n",
       "5               1              1  \n",
       "6               1              1  \n",
       "7               1              1  \n",
       "8               1              1  \n",
       "9               1              0  \n",
       "\n",
       "[10 rows x 21 columns]"
      ]
     },
     "execution_count": 10,
     "metadata": {},
     "output_type": "execute_result"
    }
   ],
   "source": [
    "data.head(10)"
   ]
  },
  {
   "cell_type": "markdown",
   "metadata": {},
   "source": [
    "## Correlation matrix"
   ]
  },
  {
   "cell_type": "code",
   "execution_count": 11,
   "metadata": {},
   "outputs": [
    {
     "data": {
      "image/png": "[encoded data removed]",
      "text/plain": [
       "<Figure size 432x288 with 2 Axes>"
      ]
     },
     "metadata": {
      "needs_background": "light"
     },
     "output_type": "display_data"
    }
   ],
   "source": [
    "corr=data[num_var].iloc[:,:].corr()\n",
    "\n",
    "ax=sns.heatmap(corr,\n",
    "               xticklabels=corr.columns,\n",
    "               yticklabels=corr.columns, annot=True)\n",
    "\n",
    "bottom, top = ax.get_ylim()\n",
    "ax.set_ylim(bottom + 0.5, top - 0.5)\n",
    "ax.set_title('Variables correlations')\n",
    "plt.show()"
   ]
  },
  {
   "cell_type": "markdown",
   "metadata": {},
   "source": [
    "#### Conclusions\n",
    "1. Credit amount and duration are strongly correlated (as expected)"
   ]
  },
  {
   "cell_type": "markdown",
   "metadata": {},
   "source": [
    "## Advance analysis"
   ]
  },
  {
   "cell_type": "markdown",
   "metadata": {},
   "source": [
    "### Age distribution\n",
    "\n",
    "#### Conclusions \n",
    "1. Credit is mostly taken by 30-year-olds *(plot 1)*\n",
    "2. Reliabilty doesn't depend on the client's age  *(plot 2)*"
   ]
  },
  {
   "cell_type": "code",
   "execution_count": 12,
   "metadata": {},
   "outputs": [
    {
     "data": {
      "text/plain": [
       "Text(0.5, 1.0, 'Age distribution')"
      ]
     },
     "execution_count": 12,
     "metadata": {},
     "output_type": "execute_result"
    },
    {
     "data": {
      "image/png": "[encoded data removed]",
      "text/plain": [
       "<Figure size 432x288 with 1 Axes>"
      ]
     },
     "metadata": {
      "needs_background": "light"
     },
     "output_type": "display_data"
    }
   ],
   "source": [
    "sns.distplot(data.age)\n",
    "plt.title(\"Age distribution\")"
   ]
  },
  {
   "cell_type": "code",
   "execution_count": 13,
   "metadata": {},
   "outputs": [
    {
     "data": {
      "text/plain": [
       "Text(0.5, 1.0, 'Age distribution by customer type')"
      ]
     },
     "execution_count": 13,
     "metadata": {},
     "output_type": "execute_result"
    },
    {
     "data": {
      "image/png": "[encoded data removed]",
      "text/plain": [
       "<Figure size 432x288 with 1 Axes>"
      ]
     },
     "metadata": {
      "needs_background": "light"
     },
     "output_type": "display_data"
    }
   ],
   "source": [
    "ax1 = data[data.customer_type==1].age.plot(kind='hist')\n",
    "ax2 = data[data.customer_type==0].age.plot(kind='hist')\n",
    "plt.title('Age distribution by customer type')"
   ]
  },
  {
   "cell_type": "markdown",
   "metadata": {},
   "source": [
    "### Duration distribution\n",
    "\n",
    "#### Conclusions \n",
    "1. The distribution is irregular *(plot 1)*\n",
    "2. Credits were most frequently taken for a period of 12 months *(plot 1)*\n",
    "3. Credits taken for a shorter time were paid back eariler *(plot 2)*"
   ]
  },
  {
   "cell_type": "code",
   "execution_count": 14,
   "metadata": {},
   "outputs": [
    {
     "data": {
      "text/plain": [
       "Text(0.5, 1.0, 'Duration distribution')"
      ]
     },
     "execution_count": 14,
     "metadata": {},
     "output_type": "execute_result"
    },
    {
     "data": {
      "image/png": "[encoded data removed]",
      "text/plain": [
       "<Figure size 432x288 with 1 Axes>"
      ]
     },
     "metadata": {
      "needs_background": "light"
     },
     "output_type": "display_data"
    }
   ],
   "source": [
    "sns.distplot(data.duration, bins=8)\n",
    "plt.title(\"Duration distribution\")"
   ]
  },
  {
   "cell_type": "code",
   "execution_count": 15,
   "metadata": {},
   "outputs": [
    {
     "data": {
      "text/plain": [
       "Text(0.5, 1.0, 'Duration distribution by customer type')"
      ]
     },
     "execution_count": 15,
     "metadata": {},
     "output_type": "execute_result"
    },
    {
     "data": {
      "image/png": "[encoded data removed]",
      "text/plain": [
       "<Figure size 432x288 with 1 Axes>"
      ]
     },
     "metadata": {
      "needs_background": "light"
     },
     "output_type": "display_data"
    }
   ],
   "source": [
    "ax1 = data[data.customer_type==1].duration.plot(kind='hist', bins=10)\n",
    "ax2 = data[data.customer_type==0].duration.plot(kind='hist', bins=10)\n",
    "plt.title('Duration distribution by customer type')"
   ]
  },
  {
   "cell_type": "markdown",
   "metadata": {},
   "source": [
    "### Credit amounts\n",
    "\n",
    "#### Conclusions \n",
    "1. Credit amount and duration are strongly correlated (as expected) *(plot 1)*\n",
    "2. The higher taken credits were, the earlier they were paid back *(plot 3)*"
   ]
  },
  {
   "cell_type": "code",
   "execution_count": 16,
   "metadata": {},
   "outputs": [
    {
     "data": {
      "text/plain": [
       "Text(0.5, 1.0, 'Credit amount - duration')"
      ]
     },
     "execution_count": 16,
     "metadata": {},
     "output_type": "execute_result"
    },
    {
     "data": {
      "image/png": "[encoded data removed]",
      "text/plain": [
       "<Figure size 442x360 with 1 Axes>"
      ]
     },
     "metadata": {
      "needs_background": "light"
     },
     "output_type": "display_data"
    }
   ],
   "source": [
    "sns.lmplot(y = 'credit_amount', x = 'duration', hue='customer_type', data = data)\n",
    "plt.title(\"Credit amount - duration\")"
   ]
  },
  {
   "cell_type": "code",
   "execution_count": 17,
   "metadata": {},
   "outputs": [
    {
     "data": {
      "text/plain": [
       "Text(0.5, 1.0, 'Credit amount distribution')"
      ]
     },
     "execution_count": 17,
     "metadata": {},
     "output_type": "execute_result"
    },
    {
     "data": {
      "image/png": "[encoded data removed]",
      "text/plain": [
       "<Figure size 432x288 with 1 Axes>"
      ]
     },
     "metadata": {
      "needs_background": "light"
     },
     "output_type": "display_data"
    }
   ],
   "source": [
    "sns.distplot(data.credit_amount)\n",
    "plt.title(\"Credit amount distribution\")"
   ]
  },
  {
   "cell_type": "code",
   "execution_count": 18,
   "metadata": {},
   "outputs": [
    {
     "data": {
      "text/plain": [
       "Text(0.5, 1.0, 'Duration distribution by customer type')"
      ]
     },
     "execution_count": 18,
     "metadata": {},
     "output_type": "execute_result"
    },
    {
     "data": {
      "image/png": "[encoded data removed]",
      "text/plain": [
       "<Figure size 432x288 with 1 Axes>"
      ]
     },
     "metadata": {
      "needs_background": "light"
     },
     "output_type": "display_data"
    }
   ],
   "source": [
    "ax1 = data[data.customer_type==1].credit_amount.plot(kind='hist')\n",
    "ax2 = data[data.customer_type==0].credit_amount.plot(kind='hist')\n",
    "plt.title('Duration distribution by customer type')"
   ]
  },
  {
   "cell_type": "markdown",
   "metadata": {},
   "source": [
    "## Needed functions"
   ]
  },
  {
   "cell_type": "code",
   "execution_count": 19,
   "metadata": {},
   "outputs": [],
   "source": [
    "def plot_countplot(col_name: str, y_lim: int):\n",
    "    fig, ax =plt.subplots(1,2)\n",
    "    sns.countplot(x=col_name, data=data[data.customer_type==0], order=data[col_name].value_counts().index, ax=ax[0])\n",
    "    sns.countplot(x=col_name, data=data[data.customer_type==1], order=data[col_name].value_counts().index, ax=ax[1])\n",
    "    fig.show()\n",
    "    plt.setp(ax, ylim=[0, y_lim])\n",
    "    plt.title(col_name + \" (No/Yes)\")\n",
    "    plt.show()\n",
    "    \n",
    "def cal_mean_val(col_name: str):\n",
    "    return data.groupby(col_name)[\"customer_type\"].mean()"
   ]
  },
  {
   "cell_type": "markdown",
   "metadata": {},
   "source": [
    "### Personal info Analysis\n",
    "\n",
    "#### Conclusions \n",
    "1. There has been no single female clients\n",
    "2. *A91* doesn't strictly follow 70/30 distribution rule"
   ]
  },
  {
   "cell_type": "markdown",
   "metadata": {},
   "source": [
    "#### Personal Marital Status and Sex \n",
    "1. *A91* : male : divorced/separated\n",
    "2. *A92* : female : divorced/separated/married \n",
    "3. *A93* : male : single \n",
    "4. *A94* : male : married/widowed\n",
    "5. *A95* : female : single"
   ]
  },
  {
   "cell_type": "code",
   "execution_count": 20,
   "metadata": {},
   "outputs": [],
   "source": [
    "male_divsep = data[data.personal=='A91']\n",
    "female_divsepmarr = data[data.personal=='A92']\n",
    "male_single = data[data.personal=='A93']\n",
    "male_marrwid = data[data.personal=='A94']\n",
    "female_single = data[data.personal=='A95']"
   ]
  },
  {
   "cell_type": "code",
   "execution_count": 21,
   "metadata": {},
   "outputs": [
    {
     "data": {
      "text/plain": [
       "Series([], Name: customer_type, dtype: int64)"
      ]
     },
     "execution_count": 21,
     "metadata": {},
     "output_type": "execute_result"
    }
   ],
   "source": [
    "female_single.customer_type.value_counts()"
   ]
  },
  {
   "cell_type": "code",
   "execution_count": 22,
   "metadata": {},
   "outputs": [
    {
     "data": {
      "image/png": "[encoded data removed]",
      "text/plain": [
       "<Figure size 432x288 with 2 Axes>"
      ]
     },
     "metadata": {
      "needs_background": "light"
     },
     "output_type": "display_data"
    }
   ],
   "source": [
    "plot_countplot('personal', 420)"
   ]
  },
  {
   "cell_type": "code",
   "execution_count": 23,
   "metadata": {},
   "outputs": [
    {
     "data": {
      "text/plain": [
       "personal\n",
       "A91    0.600000\n",
       "A92    0.648387\n",
       "A93    0.733577\n",
       "A94    0.728261\n",
       "Name: customer_type, dtype: float64"
      ]
     },
     "execution_count": 23,
     "metadata": {},
     "output_type": "execute_result"
    }
   ],
   "source": [
    "cal_mean_val('personal')"
   ]
  },
  {
   "cell_type": "markdown",
   "metadata": {},
   "source": [
    "### Credit history\n",
    "\n",
    "#### Conclusions \n",
    "1. Contrary to expectations, clients, who have paid previous credits duly, don't do so now - and vice-versa"
   ]
  },
  {
   "cell_type": "markdown",
   "metadata": {},
   "source": [
    "1. *A30*: no credits taken/ all credits paid back duly \n",
    "2. *A31*: all credits at this bank paid back duly \n",
    "3. *A32*: existing credits paid back duly till now \n",
    "4. *A33*: delay in paying off in the past \n",
    "5. *A34* : critical account/ other credits existing (not at this bank)"
   ]
  },
  {
   "cell_type": "code",
   "execution_count": 24,
   "metadata": {},
   "outputs": [
    {
     "data": {
      "image/png": "[encoded data removed]",
      "text/plain": [
       "<Figure size 432x288 with 2 Axes>"
      ]
     },
     "metadata": {
      "needs_background": "light"
     },
     "output_type": "display_data"
    }
   ],
   "source": [
    "plot_countplot('credit_history', 370)"
   ]
  },
  {
   "cell_type": "code",
   "execution_count": 25,
   "metadata": {},
   "outputs": [
    {
     "data": {
      "text/plain": [
       "credit_history\n",
       "A30    0.375000\n",
       "A31    0.428571\n",
       "A32    0.681132\n",
       "A33    0.681818\n",
       "A34    0.829352\n",
       "Name: customer_type, dtype: float64"
      ]
     },
     "execution_count": 25,
     "metadata": {},
     "output_type": "execute_result"
    }
   ],
   "source": [
    "cal_mean_val('credit_history')"
   ]
  },
  {
   "cell_type": "markdown",
   "metadata": {},
   "source": [
    "### Checking account status\n",
    "\n",
    "#### Conclusions\n",
    "1. Clients who didn't possess a checking account, or had significant salary assigned to it were most likely to pay the credit.\n",
    "2. Probability of paying credit or not was most likely even for clients with < 200 DM"
   ]
  },
  {
   "cell_type": "markdown",
   "metadata": {},
   "source": [
    "1. *A14*: no checking account  \n",
    "2. *A11*: < 0 DM  \n",
    "3. *A12*: 0 <= x < 200 DM  \n",
    "4. *A13*: >= 200 DM   \n",
    "\n",
    "**salary assignments for at least 1 year**"
   ]
  },
  {
   "cell_type": "code",
   "execution_count": 26,
   "metadata": {},
   "outputs": [
    {
     "data": {
      "image/png": "[encoded data removed]",
      "text/plain": [
       "<Figure size 432x288 with 2 Axes>"
      ]
     },
     "metadata": {
      "needs_background": "light"
     },
     "output_type": "display_data"
    }
   ],
   "source": [
    "plot_countplot('checking_account_status', 380)"
   ]
  },
  {
   "cell_type": "code",
   "execution_count": 27,
   "metadata": {},
   "outputs": [
    {
     "data": {
      "text/plain": [
       "checking_account_status\n",
       "A11    0.507299\n",
       "A12    0.609665\n",
       "A13    0.777778\n",
       "A14    0.883249\n",
       "Name: customer_type, dtype: float64"
      ]
     },
     "execution_count": 27,
     "metadata": {},
     "output_type": "execute_result"
    }
   ],
   "source": [
    "cal_mean_val('checking_account_status')"
   ]
  },
  {
   "cell_type": "markdown",
   "metadata": {},
   "source": [
    "### Purpose\n",
    "\n",
    "#### Conclusions\n",
    "1. What's interesting used car credit was much more likely to be paid than new car credit.\n",
    "2. 'Others' least likely to get paid(hard to tell the reason)\n",
    "3. Business, education less likely to get paid(maybe struggles of beginning a new life?)"
   ]
  },
  {
   "cell_type": "code",
   "execution_count": 28,
   "metadata": {
    "scrolled": true
   },
   "outputs": [
    {
     "data": {
      "image/png": "[encoded data removed]",
      "text/plain": [
       "<Figure size 432x288 with 2 Axes>"
      ]
     },
     "metadata": {
      "needs_background": "light"
     },
     "output_type": "display_data"
    }
   ],
   "source": [
    "col_name='purpose'\n",
    "fig, ax =plt.subplots(2,1)\n",
    "sns.countplot(y=col_name, data=data[data.customer_type==0], order=data[col_name].value_counts().index, ax=ax[0])\n",
    "sns.countplot(y=col_name, data=data[data.customer_type==1], order=data[col_name].value_counts().index, ax=ax[1])\n",
    "fig.show()\n",
    "plt.title(col_name + \" (No/Yes)\")\n",
    "plt.show()"
   ]
  },
  {
   "cell_type": "code",
   "execution_count": 29,
   "metadata": {
    "scrolled": true
   },
   "outputs": [
    {
     "data": {
      "text/plain": [
       "purpose\n",
       "business               0.649485\n",
       "domestic appliances    0.666667\n",
       "education              0.560000\n",
       "furniture/equipment    0.679558\n",
       "new car                0.619658\n",
       "others                 0.583333\n",
       "radio/television       0.778571\n",
       "repairs                0.636364\n",
       "retraining             0.888889\n",
       "used car               0.834951\n",
       "Name: customer_type, dtype: float64"
      ]
     },
     "execution_count": 29,
     "metadata": {},
     "output_type": "execute_result"
    }
   ],
   "source": [
    "cal_mean_val('purpose')"
   ]
  },
  {
   "cell_type": "markdown",
   "metadata": {},
   "source": [
    "### Savings\n",
    "\n",
    "#### Conclusions\n",
    "1. The wealthier the client the probability of paying the credit is higher.\n",
    "2. Also clients with unknown savings were most likely to pay it."
   ]
  },
  {
   "cell_type": "markdown",
   "metadata": {},
   "source": [
    "1. *A61*: < 100 DM  \n",
    "2. *A62*: 100 <= x < 500 DM  \n",
    "3. *A63*: 500 <= x < 1000 DM  \n",
    "4. *A64*: >= 1000 DM  \n",
    "5. *A65*: unknown/ no savings account"
   ]
  },
  {
   "cell_type": "code",
   "execution_count": 30,
   "metadata": {},
   "outputs": [
    {
     "data": {
      "image/png": "[encoded data removed]",
      "text/plain": [
       "<Figure size 432x288 with 2 Axes>"
      ]
     },
     "metadata": {
      "needs_background": "light"
     },
     "output_type": "display_data"
    }
   ],
   "source": [
    "plot_countplot('savings', 400)"
   ]
  },
  {
   "cell_type": "code",
   "execution_count": 31,
   "metadata": {},
   "outputs": [
    {
     "data": {
      "text/plain": [
       "savings\n",
       "A61    0.640133\n",
       "A62    0.669903\n",
       "A63    0.825397\n",
       "A64    0.875000\n",
       "A65    0.825137\n",
       "Name: customer_type, dtype: float64"
      ]
     },
     "execution_count": 31,
     "metadata": {},
     "output_type": "execute_result"
    }
   ],
   "source": [
    "cal_mean_val('savings')"
   ]
  },
  {
   "cell_type": "markdown",
   "metadata": {},
   "source": [
    "### Present employment\n",
    "\n",
    "#### Conclusions\n",
    "1. What is installment rate exactly?"
   ]
  },
  {
   "cell_type": "markdown",
   "metadata": {},
   "source": [
    "1. *A71*: unemployed  \n",
    "2. *A72*: < 1 year  \n",
    "3. *A73*: 1 <= x < 4 years  \n",
    "4. *A74*: 4 <= x < 7 years  \n",
    "5. *A75*: .. >= 7 years"
   ]
  },
  {
   "cell_type": "code",
   "execution_count": 32,
   "metadata": {
    "scrolled": true
   },
   "outputs": [
    {
     "data": {
      "image/png": "[encoded data removed]",
      "text/plain": [
       "<Figure size 432x288 with 2 Axes>"
      ]
     },
     "metadata": {
      "needs_background": "light"
     },
     "output_type": "display_data"
    }
   ],
   "source": [
    "plot_countplot('present_employment', 250)"
   ]
  },
  {
   "cell_type": "code",
   "execution_count": 33,
   "metadata": {},
   "outputs": [
    {
     "data": {
      "text/plain": [
       "present_employment\n",
       "A71    0.629032\n",
       "A72    0.593023\n",
       "A73    0.693215\n",
       "A74    0.775862\n",
       "A75    0.747036\n",
       "Name: customer_type, dtype: float64"
      ]
     },
     "execution_count": 33,
     "metadata": {},
     "output_type": "execute_result"
    }
   ],
   "source": [
    "cal_mean_val('present_employment')"
   ]
  },
  {
   "cell_type": "markdown",
   "metadata": {},
   "source": [
    "### Installment rate\n"
   ]
  },
  {
   "cell_type": "code",
   "execution_count": 34,
   "metadata": {
    "scrolled": false
   },
   "outputs": [
    {
     "data": {
      "image/png": "[encoded data removed]",
      "text/plain": [
       "<Figure size 432x288 with 2 Axes>"
      ]
     },
     "metadata": {
      "needs_background": "light"
     },
     "output_type": "display_data"
    }
   ],
   "source": [
    "plot_countplot('installment_rate', 330)"
   ]
  },
  {
   "cell_type": "code",
   "execution_count": 35,
   "metadata": {
    "scrolled": true
   },
   "outputs": [
    {
     "data": {
      "text/plain": [
       "installment_rate\n",
       "1.0    0.750000\n",
       "2.0    0.731602\n",
       "3.0    0.713376\n",
       "4.0    0.665966\n",
       "Name: customer_type, dtype: float64"
      ]
     },
     "execution_count": 35,
     "metadata": {},
     "output_type": "execute_result"
    }
   ],
   "source": [
    "cal_mean_val('installment_rate')"
   ]
  },
  {
   "cell_type": "markdown",
   "metadata": {},
   "source": [
    "### Other debtors\n",
    "\n",
    "#### Conclusions\n",
    "1. Better clients had a guarantor, worse had a co-applicant"
   ]
  },
  {
   "cell_type": "code",
   "execution_count": 36,
   "metadata": {
    "scrolled": true
   },
   "outputs": [
    {
     "data": {
      "image/png": "[encoded data removed]",
      "text/plain": [
       "<Figure size 432x288 with 2 Axes>"
      ]
     },
     "metadata": {
      "needs_background": "light"
     },
     "output_type": "display_data"
    }
   ],
   "source": [
    "plot_countplot('other_debtors', 700)"
   ]
  },
  {
   "cell_type": "code",
   "execution_count": 37,
   "metadata": {
    "scrolled": true
   },
   "outputs": [
    {
     "data": {
      "text/plain": [
       "other_debtors\n",
       "co-applicant    0.560976\n",
       "guarantor       0.807692\n",
       "none            0.700110\n",
       "Name: customer_type, dtype: float64"
      ]
     },
     "execution_count": 37,
     "metadata": {},
     "output_type": "execute_result"
    }
   ],
   "source": [
    "cal_mean_val('other_debtors')"
   ]
  },
  {
   "cell_type": "markdown",
   "metadata": {},
   "source": [
    "### Property\n",
    "\n",
    "#### Conclusions\n",
    "\n",
    "People pay duly if they have a property"
   ]
  },
  {
   "cell_type": "markdown",
   "metadata": {},
   "source": [
    "1. *A121*: real estate\n",
    "2. *A122*: if not A121: building society savings agreement/ life insurance\n",
    "3. *A123*: if not A121/A122 : car or other, not in attribute 6\n",
    "4. *A124*: unknown / no property"
   ]
  },
  {
   "cell_type": "code",
   "execution_count": 38,
   "metadata": {},
   "outputs": [
    {
     "data": {
      "image/png": "[encoded data removed]",
      "text/plain": [
       "<Figure size 432x288 with 2 Axes>"
      ]
     },
     "metadata": {
      "needs_background": "light"
     },
     "output_type": "display_data"
    }
   ],
   "source": [
    "plot_countplot('property', 250)"
   ]
  },
  {
   "cell_type": "code",
   "execution_count": 39,
   "metadata": {
    "scrolled": true
   },
   "outputs": [
    {
     "data": {
      "text/plain": [
       "property\n",
       "A121    0.787234\n",
       "A122    0.693966\n",
       "A123    0.692771\n",
       "A124    0.564935\n",
       "Name: customer_type, dtype: float64"
      ]
     },
     "execution_count": 39,
     "metadata": {},
     "output_type": "execute_result"
    }
   ],
   "source": [
    "cal_mean_val('property')"
   ]
  },
  {
   "cell_type": "markdown",
   "metadata": {},
   "source": [
    "### Foreign worker\n",
    "\n"
   ]
  },
  {
   "cell_type": "code",
   "execution_count": 40,
   "metadata": {},
   "outputs": [
    {
     "data": {
      "image/png": "[encoded data removed]",
      "text/plain": [
       "<Figure size 432x288 with 2 Axes>"
      ]
     },
     "metadata": {
      "needs_background": "light"
     },
     "output_type": "display_data"
    }
   ],
   "source": [
    "plot_countplot('foreign_worker', 680)"
   ]
  },
  {
   "cell_type": "code",
   "execution_count": 41,
   "metadata": {},
   "outputs": [
    {
     "data": {
      "text/plain": [
       "foreign_worker\n",
       "0    0.891892\n",
       "1    0.692627\n",
       "Name: customer_type, dtype: float64"
      ]
     },
     "execution_count": 41,
     "metadata": {},
     "output_type": "execute_result"
    }
   ],
   "source": [
    "cal_mean_val('foreign_worker')"
   ]
  },
  {
   "cell_type": "markdown",
   "metadata": {},
   "source": [
    "### Other installment plans"
   ]
  },
  {
   "cell_type": "code",
   "execution_count": 42,
   "metadata": {},
   "outputs": [
    {
     "data": {
      "image/png": "[encoded data removed]",
      "text/plain": [
       "<Figure size 432x288 with 2 Axes>"
      ]
     },
     "metadata": {
      "needs_background": "light"
     },
     "output_type": "display_data"
    }
   ],
   "source": [
    "plot_countplot('other_installment_plans', 600)"
   ]
  },
  {
   "cell_type": "code",
   "execution_count": 43,
   "metadata": {},
   "outputs": [
    {
     "data": {
      "text/plain": [
       "other_installment_plans\n",
       "bank      0.589928\n",
       "none      0.724816\n",
       "stores    0.595745\n",
       "Name: customer_type, dtype: float64"
      ]
     },
     "execution_count": 43,
     "metadata": {},
     "output_type": "execute_result"
    }
   ],
   "source": [
    "cal_mean_val('other_installment_plans')"
   ]
  },
  {
   "cell_type": "markdown",
   "metadata": {},
   "source": [
    "### Housing\n",
    "\n",
    "#### Conclusion\n",
    "1. People, who have own house is more cases pay credit"
   ]
  },
  {
   "cell_type": "code",
   "execution_count": 44,
   "metadata": {
    "scrolled": true
   },
   "outputs": [
    {
     "data": {
      "image/png": "[encoded data removed]",
      "text/plain": [
       "<Figure size 432x288 with 2 Axes>"
      ]
     },
     "metadata": {
      "needs_background": "light"
     },
     "output_type": "display_data"
    }
   ],
   "source": [
    "plot_countplot('housing', 550)"
   ]
  },
  {
   "cell_type": "code",
   "execution_count": 45,
   "metadata": {},
   "outputs": [
    {
     "data": {
      "text/plain": [
       "housing\n",
       "free    0.592593\n",
       "own     0.739130\n",
       "rent    0.608939\n",
       "Name: customer_type, dtype: float64"
      ]
     },
     "execution_count": 45,
     "metadata": {},
     "output_type": "execute_result"
    }
   ],
   "source": [
    "cal_mean_val('housing')"
   ]
  },
  {
   "cell_type": "markdown",
   "metadata": {},
   "source": [
    "### Jobs\n",
    "\n",
    "#### Conclusions\n",
    "1. Nothing special"
   ]
  },
  {
   "cell_type": "code",
   "execution_count": 46,
   "metadata": {},
   "outputs": [
    {
     "data": {
      "image/png": "[encoded data removed]",
      "text/plain": [
       "<Figure size 432x288 with 2 Axes>"
      ]
     },
     "metadata": {
      "needs_background": "light"
     },
     "output_type": "display_data"
    }
   ],
   "source": [
    "plot_countplot('job', 450)"
   ]
  },
  {
   "cell_type": "code",
   "execution_count": 47,
   "metadata": {},
   "outputs": [
    {
     "data": {
      "text/plain": [
       "job\n",
       "management/self-employed    0.655405\n",
       "skilled_employee            0.704762\n",
       "unemployed/unskilled        0.681818\n",
       "unskilled-resident          0.720000\n",
       "Name: customer_type, dtype: float64"
      ]
     },
     "execution_count": 47,
     "metadata": {},
     "output_type": "execute_result"
    }
   ],
   "source": [
    "cal_mean_val('job')"
   ]
  },
  {
   "cell_type": "markdown",
   "metadata": {},
   "source": [
    "### Exisitng credits \n",
    "\n",
    "number of existing credits at this bank\n",
    "\n",
    "#### Conclusions\n",
    "1. Nothing special"
   ]
  },
  {
   "cell_type": "code",
   "execution_count": 48,
   "metadata": {},
   "outputs": [
    {
     "data": {
      "image/png": "[encoded data removed]",
      "text/plain": [
       "<Figure size 432x288 with 2 Axes>"
      ]
     },
     "metadata": {
      "needs_background": "light"
     },
     "output_type": "display_data"
    }
   ],
   "source": [
    "plot_countplot('existing_credits', 450)"
   ]
  },
  {
   "cell_type": "code",
   "execution_count": 49,
   "metadata": {},
   "outputs": [
    {
     "data": {
      "text/plain": [
       "existing_credits\n",
       "1.0    0.684044\n",
       "2.0    0.723724\n",
       "3.0    0.785714\n",
       "4.0    0.666667\n",
       "Name: customer_type, dtype: float64"
      ]
     },
     "execution_count": 49,
     "metadata": {},
     "output_type": "execute_result"
    }
   ],
   "source": [
    "cal_mean_val('existing_credits')"
   ]
  },
  {
   "cell_type": "markdown",
   "metadata": {},
   "source": [
    "### Dependents\n",
    "\n",
    "#### Conclusions\n",
    "1. Nothing special"
   ]
  },
  {
   "cell_type": "code",
   "execution_count": 50,
   "metadata": {
    "scrolled": true
   },
   "outputs": [
    {
     "data": {
      "image/png": "[encoded data removed]",
      "text/plain": [
       "<Figure size 432x288 with 2 Axes>"
      ]
     },
     "metadata": {
      "needs_background": "light"
     },
     "output_type": "display_data"
    }
   ],
   "source": [
    "plot_countplot('dependents', 600)"
   ]
  },
  {
   "cell_type": "code",
   "execution_count": 51,
   "metadata": {},
   "outputs": [
    {
     "data": {
      "text/plain": [
       "dependents\n",
       "1    0.699408\n",
       "2    0.703226\n",
       "Name: customer_type, dtype: float64"
      ]
     },
     "execution_count": 51,
     "metadata": {},
     "output_type": "execute_result"
    }
   ],
   "source": [
    "cal_mean_val('dependents')"
   ]
  },
  {
   "cell_type": "markdown",
   "metadata": {},
   "source": [
    "### Telephone\n",
    "\n",
    "#### Conclusions\n",
    "1. Nothing special"
   ]
  },
  {
   "cell_type": "code",
   "execution_count": 52,
   "metadata": {},
   "outputs": [
    {
     "data": {
      "image/png": "[encoded data removed]",
      "text/plain": [
       "<Figure size 432x288 with 2 Axes>"
      ]
     },
     "metadata": {
      "needs_background": "light"
     },
     "output_type": "display_data"
    }
   ],
   "source": [
    "plot_countplot('telephone', 420)"
   ]
  },
  {
   "cell_type": "code",
   "execution_count": 53,
   "metadata": {
    "scrolled": true
   },
   "outputs": [
    {
     "data": {
      "text/plain": [
       "telephone\n",
       "0    0.686242\n",
       "1    0.720297\n",
       "Name: customer_type, dtype: float64"
      ]
     },
     "execution_count": 53,
     "metadata": {},
     "output_type": "execute_result"
    }
   ],
   "source": [
    "cal_mean_val('telephone')"
   ]
  },
  {
   "cell_type": "markdown",
   "metadata": {},
   "source": [
    "### Present residence \n",
    "\n",
    "#### Conclusion\n",
    "Nothing special"
   ]
  },
  {
   "cell_type": "code",
   "execution_count": 54,
   "metadata": {
    "scrolled": true
   },
   "outputs": [
    {
     "data": {
      "image/png": "[encoded data removed]",
      "text/plain": [
       "<Figure size 432x288 with 2 Axes>"
      ]
     },
     "metadata": {
      "needs_background": "light"
     },
     "output_type": "display_data"
    }
   ],
   "source": [
    "plot_countplot('present_residence', 300)"
   ]
  },
  {
   "cell_type": "code",
   "execution_count": 55,
   "metadata": {},
   "outputs": [
    {
     "data": {
      "text/plain": [
       "present_residence\n",
       "1.0    0.723077\n",
       "2.0    0.685065\n",
       "3.0    0.711409\n",
       "4.0    0.699758\n",
       "Name: customer_type, dtype: float64"
      ]
     },
     "execution_count": 55,
     "metadata": {},
     "output_type": "execute_result"
    }
   ],
   "source": [
    "cal_mean_val('present_residence')"
   ]
  }
 ],
 "metadata": {
  "kernelspec": {
   "display_name": "Python 3",
   "language": "python",
   "name": "python3"
  },
  "language_info": {
   "codemirror_mode": {
    "name": "ipython",
    "version": 3
   },
   "file_extension": ".py",
   "mimetype": "text/x-python",
   "name": "python",
   "nbconvert_exporter": "python",
   "pygments_lexer": "ipython3",
   "version": "3.6.5"
  }
 },
 "nbformat": 4,
 "nbformat_minor": 2
}
