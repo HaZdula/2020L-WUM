{
 "cells": [
  {
   "cell_type": "code",
   "execution_count": 146,
   "metadata": {},
   "outputs": [],
   "source": [
    "import pandas as pd\n",
    "import numpy as np\n",
    "from sklearn.preprocessing import StandardScaler, MinMaxScaler\n",
    "dane = pd.read_csv('cervical-cancer_csv.csv')\n",
    "\n",
    "# usuwanie kolumn\n",
    "\n",
    "dane = dane.drop(['STDs:cervical condylomatosis', \n",
    "         'STDs:vaginal condylomatosis', \n",
    "         'STDs:pelvic inflammatory disease', \n",
    "         'STDs:genital herpes',\n",
    "         'STDs:molluscum contagiosum',\n",
    "         'STDs:AIDS',\n",
    "         'STDs:Hepatitis B',\n",
    "         'STDs:HPV', 'Dx:CIN'], axis=1)\n",
    "\n",
    "# uzupełnianie braków i kodowanie zmiennych kategorycznych\n",
    "def column_nodata(df, column_name):\n",
    "    df[column_name + \"_null\"] = df[column_name].apply(lambda x: 1 if pd.isnull(x) else 0)\n",
    "    df[column_name] = df[column_name].fillna(0)\n",
    "\n",
    "def replace_in_column(df, column_name, src, dst):\n",
    "    df[column_name] = df[column_name].replace(to_replace=src, value=dst)\n",
    "\n",
    "replace_in_column(dane, 'STDs (number)', [3, 4], 2)\n",
    "replace_in_column(dane, 'STDs: Number of diagnosis', [2,3], 1)\n",
    "\n",
    "nodata_categories = [\n",
    "    'Smokes',\n",
    "    'Hormonal Contraceptives',\n",
    "    'IUD',\n",
    "    'STDs',\n",
    "    'STDs (number)',\n",
    "    'STDs:condylomatosis',\n",
    "    'STDs:vulvo-perineal condylomatosis',\n",
    "    'STDs:syphilis',\n",
    "    'STDs:HIV'\n",
    "]\n",
    "\n",
    "for category in nodata_categories:\n",
    "    column_nodata(dane, category)\n",
    "    \n",
    "dane = pd.concat([dane, pd.get_dummies(dane['STDs (number)'], prefix='STDs_')],axis=1)\n",
    "dane.drop(['STDs (number)'],axis=1, inplace=True)\n",
    "\n",
    "# standaryzacja\n",
    "numerical = ['Age', 'Number of sexual partners', 'First sexual intercourse', 'Num of pregnancies', 'Smokes (years)', \n",
    "            'Smokes (packs/year)', 'Hormonal Contraceptives (years)', 'IUD (years)', 'STDs: Time since first diagnosis',\n",
    "            'STDs: Time since last diagnosis']\n",
    "\n",
    "scaler = MinMaxScaler() #MinMaxScaler\n",
    "dane_scaled = scaler.fit_transform(dane[numerical])\n",
    "d2 = pd.DataFrame(dane_scaled, columns = numerical)\n",
    "dane[numerical] = d2[numerical]\n",
    "\n",
    "# stworzenie jednego targetu\n",
    "targets = ['Hinselmann', 'Schiller', 'Citology', 'Biopsy']\n",
    "def has_cancer(row):\n",
    "    for target in targets:\n",
    "        if row[target] == 1:\n",
    "            return 1\n",
    "    return 0\n",
    "\n",
    "dane['cancer'] = dane.apply(lambda row: has_cancer(row), axis=1)\n",
    "dane = dane.drop(targets, axis=1)"
   ]
  },
  {
   "cell_type": "code",
   "execution_count": 128,
   "metadata": {},
   "outputs": [],
   "source": [
    "from sklearn.model_selection import train_test_split\n",
    "from sklearn.metrics import accuracy_score\n",
    "from sklearn.metrics import precision_score\n",
    "from sklearn.metrics import recall_score\n",
    "from sklearn.metrics import f1_score\n",
    "from sklearn.metrics import roc_auc_score\n",
    "\n",
    "# podzial zbioru na treningowy i testowy\n",
    "def default_split(X, y):\n",
    "    return train_test_split(X, y, test_size=0.2, random_state=2137)\n",
    "\n",
    "# scoring\n",
    "def scoring(y_test, y_predicted):\n",
    "    print(\"ACC = \", accuracy_score(y_test, y_predicted))\n",
    "    print(\"PREC = \", precision_score(y_test, y_predicted))\n",
    "    print(\"RECALL = \", recall_score(y_test, y_predicted))\n",
    "    print(\"F1 = \", f1_score(y_test, y_predicted))\n",
    "    print(\"FPR = \", roc_auc_score(y_test, y_predicted))\n",
    "\n",
    "# wyodrebnienie y\n",
    "def extract_y(data):\n",
    "    y = data[[\"cancer\"]]\n",
    "    return data.drop([\"cancer\"], axis=1), y"
   ]
  },
  {
   "cell_type": "code",
   "execution_count": 147,
   "metadata": {},
   "outputs": [],
   "source": [
    "# przygotowanie danych\n",
    "X, y = extract_y(dane)\n",
    "\n",
    "X = X.fillna(0)\n",
    "\n",
    "X_train, X_test, y_train, y_test = default_split(X, y)"
   ]
  },
  {
   "cell_type": "code",
   "execution_count": 130,
   "metadata": {},
   "outputs": [
    {
     "name": "stdout",
     "output_type": "stream",
     "text": [
      "ACC =  0.8323353293413174\n",
      "PREC =  0.2727272727272727\n",
      "RECALL =  0.13043478260869565\n",
      "F1 =  0.1764705882352941\n",
      "FPR =  0.53743961352657\n"
     ]
    }
   ],
   "source": [
    "from xgboost import XGBClassifier\n",
    "model = XGBClassifier(random_state=2137, missing=np.nan)\n",
    "model.fit(X_train, y_train.values.ravel())\n",
    "y_predicted = model.predict(X_test)\n",
    "scoring(y_test, y_predicted)"
   ]
  },
  {
   "cell_type": "code",
   "execution_count": 132,
   "metadata": {},
   "outputs": [
    {
     "name": "stdout",
     "output_type": "stream",
     "text": [
      "Score: 0.628956440931696\n"
     ]
    },
    {
     "name": "stderr",
     "output_type": "stream",
     "text": [
      "/home/anna/anaconda3/lib/python3.7/site-packages/sklearn/model_selection/_search.py:814: DeprecationWarning: The default of the `iid` parameter will change from True to False in version 0.22 and will be removed in 0.24. This will change numeric results when test-set sizes are unequal.\n",
      "  DeprecationWarning)\n"
     ]
    },
    {
     "data": {
      "text/plain": [
       "{'booster': 'gbtree', 'learning_rate': 0.4, 'max_depth': 20}"
      ]
     },
     "execution_count": 132,
     "metadata": {},
     "output_type": "execute_result"
    }
   ],
   "source": [
    "from sklearn.model_selection import GridSearchCV\n",
    "\n",
    "params = {\n",
    "    'max_depth': np.arange(5, 50, 5),\n",
    "    'learning_rate': np.arange(0.1, 2, 0.3),\n",
    "    'booster': ['gbtree', 'gblinear', 'dart'],\n",
    "}\n",
    "\n",
    "\n",
    "grid = GridSearchCV(model, params, error_score='raise', cv=5, scoring='roc_auc')\n",
    "grid.fit(X_train, y_train.values.ravel())\n",
    "\n",
    "print(f\"Score: {grid.best_score_}\")\n",
    "grid.best_params_"
   ]
  },
  {
   "cell_type": "code",
   "execution_count": 133,
   "metadata": {},
   "outputs": [
    {
     "name": "stdout",
     "output_type": "stream",
     "text": [
      "ACC =  0.8203592814371258\n",
      "PREC =  0.1111111111111111\n",
      "RECALL =  0.043478260869565216\n",
      "F1 =  0.0625\n",
      "FPR =  0.4939613526570048\n"
     ]
    }
   ],
   "source": [
    "model = XGBClassifier(random_state=2137, booster='gbtree', learning_rate=0.4, max_depth=20)\n",
    "model.fit(X_train, y_train.values.ravel())\n",
    "y_predicted = model.predict(X_test)\n",
    "scoring(y_test, y_predicted)"
   ]
  },
  {
   "cell_type": "code",
   "execution_count": 134,
   "metadata": {},
   "outputs": [
    {
     "name": "stdout",
     "output_type": "stream",
     "text": [
      "Score: 0.6179271224500152\n"
     ]
    },
    {
     "data": {
      "text/plain": [
       "{'max_depth': 25, 'learning_rate': 0.05}"
      ]
     },
     "execution_count": 134,
     "metadata": {},
     "output_type": "execute_result"
    }
   ],
   "source": [
    "from sklearn.model_selection import RandomizedSearchCV\n",
    "\n",
    "params = {\n",
    "    'max_depth': np.arange(5, 50, 5),\n",
    "    'learning_rate': np.arange(0.01, 0.2, 0.01),\n",
    "}\n",
    "\n",
    "model = XGBClassifier(random_state=2137, booster='gbtree')\n",
    "grid = RandomizedSearchCV(model, params, error_score='raise', cv=5, scoring='roc_auc')\n",
    "grid.fit(X_train, y_train.values.ravel())\n",
    "\n",
    "print(f\"Score: {grid.best_score_}\")\n",
    "grid.best_params_"
   ]
  },
  {
   "cell_type": "code",
   "execution_count": 148,
   "metadata": {},
   "outputs": [
    {
     "name": "stdout",
     "output_type": "stream",
     "text": [
      "ACC =  0.9940119760479041\n",
      "PREC =  1.0\n",
      "RECALL =  0.9487179487179487\n",
      "F1 =  0.9736842105263158\n",
      "FPR =  0.9743589743589743\n",
      "\n",
      "ACC =  0.8383233532934131\n",
      "PREC =  0.375\n",
      "RECALL =  0.2608695652173913\n",
      "F1 =  0.30769230769230765\n",
      "FPR =  0.5957125603864735\n"
     ]
    }
   ],
   "source": [
    "model = XGBClassifier(random_state=2137, booster='gbtree', learning_rate=0.5, max_depth=7, gamma=0.001)\n",
    "#model = XGBClassifier(random_state=2137, booster='gbtree', learning_rate=0.05, max_depth=25)\n",
    "model.fit(X_train, y_train.values.ravel())\n",
    "y_predicted = model.predict(X_train)\n",
    "scoring(y_train, y_predicted)\n",
    "print(\"\")\n",
    "y_predicted = model.predict(X_test)\n",
    "scoring(y_test, y_predicted)"
   ]
  },
  {
   "cell_type": "code",
   "execution_count": 122,
   "metadata": {},
   "outputs": [
    {
     "name": "stdout",
     "output_type": "stream",
     "text": [
      "Score: 0.6225687924997464\n"
     ]
    },
    {
     "name": "stderr",
     "output_type": "stream",
     "text": [
      "/home/anna/anaconda3/lib/python3.7/site-packages/sklearn/model_selection/_search.py:814: DeprecationWarning: The default of the `iid` parameter will change from True to False in version 0.22 and will be removed in 0.24. This will change numeric results when test-set sizes are unequal.\n",
      "  DeprecationWarning)\n"
     ]
    },
    {
     "data": {
      "text/plain": [
       "{'gamma': 0.08}"
      ]
     },
     "execution_count": 122,
     "metadata": {},
     "output_type": "execute_result"
    }
   ],
   "source": [
    "from sklearn.model_selection import RandomizedSearchCV\n",
    "\n",
    "params = {\n",
    "    'gamma': np.arange(0.01, 0.5, 0.01),\n",
    "}\n",
    "\n",
    "model = XGBClassifier(random_state=2137, booster='gbtree', learning_rate=0.5, max_depth=7)\n",
    "grid = RandomizedSearchCV(model, params, error_score='raise', cv=5, scoring='roc_auc')\n",
    "grid.fit(X_train, y_train.values.ravel())\n",
    "\n",
    "print(f\"Score: {grid.best_score_}\")\n",
    "grid.best_params_"
   ]
  }
 ],
 "metadata": {
  "kernelspec": {
   "display_name": "Python 3",
   "language": "python",
   "name": "python3"
  },
  "language_info": {
   "codemirror_mode": {
    "name": "ipython",
    "version": 3
   },
   "file_extension": ".py",
   "mimetype": "text/x-python",
   "name": "python",
   "nbconvert_exporter": "python",
   "pygments_lexer": "ipython3",
   "version": "3.7.4"
  }
 },
 "nbformat": 4,
 "nbformat_minor": 2
}
