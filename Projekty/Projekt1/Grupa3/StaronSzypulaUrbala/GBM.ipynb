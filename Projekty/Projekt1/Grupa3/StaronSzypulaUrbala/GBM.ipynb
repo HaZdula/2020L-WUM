{
 "cells": [
  {
   "cell_type": "code",
   "execution_count": 1,
   "metadata": {},
   "outputs": [],
   "source": [
    "import pandas as pd\n",
    "import numpy as np\n",
    "import warnings\n",
    "warnings.filterwarnings('ignore')\n",
    "from sklearn.preprocessing import StandardScaler\n",
    "dane = pd.read_csv('cervical-cancer_csv.csv')\n",
    "\n",
    "# usuwanie kolumn\n",
    "dane = dane.drop(['STDs:cervical condylomatosis', \n",
    "         'STDs:vaginal condylomatosis', \n",
    "         'STDs:pelvic inflammatory disease', \n",
    "         'STDs:genital herpes',\n",
    "         'STDs:molluscum contagiosum',\n",
    "         'STDs:AIDS',\n",
    "         'STDs:Hepatitis B',\n",
    "         'STDs:HPV', 'Dx:CIN'], axis=1)\n",
    "\n",
    "# uzupełnianie braków i kodowanie zmiennych kategorycznych\n",
    "def column_nodata(df, column_name):\n",
    "    df[column_name + \"_null\"] = df[column_name].apply(lambda x: 1 if pd.isnull(x) else 0)\n",
    "    df[column_name] = df[column_name].fillna(0)\n",
    "\n",
    "def replace_in_column(df, column_name, src, dst):\n",
    "    df[column_name] = df[column_name].replace(to_replace=src, value=dst)\n",
    "\n",
    "replace_in_column(dane, 'STDs (number)', [3, 4], 2)\n",
    "replace_in_column(dane, 'STDs: Number of diagnosis', [2,3], 1)\n",
    "\n",
    "nodata_categories = [\n",
    "    'Smokes',\n",
    "    'Hormonal Contraceptives',\n",
    "    'IUD',\n",
    "    'STDs',\n",
    "    'STDs (number)',\n",
    "    'STDs:condylomatosis',\n",
    "    'STDs:vulvo-perineal condylomatosis',\n",
    "    'STDs:syphilis',\n",
    "    'STDs:HIV'\n",
    "]\n",
    "\n",
    "for category in nodata_categories:\n",
    "    column_nodata(dane, category)\n",
    "    \n",
    "dane = pd.concat([dane, pd.get_dummies(dane['STDs (number)'], prefix='STDs_')],axis=1)\n",
    "dane.drop(['STDs (number)'],axis=1, inplace=True)\n",
    "\n",
    "# standaryzacja\n",
    "numerical = ['Age', 'Number of sexual partners', 'First sexual intercourse', 'Num of pregnancies', 'Smokes (years)', \n",
    "            'Smokes (packs/year)', 'Hormonal Contraceptives (years)', 'IUD (years)', 'STDs: Time since first diagnosis',\n",
    "            'STDs: Time since last diagnosis']\n",
    "\n",
    "scaler = StandardScaler() \n",
    "dane_scaled = scaler.fit_transform(dane[numerical])\n",
    "d2 = pd.DataFrame(dane_scaled, columns = numerical)\n",
    "dane[numerical] = d2[numerical]\n",
    "\n",
    "# stworzenie jednego targetu\n",
    "targets = ['Hinselmann', 'Schiller', 'Citology', 'Biopsy']\n",
    "def has_cancer(row):\n",
    "    for target in targets:\n",
    "        if row[target] == 1:\n",
    "            return 1\n",
    "    return 0\n",
    "\n",
    "dane['cancer'] = dane.apply(lambda row: has_cancer(row), axis=1)\n",
    "dane = dane.drop(targets, axis=1)"
   ]
  },
  {
   "cell_type": "code",
   "execution_count": 2,
   "metadata": {},
   "outputs": [],
   "source": [
    "from sklearn.model_selection import train_test_split\n",
    "from sklearn.metrics import accuracy_score\n",
    "from sklearn.metrics import precision_score\n",
    "from sklearn.metrics import recall_score\n",
    "from sklearn.metrics import f1_score\n",
    "from sklearn.metrics import roc_auc_score\n",
    "\n",
    "# podzial zbioru na treningowy i testowy\n",
    "def default_split(X, y):\n",
    "    return train_test_split(X, y, test_size=0.2, random_state=2137)\n",
    "\n",
    "# scoring\n",
    "def scoring(y_test, y_predicted):\n",
    "    print(\"ACC = \", accuracy_score(y_test, y_predicted))\n",
    "    print(\"PREC = \", precision_score(y_test, y_predicted))\n",
    "    print(\"RECALL = \", recall_score(y_test, y_predicted))\n",
    "    print(\"F1 = \", f1_score(y_test, y_predicted))\n",
    "    print(\"FPR = \", roc_auc_score(y_test, y_predicted))\n",
    "\n",
    "# wyodrebnienie y\n",
    "def extract_y(data):\n",
    "    y = data[[\"cancer\"]]\n",
    "    return data.drop([\"cancer\"], axis=1), y"
   ]
  },
  {
   "cell_type": "markdown",
   "metadata": {},
   "source": [
    "# GBM\n"
   ]
  },
  {
   "cell_type": "code",
   "execution_count": 3,
   "metadata": {},
   "outputs": [
    {
     "name": "stdout",
     "output_type": "stream",
     "text": [
      "(835, 34) (668, 34) (167, 34)\n"
     ]
    }
   ],
   "source": [
    "# przygotowanie danych\n",
    "X, y = extract_y(dane)\n",
    "X = X.fillna(0)\n",
    "\n",
    "X_train, X_test, y_train, y_test = default_split(X, y)\n",
    "print(X.shape, X_train.shape, X_test.shape)"
   ]
  },
  {
   "cell_type": "code",
   "execution_count": 4,
   "metadata": {},
   "outputs": [
    {
     "name": "stdout",
     "output_type": "stream",
     "text": [
      "ACC =  0.8502994011976048\n",
      "PREC =  0.25\n",
      "RECALL =  0.043478260869565216\n",
      "F1 =  0.07407407407407408\n",
      "FPR =  0.5113224637681159\n"
     ]
    }
   ],
   "source": [
    "from sklearn.ensemble import GradientBoostingClassifier\n",
    "\n",
    "model_gbm = GradientBoostingClassifier()\n",
    "model_gbm.fit(X_train, y_train)\n",
    "y_predicted_old = model_gbm.predict(X_test)\n",
    "scoring(y_test, y_predicted_old)"
   ]
  },
  {
   "cell_type": "markdown",
   "metadata": {},
   "source": [
    "# Strojenie parametrów"
   ]
  },
  {
   "cell_type": "code",
   "execution_count": 9,
   "metadata": {},
   "outputs": [
    {
     "data": {
      "text/plain": [
       "['accuracy',\n",
       " 'adjusted_mutual_info_score',\n",
       " 'adjusted_rand_score',\n",
       " 'average_precision',\n",
       " 'balanced_accuracy',\n",
       " 'completeness_score',\n",
       " 'explained_variance',\n",
       " 'f1',\n",
       " 'f1_macro',\n",
       " 'f1_micro',\n",
       " 'f1_samples',\n",
       " 'f1_weighted',\n",
       " 'fowlkes_mallows_score',\n",
       " 'homogeneity_score',\n",
       " 'jaccard',\n",
       " 'jaccard_macro',\n",
       " 'jaccard_micro',\n",
       " 'jaccard_samples',\n",
       " 'jaccard_weighted',\n",
       " 'max_error',\n",
       " 'mutual_info_score',\n",
       " 'neg_brier_score',\n",
       " 'neg_log_loss',\n",
       " 'neg_mean_absolute_error',\n",
       " 'neg_mean_gamma_deviance',\n",
       " 'neg_mean_poisson_deviance',\n",
       " 'neg_mean_squared_error',\n",
       " 'neg_mean_squared_log_error',\n",
       " 'neg_median_absolute_error',\n",
       " 'neg_root_mean_squared_error',\n",
       " 'normalized_mutual_info_score',\n",
       " 'precision',\n",
       " 'precision_macro',\n",
       " 'precision_micro',\n",
       " 'precision_samples',\n",
       " 'precision_weighted',\n",
       " 'r2',\n",
       " 'recall',\n",
       " 'recall_macro',\n",
       " 'recall_micro',\n",
       " 'recall_samples',\n",
       " 'recall_weighted',\n",
       " 'roc_auc',\n",
       " 'roc_auc_ovo',\n",
       " 'roc_auc_ovo_weighted',\n",
       " 'roc_auc_ovr',\n",
       " 'roc_auc_ovr_weighted',\n",
       " 'v_measure_score']"
      ]
     },
     "execution_count": 9,
     "metadata": {},
     "output_type": "execute_result"
    }
   ],
   "source": [
    "import sklearn\n",
    "sorted(sklearn.metrics.SCORERS.keys())"
   ]
  },
  {
   "cell_type": "code",
   "execution_count": 10,
   "metadata": {},
   "outputs": [
    {
     "name": "stdout",
     "output_type": "stream",
     "text": [
      "Fitting 5 folds for each of 192 candidates, totalling 960 fits\n"
     ]
    },
    {
     "name": "stderr",
     "output_type": "stream",
     "text": [
      "[Parallel(n_jobs=-1)]: Using backend LokyBackend with 8 concurrent workers.\n",
      "[Parallel(n_jobs=-1)]: Done  34 tasks      | elapsed:    6.0s\n",
      "[Parallel(n_jobs=-1)]: Done 184 tasks      | elapsed:   20.6s\n",
      "[Parallel(n_jobs=-1)]: Done 434 tasks      | elapsed:  1.1min\n",
      "[Parallel(n_jobs=-1)]: Done 784 tasks      | elapsed:  2.0min\n",
      "[Parallel(n_jobs=-1)]: Done 960 out of 960 | elapsed:  2.6min finished\n"
     ]
    }
   ],
   "source": [
    "from sklearn.model_selection import GridSearchCV\n",
    "n_estimators = [100, 300, 500, 800]\n",
    "max_depth = [1, 3, 5, 10]\n",
    "min_samples_split = [2, 3, 5, 10]\n",
    "learning_rate = [0.05, 0.1, 0.2] \n",
    "gbm = GradientBoostingClassifier()\n",
    "hyperF = dict(n_estimators = n_estimators, max_depth = max_depth,  \n",
    "              min_samples_split = min_samples_split, \n",
    "             learning_rate = learning_rate)\n",
    "\n",
    "gridF = GridSearchCV(gbm, hyperF, cv = 5, verbose = 1, \n",
    "                      n_jobs = -1, scoring = 'average_precision')\n",
    "bestF = gridF.fit(X_train, y_train)"
   ]
  },
  {
   "cell_type": "code",
   "execution_count": 11,
   "metadata": {},
   "outputs": [
    {
     "name": "stdout",
     "output_type": "stream",
     "text": [
      "ACC =  0.8622754491017964\n",
      "PREC =  0.5\n",
      "RECALL =  0.043478260869565216\n",
      "F1 =  0.08\n",
      "FPR =  0.5182669082125604\n"
     ]
    }
   ],
   "source": [
    "y_predicted_new = bestF.predict(X_test)\n",
    "scoring(y_test, y_predicted_new)"
   ]
  },
  {
   "cell_type": "code",
   "execution_count": 12,
   "metadata": {},
   "outputs": [
    {
     "data": {
      "text/plain": [
       "array([0, 0, 0, 0, 0, 0, 0, 0, 0, 0, 0, 0, 0, 0, 0, 0, 0, 0, 0, 0, 0, 0,\n",
       "       0, 0, 0, 0, 0, 0, 0, 0, 0, 0, 0, 0, 0, 0, 0, 0, 0, 0, 0, 0, 0, 0,\n",
       "       0, 0, 0, 0, 0, 0, 0, 0, 0, 0, 0, 0, 0, 0, 0, 0, 0, 0, 0, 0, 0, 0,\n",
       "       0, 0, 0, 0, 0, 0, 0, 0, 0, 0, 0, 0, 0, 0, 0, 0, 0, 0, 0, 0, 0, 0,\n",
       "       0, 0, 0, 0, 0, 0, 0, 0, 0, 0, 0, 0, 0, 0, 0, 0, 0, 0, 0, 0, 0, 1,\n",
       "       0, 0, 0, 0, 0, 0, 0, 0, 0, 0, 0, 0, 0, 0, 0, 0, 0, 0, 0, 0, 0, 0,\n",
       "       0, 0, 0, 0, 0, 0, 0, 0, 0, 0, 0, 0, 0, 0, 0, 0, 0, 0, 0, 0, 1, 0,\n",
       "       0, 0, 0, 0, 0, 0, 0, 0, 0, 0, 0, 0, 0], dtype=int64)"
      ]
     },
     "execution_count": 12,
     "metadata": {},
     "output_type": "execute_result"
    }
   ],
   "source": [
    "y_predicted_new"
   ]
  }
 ],
 "metadata": {
  "kernelspec": {
   "display_name": "Python 3",
   "language": "python",
   "name": "python3"
  },
  "language_info": {
   "codemirror_mode": {
    "name": "ipython",
    "version": 3
   },
   "file_extension": ".py",
   "mimetype": "text/x-python",
   "name": "python",
   "nbconvert_exporter": "python",
   "pygments_lexer": "ipython3",
   "version": "3.7.0"
  }
 },
 "nbformat": 4,
 "nbformat_minor": 2
}
