{
 "cells": [
  {
   "cell_type": "markdown",
   "metadata": {},
   "source": [
    "# Wstępna obróbka"
   ]
  },
  {
   "cell_type": "code",
   "execution_count": 43,
   "metadata": {},
   "outputs": [],
   "source": [
    "import pandas as pd\n",
    "import numpy as np\n",
    "from sklearn.preprocessing import MinMaxScaler\n",
    "dane = pd.read_csv('cervical-cancer_csv.csv')\n",
    "\n",
    "# usuwanie kolumn\n",
    "\n",
    "dane = dane.drop(['STDs:cervical condylomatosis', \n",
    "         'STDs:vaginal condylomatosis', \n",
    "         'STDs:pelvic inflammatory disease', \n",
    "         'STDs:genital herpes',\n",
    "         'STDs:molluscum contagiosum',\n",
    "         'STDs:AIDS',\n",
    "         'STDs:Hepatitis B',\n",
    "         'STDs:HPV', 'Dx:CIN'], axis=1)\n",
    "\n",
    "# uzupełnianie braków i kodowanie zmiennych kategorycznych\n",
    "def column_nodata(df, column_name):\n",
    "    df[column_name + \"_null\"] = df[column_name].apply(lambda x: 1 if pd.isnull(x) else 0)\n",
    "    df[column_name] = df[column_name].fillna(0)\n",
    "\n",
    "def replace_in_column(df, column_name, src, dst):\n",
    "    df[column_name] = df[column_name].replace(to_replace=src, value=dst)\n",
    "\n",
    "replace_in_column(dane, 'STDs (number)', [3, 4], 2)\n",
    "replace_in_column(dane, 'STDs: Number of diagnosis', [2,3], 1)\n",
    "\n",
    "nodata_categories = [\n",
    "    'Smokes',\n",
    "    'Hormonal Contraceptives',\n",
    "    'IUD',\n",
    "    'STDs',\n",
    "    'STDs (number)',\n",
    "    'STDs:condylomatosis',\n",
    "    'STDs:vulvo-perineal condylomatosis',\n",
    "    'STDs:syphilis',\n",
    "    'STDs:HIV'\n",
    "]\n",
    "\n",
    "for category in nodata_categories:\n",
    "    column_nodata(dane, category)\n",
    "    \n",
    "dane = pd.concat([dane, pd.get_dummies(dane['STDs (number)'], prefix='STDs_')],axis=1)\n",
    "dane.drop(['STDs (number)'],axis=1, inplace=True)\n",
    "\n",
    "# standaryzacja\n",
    "numerical = ['Age', 'Number of sexual partners', 'First sexual intercourse', 'Num of pregnancies', 'Smokes (years)', \n",
    "            'Smokes (packs/year)', 'Hormonal Contraceptives (years)', 'IUD (years)', 'STDs: Time since first diagnosis',\n",
    "            'STDs: Time since last diagnosis']\n",
    "\n",
    "scaler = MinMaxScaler() \n",
    "dane_scaled = scaler.fit_transform(dane[numerical])\n",
    "d2 = pd.DataFrame(dane_scaled, columns = numerical)\n",
    "dane[numerical] = d2[numerical]\n",
    "\n",
    "# stworzenie jednego targetu\n",
    "targets = ['Hinselmann', 'Schiller', 'Citology', 'Biopsy']\n",
    "def has_cancer(row):\n",
    "    for target in targets:\n",
    "        if row[target] == 1:\n",
    "            return 1\n",
    "    return 0\n",
    "\n",
    "dane['cancer'] = dane.apply(lambda row: has_cancer(row), axis=1)\n",
    "dane = dane.drop(targets, axis=1)\n"
   ]
  },
  {
   "cell_type": "markdown",
   "metadata": {},
   "source": [
    "# Ujednolicone funkcje dla wszystkich modeli"
   ]
  },
  {
   "cell_type": "code",
   "execution_count": 44,
   "metadata": {},
   "outputs": [],
   "source": [
    "from sklearn.model_selection import train_test_split\n",
    "from sklearn.metrics import accuracy_score\n",
    "from sklearn.metrics import precision_score\n",
    "from sklearn.metrics import recall_score\n",
    "from sklearn.metrics import f1_score\n",
    "from sklearn.metrics import roc_auc_score\n",
    "\n",
    "# podzial zbioru na treningowy i testowy\n",
    "def default_split(X, y):\n",
    "    return train_test_split(X, y, test_size=0.2, random_state=2137)\n",
    "\n",
    "# scoring\n",
    "def scoring(y_test, y_predicted):\n",
    "    print(\"ACC = \", accuracy_score(y_test, y_predicted))\n",
    "    print(\"PREC = \", precision_score(y_test, y_predicted))\n",
    "    print(\"RECALL = \", recall_score(y_test, y_predicted))\n",
    "    print(\"F1 = \", f1_score(y_test, y_predicted))\n",
    "    print(\"FPR = \", roc_auc_score(y_test, y_predicted))\n",
    "\n",
    "# wyodrebnienie y\n",
    "def extract_y(data):\n",
    "    y = data[[\"cancer\"]]\n",
    "    return data.drop([\"cancer\"], axis=1), y"
   ]
  },
  {
   "cell_type": "markdown",
   "metadata": {},
   "source": [
    "# Regresja"
   ]
  },
  {
   "cell_type": "code",
   "execution_count": 45,
   "metadata": {},
   "outputs": [
    {
     "name": "stdout",
     "output_type": "stream",
     "text": [
      "(835, 34) (668, 34) (167, 34)\n"
     ]
    }
   ],
   "source": [
    "# przygotowanie danych\n",
    "X, y = extract_y(dane)\n",
    "# regresja nie pozwala na NaN w danych\n",
    "X = X.fillna(0)\n",
    "\n",
    "X_train, X_test, y_train, y_test = default_split(X, y)\n",
    "print(X.shape, X_train.shape, X_test.shape)"
   ]
  },
  {
   "cell_type": "code",
   "execution_count": 46,
   "metadata": {},
   "outputs": [
    {
     "name": "stdout",
     "output_type": "stream",
     "text": [
      "ACC =  0.8622754491017964\n",
      "PREC =  0.5\n",
      "RECALL =  0.043478260869565216\n",
      "F1 =  0.08\n",
      "FPR =  0.5182669082125604\n"
     ]
    }
   ],
   "source": [
    "# regresja\n",
    "from sklearn.linear_model import LogisticRegression\n",
    "lr = LogisticRegression(max_iter=1000, solver='newton-cg')\n",
    "\n",
    "lr.fit(X_train, y_train.values.ravel())\n",
    "y_predicted = lr.predict(X_test)\n",
    "scoring(y_test, y_predicted)"
   ]
  },
  {
   "cell_type": "markdown",
   "metadata": {},
   "source": [
    "**Accuracy** nie daje złych wyników, ale z pozostałymi miarami jest gorzej.\n",
    "Dzięki **precision** wiemy, że tylko połowa z przewidzianych wyników, jest faktycznie chora.\n",
    "**Recall** mówi nam, że BARDZO MAŁO spośród chorych zdiagnozowaliśmy. Na **F1** nawet nie ma co patrzyć.\n",
    "**FPR** zaś jest niewiele powyżej minimum.\n",
    "\n",
    "Wnioski:\n",
    "- prawdopodobnie trzeba użyć innego klasyfikatora\n",
    "- nie wygląda na to, by obróbka danych w przypadku tego klasyfikatora mogła wiele zmienić, bo jest źle, ale może warto próbować"
   ]
  },
  {
   "cell_type": "code",
   "execution_count": 47,
   "metadata": {},
   "outputs": [
    {
     "name": "stderr",
     "output_type": "stream",
     "text": [
      "/home/anna/anaconda3/lib/python3.7/site-packages/sklearn/model_selection/_split.py:1978: FutureWarning: The default value of cv will change from 3 to 5 in version 0.22. Specify it explicitly to silence this warning.\n",
      "  warnings.warn(CV_WARNING, FutureWarning)\n"
     ]
    },
    {
     "name": "stdout",
     "output_type": "stream",
     "text": [
      "Score: 0.6398115855205573\n"
     ]
    },
    {
     "data": {
      "text/plain": [
       "{'C': 0.5, 'fit_intercept': True, 'multi_class': 'auto'}"
      ]
     },
     "execution_count": 47,
     "metadata": {},
     "output_type": "execute_result"
    }
   ],
   "source": [
    "from sklearn.model_selection import GridSearchCV\n",
    "\n",
    "params = {\n",
    "    #'penalty': ['l1', 'l2', 'elasticnet', 'none'],\n",
    "    #'dual': [True, False],\n",
    "    'C': np.arange(0.5, 5, 0.5),\n",
    "    'fit_intercept': [True, False],\n",
    "    #'intercept_scaling': np.arange(0.5, 3, 0.5),\n",
    "    'multi_class': ['auto', 'ovr', 'multinomial'],\n",
    "    \n",
    "}\n",
    "\n",
    "\n",
    "grid = GridSearchCV(lr, params, error_score='raise', scoring='roc_auc')\n",
    "grid.fit(X_train, y_train.values.ravel())\n",
    "\n",
    "print(f\"Score: {grid.best_score_}\")\n",
    "grid.best_params_"
   ]
  },
  {
   "cell_type": "code",
   "execution_count": 51,
   "metadata": {},
   "outputs": [
    {
     "name": "stdout",
     "output_type": "stream",
     "text": [
      "ACC =  0.8622754491017964\n",
      "PREC =  0.5\n",
      "RECALL =  0.043478260869565216\n",
      "F1 =  0.08\n",
      "FPR =  0.5182669082125604\n"
     ]
    }
   ],
   "source": [
    "lr = LogisticRegression(max_iter=1000, solver='newton-cg', multi_class='auto', fit_intercept=True, C=0.5)\n",
    "lr.fit(X_train, y_train.values.ravel())\n",
    "y_predicted = lr.predict(X_test)\n",
    "scoring(y_test, y_predicted)"
   ]
  },
  {
   "cell_type": "code",
   "execution_count": 52,
   "metadata": {},
   "outputs": [
    {
     "name": "stderr",
     "output_type": "stream",
     "text": [
      "/home/anna/anaconda3/lib/python3.7/site-packages/sklearn/model_selection/_split.py:1978: FutureWarning: The default value of cv will change from 3 to 5 in version 0.22. Specify it explicitly to silence this warning.\n",
      "  warnings.warn(CV_WARNING, FutureWarning)\n"
     ]
    },
    {
     "name": "stdout",
     "output_type": "stream",
     "text": [
      "Score: 0.6323821614037504\n"
     ]
    },
    {
     "data": {
      "text/plain": [
       "{'C': 0.5, 'intercept_scaling': 2.5, 'multi_class': 'auto', 'penalty': 'l2'}"
      ]
     },
     "execution_count": 52,
     "metadata": {},
     "output_type": "execute_result"
    }
   ],
   "source": [
    "lr = LogisticRegression(max_iter=1000, solver='liblinear')\n",
    "params = {\n",
    "    'penalty': ['l1', 'l2'],\n",
    "    #'dual': [True, False],\n",
    "    'C': np.arange(0.5, 5, 0.5),\n",
    "    #'fit_intercept': [True, False],\n",
    "    'intercept_scaling': np.arange(0.5, 3, 0.5),\n",
    "    'multi_class': ['auto', 'ovr']\n",
    "}\n",
    "grid = GridSearchCV(lr, params, error_score='raise', scoring='roc_auc')\n",
    "grid.fit(X_train, y_train.values.ravel())\n",
    "\n",
    "print(f\"Score: {grid.best_score_}\")\n",
    "grid.best_params_"
   ]
  },
  {
   "cell_type": "code",
   "execution_count": 53,
   "metadata": {},
   "outputs": [
    {
     "name": "stdout",
     "output_type": "stream",
     "text": [
      "ACC =  0.8622754491017964\n",
      "PREC =  0.5\n",
      "RECALL =  0.043478260869565216\n",
      "F1 =  0.08\n",
      "FPR =  0.5182669082125604\n"
     ]
    }
   ],
   "source": [
    "lr = LogisticRegression(max_iter=1000, solver='liblinear', multi_class='auto', intercept_scaling=2.5, penalty='l2' , C=0.5)\n",
    "lr.fit(X_train, y_train.values.ravel())\n",
    "y_predicted = lr.predict(X_test)\n",
    "scoring(y_test, y_predicted)"
   ]
  },
  {
   "cell_type": "code",
   "execution_count": 54,
   "metadata": {},
   "outputs": [],
   "source": [
    "# inny podział zbioru\n",
    "dane = dane.fillna(0)\n",
    "\n",
    "cancer = dane.loc[dane['cancer'] == 1]\n",
    "no_cancer = dane.loc[dane['cancer'] == 0]\n",
    "\n",
    "cancer_X, cancer_y = extract_y(cancer)\n",
    "nocancer_X, nocancer_y = extract_y(no_cancer)\n",
    "\n",
    "\n",
    "cancer_X_train, cancer_X_test, cancer_y_train, cancer_y_test = default_split(cancer_X, cancer_y)\n",
    "nocancer_X_train, nocancer_X_test, nocancer_y_train, nocancer_y_test = default_split(nocancer_X, nocancer_y)\n",
    "\n",
    "X_train = pd.concat([cancer_X_train, nocancer_X_train])\n",
    "X_test = pd.concat([cancer_X_test, nocancer_X_test])\n",
    "y_train = pd.concat([cancer_y_train, nocancer_y_train])\n",
    "y_test = pd.concat([cancer_y_test, nocancer_y_test])"
   ]
  },
  {
   "cell_type": "code",
   "execution_count": 55,
   "metadata": {},
   "outputs": [
    {
     "name": "stderr",
     "output_type": "stream",
     "text": [
      "/home/anna/anaconda3/lib/python3.7/site-packages/sklearn/model_selection/_split.py:1978: FutureWarning: The default value of cv will change from 3 to 5 in version 0.22. Specify it explicitly to silence this warning.\n",
      "  warnings.warn(CV_WARNING, FutureWarning)\n"
     ]
    },
    {
     "name": "stdout",
     "output_type": "stream",
     "text": [
      "Score: 0.6617623640647844\n"
     ]
    },
    {
     "data": {
      "text/plain": [
       "{'C': 1.0, 'intercept_scaling': 1.0, 'multi_class': 'auto', 'penalty': 'l1'}"
      ]
     },
     "execution_count": 55,
     "metadata": {},
     "output_type": "execute_result"
    }
   ],
   "source": [
    "lr = LogisticRegression(max_iter=1000, solver='liblinear')\n",
    "params = {\n",
    "    'penalty': ['l1', 'l2'],\n",
    "    #'dual': [True, False],\n",
    "    'C': np.arange(0.5, 5, 0.5),\n",
    "    #'fit_intercept': [True, False],\n",
    "    'intercept_scaling': np.arange(0.5, 3, 0.5),\n",
    "    'multi_class': ['auto', 'ovr']\n",
    "}\n",
    "grid = GridSearchCV(lr, params, error_score='raise', scoring='roc_auc')\n",
    "grid.fit(X_train, y_train.values.ravel())\n",
    "\n",
    "print(f\"Score: {grid.best_score_}\")\n",
    "grid.best_params_"
   ]
  },
  {
   "cell_type": "code",
   "execution_count": 57,
   "metadata": {
    "scrolled": true
   },
   "outputs": [
    {
     "name": "stdout",
     "output_type": "stream",
     "text": [
      "ACC =  0.875\n",
      "PREC =  0.0\n",
      "RECALL =  0.0\n",
      "F1 =  0.0\n",
      "FPR =  0.5\n"
     ]
    },
    {
     "name": "stderr",
     "output_type": "stream",
     "text": [
      "/home/anna/anaconda3/lib/python3.7/site-packages/sklearn/metrics/classification.py:1437: UndefinedMetricWarning: Precision is ill-defined and being set to 0.0 due to no predicted samples.\n",
      "  'precision', 'predicted', average, warn_for)\n",
      "/home/anna/anaconda3/lib/python3.7/site-packages/sklearn/metrics/classification.py:1437: UndefinedMetricWarning: F-score is ill-defined and being set to 0.0 due to no predicted samples.\n",
      "  'precision', 'predicted', average, warn_for)\n"
     ]
    }
   ],
   "source": [
    "lr = LogisticRegression(max_iter=1000, solver='liblinear', multi_class='auto', intercept_scaling=1.0, penalty='l1' , C=1.0)\n",
    "lr.fit(X_train, y_train.values.ravel())\n",
    "y_predicted = lr.predict(X_test)\n",
    "scoring(y_test, y_predicted)"
   ]
  },
  {
   "cell_type": "code",
   "execution_count": null,
   "metadata": {},
   "outputs": [],
   "source": []
  }
 ],
 "metadata": {
  "kernelspec": {
   "display_name": "Python 3",
   "language": "python",
   "name": "python3"
  },
  "language_info": {
   "codemirror_mode": {
    "name": "ipython",
    "version": 3
   },
   "file_extension": ".py",
   "mimetype": "text/x-python",
   "name": "python",
   "nbconvert_exporter": "python",
   "pygments_lexer": "ipython3",
   "version": "3.7.4"
  }
 },
 "nbformat": 4,
 "nbformat_minor": 2
}
